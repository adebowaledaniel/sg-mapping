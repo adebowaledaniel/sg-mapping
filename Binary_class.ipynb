{
 "cells": [
  {
   "source": [
    "!earthengine authenticate"
   ],
   "cell_type": "markdown",
   "metadata": {}
  },
  {
   "cell_type": "code",
   "execution_count": 1,
   "metadata": {},
   "outputs": [],
   "source": [
    "import geopandas as gpd\n",
    "import ee\n",
    "import geemap\n",
    "import numpy as np\n",
    "import rasterio\n",
    "\n",
    "from sklearn.metrics import confusion_matrix\n",
    "from sklearn.model_selection import train_test_split\n",
    "from sklearn.ensemble import RandomForestClassifier\n",
    "# from treeinterpreter import treeinterpreter as ti"
   ]
  },
  {
   "cell_type": "code",
   "execution_count": 2,
   "metadata": {},
   "outputs": [],
   "source": [
    "ee.Initialize()"
   ]
  },
  {
   "cell_type": "code",
   "execution_count": 5,
   "metadata": {},
   "outputs": [
    {
     "output_type": "stream",
     "name": "stdout",
     "text": [
      "[<function FeatureCollection.name at 0x000001445042E1F0>]\n"
     ]
    }
   ],
   "source": [
    "#shp path\n",
    "tp_crop ='crop_py.shp'\n",
    "tp_non_crop = 'non_crop_py.shp'\n",
    "#read shp as vec\n",
    "tv_crop = gpd.read_file(tp_crop)\n",
    "tv_non_crop = gpd.read_file(tp_non_crop)\n",
    "#cinvert to feature collection\n",
    "crop_ft = geemap.shp_to_ee(tp_crop)\n",
    "non_crop_ft = geemap.shp_to_ee(tp_non_crop)\n",
    "bbox = tv_crop.total_bounds #generate boarding box\n",
    "\n",
    "traning_d = crop_ft.merge(non_crop_ft)\n",
    "traning_d\n",
    "classes = np.unique(traning_d.name)\n",
    "# classes\n",
    "\n",
    "class_dict = dict(zip(classes, range(len(classes))))\n",
    "print(classes)\n",
    "# tv_non_crop.head()"
   ]
  },
  {
   "cell_type": "code",
   "execution_count": 11,
   "metadata": {},
   "outputs": [
    {
     "output_type": "execute_result",
     "data": {
      "text/plain": [
       "15971"
      ]
     },
     "metadata": {},
     "execution_count": 11
    }
   ],
   "source": [
    "aoi = ee.Geometry.Rectangle(tv_crop.total_bounds.tolist())\n",
    "\n",
    "cloudmask = 20\n",
    "band_sl = ('B2', 'B3', 'B4', 'B8', 'B11', 'B12', 'ndvi')\n",
    "\n",
    "sentinel2 = ee.ImageCollection(\"COPERNICUS/S2\")\\\n",
    "    .filterBounds(aoi)\\\n",
    "        .filterDate('2020-04-01', '2020-08-31')\\\n",
    "            .filter(ee.Filter.lt('CLOUDY_PIXEL_PERCENTAGE', cloudmask))\\\n",
    "                .filter(ee.Filter.lt('CLOUD_COVERAGE_ASSESSMENT',cloudmask))\\\n",
    "                    .select(band_sl)\n",
    "\n",
    "\n",
    "s_mosaic = sentinel2.median().rename(band_sl)\n",
    "s_mosaic.getInfo()\n",
    "\n",
    "trainingSample = s_mosaic.sampleRegions(collection=traning_d, properties=['name'], scale = 10, geometries =True)\n",
    "trainingSample.size().getInfo()\n",
    "\n"
   ]
  },
  {
   "cell_type": "code",
   "execution_count": 19,
   "metadata": {},
   "outputs": [],
   "source": [
    "sentinel2 = ee.ImageCollection(\"COPERNICUS/S2\")\\\n",
    "    .filterBounds(aoi)\\\n",
    "        .filterDate('2020-04-01', '2020-08-31')"
   ]
  },
  {
   "cell_type": "code",
   "execution_count": 22,
   "metadata": {},
   "outputs": [
    {
     "output_type": "error",
     "ename": "AttributeError",
     "evalue": "'ImageCollection' object has no attribute 'normalizedDifference'",
     "traceback": [
      "\u001b[1;31m---------------------------------------------------------------------------\u001b[0m",
      "\u001b[1;31mAttributeError\u001b[0m                            Traceback (most recent call last)",
      "\u001b[1;32m<ipython-input-22-1d361b71e83c>\u001b[0m in \u001b[0;36m<module>\u001b[1;34m\u001b[0m\n\u001b[1;32m----> 1\u001b[1;33m \u001b[0mndvi\u001b[0m \u001b[1;33m=\u001b[0m \u001b[0msentinel2\u001b[0m\u001b[1;33m.\u001b[0m\u001b[0mnormalizedDifference\u001b[0m\u001b[1;33m(\u001b[0m\u001b[1;33m[\u001b[0m\u001b[1;34m'B8'\u001b[0m\u001b[1;33m,\u001b[0m \u001b[1;34m'B4'\u001b[0m\u001b[1;33m]\u001b[0m\u001b[1;33m)\u001b[0m\u001b[1;33m.\u001b[0m\u001b[0mrename\u001b[0m\u001b[1;33m(\u001b[0m\u001b[1;34m'ndvi'\u001b[0m\u001b[1;33m)\u001b[0m\u001b[1;33m\u001b[0m\u001b[1;33m\u001b[0m\u001b[0m\n\u001b[0m\u001b[0;32m      2\u001b[0m \u001b[0msentinel2\u001b[0m \u001b[1;33m=\u001b[0m \u001b[0ms_mosaic\u001b[0m\u001b[1;33m.\u001b[0m\u001b[0maddBands\u001b[0m\u001b[1;33m(\u001b[0m\u001b[0mndvi\u001b[0m\u001b[1;33m)\u001b[0m\u001b[1;33m\u001b[0m\u001b[1;33m\u001b[0m\u001b[0m\n",
      "\u001b[1;31mAttributeError\u001b[0m: 'ImageCollection' object has no attribute 'normalizedDifference'"
     ]
    }
   ],
   "source": [
    "ndvi = sentinel2.normalizedDifference(['B8', 'B4']).rename('ndvi')\n",
    "sentinel2 = s_mosaic.addBands(ndvi)"
   ]
  },
  {
   "cell_type": "code",
   "execution_count": 14,
   "metadata": {},
   "outputs": [
    {
     "output_type": "stream",
     "name": "stdout",
     "text": [
      "['B2', 'B3', 'B4', 'B8', 'B11', 'B12']\n"
     ]
    }
   ],
   "source": [
    "bandname = s_mosaic.bandNames().getInfo()\n",
    "\n",
    "classifier = ee.Classifier.randonForest(25,0).train(trainingSample)"
   ]
  },
  {
   "cell_type": "code",
   "execution_count": 17,
   "metadata": {},
   "outputs": [],
   "source": [
    "classifier = ee.Classifier.randomForest(25,0).setOutputMode('PROBABILITY').train(trainingSample,\"land_class\",bandNames);\n",
    "classification = image.classify(classifier).multiply(100).clip(cambodia)\n",
    "# Map = geemap.Map(center=(0.9613,34.6536),zoom=8)\n",
    "# Map"
   ]
  },
  {
   "cell_type": "code",
   "execution_count": 16,
   "metadata": {},
   "outputs": [],
   "source": [
    "# Map.addLayer(aoi, name='aoi')\n",
    "M# ap.addLayer(Ps_mosaic name='Pmosaa)"
   ]
  }
 ],
 "metadata": {
  "kernelspec": {
   "name": "python392jvsc74a57bd0d3fecb5d2ddc39decba3217e5b08eccf3c913a59c9490f56a00feb9cdb9b46e1",
   "display_name": "Python 3.9.2 64-bit ('nasahv-env': conda)"
  },
  "language_info": {
   "codemirror_mode": {
    "name": "ipython",
    "version": 3
   },
   "file_extension": ".py",
   "mimetype": "text/x-python",
   "name": "python",
   "nbconvert_exporter": "python",
   "pygments_lexer": "ipython3",
   "version": "3.9.2"
  }
 },
 "nbformat": 4,
 "nbformat_minor": 2
}