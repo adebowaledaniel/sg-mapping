{
 "cells": [
  {
   "cell_type": "code",
   "execution_count": 1,
   "metadata": {
    "id": "DwWoG6xNT-OU"
   },
   "outputs": [],
   "source": [
    "import ee\n",
    "import geemap\n",
    "import pandas as pd\n",
    "import geemap.colormaps as cm"
   ]
  },
  {
   "cell_type": "code",
   "execution_count": 2,
   "metadata": {
    "id": "FCOYNAXWT-_e"
   },
   "outputs": [],
   "source": [
    "ee.Initialize()"
   ]
  },
  {
   "cell_type": "code",
   "execution_count": 3,
   "metadata": {
    "id": "yHcM-6v9kWej"
   },
   "outputs": [],
   "source": [
    "#Import declare the shapefiles\n",
    "Ndhiwa_shp = 'Ndhiwa.shp'\n",
    "Plot_shp = 'plot.shp'\n",
    "Plot = geemap.shp_to_ee(Plot_shp)\n",
    "Ndhiwa = geemap.shp_to_ee(Ndhiwa_shp)"
   ]
  },
  {
   "cell_type": "code",
   "execution_count": 4,
   "metadata": {
    "colab": {
     "base_uri": "https://localhost:8080/"
    },
    "id": "W60_wteYgw6Z",
    "outputId": "78806f6b-35e0-4931-d862-2c263b0f23e7"
   },
   "outputs": [
    {
     "output_type": "stream",
     "name": "stdout",
     "text": [
      "Number of dataset available within the specified = 42\n"
     ]
    }
   ],
   "source": [
    "# Sugarcane planting period\n",
    "# Sugar seasion = 20 months average\n",
    "\n",
    "# start date\n",
    "s_date = '2019-04-01' #change the date\n",
    "# end date\n",
    "e_date = '2021-01-30'\n",
    "\n",
    "# modis NDVI collection/ filter by date\n",
    "modis = ee.ImageCollection('MODIS/006/MOD13Q1').select('NDVI')\n",
    "modis = modis.filterDate(s_date, e_date)\n",
    "#modis = modis.filterBounds(Ndhiwa)\n",
    "\n",
    "print('Number of dataset available within the specified =',modis.size().getInfo())"
   ]
  },
  {
   "cell_type": "code",
   "execution_count": 58,
   "metadata": {
    "colab": {
     "base_uri": "https://localhost:8080/",
     "height": 1000
    },
    "id": "aHVI_qehN38T",
    "outputId": "bda536cc-3202-4fe3-e2fc-99ca6e425565"
   },
   "outputs": [
    {
     "output_type": "display_data",
     "data": {
      "text/plain": "Map(center=[0.9613, 34.6536], controls=(WidgetControl(options=['position', 'transparent_bg'], widget=HBox(chil…",
      "application/vnd.jupyter.widget-view+json": {
       "version_major": 2,
       "version_minor": 0,
       "model_id": "31babe6609f748a2a88e88c22ab57cbc"
      }
     },
     "metadata": {}
    }
   ],
   "source": [
    "Map = geemap.Map(center=(0.9613,34.6536),zoom=8)\n",
    "Map"
   ]
  },
  {
   "cell_type": "code",
   "execution_count": 60,
   "metadata": {
    "id": "IK7AfmssHGZB"
   },
   "outputs": [],
   "source": [
    "# Visualization color ramp\n",
    "# palette = cm.palettes.ndvi\n",
    "# ndvi_vis = {\n",
    "#   'min': 0.0,\n",
    "#   'max': 9000,\n",
    "#   'palette': palette\n",
    "# }\n",
    "\n",
    "#Convert Imagecollection to bands\n",
    "NDVI_bands = modis.toBands()\n",
    "\n",
    "#Clip to AOI\n",
    "Ndhiwa_NDVI = NDVI_bands.clip(Ndhiwa)\n",
    "\n",
    "#Display on map\n",
    "Map.addLayer(Plot, name='Plots')\n",
    "Map.addLayer(Ndhiwa_NDVI, name='Ndhiwa NDVI')\n",
    "\n"
   ]
  },
  {
   "cell_type": "code",
   "execution_count": 41,
   "metadata": {},
   "outputs": [
    {
     "output_type": "execute_result",
     "data": {
      "text/plain": [
       "      type                                           geometry id  \\\n",
       "0  Feature  {'type': 'Polygon', 'coordinates': [[[34.33138...  0   \n",
       "1  Feature  {'type': 'Polygon', 'coordinates': [[[34.32737...  1   \n",
       "2  Feature  {'type': 'Polygon', 'coordinates': [[[34.31373...  2   \n",
       "3  Feature  {'type': 'Polygon', 'coordinates': [[[34.31958...  3   \n",
       "4  Feature  {'type': 'Polygon', 'coordinates': [[[34.31926...  4   \n",
       "\n",
       "                                          properties  \n",
       "0  {'2019_04_07_NDVI': 6276.648648648649, '2019_0...  \n",
       "1  {'2019_04_07_NDVI': 6165.380952380952, '2019_0...  \n",
       "2  {'2019_04_07_NDVI': 6196, '2019_04_23_NDVI': 7...  \n",
       "3  {'2019_04_07_NDVI': 6117.999999999999, '2019_0...  \n",
       "4  {'2019_04_07_NDVI': 6652, '2019_04_23_NDVI': 7...  "
      ],
      "text/html": "<div>\n<style scoped>\n    .dataframe tbody tr th:only-of-type {\n        vertical-align: middle;\n    }\n\n    .dataframe tbody tr th {\n        vertical-align: top;\n    }\n\n    .dataframe thead th {\n        text-align: right;\n    }\n</style>\n<table border=\"1\" class=\"dataframe\">\n  <thead>\n    <tr style=\"text-align: right;\">\n      <th></th>\n      <th>type</th>\n      <th>geometry</th>\n      <th>id</th>\n      <th>properties</th>\n    </tr>\n  </thead>\n  <tbody>\n    <tr>\n      <th>0</th>\n      <td>Feature</td>\n      <td>{'type': 'Polygon', 'coordinates': [[[34.33138...</td>\n      <td>0</td>\n      <td>{'2019_04_07_NDVI': 6276.648648648649, '2019_0...</td>\n    </tr>\n    <tr>\n      <th>1</th>\n      <td>Feature</td>\n      <td>{'type': 'Polygon', 'coordinates': [[[34.32737...</td>\n      <td>1</td>\n      <td>{'2019_04_07_NDVI': 6165.380952380952, '2019_0...</td>\n    </tr>\n    <tr>\n      <th>2</th>\n      <td>Feature</td>\n      <td>{'type': 'Polygon', 'coordinates': [[[34.31373...</td>\n      <td>2</td>\n      <td>{'2019_04_07_NDVI': 6196, '2019_04_23_NDVI': 7...</td>\n    </tr>\n    <tr>\n      <th>3</th>\n      <td>Feature</td>\n      <td>{'type': 'Polygon', 'coordinates': [[[34.31958...</td>\n      <td>3</td>\n      <td>{'2019_04_07_NDVI': 6117.999999999999, '2019_0...</td>\n    </tr>\n    <tr>\n      <th>4</th>\n      <td>Feature</td>\n      <td>{'type': 'Polygon', 'coordinates': [[[34.31926...</td>\n      <td>4</td>\n      <td>{'2019_04_07_NDVI': 6652, '2019_04_23_NDVI': 7...</td>\n    </tr>\n  </tbody>\n</table>\n</div>"
     },
     "metadata": {},
     "execution_count": 41
    }
   ],
   "source": [
    "#get the average NDVI per plot\n",
    "plot_ndvi_modis = NDVI_bands.reduceRegions(Plot,reducer=ee.Reducer.mean(), scale =250).getInfo()\n",
    "\n",
    "#subset the featurecollection\n",
    "p_feature = plot_ndvi_modis['features']\n",
    "\n",
    "#read as dataframe\n",
    "dff = pd.DataFrame(p_feature)\n",
    "dff.head()"
   ]
  },
  {
   "cell_type": "code",
   "execution_count": 42,
   "metadata": {},
   "outputs": [
    {
     "output_type": "execute_result",
     "data": {
      "text/plain": [
       "0    {'2019_04_07_NDVI': 6276.648648648649, '2019_0...\n",
       "1    {'2019_04_07_NDVI': 6165.380952380952, '2019_0...\n",
       "2    {'2019_04_07_NDVI': 6196, '2019_04_23_NDVI': 7...\n",
       "3    {'2019_04_07_NDVI': 6117.999999999999, '2019_0...\n",
       "4    {'2019_04_07_NDVI': 6652, '2019_04_23_NDVI': 7...\n",
       "5    {'2019_04_07_NDVI': 6405, '2019_04_23_NDVI': 7...\n",
       "6    {'2019_04_07_NDVI': 6257, '2019_04_23_NDVI': 7...\n",
       "7    {'2019_04_07_NDVI': 6328.655172413793, '2019_0...\n",
       "8    {'2019_04_07_NDVI': 6186.483516483517, '2019_0...\n",
       "9    {'2019_04_07_NDVI': 6507.571428571428, '2019_0...\n",
       "Name: properties, dtype: object"
      ]
     },
     "metadata": {},
     "execution_count": 42
    }
   ],
   "source": [
    "#from the dataframe extract on the NDVI attribute and the plot names\n",
    "plotnn = pd.Series(dff['properties'])\n",
    "plotnn.head(10) #not yet suitable "
   ]
  },
  {
   "source": [
    "#Concatenate the multiple series and read as dataframe\n",
    "testin = pd.concat([pd.Series(d) for d in plotnn], axis = 1)\n",
    "#https://stackoverflow.com/questions/48811096/creating-a-dataframe-from-multiple-dictionaries\n",
    "testin #still not good enough"
   ],
   "cell_type": "code",
   "metadata": {},
   "execution_count": null,
   "outputs": []
  },
  {
   "cell_type": "code",
   "execution_count": 44,
   "metadata": {},
   "outputs": [
    {
     "output_type": "execute_result",
     "data": {
      "text/plain": [
       "   2019_04_07_NDVI 2019_04_23_NDVI 2019_05_09_NDVI 2019_05_25_NDVI  \\\n",
       "0      6276.648649     7578.135135     7593.216216     8140.162162   \n",
       "1      6165.380952     6919.238095     7451.428571            7596   \n",
       "2             6196     7636.333333          7607.0     7872.833333   \n",
       "3           6118.0            7009     7432.043478     7691.304348   \n",
       "4             6652            7596            7765            7947   \n",
       "..             ...             ...             ...             ...   \n",
       "70     6722.044444     7583.177778     7510.777778          7760.2   \n",
       "71            6859            7558            7621            7814   \n",
       "72     6421.571429            7223     7368.714286     7804.714286   \n",
       "73     6496.909091     7072.181818     7966.545455     7625.545455   \n",
       "74            6582            7341            7486            7688   \n",
       "\n",
       "   2019_06_10_NDVI 2019_06_26_NDVI 2019_07_12_NDVI 2019_07_28_NDVI  \\\n",
       "0      7764.837838     7261.405405     7204.189189     6799.702703   \n",
       "1      7472.857143     6937.571429     6927.809524     6479.857143   \n",
       "2           7231.0          6750.5     7087.166667          6226.5   \n",
       "3      7510.652174     6806.304348     6676.043478     6313.782609   \n",
       "4             5149            6845            6766            6466   \n",
       "..             ...             ...             ...             ...   \n",
       "70     7448.688889     7161.311111     7219.133333     6823.866667   \n",
       "71            7385            7200            7239            6949   \n",
       "72     7308.285714     7119.285714     7097.142857     6856.285714   \n",
       "73     7380.636364     7182.727273          7132.0     6913.909091   \n",
       "74            7338            7178            7193            6716   \n",
       "\n",
       "   2019_08_13_NDVI 2019_08_29_NDVI  ... 2020_09_13_NDVI 2020_09_29_NDVI  \\\n",
       "0      5735.351351     6752.621622  ...     6419.027027     6877.837838   \n",
       "1      5750.666667      6776.47619  ...     5847.952381     6720.428571   \n",
       "2      5691.166667     6629.333333  ...     6185.166667     7094.666667   \n",
       "3      5845.608696     6631.391304  ...     5840.782609     6792.826087   \n",
       "4             5539            6741  ...            5873            6607   \n",
       "..             ...             ...  ...             ...             ...   \n",
       "70     6222.444444     6756.977778  ...     6312.577778     6842.577778   \n",
       "71            6331            7115  ...            6237            6544   \n",
       "72     6298.857143     6732.714286  ...     6376.142857     6853.714286   \n",
       "73     6417.454545     6855.454545  ...     6344.272727     6707.454545   \n",
       "74            6003            7049  ...            6000            6826   \n",
       "\n",
       "   2020_10_15_NDVI 2020_10_31_NDVI 2020_11_16_NDVI 2020_12_02_NDVI  \\\n",
       "0      7382.540541     7526.027027     7410.459459     7991.189189   \n",
       "1      7101.380952     7290.666667     7367.666667     7762.619048   \n",
       "2           7402.5     7599.166667     7449.166667     7718.166667   \n",
       "3      7100.043478            7360     7355.565217     7787.086957   \n",
       "4             7171            7528            7253            7844   \n",
       "..             ...             ...             ...             ...   \n",
       "70     7139.733333     7187.666667     7312.355556     7542.222222   \n",
       "71            7108            7330            7407            7620   \n",
       "72     7047.571429     7318.285714     7276.714286     7513.428571   \n",
       "73     7187.272727     7230.818182     7228.454545     7552.454545   \n",
       "74            7043            7150            7012            7629   \n",
       "\n",
       "   2020_12_18_NDVI 2021_01_01_NDVI 2021_01_17_NDVI     Name  \n",
       "0      7715.351351     6944.972973     6329.189189   plot 1  \n",
       "1             7332     6896.190476     6285.761905   plot 2  \n",
       "2           6624.0     6971.333333     6325.333333   plot 3  \n",
       "3      6680.043478      7027.73913            6288   plot 5  \n",
       "4             6691            6846            6374   plot 6  \n",
       "..             ...             ...             ...      ...  \n",
       "70     7051.977778          6986.4     6820.133333  plot 67  \n",
       "71            7172            6995            6866  plot 68  \n",
       "72          7135.0     6958.285714     6822.571429  plot 69  \n",
       "73     7127.272727     7067.181818     7046.545455  plot 70  \n",
       "74            7314            7009            6962  plot 71  \n",
       "\n",
       "[75 rows x 43 columns]"
      ],
      "text/html": "<div>\n<style scoped>\n    .dataframe tbody tr th:only-of-type {\n        vertical-align: middle;\n    }\n\n    .dataframe tbody tr th {\n        vertical-align: top;\n    }\n\n    .dataframe thead th {\n        text-align: right;\n    }\n</style>\n<table border=\"1\" class=\"dataframe\">\n  <thead>\n    <tr style=\"text-align: right;\">\n      <th></th>\n      <th>2019_04_07_NDVI</th>\n      <th>2019_04_23_NDVI</th>\n      <th>2019_05_09_NDVI</th>\n      <th>2019_05_25_NDVI</th>\n      <th>2019_06_10_NDVI</th>\n      <th>2019_06_26_NDVI</th>\n      <th>2019_07_12_NDVI</th>\n      <th>2019_07_28_NDVI</th>\n      <th>2019_08_13_NDVI</th>\n      <th>2019_08_29_NDVI</th>\n      <th>...</th>\n      <th>2020_09_13_NDVI</th>\n      <th>2020_09_29_NDVI</th>\n      <th>2020_10_15_NDVI</th>\n      <th>2020_10_31_NDVI</th>\n      <th>2020_11_16_NDVI</th>\n      <th>2020_12_02_NDVI</th>\n      <th>2020_12_18_NDVI</th>\n      <th>2021_01_01_NDVI</th>\n      <th>2021_01_17_NDVI</th>\n      <th>Name</th>\n    </tr>\n  </thead>\n  <tbody>\n    <tr>\n      <th>0</th>\n      <td>6276.648649</td>\n      <td>7578.135135</td>\n      <td>7593.216216</td>\n      <td>8140.162162</td>\n      <td>7764.837838</td>\n      <td>7261.405405</td>\n      <td>7204.189189</td>\n      <td>6799.702703</td>\n      <td>5735.351351</td>\n      <td>6752.621622</td>\n      <td>...</td>\n      <td>6419.027027</td>\n      <td>6877.837838</td>\n      <td>7382.540541</td>\n      <td>7526.027027</td>\n      <td>7410.459459</td>\n      <td>7991.189189</td>\n      <td>7715.351351</td>\n      <td>6944.972973</td>\n      <td>6329.189189</td>\n      <td>plot 1</td>\n    </tr>\n    <tr>\n      <th>1</th>\n      <td>6165.380952</td>\n      <td>6919.238095</td>\n      <td>7451.428571</td>\n      <td>7596</td>\n      <td>7472.857143</td>\n      <td>6937.571429</td>\n      <td>6927.809524</td>\n      <td>6479.857143</td>\n      <td>5750.666667</td>\n      <td>6776.47619</td>\n      <td>...</td>\n      <td>5847.952381</td>\n      <td>6720.428571</td>\n      <td>7101.380952</td>\n      <td>7290.666667</td>\n      <td>7367.666667</td>\n      <td>7762.619048</td>\n      <td>7332</td>\n      <td>6896.190476</td>\n      <td>6285.761905</td>\n      <td>plot 2</td>\n    </tr>\n    <tr>\n      <th>2</th>\n      <td>6196</td>\n      <td>7636.333333</td>\n      <td>7607.0</td>\n      <td>7872.833333</td>\n      <td>7231.0</td>\n      <td>6750.5</td>\n      <td>7087.166667</td>\n      <td>6226.5</td>\n      <td>5691.166667</td>\n      <td>6629.333333</td>\n      <td>...</td>\n      <td>6185.166667</td>\n      <td>7094.666667</td>\n      <td>7402.5</td>\n      <td>7599.166667</td>\n      <td>7449.166667</td>\n      <td>7718.166667</td>\n      <td>6624.0</td>\n      <td>6971.333333</td>\n      <td>6325.333333</td>\n      <td>plot 3</td>\n    </tr>\n    <tr>\n      <th>3</th>\n      <td>6118.0</td>\n      <td>7009</td>\n      <td>7432.043478</td>\n      <td>7691.304348</td>\n      <td>7510.652174</td>\n      <td>6806.304348</td>\n      <td>6676.043478</td>\n      <td>6313.782609</td>\n      <td>5845.608696</td>\n      <td>6631.391304</td>\n      <td>...</td>\n      <td>5840.782609</td>\n      <td>6792.826087</td>\n      <td>7100.043478</td>\n      <td>7360</td>\n      <td>7355.565217</td>\n      <td>7787.086957</td>\n      <td>6680.043478</td>\n      <td>7027.73913</td>\n      <td>6288</td>\n      <td>plot 5</td>\n    </tr>\n    <tr>\n      <th>4</th>\n      <td>6652</td>\n      <td>7596</td>\n      <td>7765</td>\n      <td>7947</td>\n      <td>5149</td>\n      <td>6845</td>\n      <td>6766</td>\n      <td>6466</td>\n      <td>5539</td>\n      <td>6741</td>\n      <td>...</td>\n      <td>5873</td>\n      <td>6607</td>\n      <td>7171</td>\n      <td>7528</td>\n      <td>7253</td>\n      <td>7844</td>\n      <td>6691</td>\n      <td>6846</td>\n      <td>6374</td>\n      <td>plot 6</td>\n    </tr>\n    <tr>\n      <th>...</th>\n      <td>...</td>\n      <td>...</td>\n      <td>...</td>\n      <td>...</td>\n      <td>...</td>\n      <td>...</td>\n      <td>...</td>\n      <td>...</td>\n      <td>...</td>\n      <td>...</td>\n      <td>...</td>\n      <td>...</td>\n      <td>...</td>\n      <td>...</td>\n      <td>...</td>\n      <td>...</td>\n      <td>...</td>\n      <td>...</td>\n      <td>...</td>\n      <td>...</td>\n      <td>...</td>\n    </tr>\n    <tr>\n      <th>70</th>\n      <td>6722.044444</td>\n      <td>7583.177778</td>\n      <td>7510.777778</td>\n      <td>7760.2</td>\n      <td>7448.688889</td>\n      <td>7161.311111</td>\n      <td>7219.133333</td>\n      <td>6823.866667</td>\n      <td>6222.444444</td>\n      <td>6756.977778</td>\n      <td>...</td>\n      <td>6312.577778</td>\n      <td>6842.577778</td>\n      <td>7139.733333</td>\n      <td>7187.666667</td>\n      <td>7312.355556</td>\n      <td>7542.222222</td>\n      <td>7051.977778</td>\n      <td>6986.4</td>\n      <td>6820.133333</td>\n      <td>plot 67</td>\n    </tr>\n    <tr>\n      <th>71</th>\n      <td>6859</td>\n      <td>7558</td>\n      <td>7621</td>\n      <td>7814</td>\n      <td>7385</td>\n      <td>7200</td>\n      <td>7239</td>\n      <td>6949</td>\n      <td>6331</td>\n      <td>7115</td>\n      <td>...</td>\n      <td>6237</td>\n      <td>6544</td>\n      <td>7108</td>\n      <td>7330</td>\n      <td>7407</td>\n      <td>7620</td>\n      <td>7172</td>\n      <td>6995</td>\n      <td>6866</td>\n      <td>plot 68</td>\n    </tr>\n    <tr>\n      <th>72</th>\n      <td>6421.571429</td>\n      <td>7223</td>\n      <td>7368.714286</td>\n      <td>7804.714286</td>\n      <td>7308.285714</td>\n      <td>7119.285714</td>\n      <td>7097.142857</td>\n      <td>6856.285714</td>\n      <td>6298.857143</td>\n      <td>6732.714286</td>\n      <td>...</td>\n      <td>6376.142857</td>\n      <td>6853.714286</td>\n      <td>7047.571429</td>\n      <td>7318.285714</td>\n      <td>7276.714286</td>\n      <td>7513.428571</td>\n      <td>7135.0</td>\n      <td>6958.285714</td>\n      <td>6822.571429</td>\n      <td>plot 69</td>\n    </tr>\n    <tr>\n      <th>73</th>\n      <td>6496.909091</td>\n      <td>7072.181818</td>\n      <td>7966.545455</td>\n      <td>7625.545455</td>\n      <td>7380.636364</td>\n      <td>7182.727273</td>\n      <td>7132.0</td>\n      <td>6913.909091</td>\n      <td>6417.454545</td>\n      <td>6855.454545</td>\n      <td>...</td>\n      <td>6344.272727</td>\n      <td>6707.454545</td>\n      <td>7187.272727</td>\n      <td>7230.818182</td>\n      <td>7228.454545</td>\n      <td>7552.454545</td>\n      <td>7127.272727</td>\n      <td>7067.181818</td>\n      <td>7046.545455</td>\n      <td>plot 70</td>\n    </tr>\n    <tr>\n      <th>74</th>\n      <td>6582</td>\n      <td>7341</td>\n      <td>7486</td>\n      <td>7688</td>\n      <td>7338</td>\n      <td>7178</td>\n      <td>7193</td>\n      <td>6716</td>\n      <td>6003</td>\n      <td>7049</td>\n      <td>...</td>\n      <td>6000</td>\n      <td>6826</td>\n      <td>7043</td>\n      <td>7150</td>\n      <td>7012</td>\n      <td>7629</td>\n      <td>7314</td>\n      <td>7009</td>\n      <td>6962</td>\n      <td>plot 71</td>\n    </tr>\n  </tbody>\n</table>\n<p>75 rows × 43 columns</p>\n</div>"
     },
     "metadata": {},
     "execution_count": 44
    }
   ],
   "source": [
    "#Transpose to have each attribute on different columns\n",
    "nte = testin.transpose() #good\n",
    "nte"
   ]
  },
  {
   "cell_type": "code",
   "execution_count": 52,
   "metadata": {},
   "outputs": [],
   "source": [
    "def image_array_to(arr, list_of_bands):\n",
    "    #Bands dict to pandas dataframe\n",
    "    df = pd.DataFrame(arr)\n",
    "\n",
    "    header = df.iloc[0]\n",
    "    df = pd.DataFrame(df.values[1:], columns=header)\n",
    "\n",
    "    return df"
   ]
  },
  {
   "cell_type": "code",
   "execution_count": null,
   "metadata": {},
   "outputs": [],
   "source": [
    "mod_df_Nd['NDVI'].plot()"
   ]
  },
  {
   "cell_type": "code",
   "execution_count": null,
   "metadata": {},
   "outputs": [],
   "source": []
  }
 ],
 "metadata": {
  "colab": {
   "collapsed_sections": [],
   "name": "SM Time series.ipynb",
   "provenance": []
  },
  "kernelspec": {
   "display_name": "Python 3",
   "language": "python",
   "name": "python3"
  },
  "language_info": {
   "codemirror_mode": {
    "name": "ipython",
    "version": 3
   },
   "file_extension": ".py",
   "mimetype": "text/x-python",
   "name": "python",
   "nbconvert_exporter": "python",
   "pygments_lexer": "ipython3",
   "version": "3.9.2-final"
  }
 },
 "nbformat": 4,
 "nbformat_minor": 1
}