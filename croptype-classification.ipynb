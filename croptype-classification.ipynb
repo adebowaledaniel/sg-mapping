{
 "metadata": {
  "language_info": {
   "codemirror_mode": {
    "name": "ipython",
    "version": 3
   },
   "file_extension": ".py",
   "mimetype": "text/x-python",
   "name": "python",
   "nbconvert_exporter": "python",
   "pygments_lexer": "ipython3",
   "version": "3.9.2"
  },
  "orig_nbformat": 2,
  "kernelspec": {
   "name": "python392jvsc74a57bd0d3fecb5d2ddc39decba3217e5b08eccf3c913a59c9490f56a00feb9cdb9b46e1",
   "display_name": "Python 3.9.2 64-bit ('nasahv-env': conda)"
  }
 },
 "nbformat": 4,
 "nbformat_minor": 2,
 "cells": [
  {
   "cell_type": "code",
   "execution_count": 1,
   "metadata": {},
   "outputs": [],
   "source": [
    "import ee\n",
    "import geemap\n",
    "import numpy as np\n",
    "import time\n",
    "# import geopandas as gpd"
   ]
  },
  {
   "cell_type": "code",
   "execution_count": 2,
   "metadata": {},
   "outputs": [],
   "source": [
    "ee.Initialize()"
   ]
  },
  {
   "cell_type": "code",
   "execution_count": 3,
   "metadata": {},
   "outputs": [],
   "source": [
    "#shp path\n",
    "mazie ='maize.shp'\n",
    "sugarcane = 'sugarcane.shp'\n",
    "ot_cropty = 'others.shp'\n",
    "noncrp = 'non-crop.shp'\n",
    "\n",
    "#ee object\n",
    "ee_mazie = geemap.shp_to_ee(mazie)\n",
    "sugarc_ee = geemap.shp_to_ee(sugarcane)\n",
    "ot_ee = geemap.shp_to_ee(ot_cropty)\n",
    "np_ee = geemap.shp_to_ee(noncrp)\n",
    "#feature collection\n",
    "fc = ee.FeatureCollection([ee_mazie,sugarc_ee, ot_ee, np_ee])\n",
    "fc = fc.flatten()\n",
    "# fc = crop_ee.merge(noncrop_ee)\n",
    "#define bounding box\n",
    "bbox = ee.Geometry.bounds(fc)\n",
    "aoi = bbox"
   ]
  },
  {
   "cell_type": "code",
   "execution_count": 4,
   "metadata": {},
   "outputs": [],
   "source": [
    "composite = ee.Image('users/aadebowaledaniel/cpclasscomposite')"
   ]
  },
  {
   "cell_type": "code",
   "execution_count": 5,
   "metadata": {},
   "outputs": [],
   "source": [
    "predbands = composite.bandNames()"
   ]
  },
  {
   "cell_type": "code",
   "execution_count": 6,
   "metadata": {},
   "outputs": [
    {
     "output_type": "stream",
     "name": "stdout",
     "text": [
      "Resubstitution error matrix:  [[737, 6, 10], [13, 568, 6], [1, 7, 961]]\n",
      "Training overall accuracy:  0.9813772195755739\n",
      "confusion Matrix [[179, 61, 38], [57, 150, 47], [16, 43, 371]]\n",
      "Valdation overall accuracy: 0.7276507276507277\n"
     ]
    }
   ],
   "source": [
    "#continue from here\n",
    "trainingSample  = composite.sampleRegions(\n",
    "    collection = fc,\n",
    "    properties=['label'],\n",
    "    scale = 10, \n",
    "    geometries = True\n",
    ")\n",
    "# trainingSample.size().getInfo()\n",
    "\n",
    "rantraning = trainingSample.randomColumn('random')\n",
    "split = 0.7\n",
    "trainsample = rantraning.filter(ee.Filter.lt('random', split))\n",
    "testsample = rantraning.filter(ee.Filter.gte('random', split))\n",
    "\n",
    "#train random forest classifier\n",
    "classifier = ee.Classifier.smileRandomForest(100).train(trainsample, 'label', predbands)\n",
    "\n",
    "\n",
    "#confusion matrix train Accurracy\n",
    "trainAccuracy = classifier.confusionMatrix()\n",
    "print('Resubstitution error matrix: ', trainAccuracy.getInfo())\n",
    "print('Training overall accuracy: ', trainAccuracy.accuracy().getInfo())\n",
    "\n",
    "#classify features\n",
    "testclassifier = testsample.classify(classifier)\n",
    "#cconfusion matrix representing expected accuracy\n",
    "testAccuracy = testclassifier.errorMatrix('label', 'classification')\n",
    "print('confusion Matrix', testAccuracy.getInfo())\n",
    "print('Valdation overall accuracy:', testAccuracy.accuracy().getInfo())\n",
    "\n",
    "#classify image\n",
    "Imageclassified = composite.classify(classifier)"
   ]
  },
  {
   "cell_type": "code",
   "execution_count": 7,
   "metadata": {},
   "outputs": [
    {
     "output_type": "display_data",
     "data": {
      "text/plain": "Map(center=[0.9613, 34.6536], controls=(WidgetControl(options=['position', 'transparent_bg'], widget=HBox(chil…",
      "application/vnd.jupyter.widget-view+json": {
       "version_major": 2,
       "version_minor": 0,
       "model_id": "ff4683b17e6d412a8706a0d3a08d7907"
      }
     },
     "metadata": {}
    }
   ],
   "source": [
    "Map = geemap.Map(center=(0.9613,34.6536),zoom=8)\n",
    "Map"
   ]
  },
  {
   "cell_type": "code",
   "execution_count": 8,
   "metadata": {},
   "outputs": [],
   "source": [
    "Map.addLayer(composite, {'bands': ['B4', 'B3', 'B2'], 'min': 0.0, 'max': 0.3, 'gamma': 2}, 'True colour composite')"
   ]
  },
  {
   "cell_type": "code",
   "execution_count": 9,
   "metadata": {},
   "outputs": [],
   "source": [
    "sugarcanemask = Imageclassified.eq(2)\n",
    "\n",
    "sugarcanemaskdd = sugarcanemask.updateMask(sugarcanemask)\n",
    "\n",
    "sugarcanemask_vec = sugarcanemaskdd.reduceToVectors(\n",
    "    geometryType= 'polygon',\n",
    "    reducer= ee.Reducer.countEvery(),\n",
    "    scale= 10,\n",
    "    maxPixels= 1e13,\n",
    "    geometry= aoi\n",
    ")\n",
    "Map.addLayer(sugarcanemask_vec, {'color':'green'}, 'Sugarcane')\n"
   ]
  },
  {
   "cell_type": "code",
   "execution_count": 10,
   "metadata": {
    "tags": [
     "outputPrepend"
    ]
   },
   "outputs": [
    {
     "output_type": "stream",
     "name": "stdout",
     "text": [
      "S', 'attempt': 1, 'id': 'ZXKUCZHD7VEVSFQSVA7YG3Y4', 'name': 'projects/earthengine-legacy/operations/ZXKUCZHD7VEVSFQSVA7YG3Y4'}\n",
      "{'state': 'RUNNING', 'description': 'Vegetation mask', 'creation_timestamp_ms': 1620803009771, 'update_timestamp_ms': 1620803030301, 'start_timestamp_ms': 1620803030207, 'task_type': 'EXPORT_FEATURES', 'attempt': 1, 'id': 'ZXKUCZHD7VEVSFQSVA7YG3Y4', 'name': 'projects/earthengine-legacy/operations/ZXKUCZHD7VEVSFQSVA7YG3Y4'}\n",
      "{'state': 'RUNNING', 'description': 'Vegetation mask', 'creation_timestamp_ms': 1620803009771, 'update_timestamp_ms': 1620803030301, 'start_timestamp_ms': 1620803030207, 'task_type': 'EXPORT_FEATURES', 'attempt': 1, 'id': 'ZXKUCZHD7VEVSFQSVA7YG3Y4', 'name': 'projects/earthengine-legacy/operations/ZXKUCZHD7VEVSFQSVA7YG3Y4'}\n",
      "{'state': 'RUNNING', 'description': 'Vegetation mask', 'creation_timestamp_ms': 1620803009771, 'update_timestamp_ms': 1620803030301, 'start_timestamp_ms': 1620803030207, 'task_type': 'EXPORT_FEATURES', 'attempt': 1, 'id': 'ZXKUCZHD7VEVSFQSVA7YG3Y4', 'name': 'projects/earthengine-legacy/operations/ZXKUCZHD7VEVSFQSVA7YG3Y4'}\n",
      "{'state': 'RUNNING', 'description': 'Vegetation mask', 'creation_timestamp_ms': 1620803009771, 'update_timestamp_ms': 1620803030301, 'start_timestamp_ms': 1620803030207, 'task_type': 'EXPORT_FEATURES', 'attempt': 1, 'id': 'ZXKUCZHD7VEVSFQSVA7YG3Y4', 'name': 'projects/earthengine-legacy/operations/ZXKUCZHD7VEVSFQSVA7YG3Y4'}\n",
      "{'state': 'RUNNING', 'description': 'Vegetation mask', 'creation_timestamp_ms': 1620803009771, 'update_timestamp_ms': 1620803030301, 'start_timestamp_ms': 1620803030207, 'task_type': 'EXPORT_FEATURES', 'attempt': 1, 'id': 'ZXKUCZHD7VEVSFQSVA7YG3Y4', 'name': 'projects/earthengine-legacy/operations/ZXKUCZHD7VEVSFQSVA7YG3Y4'}\n",
      "{'state': 'RUNNING', 'description': 'Vegetation mask', 'creation_timestamp_ms': 1620803009771, 'update_timestamp_ms': 1620803030301, 'start_timestamp_ms': 1620803030207, 'task_type': 'EXPORT_FEATURES', 'attempt': 1, 'id': 'ZXKUCZHD7VEVSFQSVA7YG3Y4', 'name': 'projects/earthengine-legacy/operations/ZXKUCZHD7VEVSFQSVA7YG3Y4'}\n",
      "{'state': 'RUNNING', 'description': 'Vegetation mask', 'creation_timestamp_ms': 1620803009771, 'update_timestamp_ms': 1620803030301, 'start_timestamp_ms': 1620803030207, 'task_type': 'EXPORT_FEATURES', 'attempt': 1, 'id': 'ZXKUCZHD7VEVSFQSVA7YG3Y4', 'name': 'projects/earthengine-legacy/operations/ZXKUCZHD7VEVSFQSVA7YG3Y4'}\n",
      "{'state': 'RUNNING', 'description': 'Vegetation mask', 'creation_timestamp_ms': 1620803009771, 'update_timestamp_ms': 1620803030301, 'start_timestamp_ms': 1620803030207, 'task_type': 'EXPORT_FEATURES', 'attempt': 1, 'id': 'ZXKUCZHD7VEVSFQSVA7YG3Y4', 'name': 'projects/earthengine-legacy/operations/ZXKUCZHD7VEVSFQSVA7YG3Y4'}\n",
      "{'state': 'RUNNING', 'description': 'Vegetation mask', 'creation_timestamp_ms': 1620803009771, 'update_timestamp_ms': 1620803030301, 'start_timestamp_ms': 1620803030207, 'task_type': 'EXPORT_FEATURES', 'attempt': 1, 'id': 'ZXKUCZHD7VEVSFQSVA7YG3Y4', 'name': 'projects/earthengine-legacy/operations/ZXKUCZHD7VEVSFQSVA7YG3Y4'}\n",
      "{'state': 'RUNNING', 'description': 'Vegetation mask', 'creation_timestamp_ms': 1620803009771, 'update_timestamp_ms': 1620803030301, 'start_timestamp_ms': 1620803030207, 'task_type': 'EXPORT_FEATURES', 'attempt': 1, 'id': 'ZXKUCZHD7VEVSFQSVA7YG3Y4', 'name': 'projects/earthengine-legacy/operations/ZXKUCZHD7VEVSFQSVA7YG3Y4'}\n",
      "{'state': 'RUNNING', 'description': 'Vegetation mask', 'creation_timestamp_ms': 1620803009771, 'update_timestamp_ms': 1620803030301, 'start_timestamp_ms': 1620803030207, 'task_type': 'EXPORT_FEATURES', 'attempt': 1, 'id': 'ZXKUCZHD7VEVSFQSVA7YG3Y4', 'name': 'projects/earthengine-legacy/operations/ZXKUCZHD7VEVSFQSVA7YG3Y4'}\n",
      "{'state': 'RUNNING', 'description': 'Vegetation mask', 'creation_timestamp_ms': 1620803009771, 'update_timestamp_ms': 1620803030301, 'start_timestamp_ms': 1620803030207, 'task_type': 'EXPORT_FEATURES', 'attempt': 1, 'id': 'ZXKUCZHD7VEVSFQSVA7YG3Y4', 'name': 'projects/earthengine-legacy/operations/ZXKUCZHD7VEVSFQSVA7YG3Y4'}\n",
      "{'state': 'RUNNING', 'description': 'Vegetation mask', 'creation_timestamp_ms': 1620803009771, 'update_timestamp_ms': 1620803030301, 'start_timestamp_ms': 1620803030207, 'task_type': 'EXPORT_FEATURES', 'attempt': 1, 'id': 'ZXKUCZHD7VEVSFQSVA7YG3Y4', 'name': 'projects/earthengine-legacy/operations/ZXKUCZHD7VEVSFQSVA7YG3Y4'}\n",
      "{'state': 'RUNNING', 'description': 'Vegetation mask', 'creation_timestamp_ms': 1620803009771, 'update_timestamp_ms': 1620803030301, 'start_timestamp_ms': 1620803030207, 'task_type': 'EXPORT_FEATURES', 'attempt': 1, 'id': 'ZXKUCZHD7VEVSFQSVA7YG3Y4', 'name': 'projects/earthengine-legacy/operations/ZXKUCZHD7VEVSFQSVA7YG3Y4'}\n",
      "{'state': 'RUNNING', 'description': 'Vegetation mask', 'creation_timestamp_ms': 1620803009771, 'update_timestamp_ms': 1620803030301, 'start_timestamp_ms': 1620803030207, 'task_type': 'EXPORT_FEATURES', 'attempt': 1, 'id': 'ZXKUCZHD7VEVSFQSVA7YG3Y4', 'name': 'projects/earthengine-legacy/operations/ZXKUCZHD7VEVSFQSVA7YG3Y4'}\n",
      "{'state': 'RUNNING', 'description': 'Vegetation mask', 'creation_timestamp_ms': 1620803009771, 'update_timestamp_ms': 1620803030301, 'start_timestamp_ms': 1620803030207, 'task_type': 'EXPORT_FEATURES', 'attempt': 1, 'id': 'ZXKUCZHD7VEVSFQSVA7YG3Y4', 'name': 'projects/earthengine-legacy/operations/ZXKUCZHD7VEVSFQSVA7YG3Y4'}\n",
      "{'state': 'RUNNING', 'description': 'Vegetation mask', 'creation_timestamp_ms': 1620803009771, 'update_timestamp_ms': 1620803030301, 'start_timestamp_ms': 1620803030207, 'task_type': 'EXPORT_FEATURES', 'attempt': 1, 'id': 'ZXKUCZHD7VEVSFQSVA7YG3Y4', 'name': 'projects/earthengine-legacy/operations/ZXKUCZHD7VEVSFQSVA7YG3Y4'}\n",
      "{'state': 'RUNNING', 'description': 'Vegetation mask', 'creation_timestamp_ms': 1620803009771, 'update_timestamp_ms': 1620803030301, 'start_timestamp_ms': 1620803030207, 'task_type': 'EXPORT_FEATURES', 'attempt': 1, 'id': 'ZXKUCZHD7VEVSFQSVA7YG3Y4', 'name': 'projects/earthengine-legacy/operations/ZXKUCZHD7VEVSFQSVA7YG3Y4'}\n",
      "{'state': 'RUNNING', 'description': 'Vegetation mask', 'creation_timestamp_ms': 1620803009771, 'update_timestamp_ms': 1620803030301, 'start_timestamp_ms': 1620803030207, 'task_type': 'EXPORT_FEATURES', 'attempt': 1, 'id': 'ZXKUCZHD7VEVSFQSVA7YG3Y4', 'name': 'projects/earthengine-legacy/operations/ZXKUCZHD7VEVSFQSVA7YG3Y4'}\n",
      "{'state': 'RUNNING', 'description': 'Vegetation mask', 'creation_timestamp_ms': 1620803009771, 'update_timestamp_ms': 1620803030301, 'start_timestamp_ms': 1620803030207, 'task_type': 'EXPORT_FEATURES', 'attempt': 1, 'id': 'ZXKUCZHD7VEVSFQSVA7YG3Y4', 'name': 'projects/earthengine-legacy/operations/ZXKUCZHD7VEVSFQSVA7YG3Y4'}\n",
      "{'state': 'RUNNING', 'description': 'Vegetation mask', 'creation_timestamp_ms': 1620803009771, 'update_timestamp_ms': 1620803030301, 'start_timestamp_ms': 1620803030207, 'task_type': 'EXPORT_FEATURES', 'attempt': 1, 'id': 'ZXKUCZHD7VEVSFQSVA7YG3Y4', 'name': 'projects/earthengine-legacy/operations/ZXKUCZHD7VEVSFQSVA7YG3Y4'}\n",
      "{'state': 'RUNNING', 'description': 'Vegetation mask', 'creation_timestamp_ms': 1620803009771, 'update_timestamp_ms': 1620803030301, 'start_timestamp_ms': 1620803030207, 'task_type': 'EXPORT_FEATURES', 'attempt': 1, 'id': 'ZXKUCZHD7VEVSFQSVA7YG3Y4', 'name': 'projects/earthengine-legacy/operations/ZXKUCZHD7VEVSFQSVA7YG3Y4'}\n",
      "{'state': 'RUNNING', 'description': 'Vegetation mask', 'creation_timestamp_ms': 1620803009771, 'update_timestamp_ms': 1620803030301, 'start_timestamp_ms': 1620803030207, 'task_type': 'EXPORT_FEATURES', 'attempt': 1, 'id': 'ZXKUCZHD7VEVSFQSVA7YG3Y4', 'name': 'projects/earthengine-legacy/operations/ZXKUCZHD7VEVSFQSVA7YG3Y4'}\n",
      "{'state': 'RUNNING', 'description': 'Vegetation mask', 'creation_timestamp_ms': 1620803009771, 'update_timestamp_ms': 1620803030301, 'start_timestamp_ms': 1620803030207, 'task_type': 'EXPORT_FEATURES', 'attempt': 1, 'id': 'ZXKUCZHD7VEVSFQSVA7YG3Y4', 'name': 'projects/earthengine-legacy/operations/ZXKUCZHD7VEVSFQSVA7YG3Y4'}\n",
      "{'state': 'RUNNING', 'description': 'Vegetation mask', 'creation_timestamp_ms': 1620803009771, 'update_timestamp_ms': 1620803030301, 'start_timestamp_ms': 1620803030207, 'task_type': 'EXPORT_FEATURES', 'attempt': 1, 'id': 'ZXKUCZHD7VEVSFQSVA7YG3Y4', 'name': 'projects/earthengine-legacy/operations/ZXKUCZHD7VEVSFQSVA7YG3Y4'}\n",
      "{'state': 'RUNNING', 'description': 'Vegetation mask', 'creation_timestamp_ms': 1620803009771, 'update_timestamp_ms': 1620803180323, 'start_timestamp_ms': 1620803030207, 'task_type': 'EXPORT_FEATURES', 'attempt': 1, 'id': 'ZXKUCZHD7VEVSFQSVA7YG3Y4', 'name': 'projects/earthengine-legacy/operations/ZXKUCZHD7VEVSFQSVA7YG3Y4'}\n",
      "{'state': 'RUNNING', 'description': 'Vegetation mask', 'creation_timestamp_ms': 1620803009771, 'update_timestamp_ms': 1620803180323, 'start_timestamp_ms': 1620803030207, 'task_type': 'EXPORT_FEATURES', 'attempt': 1, 'id': 'ZXKUCZHD7VEVSFQSVA7YG3Y4', 'name': 'projects/earthengine-legacy/operations/ZXKUCZHD7VEVSFQSVA7YG3Y4'}\n",
      "{'state': 'RUNNING', 'description': 'Vegetation mask', 'creation_timestamp_ms': 1620803009771, 'update_timestamp_ms': 1620803180323, 'start_timestamp_ms': 1620803030207, 'task_type': 'EXPORT_FEATURES', 'attempt': 1, 'id': 'ZXKUCZHD7VEVSFQSVA7YG3Y4', 'name': 'projects/earthengine-legacy/operations/ZXKUCZHD7VEVSFQSVA7YG3Y4'}\n",
      "{'state': 'RUNNING', 'description': 'Vegetation mask', 'creation_timestamp_ms': 1620803009771, 'update_timestamp_ms': 1620803180323, 'start_timestamp_ms': 1620803030207, 'task_type': 'EXPORT_FEATURES', 'attempt': 1, 'id': 'ZXKUCZHD7VEVSFQSVA7YG3Y4', 'name': 'projects/earthengine-legacy/operations/ZXKUCZHD7VEVSFQSVA7YG3Y4'}\n",
      "{'state': 'RUNNING', 'description': 'Vegetation mask', 'creation_timestamp_ms': 1620803009771, 'update_timestamp_ms': 1620803180323, 'start_timestamp_ms': 1620803030207, 'task_type': 'EXPORT_FEATURES', 'attempt': 1, 'id': 'ZXKUCZHD7VEVSFQSVA7YG3Y4', 'name': 'projects/earthengine-legacy/operations/ZXKUCZHD7VEVSFQSVA7YG3Y4'}\n",
      "{'state': 'RUNNING', 'description': 'Vegetation mask', 'creation_timestamp_ms': 1620803009771, 'update_timestamp_ms': 1620803180323, 'start_timestamp_ms': 1620803030207, 'task_type': 'EXPORT_FEATURES', 'attempt': 1, 'id': 'ZXKUCZHD7VEVSFQSVA7YG3Y4', 'name': 'projects/earthengine-legacy/operations/ZXKUCZHD7VEVSFQSVA7YG3Y4'}\n",
      "{'state': 'RUNNING', 'description': 'Vegetation mask', 'creation_timestamp_ms': 1620803009771, 'update_timestamp_ms': 1620803180323, 'start_timestamp_ms': 1620803030207, 'task_type': 'EXPORT_FEATURES', 'attempt': 1, 'id': 'ZXKUCZHD7VEVSFQSVA7YG3Y4', 'name': 'projects/earthengine-legacy/operations/ZXKUCZHD7VEVSFQSVA7YG3Y4'}\n",
      "{'state': 'RUNNING', 'description': 'Vegetation mask', 'creation_timestamp_ms': 1620803009771, 'update_timestamp_ms': 1620803180323, 'start_timestamp_ms': 1620803030207, 'task_type': 'EXPORT_FEATURES', 'attempt': 1, 'id': 'ZXKUCZHD7VEVSFQSVA7YG3Y4', 'name': 'projects/earthengine-legacy/operations/ZXKUCZHD7VEVSFQSVA7YG3Y4'}\n",
      "{'state': 'RUNNING', 'description': 'Vegetation mask', 'creation_timestamp_ms': 1620803009771, 'update_timestamp_ms': 1620803180323, 'start_timestamp_ms': 1620803030207, 'task_type': 'EXPORT_FEATURES', 'attempt': 1, 'id': 'ZXKUCZHD7VEVSFQSVA7YG3Y4', 'name': 'projects/earthengine-legacy/operations/ZXKUCZHD7VEVSFQSVA7YG3Y4'}\n",
      "{'state': 'RUNNING', 'description': 'Vegetation mask', 'creation_timestamp_ms': 1620803009771, 'update_timestamp_ms': 1620803180323, 'start_timestamp_ms': 1620803030207, 'task_type': 'EXPORT_FEATURES', 'attempt': 1, 'id': 'ZXKUCZHD7VEVSFQSVA7YG3Y4', 'name': 'projects/earthengine-legacy/operations/ZXKUCZHD7VEVSFQSVA7YG3Y4'}\n",
      "{'state': 'RUNNING', 'description': 'Vegetation mask', 'creation_timestamp_ms': 1620803009771, 'update_timestamp_ms': 1620803180323, 'start_timestamp_ms': 1620803030207, 'task_type': 'EXPORT_FEATURES', 'attempt': 1, 'id': 'ZXKUCZHD7VEVSFQSVA7YG3Y4', 'name': 'projects/earthengine-legacy/operations/ZXKUCZHD7VEVSFQSVA7YG3Y4'}\n",
      "{'state': 'RUNNING', 'description': 'Vegetation mask', 'creation_timestamp_ms': 1620803009771, 'update_timestamp_ms': 1620803180323, 'start_timestamp_ms': 1620803030207, 'task_type': 'EXPORT_FEATURES', 'attempt': 1, 'id': 'ZXKUCZHD7VEVSFQSVA7YG3Y4', 'name': 'projects/earthengine-legacy/operations/ZXKUCZHD7VEVSFQSVA7YG3Y4'}\n",
      "{'state': 'RUNNING', 'description': 'Vegetation mask', 'creation_timestamp_ms': 1620803009771, 'update_timestamp_ms': 1620803180323, 'start_timestamp_ms': 1620803030207, 'task_type': 'EXPORT_FEATURES', 'attempt': 1, 'id': 'ZXKUCZHD7VEVSFQSVA7YG3Y4', 'name': 'projects/earthengine-legacy/operations/ZXKUCZHD7VEVSFQSVA7YG3Y4'}\n",
      "{'state': 'RUNNING', 'description': 'Vegetation mask', 'creation_timestamp_ms': 1620803009771, 'update_timestamp_ms': 1620803180323, 'start_timestamp_ms': 1620803030207, 'task_type': 'EXPORT_FEATURES', 'attempt': 1, 'id': 'ZXKUCZHD7VEVSFQSVA7YG3Y4', 'name': 'projects/earthengine-legacy/operations/ZXKUCZHD7VEVSFQSVA7YG3Y4'}\n",
      "{'state': 'RUNNING', 'description': 'Vegetation mask', 'creation_timestamp_ms': 1620803009771, 'update_timestamp_ms': 1620803180323, 'start_timestamp_ms': 1620803030207, 'task_type': 'EXPORT_FEATURES', 'attempt': 1, 'id': 'ZXKUCZHD7VEVSFQSVA7YG3Y4', 'name': 'projects/earthengine-legacy/operations/ZXKUCZHD7VEVSFQSVA7YG3Y4'}\n",
      "{'state': 'RUNNING', 'description': 'Vegetation mask', 'creation_timestamp_ms': 1620803009771, 'update_timestamp_ms': 1620803180323, 'start_timestamp_ms': 1620803030207, 'task_type': 'EXPORT_FEATURES', 'attempt': 1, 'id': 'ZXKUCZHD7VEVSFQSVA7YG3Y4', 'name': 'projects/earthengine-legacy/operations/ZXKUCZHD7VEVSFQSVA7YG3Y4'}\n",
      "{'state': 'RUNNING', 'description': 'Vegetation mask', 'creation_timestamp_ms': 1620803009771, 'update_timestamp_ms': 1620803180323, 'start_timestamp_ms': 1620803030207, 'task_type': 'EXPORT_FEATURES', 'attempt': 1, 'id': 'ZXKUCZHD7VEVSFQSVA7YG3Y4', 'name': 'projects/earthengine-legacy/operations/ZXKUCZHD7VEVSFQSVA7YG3Y4'}\n",
      "{'state': 'RUNNING', 'description': 'Vegetation mask', 'creation_timestamp_ms': 1620803009771, 'update_timestamp_ms': 1620803180323, 'start_timestamp_ms': 1620803030207, 'task_type': 'EXPORT_FEATURES', 'attempt': 1, 'id': 'ZXKUCZHD7VEVSFQSVA7YG3Y4', 'name': 'projects/earthengine-legacy/operations/ZXKUCZHD7VEVSFQSVA7YG3Y4'}\n",
      "{'state': 'RUNNING', 'description': 'Vegetation mask', 'creation_timestamp_ms': 1620803009771, 'update_timestamp_ms': 1620803180323, 'start_timestamp_ms': 1620803030207, 'task_type': 'EXPORT_FEATURES', 'attempt': 1, 'id': 'ZXKUCZHD7VEVSFQSVA7YG3Y4', 'name': 'projects/earthengine-legacy/operations/ZXKUCZHD7VEVSFQSVA7YG3Y4'}\n",
      "{'state': 'RUNNING', 'description': 'Vegetation mask', 'creation_timestamp_ms': 1620803009771, 'update_timestamp_ms': 1620803180323, 'start_timestamp_ms': 1620803030207, 'task_type': 'EXPORT_FEATURES', 'attempt': 1, 'id': 'ZXKUCZHD7VEVSFQSVA7YG3Y4', 'name': 'projects/earthengine-legacy/operations/ZXKUCZHD7VEVSFQSVA7YG3Y4'}\n",
      "{'state': 'RUNNING', 'description': 'Vegetation mask', 'creation_timestamp_ms': 1620803009771, 'update_timestamp_ms': 1620803180323, 'start_timestamp_ms': 1620803030207, 'task_type': 'EXPORT_FEATURES', 'attempt': 1, 'id': 'ZXKUCZHD7VEVSFQSVA7YG3Y4', 'name': 'projects/earthengine-legacy/operations/ZXKUCZHD7VEVSFQSVA7YG3Y4'}\n",
      "{'state': 'RUNNING', 'description': 'Vegetation mask', 'creation_timestamp_ms': 1620803009771, 'update_timestamp_ms': 1620803180323, 'start_timestamp_ms': 1620803030207, 'task_type': 'EXPORT_FEATURES', 'attempt': 1, 'id': 'ZXKUCZHD7VEVSFQSVA7YG3Y4', 'name': 'projects/earthengine-legacy/operations/ZXKUCZHD7VEVSFQSVA7YG3Y4'}\n",
      "{'state': 'RUNNING', 'description': 'Vegetation mask', 'creation_timestamp_ms': 1620803009771, 'update_timestamp_ms': 1620803180323, 'start_timestamp_ms': 1620803030207, 'task_type': 'EXPORT_FEATURES', 'attempt': 1, 'id': 'ZXKUCZHD7VEVSFQSVA7YG3Y4', 'name': 'projects/earthengine-legacy/operations/ZXKUCZHD7VEVSFQSVA7YG3Y4'}\n",
      "{'state': 'RUNNING', 'description': 'Vegetation mask', 'creation_timestamp_ms': 1620803009771, 'update_timestamp_ms': 1620803180323, 'start_timestamp_ms': 1620803030207, 'task_type': 'EXPORT_FEATURES', 'attempt': 1, 'id': 'ZXKUCZHD7VEVSFQSVA7YG3Y4', 'name': 'projects/earthengine-legacy/operations/ZXKUCZHD7VEVSFQSVA7YG3Y4'}\n",
      "{'state': 'RUNNING', 'description': 'Vegetation mask', 'creation_timestamp_ms': 1620803009771, 'update_timestamp_ms': 1620803180323, 'start_timestamp_ms': 1620803030207, 'task_type': 'EXPORT_FEATURES', 'attempt': 1, 'id': 'ZXKUCZHD7VEVSFQSVA7YG3Y4', 'name': 'projects/earthengine-legacy/operations/ZXKUCZHD7VEVSFQSVA7YG3Y4'}\n",
      "{'state': 'RUNNING', 'description': 'Vegetation mask', 'creation_timestamp_ms': 1620803009771, 'update_timestamp_ms': 1620803180323, 'start_timestamp_ms': 1620803030207, 'task_type': 'EXPORT_FEATURES', 'attempt': 1, 'id': 'ZXKUCZHD7VEVSFQSVA7YG3Y4', 'name': 'projects/earthengine-legacy/operations/ZXKUCZHD7VEVSFQSVA7YG3Y4'}\n",
      "{'state': 'RUNNING', 'description': 'Vegetation mask', 'creation_timestamp_ms': 1620803009771, 'update_timestamp_ms': 1620803330323, 'start_timestamp_ms': 1620803030207, 'task_type': 'EXPORT_FEATURES', 'attempt': 1, 'id': 'ZXKUCZHD7VEVSFQSVA7YG3Y4', 'name': 'projects/earthengine-legacy/operations/ZXKUCZHD7VEVSFQSVA7YG3Y4'}\n",
      "{'state': 'RUNNING', 'description': 'Vegetation mask', 'creation_timestamp_ms': 1620803009771, 'update_timestamp_ms': 1620803330323, 'start_timestamp_ms': 1620803030207, 'task_type': 'EXPORT_FEATURES', 'attempt': 1, 'id': 'ZXKUCZHD7VEVSFQSVA7YG3Y4', 'name': 'projects/earthengine-legacy/operations/ZXKUCZHD7VEVSFQSVA7YG3Y4'}\n",
      "{'state': 'RUNNING', 'description': 'Vegetation mask', 'creation_timestamp_ms': 1620803009771, 'update_timestamp_ms': 1620803330323, 'start_timestamp_ms': 1620803030207, 'task_type': 'EXPORT_FEATURES', 'attempt': 1, 'id': 'ZXKUCZHD7VEVSFQSVA7YG3Y4', 'name': 'projects/earthengine-legacy/operations/ZXKUCZHD7VEVSFQSVA7YG3Y4'}\n",
      "{'state': 'RUNNING', 'description': 'Vegetation mask', 'creation_timestamp_ms': 1620803009771, 'update_timestamp_ms': 1620803330323, 'start_timestamp_ms': 1620803030207, 'task_type': 'EXPORT_FEATURES', 'attempt': 1, 'id': 'ZXKUCZHD7VEVSFQSVA7YG3Y4', 'name': 'projects/earthengine-legacy/operations/ZXKUCZHD7VEVSFQSVA7YG3Y4'}\n",
      "{'state': 'RUNNING', 'description': 'Vegetation mask', 'creation_timestamp_ms': 1620803009771, 'update_timestamp_ms': 1620803330323, 'start_timestamp_ms': 1620803030207, 'task_type': 'EXPORT_FEATURES', 'attempt': 1, 'id': 'ZXKUCZHD7VEVSFQSVA7YG3Y4', 'name': 'projects/earthengine-legacy/operations/ZXKUCZHD7VEVSFQSVA7YG3Y4'}\n",
      "{'state': 'RUNNING', 'description': 'Vegetation mask', 'creation_timestamp_ms': 1620803009771, 'update_timestamp_ms': 1620803330323, 'start_timestamp_ms': 1620803030207, 'task_type': 'EXPORT_FEATURES', 'attempt': 1, 'id': 'ZXKUCZHD7VEVSFQSVA7YG3Y4', 'name': 'projects/earthengine-legacy/operations/ZXKUCZHD7VEVSFQSVA7YG3Y4'}\n",
      "{'state': 'RUNNING', 'description': 'Vegetation mask', 'creation_timestamp_ms': 1620803009771, 'update_timestamp_ms': 1620803330323, 'start_timestamp_ms': 1620803030207, 'task_type': 'EXPORT_FEATURES', 'attempt': 1, 'id': 'ZXKUCZHD7VEVSFQSVA7YG3Y4', 'name': 'projects/earthengine-legacy/operations/ZXKUCZHD7VEVSFQSVA7YG3Y4'}\n",
      "{'state': 'RUNNING', 'description': 'Vegetation mask', 'creation_timestamp_ms': 1620803009771, 'update_timestamp_ms': 1620803330323, 'start_timestamp_ms': 1620803030207, 'task_type': 'EXPORT_FEATURES', 'attempt': 1, 'id': 'ZXKUCZHD7VEVSFQSVA7YG3Y4', 'name': 'projects/earthengine-legacy/operations/ZXKUCZHD7VEVSFQSVA7YG3Y4'}\n",
      "{'state': 'RUNNING', 'description': 'Vegetation mask', 'creation_timestamp_ms': 1620803009771, 'update_timestamp_ms': 1620803330323, 'start_timestamp_ms': 1620803030207, 'task_type': 'EXPORT_FEATURES', 'attempt': 1, 'id': 'ZXKUCZHD7VEVSFQSVA7YG3Y4', 'name': 'projects/earthengine-legacy/operations/ZXKUCZHD7VEVSFQSVA7YG3Y4'}\n",
      "{'state': 'FAILED', 'description': 'Vegetation mask', 'creation_timestamp_ms': 1620803009771, 'update_timestamp_ms': 1620803377962, 'start_timestamp_ms': 1620803030207, 'task_type': 'EXPORT_FEATURES', 'attempt': 1, 'error_message': 'Computed value is too large.', 'id': 'ZXKUCZHD7VEVSFQSVA7YG3Y4', 'name': 'projects/earthengine-legacy/operations/ZXKUCZHD7VEVSFQSVA7YG3Y4'}\n"
     ]
    }
   ],
   "source": [
    "taskvec = ee.batch.Export.table.toAsset(collection=sugarcanemask_vec,\n",
    "description= 'Vegetation mask', assetId= 'users/aadebowaledaniel/vegetationmask')\n",
    "taskvec.start()\n",
    "#Monitor the task\n",
    "while taskvec.status()['state'] in ['READY', 'RUNNING']:\n",
    "  print(taskvec.status())\n",
    "  time.sleep(5)\n",
    "else:\n",
    "  print(taskvec.status())"
   ]
  },
  {
   "cell_type": "code",
   "execution_count": 11,
   "metadata": {},
   "outputs": [],
   "source": [
    "vis = {'min': 0, 'max': 3, 'pallete': ['black', 'green', 'yellow']}\n",
    "Map.addLayer(Imageclassified, vis, 'Croptype')"
   ]
  },
  {
   "cell_type": "code",
   "execution_count": null,
   "metadata": {},
   "outputs": [],
   "source": []
  }
 ]
}