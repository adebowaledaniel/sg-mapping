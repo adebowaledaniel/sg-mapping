{
 "cells": [
  {
   "cell_type": "code",
   "execution_count": 1,
   "metadata": {},
   "outputs": [],
   "source": [
    "import ee\n",
    "import geemap\n",
    "import numpy as np\n",
    "import time\n",
    "import pandas as pd\n",
    "import matplotlib.pyplot as plt\n",
    "# import geopandas as gpd"
   ]
  },
  {
   "cell_type": "code",
   "execution_count": 2,
   "metadata": {},
   "outputs": [],
   "source": [
    "ee.Initialize()"
   ]
  },
  {
   "cell_type": "code",
   "execution_count": 3,
   "metadata": {},
   "outputs": [],
   "source": [
    "#shp path\n",
    "tp_src = 'sgcplot.shp'\n",
    "tp_crop = 'croplabel.shp'\n",
    "tp_ncrop = 'noncroplabel.shp'\n",
    "\n",
    "#TODO training data explaination \n",
    "\n",
    "#ee object\n",
    "sgc_ee = geemap.shp_to_ee(tp_src)\n",
    "crop_ee = geemap.shp_to_ee(tp_crop)\n",
    "nncrop_ee = geemap.shp_to_ee(tp_ncrop)\n",
    "#feature collection\n",
    "crop_fc = sgc_ee.merge(crop_ee)\n",
    "fc = crop_fc.merge(nncrop_ee)\n",
    "#define bounding box\n",
    "bbox = ee.Geometry.bounds(fc)\n",
    "aoi = bbox"
   ]
  },
  {
   "cell_type": "code",
   "execution_count": 4,
   "metadata": {},
   "outputs": [],
   "source": [
    "#Sentinel 2 Image collection, cloudmask and mosaic\n",
    "\n",
    "def imgcoll(sdate,edate):\n",
    "\n",
    "    # sdate= '2020-05-01'\n",
    "    # edate= '2020-08-31'\n",
    "\n",
    "    def cloud_prob():\n",
    "        innerJoined = ee.Join.inner().apply(**{\n",
    "            'primary':ee.ImageCollection(\"COPERNICUS/S2_SR\")\\\n",
    "                .filterBounds(aoi)\\\n",
    "                    .filter(ee.Filter.lt('CLOUDY_PIXEL_PERCENTAGE',10)),\n",
    "            'secondary': ee.ImageCollection(\"COPERNICUS/S2_CLOUD_PROBABILITY\")\\\n",
    "                .filterBounds(aoi),       \n",
    "            'condition':ee.Filter.equals(**{\n",
    "                'leftField':'system:index',\n",
    "                'rightField':'system:index',\n",
    "            })\n",
    "        })\n",
    "        def mergeBands(joinresult):\n",
    "            return ee.Image(joinresult.get('primary'))\\\n",
    "                .addBands(joinresult.get('secondary'))\n",
    "        newCollection = innerJoined.map(mergeBands)\n",
    "        return ee.ImageCollection(newCollection)\n",
    "\n",
    "    collection = cloud_prob().filterDate(sdate, edate)\n",
    "\n",
    "    def maskcloud(_image):\n",
    "        cloudProbabilityThreshold =10\n",
    "        cloudMask = _image.select('probability').lt(cloudProbabilityThreshold)\n",
    "        return _image.updateMask(cloudMask)\n",
    "\n",
    "    image = collection.map(maskcloud).median().divide(10000)\n",
    "    return image"
   ]
  },
  {
   "cell_type": "code",
   "execution_count": 5,
   "metadata": {},
   "outputs": [],
   "source": [
    "_image_pltss = imgcoll('2020-05-01', '2020-08-31')"
   ]
  },
  {
   "cell_type": "code",
   "execution_count": 8,
   "metadata": {},
   "outputs": [],
   "source": [
    "def imgpsh(image):\n",
    "\n",
    "    #Resolution merge of 20m bands to 10m -TODO explain the process\n",
    "    panchro = (image.select('B2').add(image.select('B3'))\\\n",
    "                .add(image.select('B4')).add(image.select('B8')))\\\n",
    "                .divide(4).rename('pan')\n",
    "    image = image.addBands(panchro)\n",
    "\n",
    "    bands = ['B5','B6','B7','B8A','B9','B11','B12']\n",
    "\n",
    "    def sharpen(image):\n",
    "        kernel = ee.Kernel.square(**{\n",
    "            'radius': 20,\n",
    "            'units':'meters'\n",
    "        })\n",
    "        toSharpen = image.select(bands)\n",
    "        pan = image.select('pan')\n",
    "        meanPan = pan.reduceNeighborhood(**{\n",
    "            'reducer' : ee.Reducer.mean(),\n",
    "            'kernel' : kernel\n",
    "        })\n",
    "        offset = pan.subtract(meanPan)\n",
    "        return toSharpen.add(offset)\n",
    "    sharpened = sharpen(image)    \n",
    "    return sharpened"
   ]
  },
  {
   "cell_type": "code",
   "execution_count": 9,
   "metadata": {},
   "outputs": [],
   "source": [
    "psh_image_pltss = imgpsh(_image_pltss)"
   ]
  },
  {
   "cell_type": "code",
   "execution_count": null,
   "metadata": {},
   "outputs": [],
   "source": [
    "#continue to make everything a single function"
   ]
  },
  {
   "cell_type": "code",
   "execution_count": 7,
   "metadata": {},
   "outputs": [],
   "source": [
    "#image c0llection relevant bands (all in 10m)\n",
    "bands10m = image.select(['B2','B3','B4','B8'])\n",
    "imagef = bands10m.addBands(sharpened)\n",
    "image_feature = imagef.clip(aoi)"
   ]
  },
  {
   "cell_type": "code",
   "execution_count": 8,
   "metadata": {},
   "outputs": [],
   "source": [
    "#vegetation indices - TODO comment on the use of each VI\n",
    "def Veg_Index(image_name):\n",
    "    #NDVI\n",
    "    ndvi = image_name.expression(\n",
    "        '(NIR+RED)/(NIR - RED)', {\n",
    "            'NIR': image_name.select('B8'),\n",
    "            'RED': image_name.select('B4')\n",
    "        }).rename('NDVI')\n",
    "    #EVI\n",
    "    evi = image_name.expression(\n",
    "    '2.5 * ((NIR - RED) / (NIR + 6 * RED - 7.5 * BLUE + 1))',{\n",
    "        'NIR': image_name.select('B8'),\n",
    "        'RED': image_name.select('B4'),\n",
    "        'BLUE': image_name.select('B2')\n",
    "    }).rename('EVI')\n",
    "    #GCVI Green Chlorophyll Vegetation Index - TODO read about GCVI use cases\n",
    "    gcvi = image_name.expression(\n",
    "    '(NIR / GREEN) - 1',{\n",
    "        'NIR':image_name.select('B8'),\n",
    "        'GREEN':image_name.select('B3')\n",
    "    }).rename('GCVI')\n",
    "    #RDGCVI\n",
    "    rgcvi = image_name.expression(\n",
    "    '(NIR / REDE1) - 1',{\n",
    "        'NIR':image_name.select('B8'),\n",
    "        'REDE1':image_name.select('B5')\n",
    "    }).rename('RDGCVI')\n",
    "    #DVI\n",
    "    dvi = image_name.expression(\n",
    "        'NIR/RED',{\n",
    "            'NIR':image_name.select('B8'),\n",
    "            'RED':image_name.select('B4')\n",
    "        }).rename('DVI')\n",
    "    return image_name.addBands(ndvi).addBands(evi).addBands(gcvi).addBands(rgcvi).addBands(dvi)\n",
    "#image composite of all spectral indices and bands\n",
    "image_featureWithVI = Veg_Index(image_feature)"
   ]
  },
  {
   "cell_type": "code",
   "execution_count": 7,
   "metadata": {},
   "outputs": [],
   "source": [
    "#sentinel 1\n",
    "sdate= '2020-05-01'\n",
    "edate= '2020-08-31'\n",
    "VVcollection = ee.ImageCollection('COPERNICUS/S1_GRD')\\\n",
    "    .filter(ee.Filter.eq('instrumentMode', 'IW'))\\\n",
    "    .filter(ee.Filter.listContains('transmitterReceiverPolarisation', 'VV'))\\\n",
    "    .filter(ee.Filter.eq('orbitProperties_pass', 'DESCENDING'))\\\n",
    "    .filterBounds(aoi)\\\n",
    "    .filterDate(sdate,edate)\\\n",
    "    .select(['VV'])\n"
   ]
  },
  {
   "cell_type": "code",
   "execution_count": 9,
   "metadata": {},
   "outputs": [],
   "source": [
    "visparam = {'min': 0.0, 'max': 0.9, 'pallete':['FFFFFF', 'CE7E45', 'DF923D', 'F1B555', 'FCD163', '99B718', '74A901',\n",
    "    '66A000', '529400', '3E8601', '207401', '056201', '004C00', '023B01',\n",
    "    '012E01', '011D01', '011301']}\n",
    "Map.addLayer(aoi, {}, 'aoi' )\n",
    "# Map.addLayer(image_featureWithVI, {'bands': ['B9', 'B11', 'B12'], 'min': 0.0, 'max': 0.3}, 'Original')\n",
    "# Map.addLayer(image_featureWithVI, {'bands': ['B9', 'B11', 'B12'], 'min': 0.0, 'max': 0.3}, 'Sharpen 1')\n",
    "# Map.addLayer(image_featureWithVI, {'bands': ['B8', 'B4', 'B3'], 'min': 0.0, 'max': 0.3}, 'False Colour COmposite')\n",
    "# Map.addLayer(image_featureWithVI, {'bands': ['B4', 'B3', 'B2'], 'min': 0.0, 'max': 0.3}, 'True Colour COmposite')\n",
    "Map.addLayer(image_featureWithVI, visparam, 'NDVI')\n",
    "Map.addLayer(image_featureWithVI, visparam, 'GCVI')"
   ]
  },
  {
   "cell_type": "code",
   "execution_count": 9,
   "metadata": {
    "tags": [
     "outputPrepend"
    ]
   },
   "outputs": [
    {
     "output_type": "stream",
     "name": "stdout",
     "text": [
      "TAUD6GWQZQAVJCBU'}\n",
      "{'state': 'RUNNING', 'description': 'Compositeband', 'creation_timestamp_ms': 1622562102583, 'update_timestamp_ms': 1622562177453, 'start_timestamp_ms': 1622562146775, 'task_type': 'EXPORT_IMAGE', 'attempt': 1, 'id': 'TATEMVD4TAUD6GWQZQAVJCBU', 'name': 'projects/earthengine-legacy/operations/TATEMVD4TAUD6GWQZQAVJCBU'}\n",
      "{'state': 'RUNNING', 'description': 'Compositeband', 'creation_timestamp_ms': 1622562102583, 'update_timestamp_ms': 1622562177453, 'start_timestamp_ms': 1622562146775, 'task_type': 'EXPORT_IMAGE', 'attempt': 1, 'id': 'TATEMVD4TAUD6GWQZQAVJCBU', 'name': 'projects/earthengine-legacy/operations/TATEMVD4TAUD6GWQZQAVJCBU'}\n",
      "{'state': 'RUNNING', 'description': 'Compositeband', 'creation_timestamp_ms': 1622562102583, 'update_timestamp_ms': 1622562177453, 'start_timestamp_ms': 1622562146775, 'task_type': 'EXPORT_IMAGE', 'attempt': 1, 'id': 'TATEMVD4TAUD6GWQZQAVJCBU', 'name': 'projects/earthengine-legacy/operations/TATEMVD4TAUD6GWQZQAVJCBU'}\n",
      "{'state': 'RUNNING', 'description': 'Compositeband', 'creation_timestamp_ms': 1622562102583, 'update_timestamp_ms': 1622562177453, 'start_timestamp_ms': 1622562146775, 'task_type': 'EXPORT_IMAGE', 'attempt': 1, 'id': 'TATEMVD4TAUD6GWQZQAVJCBU', 'name': 'projects/earthengine-legacy/operations/TATEMVD4TAUD6GWQZQAVJCBU'}\n",
      "{'state': 'RUNNING', 'description': 'Compositeband', 'creation_timestamp_ms': 1622562102583, 'update_timestamp_ms': 1622562230516, 'start_timestamp_ms': 1622562146775, 'task_type': 'EXPORT_IMAGE', 'attempt': 1, 'id': 'TATEMVD4TAUD6GWQZQAVJCBU', 'name': 'projects/earthengine-legacy/operations/TATEMVD4TAUD6GWQZQAVJCBU'}\n",
      "{'state': 'RUNNING', 'description': 'Compositeband', 'creation_timestamp_ms': 1622562102583, 'update_timestamp_ms': 1622562230516, 'start_timestamp_ms': 1622562146775, 'task_type': 'EXPORT_IMAGE', 'attempt': 1, 'id': 'TATEMVD4TAUD6GWQZQAVJCBU', 'name': 'projects/earthengine-legacy/operations/TATEMVD4TAUD6GWQZQAVJCBU'}\n",
      "{'state': 'RUNNING', 'description': 'Compositeband', 'creation_timestamp_ms': 1622562102583, 'update_timestamp_ms': 1622562230516, 'start_timestamp_ms': 1622562146775, 'task_type': 'EXPORT_IMAGE', 'attempt': 1, 'id': 'TATEMVD4TAUD6GWQZQAVJCBU', 'name': 'projects/earthengine-legacy/operations/TATEMVD4TAUD6GWQZQAVJCBU'}\n",
      "{'state': 'RUNNING', 'description': 'Compositeband', 'creation_timestamp_ms': 1622562102583, 'update_timestamp_ms': 1622562230516, 'start_timestamp_ms': 1622562146775, 'task_type': 'EXPORT_IMAGE', 'attempt': 1, 'id': 'TATEMVD4TAUD6GWQZQAVJCBU', 'name': 'projects/earthengine-legacy/operations/TATEMVD4TAUD6GWQZQAVJCBU'}\n",
      "{'state': 'RUNNING', 'description': 'Compositeband', 'creation_timestamp_ms': 1622562102583, 'update_timestamp_ms': 1622562230516, 'start_timestamp_ms': 1622562146775, 'task_type': 'EXPORT_IMAGE', 'attempt': 1, 'id': 'TATEMVD4TAUD6GWQZQAVJCBU', 'name': 'projects/earthengine-legacy/operations/TATEMVD4TAUD6GWQZQAVJCBU'}\n",
      "{'state': 'RUNNING', 'description': 'Compositeband', 'creation_timestamp_ms': 1622562102583, 'update_timestamp_ms': 1622562230516, 'start_timestamp_ms': 1622562146775, 'task_type': 'EXPORT_IMAGE', 'attempt': 1, 'id': 'TATEMVD4TAUD6GWQZQAVJCBU', 'name': 'projects/earthengine-legacy/operations/TATEMVD4TAUD6GWQZQAVJCBU'}\n",
      "{'state': 'RUNNING', 'description': 'Compositeband', 'creation_timestamp_ms': 1622562102583, 'update_timestamp_ms': 1622562230516, 'start_timestamp_ms': 1622562146775, 'task_type': 'EXPORT_IMAGE', 'attempt': 1, 'id': 'TATEMVD4TAUD6GWQZQAVJCBU', 'name': 'projects/earthengine-legacy/operations/TATEMVD4TAUD6GWQZQAVJCBU'}\n",
      "{'state': 'RUNNING', 'description': 'Compositeband', 'creation_timestamp_ms': 1622562102583, 'update_timestamp_ms': 1622562230516, 'start_timestamp_ms': 1622562146775, 'task_type': 'EXPORT_IMAGE', 'attempt': 1, 'id': 'TATEMVD4TAUD6GWQZQAVJCBU', 'name': 'projects/earthengine-legacy/operations/TATEMVD4TAUD6GWQZQAVJCBU'}\n",
      "{'state': 'RUNNING', 'description': 'Compositeband', 'creation_timestamp_ms': 1622562102583, 'update_timestamp_ms': 1622562230516, 'start_timestamp_ms': 1622562146775, 'task_type': 'EXPORT_IMAGE', 'attempt': 1, 'id': 'TATEMVD4TAUD6GWQZQAVJCBU', 'name': 'projects/earthengine-legacy/operations/TATEMVD4TAUD6GWQZQAVJCBU'}\n",
      "{'state': 'RUNNING', 'description': 'Compositeband', 'creation_timestamp_ms': 1622562102583, 'update_timestamp_ms': 1622562230516, 'start_timestamp_ms': 1622562146775, 'task_type': 'EXPORT_IMAGE', 'attempt': 1, 'id': 'TATEMVD4TAUD6GWQZQAVJCBU', 'name': 'projects/earthengine-legacy/operations/TATEMVD4TAUD6GWQZQAVJCBU'}\n",
      "{'state': 'RUNNING', 'description': 'Compositeband', 'creation_timestamp_ms': 1622562102583, 'update_timestamp_ms': 1622562230516, 'start_timestamp_ms': 1622562146775, 'task_type': 'EXPORT_IMAGE', 'attempt': 1, 'id': 'TATEMVD4TAUD6GWQZQAVJCBU', 'name': 'projects/earthengine-legacy/operations/TATEMVD4TAUD6GWQZQAVJCBU'}\n",
      "{'state': 'RUNNING', 'description': 'Compositeband', 'creation_timestamp_ms': 1622562102583, 'update_timestamp_ms': 1622562290429, 'start_timestamp_ms': 1622562146775, 'task_type': 'EXPORT_IMAGE', 'attempt': 1, 'id': 'TATEMVD4TAUD6GWQZQAVJCBU', 'name': 'projects/earthengine-legacy/operations/TATEMVD4TAUD6GWQZQAVJCBU'}\n",
      "{'state': 'RUNNING', 'description': 'Compositeband', 'creation_timestamp_ms': 1622562102583, 'update_timestamp_ms': 1622562290429, 'start_timestamp_ms': 1622562146775, 'task_type': 'EXPORT_IMAGE', 'attempt': 1, 'id': 'TATEMVD4TAUD6GWQZQAVJCBU', 'name': 'projects/earthengine-legacy/operations/TATEMVD4TAUD6GWQZQAVJCBU'}\n",
      "{'state': 'RUNNING', 'description': 'Compositeband', 'creation_timestamp_ms': 1622562102583, 'update_timestamp_ms': 1622562290429, 'start_timestamp_ms': 1622562146775, 'task_type': 'EXPORT_IMAGE', 'attempt': 1, 'id': 'TATEMVD4TAUD6GWQZQAVJCBU', 'name': 'projects/earthengine-legacy/operations/TATEMVD4TAUD6GWQZQAVJCBU'}\n",
      "{'state': 'RUNNING', 'description': 'Compositeband', 'creation_timestamp_ms': 1622562102583, 'update_timestamp_ms': 1622562290429, 'start_timestamp_ms': 1622562146775, 'task_type': 'EXPORT_IMAGE', 'attempt': 1, 'id': 'TATEMVD4TAUD6GWQZQAVJCBU', 'name': 'projects/earthengine-legacy/operations/TATEMVD4TAUD6GWQZQAVJCBU'}\n",
      "{'state': 'RUNNING', 'description': 'Compositeband', 'creation_timestamp_ms': 1622562102583, 'update_timestamp_ms': 1622562290429, 'start_timestamp_ms': 1622562146775, 'task_type': 'EXPORT_IMAGE', 'attempt': 1, 'id': 'TATEMVD4TAUD6GWQZQAVJCBU', 'name': 'projects/earthengine-legacy/operations/TATEMVD4TAUD6GWQZQAVJCBU'}\n",
      "{'state': 'RUNNING', 'description': 'Compositeband', 'creation_timestamp_ms': 1622562102583, 'update_timestamp_ms': 1622562290429, 'start_timestamp_ms': 1622562146775, 'task_type': 'EXPORT_IMAGE', 'attempt': 1, 'id': 'TATEMVD4TAUD6GWQZQAVJCBU', 'name': 'projects/earthengine-legacy/operations/TATEMVD4TAUD6GWQZQAVJCBU'}\n",
      "{'state': 'RUNNING', 'description': 'Compositeband', 'creation_timestamp_ms': 1622562102583, 'update_timestamp_ms': 1622562290429, 'start_timestamp_ms': 1622562146775, 'task_type': 'EXPORT_IMAGE', 'attempt': 1, 'id': 'TATEMVD4TAUD6GWQZQAVJCBU', 'name': 'projects/earthengine-legacy/operations/TATEMVD4TAUD6GWQZQAVJCBU'}\n",
      "{'state': 'RUNNING', 'description': 'Compositeband', 'creation_timestamp_ms': 1622562102583, 'update_timestamp_ms': 1622562290429, 'start_timestamp_ms': 1622562146775, 'task_type': 'EXPORT_IMAGE', 'attempt': 1, 'id': 'TATEMVD4TAUD6GWQZQAVJCBU', 'name': 'projects/earthengine-legacy/operations/TATEMVD4TAUD6GWQZQAVJCBU'}\n",
      "{'state': 'RUNNING', 'description': 'Compositeband', 'creation_timestamp_ms': 1622562102583, 'update_timestamp_ms': 1622562290429, 'start_timestamp_ms': 1622562146775, 'task_type': 'EXPORT_IMAGE', 'attempt': 1, 'id': 'TATEMVD4TAUD6GWQZQAVJCBU', 'name': 'projects/earthengine-legacy/operations/TATEMVD4TAUD6GWQZQAVJCBU'}\n",
      "{'state': 'RUNNING', 'description': 'Compositeband', 'creation_timestamp_ms': 1622562102583, 'update_timestamp_ms': 1622562290429, 'start_timestamp_ms': 1622562146775, 'task_type': 'EXPORT_IMAGE', 'attempt': 1, 'id': 'TATEMVD4TAUD6GWQZQAVJCBU', 'name': 'projects/earthengine-legacy/operations/TATEMVD4TAUD6GWQZQAVJCBU'}\n",
      "{'state': 'RUNNING', 'description': 'Compositeband', 'creation_timestamp_ms': 1622562102583, 'update_timestamp_ms': 1622562350424, 'start_timestamp_ms': 1622562146775, 'task_type': 'EXPORT_IMAGE', 'attempt': 1, 'id': 'TATEMVD4TAUD6GWQZQAVJCBU', 'name': 'projects/earthengine-legacy/operations/TATEMVD4TAUD6GWQZQAVJCBU'}\n",
      "{'state': 'RUNNING', 'description': 'Compositeband', 'creation_timestamp_ms': 1622562102583, 'update_timestamp_ms': 1622562350424, 'start_timestamp_ms': 1622562146775, 'task_type': 'EXPORT_IMAGE', 'attempt': 1, 'id': 'TATEMVD4TAUD6GWQZQAVJCBU', 'name': 'projects/earthengine-legacy/operations/TATEMVD4TAUD6GWQZQAVJCBU'}\n",
      "{'state': 'RUNNING', 'description': 'Compositeband', 'creation_timestamp_ms': 1622562102583, 'update_timestamp_ms': 1622562350424, 'start_timestamp_ms': 1622562146775, 'task_type': 'EXPORT_IMAGE', 'attempt': 1, 'id': 'TATEMVD4TAUD6GWQZQAVJCBU', 'name': 'projects/earthengine-legacy/operations/TATEMVD4TAUD6GWQZQAVJCBU'}\n",
      "{'state': 'RUNNING', 'description': 'Compositeband', 'creation_timestamp_ms': 1622562102583, 'update_timestamp_ms': 1622562350424, 'start_timestamp_ms': 1622562146775, 'task_type': 'EXPORT_IMAGE', 'attempt': 1, 'id': 'TATEMVD4TAUD6GWQZQAVJCBU', 'name': 'projects/earthengine-legacy/operations/TATEMVD4TAUD6GWQZQAVJCBU'}\n",
      "{'state': 'RUNNING', 'description': 'Compositeband', 'creation_timestamp_ms': 1622562102583, 'update_timestamp_ms': 1622562350424, 'start_timestamp_ms': 1622562146775, 'task_type': 'EXPORT_IMAGE', 'attempt': 1, 'id': 'TATEMVD4TAUD6GWQZQAVJCBU', 'name': 'projects/earthengine-legacy/operations/TATEMVD4TAUD6GWQZQAVJCBU'}\n",
      "{'state': 'RUNNING', 'description': 'Compositeband', 'creation_timestamp_ms': 1622562102583, 'update_timestamp_ms': 1622562350424, 'start_timestamp_ms': 1622562146775, 'task_type': 'EXPORT_IMAGE', 'attempt': 1, 'id': 'TATEMVD4TAUD6GWQZQAVJCBU', 'name': 'projects/earthengine-legacy/operations/TATEMVD4TAUD6GWQZQAVJCBU'}\n",
      "{'state': 'RUNNING', 'description': 'Compositeband', 'creation_timestamp_ms': 1622562102583, 'update_timestamp_ms': 1622562350424, 'start_timestamp_ms': 1622562146775, 'task_type': 'EXPORT_IMAGE', 'attempt': 1, 'id': 'TATEMVD4TAUD6GWQZQAVJCBU', 'name': 'projects/earthengine-legacy/operations/TATEMVD4TAUD6GWQZQAVJCBU'}\n",
      "{'state': 'RUNNING', 'description': 'Compositeband', 'creation_timestamp_ms': 1622562102583, 'update_timestamp_ms': 1622562350424, 'start_timestamp_ms': 1622562146775, 'task_type': 'EXPORT_IMAGE', 'attempt': 1, 'id': 'TATEMVD4TAUD6GWQZQAVJCBU', 'name': 'projects/earthengine-legacy/operations/TATEMVD4TAUD6GWQZQAVJCBU'}\n",
      "{'state': 'RUNNING', 'description': 'Compositeband', 'creation_timestamp_ms': 1622562102583, 'update_timestamp_ms': 1622562350424, 'start_timestamp_ms': 1622562146775, 'task_type': 'EXPORT_IMAGE', 'attempt': 1, 'id': 'TATEMVD4TAUD6GWQZQAVJCBU', 'name': 'projects/earthengine-legacy/operations/TATEMVD4TAUD6GWQZQAVJCBU'}\n",
      "{'state': 'RUNNING', 'description': 'Compositeband', 'creation_timestamp_ms': 1622562102583, 'update_timestamp_ms': 1622562350424, 'start_timestamp_ms': 1622562146775, 'task_type': 'EXPORT_IMAGE', 'attempt': 1, 'id': 'TATEMVD4TAUD6GWQZQAVJCBU', 'name': 'projects/earthengine-legacy/operations/TATEMVD4TAUD6GWQZQAVJCBU'}\n",
      "{'state': 'RUNNING', 'description': 'Compositeband', 'creation_timestamp_ms': 1622562102583, 'update_timestamp_ms': 1622562350424, 'start_timestamp_ms': 1622562146775, 'task_type': 'EXPORT_IMAGE', 'attempt': 1, 'id': 'TATEMVD4TAUD6GWQZQAVJCBU', 'name': 'projects/earthengine-legacy/operations/TATEMVD4TAUD6GWQZQAVJCBU'}\n",
      "{'state': 'RUNNING', 'description': 'Compositeband', 'creation_timestamp_ms': 1622562102583, 'update_timestamp_ms': 1622562410441, 'start_timestamp_ms': 1622562146775, 'task_type': 'EXPORT_IMAGE', 'attempt': 1, 'id': 'TATEMVD4TAUD6GWQZQAVJCBU', 'name': 'projects/earthengine-legacy/operations/TATEMVD4TAUD6GWQZQAVJCBU'}\n",
      "{'state': 'RUNNING', 'description': 'Compositeband', 'creation_timestamp_ms': 1622562102583, 'update_timestamp_ms': 1622562410441, 'start_timestamp_ms': 1622562146775, 'task_type': 'EXPORT_IMAGE', 'attempt': 1, 'id': 'TATEMVD4TAUD6GWQZQAVJCBU', 'name': 'projects/earthengine-legacy/operations/TATEMVD4TAUD6GWQZQAVJCBU'}\n",
      "{'state': 'RUNNING', 'description': 'Compositeband', 'creation_timestamp_ms': 1622562102583, 'update_timestamp_ms': 1622562410441, 'start_timestamp_ms': 1622562146775, 'task_type': 'EXPORT_IMAGE', 'attempt': 1, 'id': 'TATEMVD4TAUD6GWQZQAVJCBU', 'name': 'projects/earthengine-legacy/operations/TATEMVD4TAUD6GWQZQAVJCBU'}\n",
      "{'state': 'RUNNING', 'description': 'Compositeband', 'creation_timestamp_ms': 1622562102583, 'update_timestamp_ms': 1622562410441, 'start_timestamp_ms': 1622562146775, 'task_type': 'EXPORT_IMAGE', 'attempt': 1, 'id': 'TATEMVD4TAUD6GWQZQAVJCBU', 'name': 'projects/earthengine-legacy/operations/TATEMVD4TAUD6GWQZQAVJCBU'}\n",
      "{'state': 'RUNNING', 'description': 'Compositeband', 'creation_timestamp_ms': 1622562102583, 'update_timestamp_ms': 1622562410441, 'start_timestamp_ms': 1622562146775, 'task_type': 'EXPORT_IMAGE', 'attempt': 1, 'id': 'TATEMVD4TAUD6GWQZQAVJCBU', 'name': 'projects/earthengine-legacy/operations/TATEMVD4TAUD6GWQZQAVJCBU'}\n",
      "{'state': 'RUNNING', 'description': 'Compositeband', 'creation_timestamp_ms': 1622562102583, 'update_timestamp_ms': 1622562410441, 'start_timestamp_ms': 1622562146775, 'task_type': 'EXPORT_IMAGE', 'attempt': 1, 'id': 'TATEMVD4TAUD6GWQZQAVJCBU', 'name': 'projects/earthengine-legacy/operations/TATEMVD4TAUD6GWQZQAVJCBU'}\n",
      "{'state': 'RUNNING', 'description': 'Compositeband', 'creation_timestamp_ms': 1622562102583, 'update_timestamp_ms': 1622562410441, 'start_timestamp_ms': 1622562146775, 'task_type': 'EXPORT_IMAGE', 'attempt': 1, 'id': 'TATEMVD4TAUD6GWQZQAVJCBU', 'name': 'projects/earthengine-legacy/operations/TATEMVD4TAUD6GWQZQAVJCBU'}\n",
      "{'state': 'RUNNING', 'description': 'Compositeband', 'creation_timestamp_ms': 1622562102583, 'update_timestamp_ms': 1622562410441, 'start_timestamp_ms': 1622562146775, 'task_type': 'EXPORT_IMAGE', 'attempt': 1, 'id': 'TATEMVD4TAUD6GWQZQAVJCBU', 'name': 'projects/earthengine-legacy/operations/TATEMVD4TAUD6GWQZQAVJCBU'}\n",
      "{'state': 'RUNNING', 'description': 'Compositeband', 'creation_timestamp_ms': 1622562102583, 'update_timestamp_ms': 1622562410441, 'start_timestamp_ms': 1622562146775, 'task_type': 'EXPORT_IMAGE', 'attempt': 1, 'id': 'TATEMVD4TAUD6GWQZQAVJCBU', 'name': 'projects/earthengine-legacy/operations/TATEMVD4TAUD6GWQZQAVJCBU'}\n",
      "{'state': 'RUNNING', 'description': 'Compositeband', 'creation_timestamp_ms': 1622562102583, 'update_timestamp_ms': 1622562410441, 'start_timestamp_ms': 1622562146775, 'task_type': 'EXPORT_IMAGE', 'attempt': 1, 'id': 'TATEMVD4TAUD6GWQZQAVJCBU', 'name': 'projects/earthengine-legacy/operations/TATEMVD4TAUD6GWQZQAVJCBU'}\n",
      "{'state': 'RUNNING', 'description': 'Compositeband', 'creation_timestamp_ms': 1622562102583, 'update_timestamp_ms': 1622562410441, 'start_timestamp_ms': 1622562146775, 'task_type': 'EXPORT_IMAGE', 'attempt': 1, 'id': 'TATEMVD4TAUD6GWQZQAVJCBU', 'name': 'projects/earthengine-legacy/operations/TATEMVD4TAUD6GWQZQAVJCBU'}\n",
      "{'state': 'RUNNING', 'description': 'Compositeband', 'creation_timestamp_ms': 1622562102583, 'update_timestamp_ms': 1622562410441, 'start_timestamp_ms': 1622562146775, 'task_type': 'EXPORT_IMAGE', 'attempt': 1, 'id': 'TATEMVD4TAUD6GWQZQAVJCBU', 'name': 'projects/earthengine-legacy/operations/TATEMVD4TAUD6GWQZQAVJCBU'}\n",
      "{'state': 'RUNNING', 'description': 'Compositeband', 'creation_timestamp_ms': 1622562102583, 'update_timestamp_ms': 1622562473392, 'start_timestamp_ms': 1622562146775, 'task_type': 'EXPORT_IMAGE', 'attempt': 1, 'id': 'TATEMVD4TAUD6GWQZQAVJCBU', 'name': 'projects/earthengine-legacy/operations/TATEMVD4TAUD6GWQZQAVJCBU'}\n",
      "{'state': 'RUNNING', 'description': 'Compositeband', 'creation_timestamp_ms': 1622562102583, 'update_timestamp_ms': 1622562473392, 'start_timestamp_ms': 1622562146775, 'task_type': 'EXPORT_IMAGE', 'attempt': 1, 'id': 'TATEMVD4TAUD6GWQZQAVJCBU', 'name': 'projects/earthengine-legacy/operations/TATEMVD4TAUD6GWQZQAVJCBU'}\n",
      "{'state': 'RUNNING', 'description': 'Compositeband', 'creation_timestamp_ms': 1622562102583, 'update_timestamp_ms': 1622562473392, 'start_timestamp_ms': 1622562146775, 'task_type': 'EXPORT_IMAGE', 'attempt': 1, 'id': 'TATEMVD4TAUD6GWQZQAVJCBU', 'name': 'projects/earthengine-legacy/operations/TATEMVD4TAUD6GWQZQAVJCBU'}\n",
      "{'state': 'RUNNING', 'description': 'Compositeband', 'creation_timestamp_ms': 1622562102583, 'update_timestamp_ms': 1622562473392, 'start_timestamp_ms': 1622562146775, 'task_type': 'EXPORT_IMAGE', 'attempt': 1, 'id': 'TATEMVD4TAUD6GWQZQAVJCBU', 'name': 'projects/earthengine-legacy/operations/TATEMVD4TAUD6GWQZQAVJCBU'}\n",
      "{'state': 'RUNNING', 'description': 'Compositeband', 'creation_timestamp_ms': 1622562102583, 'update_timestamp_ms': 1622562473392, 'start_timestamp_ms': 1622562146775, 'task_type': 'EXPORT_IMAGE', 'attempt': 1, 'id': 'TATEMVD4TAUD6GWQZQAVJCBU', 'name': 'projects/earthengine-legacy/operations/TATEMVD4TAUD6GWQZQAVJCBU'}\n",
      "{'state': 'RUNNING', 'description': 'Compositeband', 'creation_timestamp_ms': 1622562102583, 'update_timestamp_ms': 1622562473392, 'start_timestamp_ms': 1622562146775, 'task_type': 'EXPORT_IMAGE', 'attempt': 1, 'id': 'TATEMVD4TAUD6GWQZQAVJCBU', 'name': 'projects/earthengine-legacy/operations/TATEMVD4TAUD6GWQZQAVJCBU'}\n",
      "{'state': 'RUNNING', 'description': 'Compositeband', 'creation_timestamp_ms': 1622562102583, 'update_timestamp_ms': 1622562473392, 'start_timestamp_ms': 1622562146775, 'task_type': 'EXPORT_IMAGE', 'attempt': 1, 'id': 'TATEMVD4TAUD6GWQZQAVJCBU', 'name': 'projects/earthengine-legacy/operations/TATEMVD4TAUD6GWQZQAVJCBU'}\n",
      "{'state': 'RUNNING', 'description': 'Compositeband', 'creation_timestamp_ms': 1622562102583, 'update_timestamp_ms': 1622562473392, 'start_timestamp_ms': 1622562146775, 'task_type': 'EXPORT_IMAGE', 'attempt': 1, 'id': 'TATEMVD4TAUD6GWQZQAVJCBU', 'name': 'projects/earthengine-legacy/operations/TATEMVD4TAUD6GWQZQAVJCBU'}\n",
      "{'state': 'RUNNING', 'description': 'Compositeband', 'creation_timestamp_ms': 1622562102583, 'update_timestamp_ms': 1622562473392, 'start_timestamp_ms': 1622562146775, 'task_type': 'EXPORT_IMAGE', 'attempt': 1, 'id': 'TATEMVD4TAUD6GWQZQAVJCBU', 'name': 'projects/earthengine-legacy/operations/TATEMVD4TAUD6GWQZQAVJCBU'}\n",
      "{'state': 'RUNNING', 'description': 'Compositeband', 'creation_timestamp_ms': 1622562102583, 'update_timestamp_ms': 1622562473392, 'start_timestamp_ms': 1622562146775, 'task_type': 'EXPORT_IMAGE', 'attempt': 1, 'id': 'TATEMVD4TAUD6GWQZQAVJCBU', 'name': 'projects/earthengine-legacy/operations/TATEMVD4TAUD6GWQZQAVJCBU'}\n",
      "{'state': 'RUNNING', 'description': 'Compositeband', 'creation_timestamp_ms': 1622562102583, 'update_timestamp_ms': 1622562473392, 'start_timestamp_ms': 1622562146775, 'task_type': 'EXPORT_IMAGE', 'attempt': 1, 'id': 'TATEMVD4TAUD6GWQZQAVJCBU', 'name': 'projects/earthengine-legacy/operations/TATEMVD4TAUD6GWQZQAVJCBU'}\n",
      "{'state': 'RUNNING', 'description': 'Compositeband', 'creation_timestamp_ms': 1622562102583, 'update_timestamp_ms': 1622562473392, 'start_timestamp_ms': 1622562146775, 'task_type': 'EXPORT_IMAGE', 'attempt': 1, 'id': 'TATEMVD4TAUD6GWQZQAVJCBU', 'name': 'projects/earthengine-legacy/operations/TATEMVD4TAUD6GWQZQAVJCBU'}\n",
      "{'state': 'RUNNING', 'description': 'Compositeband', 'creation_timestamp_ms': 1622562102583, 'update_timestamp_ms': 1622562544296, 'start_timestamp_ms': 1622562146775, 'task_type': 'EXPORT_IMAGE', 'attempt': 1, 'id': 'TATEMVD4TAUD6GWQZQAVJCBU', 'name': 'projects/earthengine-legacy/operations/TATEMVD4TAUD6GWQZQAVJCBU'}\n",
      "{'state': 'COMPLETED', 'description': 'Compositeband', 'creation_timestamp_ms': 1622562102583, 'update_timestamp_ms': 1622562544845, 'start_timestamp_ms': 1622562146775, 'task_type': 'EXPORT_IMAGE', 'destination_uris': ['https://code.earthengine.google.com/?asset=projects/earthengine-legacy/assets/users/aadebowaledaniel/BCcomposite2'], 'attempt': 1, 'id': 'TATEMVD4TAUD6GWQZQAVJCBU', 'name': 'projects/earthengine-legacy/operations/TATEMVD4TAUD6GWQZQAVJCBU'}\n"
     ]
    }
   ],
   "source": [
    "#exprot to assest\n",
    "task = ee.batch.Export.image.toAsset(**{'image':image_featureWithVI,\n",
    "'description': 'Compositeband',\n",
    "'assetId':'users/aadebowaledaniel/BCcomposite2', \n",
    "'scale': 10, \n",
    "'region':aoi.getInfo()['coordinates'],\n",
    "'maxPixels': 1e13,\n",
    "})\n",
    "task.start()\n",
    "#Monitor the task\n",
    "while task.status()['state'] in ['READY', 'RUNNING']:\n",
    "  print(task.status())\n",
    "  time.sleep(5)\n",
    "else:\n",
    "  print(task.status())"
   ]
  },
  {
   "cell_type": "code",
   "execution_count": 16,
   "metadata": {},
   "outputs": [
    {
     "output_type": "display_data",
     "data": {
      "text/plain": "Map(center=[0.9613, 34.6536], controls=(WidgetControl(options=['position', 'transparent_bg'], widget=HBox(chil…",
      "application/vnd.jupyter.widget-view+json": {
       "version_major": 2,
       "version_minor": 0,
       "model_id": "b6e3c93b109e423488a5c0462e91b701"
      }
     },
     "metadata": {}
    }
   ],
   "source": [
    "Map = geemap.Map(center=(0.9613,34.6536),zoom=8)\n",
    "Map"
   ]
  },
  {
   "cell_type": "code",
   "execution_count": 17,
   "metadata": {},
   "outputs": [],
   "source": [
    "Map.addLayer(Imageclassified,{'min':0, 'max':1, 'pallete': ['662A00', 'D8D8D8']}, 'Classification')\n"
   ]
  },
  {
   "cell_type": "code",
   "execution_count": 9,
   "metadata": {},
   "outputs": [],
   "source": [
    "#import composite from asset\n",
    "#predimage = ee.Image('users/aadebowaledaniel/BCcomposite')\n",
    "predimage= image_featureWithVI"
   ]
  },
  {
   "cell_type": "code",
   "execution_count": 10,
   "metadata": {},
   "outputs": [],
   "source": [
    "predbands = predimage.bandNames()\n",
    "#predbands = ['B2','B5','B6','B7','B8A','B9','B12', 'NDVI','EVI','GCVI','DVI','RDGCVI']"
   ]
  },
  {
   "cell_type": "code",
   "execution_count": 11,
   "metadata": {
    "tags": []
   },
   "outputs": [
    {
     "output_type": "stream",
     "name": "stdout",
     "text": [
      "Resubstitution error matrix:  [[500, 12], [0, 3730]]\n",
      "Training overall accuracy:  0.9969317913618126\n",
      "confusion Matrix [[156, 54], [5, 1627]]\n",
      "Valdation overall accuracy: 0.9679695982627579\n"
     ]
    }
   ],
   "source": [
    "#continue from here\n",
    "trainingSample  = predimage.sampleRegions(\n",
    "    collection = fc,\n",
    "    properties=['label'],\n",
    "    scale = 10, \n",
    "    geometries = True\n",
    ")\n",
    "# trainingSample.size().getInfo()\n",
    "\n",
    "rantraning = trainingSample.randomColumn('random')\n",
    "split = 0.7\n",
    "trainsample = rantraning.filter(ee.Filter.lt('random', split))\n",
    "testsample = rantraning.filter(ee.Filter.gte('random', split))\n",
    "\n",
    "#train random forest classifier\n",
    "classifier = ee.Classifier.smileRandomForest(100).train(trainsample, 'label', predbands)\n",
    "\n",
    "\n",
    "#confusion matrix train Accurracy\n",
    "trainAccuracy = classifier.confusionMatrix()\n",
    "print('Resubstitution error matrix: ', trainAccuracy.getInfo())\n",
    "print('Training overall accuracy: ', trainAccuracy.accuracy().getInfo())\n",
    "\n",
    "#classify features\n",
    "testclassifier = testsample.classify(classifier)\n",
    "#cconfusion matrix representing expected accuracy\n",
    "testAccuracy = testclassifier.errorMatrix('label', 'classification')\n",
    "print('confusion Matrix', testAccuracy.getInfo())\n",
    "print('Valdation overall accuracy:', testAccuracy.accuracy().getInfo())\n",
    "\n",
    "#classify image\n",
    "Imageclassified = predimage.classify(classifier)\n",
    "# altImageclassified = predimage.classify(classifier)"
   ]
  },
  {
   "cell_type": "code",
   "execution_count": 9,
   "metadata": {},
   "outputs": [],
   "source": [
    "# cropmask = Imageclassified.eq(1)\n",
    "# # vis = {'pallete':['#18d848']}\n",
    "# Map.addLayer(cropmask,{'color':'green'}, 'Crop')\n",
    "\n",
    "cropmask = Imageclassified.eq(1)\n",
    "\n",
    "cropmaskdd = cropmask.updateMask(cropmask)\n",
    "\n",
    "cropmask_vec = cropmaskdd.reduceToVectors(\n",
    "    geometryType= 'polygon',\n",
    "    reducer= ee.Reducer.countEvery(),\n",
    "    scale= 10,\n",
    "    maxPixels= 1e13,\n",
    "    geometry= aoi\n",
    ")\n",
    "Map.addLayer(cropmask_vec, {'color':'green'}, 'Crop Mask')"
   ]
  },
  {
   "cell_type": "code",
   "execution_count": 12,
   "metadata": {},
   "outputs": [],
   "source": [
    "vrimp = classifier.explain().getInfo().get('importance') #TODO chart in python"
   ]
  },
  {
   "cell_type": "code",
   "execution_count": 13,
   "metadata": {},
   "outputs": [],
   "source": [
    "bands = []\n",
    "vim = []\n",
    "for x, y in vrimp.items():\n",
    "    bands.append(x)\n",
    "    vim.append(y)\n",
    "\n",
    "cmcm = list(zip(bands,vim))\n",
    "df = pd.DataFrame(cmcm, columns = ['features', 'mda'])"
   ]
  },
  {
   "cell_type": "code",
   "execution_count": 14,
   "metadata": {},
   "outputs": [],
   "source": [
    "df['importance'] = (df['mda']/df['mda'].sum())\n",
    "df = df.sort_values('importance', ascending=True)"
   ]
  },
  {
   "cell_type": "code",
   "execution_count": 15,
   "metadata": {},
   "outputs": [
    {
     "output_type": "display_data",
     "data": {
      "text/plain": "<Figure size 432x288 with 1 Axes>",
      "image/svg+xml": "<?xml version=\"1.0\" encoding=\"utf-8\" standalone=\"no\"?>\r\n<!DOCTYPE svg PUBLIC \"-//W3C//DTD SVG 1.1//EN\"\r\n  \"http://www.w3.org/Graphics/SVG/1.1/DTD/svg11.dtd\">\r\n<svg height=\"248.518125pt\" version=\"1.1\" viewBox=\"0 0 409.048437 248.518125\" width=\"409.048437pt\" xmlns=\"http://www.w3.org/2000/svg\" xmlns:xlink=\"http://www.w3.org/1999/xlink\">\r\n <metadata>\r\n  <rdf:RDF xmlns:cc=\"http://creativecommons.org/ns#\" xmlns:dc=\"http://purl.org/dc/elements/1.1/\" xmlns:rdf=\"http://www.w3.org/1999/02/22-rdf-syntax-ns#\">\r\n   <cc:Work>\r\n    <dc:type rdf:resource=\"http://purl.org/dc/dcmitype/StillImage\"/>\r\n    <dc:date>2021-06-01T17:05:42.898237</dc:date>\r\n    <dc:format>image/svg+xml</dc:format>\r\n    <dc:creator>\r\n     <cc:Agent>\r\n      <dc:title>Matplotlib v3.4.1, https://matplotlib.org/</dc:title>\r\n     </cc:Agent>\r\n    </dc:creator>\r\n   </cc:Work>\r\n  </rdf:RDF>\r\n </metadata>\r\n <defs>\r\n  <style type=\"text/css\">*{stroke-linecap:butt;stroke-linejoin:round;}</style>\r\n </defs>\r\n <g id=\"figure_1\">\r\n  <g id=\"patch_1\">\r\n   <path d=\"M 0 248.518125 \r\nL 409.048437 248.518125 \r\nL 409.048437 0 \r\nL 0 0 \r\nz\r\n\" style=\"fill:none;\"/>\r\n  </g>\r\n  <g id=\"axes_1\">\r\n   <g id=\"patch_2\">\r\n    <path d=\"M 67.048438 224.64 \r\nL 401.848437 224.64 \r\nL 401.848437 7.2 \r\nL 67.048438 7.2 \r\nz\r\n\" style=\"fill:#ffffff;\"/>\r\n   </g>\r\n   <g id=\"patch_3\">\r\n    <path clip-path=\"url(#pbec6f526b9)\" d=\"M 67.048438 221.2425 \r\nL 281.96057 221.2425 \r\nL 281.96057 214.4475 \r\nL 67.048438 214.4475 \r\nz\r\n\" style=\"fill:#1f77b4;\"/>\r\n   </g>\r\n   <g id=\"patch_4\">\r\n    <path clip-path=\"url(#pbec6f526b9)\" d=\"M 67.048438 207.6525 \r\nL 294.502913 207.6525 \r\nL 294.502913 200.8575 \r\nL 67.048438 200.8575 \r\nz\r\n\" style=\"fill:#1f77b4;\"/>\r\n   </g>\r\n   <g id=\"patch_5\">\r\n    <path clip-path=\"url(#pbec6f526b9)\" d=\"M 67.048438 194.0625 \r\nL 306.366587 194.0625 \r\nL 306.366587 187.2675 \r\nL 67.048438 187.2675 \r\nz\r\n\" style=\"fill:#1f77b4;\"/>\r\n   </g>\r\n   <g id=\"patch_6\">\r\n    <path clip-path=\"url(#pbec6f526b9)\" d=\"M 67.048438 180.4725 \r\nL 310.904028 180.4725 \r\nL 310.904028 173.6775 \r\nL 67.048438 173.6775 \r\nz\r\n\" style=\"fill:#1f77b4;\"/>\r\n   </g>\r\n   <g id=\"patch_7\">\r\n    <path clip-path=\"url(#pbec6f526b9)\" d=\"M 67.048438 166.8825 \r\nL 324.873718 166.8825 \r\nL 324.873718 160.0875 \r\nL 67.048438 160.0875 \r\nz\r\n\" style=\"fill:#1f77b4;\"/>\r\n   </g>\r\n   <g id=\"patch_8\">\r\n    <path clip-path=\"url(#pbec6f526b9)\" d=\"M 67.048438 153.2925 \r\nL 327.184257 153.2925 \r\nL 327.184257 146.4975 \r\nL 67.048438 146.4975 \r\nz\r\n\" style=\"fill:#1f77b4;\"/>\r\n   </g>\r\n   <g id=\"patch_9\">\r\n    <path clip-path=\"url(#pbec6f526b9)\" d=\"M 67.048438 139.7025 \r\nL 329.748153 139.7025 \r\nL 329.748153 132.9075 \r\nL 67.048438 132.9075 \r\nz\r\n\" style=\"fill:#1f77b4;\"/>\r\n   </g>\r\n   <g id=\"patch_10\">\r\n    <path clip-path=\"url(#pbec6f526b9)\" d=\"M 67.048438 126.1125 \r\nL 337.940629 126.1125 \r\nL 337.940629 119.3175 \r\nL 67.048438 119.3175 \r\nz\r\n\" style=\"fill:#1f77b4;\"/>\r\n   </g>\r\n   <g id=\"patch_11\">\r\n    <path clip-path=\"url(#pbec6f526b9)\" d=\"M 67.048438 112.5225 \r\nL 339.898581 112.5225 \r\nL 339.898581 105.7275 \r\nL 67.048438 105.7275 \r\nz\r\n\" style=\"fill:#1f77b4;\"/>\r\n   </g>\r\n   <g id=\"patch_12\">\r\n    <path clip-path=\"url(#pbec6f526b9)\" d=\"M 67.048438 98.9325 \r\nL 343.931164 98.9325 \r\nL 343.931164 92.1375 \r\nL 67.048438 92.1375 \r\nz\r\n\" style=\"fill:#1f77b4;\"/>\r\n   </g>\r\n   <g id=\"patch_13\">\r\n    <path clip-path=\"url(#pbec6f526b9)\" d=\"M 67.048438 85.3425 \r\nL 347.026854 85.3425 \r\nL 347.026854 78.5475 \r\nL 67.048438 78.5475 \r\nz\r\n\" style=\"fill:#1f77b4;\"/>\r\n   </g>\r\n   <g id=\"patch_14\">\r\n    <path clip-path=\"url(#pbec6f526b9)\" d=\"M 67.048438 71.7525 \r\nL 356.993553 71.7525 \r\nL 356.993553 64.9575 \r\nL 67.048438 64.9575 \r\nz\r\n\" style=\"fill:#1f77b4;\"/>\r\n   </g>\r\n   <g id=\"patch_15\">\r\n    <path clip-path=\"url(#pbec6f526b9)\" d=\"M 67.048438 58.1625 \r\nL 359.500528 58.1625 \r\nL 359.500528 51.3675 \r\nL 67.048438 51.3675 \r\nz\r\n\" style=\"fill:#1f77b4;\"/>\r\n   </g>\r\n   <g id=\"patch_16\">\r\n    <path clip-path=\"url(#pbec6f526b9)\" d=\"M 67.048438 44.5725 \r\nL 362.339353 44.5725 \r\nL 362.339353 37.7775 \r\nL 67.048438 37.7775 \r\nz\r\n\" style=\"fill:#1f77b4;\"/>\r\n   </g>\r\n   <g id=\"patch_17\">\r\n    <path clip-path=\"url(#pbec6f526b9)\" d=\"M 67.048438 30.9825 \r\nL 367.427128 30.9825 \r\nL 367.427128 24.1875 \r\nL 67.048438 24.1875 \r\nz\r\n\" style=\"fill:#1f77b4;\"/>\r\n   </g>\r\n   <g id=\"patch_18\">\r\n    <path clip-path=\"url(#pbec6f526b9)\" d=\"M 67.048438 17.3925 \r\nL 385.90558 17.3925 \r\nL 385.90558 10.5975 \r\nL 67.048438 10.5975 \r\nz\r\n\" style=\"fill:#1f77b4;\"/>\r\n   </g>\r\n   <g id=\"matplotlib.axis_1\">\r\n    <g id=\"xtick_1\">\r\n     <g id=\"line2d_1\">\r\n      <defs>\r\n       <path d=\"M 0 0 \r\nL 0 3.5 \r\n\" id=\"ma47ad399ee\" style=\"stroke:#000000;stroke-width:0.8;\"/>\r\n      </defs>\r\n      <g>\r\n       <use style=\"stroke:#000000;stroke-width:0.8;\" x=\"67.048438\" xlink:href=\"#ma47ad399ee\" y=\"224.64\"/>\r\n      </g>\r\n     </g>\r\n     <g id=\"text_1\">\r\n      <!-- 0.00 -->\r\n      <g transform=\"translate(55.915625 239.238437)scale(0.1 -0.1)\">\r\n       <defs>\r\n        <path d=\"M 2034 4250 \r\nQ 1547 4250 1301 3770 \r\nQ 1056 3291 1056 2328 \r\nQ 1056 1369 1301 889 \r\nQ 1547 409 2034 409 \r\nQ 2525 409 2770 889 \r\nQ 3016 1369 3016 2328 \r\nQ 3016 3291 2770 3770 \r\nQ 2525 4250 2034 4250 \r\nz\r\nM 2034 4750 \r\nQ 2819 4750 3233 4129 \r\nQ 3647 3509 3647 2328 \r\nQ 3647 1150 3233 529 \r\nQ 2819 -91 2034 -91 \r\nQ 1250 -91 836 529 \r\nQ 422 1150 422 2328 \r\nQ 422 3509 836 4129 \r\nQ 1250 4750 2034 4750 \r\nz\r\n\" id=\"DejaVuSans-30\" transform=\"scale(0.015625)\"/>\r\n        <path d=\"M 684 794 \r\nL 1344 794 \r\nL 1344 0 \r\nL 684 0 \r\nL 684 794 \r\nz\r\n\" id=\"DejaVuSans-2e\" transform=\"scale(0.015625)\"/>\r\n       </defs>\r\n       <use xlink:href=\"#DejaVuSans-30\"/>\r\n       <use x=\"63.623047\" xlink:href=\"#DejaVuSans-2e\"/>\r\n       <use x=\"95.410156\" xlink:href=\"#DejaVuSans-30\"/>\r\n       <use x=\"159.033203\" xlink:href=\"#DejaVuSans-30\"/>\r\n      </g>\r\n     </g>\r\n    </g>\r\n    <g id=\"xtick_2\">\r\n     <g id=\"line2d_2\">\r\n      <g>\r\n       <use style=\"stroke:#000000;stroke-width:0.8;\" x=\"110.085723\" xlink:href=\"#ma47ad399ee\" y=\"224.64\"/>\r\n      </g>\r\n     </g>\r\n     <g id=\"text_2\">\r\n      <!-- 0.01 -->\r\n      <g transform=\"translate(98.952911 239.238437)scale(0.1 -0.1)\">\r\n       <defs>\r\n        <path d=\"M 794 531 \r\nL 1825 531 \r\nL 1825 4091 \r\nL 703 3866 \r\nL 703 4441 \r\nL 1819 4666 \r\nL 2450 4666 \r\nL 2450 531 \r\nL 3481 531 \r\nL 3481 0 \r\nL 794 0 \r\nL 794 531 \r\nz\r\n\" id=\"DejaVuSans-31\" transform=\"scale(0.015625)\"/>\r\n       </defs>\r\n       <use xlink:href=\"#DejaVuSans-30\"/>\r\n       <use x=\"63.623047\" xlink:href=\"#DejaVuSans-2e\"/>\r\n       <use x=\"95.410156\" xlink:href=\"#DejaVuSans-30\"/>\r\n       <use x=\"159.033203\" xlink:href=\"#DejaVuSans-31\"/>\r\n      </g>\r\n     </g>\r\n    </g>\r\n    <g id=\"xtick_3\">\r\n     <g id=\"line2d_3\">\r\n      <g>\r\n       <use style=\"stroke:#000000;stroke-width:0.8;\" x=\"153.123009\" xlink:href=\"#ma47ad399ee\" y=\"224.64\"/>\r\n      </g>\r\n     </g>\r\n     <g id=\"text_3\">\r\n      <!-- 0.02 -->\r\n      <g transform=\"translate(141.990197 239.238437)scale(0.1 -0.1)\">\r\n       <defs>\r\n        <path d=\"M 1228 531 \r\nL 3431 531 \r\nL 3431 0 \r\nL 469 0 \r\nL 469 531 \r\nQ 828 903 1448 1529 \r\nQ 2069 2156 2228 2338 \r\nQ 2531 2678 2651 2914 \r\nQ 2772 3150 2772 3378 \r\nQ 2772 3750 2511 3984 \r\nQ 2250 4219 1831 4219 \r\nQ 1534 4219 1204 4116 \r\nQ 875 4013 500 3803 \r\nL 500 4441 \r\nQ 881 4594 1212 4672 \r\nQ 1544 4750 1819 4750 \r\nQ 2544 4750 2975 4387 \r\nQ 3406 4025 3406 3419 \r\nQ 3406 3131 3298 2873 \r\nQ 3191 2616 2906 2266 \r\nQ 2828 2175 2409 1742 \r\nQ 1991 1309 1228 531 \r\nz\r\n\" id=\"DejaVuSans-32\" transform=\"scale(0.015625)\"/>\r\n       </defs>\r\n       <use xlink:href=\"#DejaVuSans-30\"/>\r\n       <use x=\"63.623047\" xlink:href=\"#DejaVuSans-2e\"/>\r\n       <use x=\"95.410156\" xlink:href=\"#DejaVuSans-30\"/>\r\n       <use x=\"159.033203\" xlink:href=\"#DejaVuSans-32\"/>\r\n      </g>\r\n     </g>\r\n    </g>\r\n    <g id=\"xtick_4\">\r\n     <g id=\"line2d_4\">\r\n      <g>\r\n       <use style=\"stroke:#000000;stroke-width:0.8;\" x=\"196.160295\" xlink:href=\"#ma47ad399ee\" y=\"224.64\"/>\r\n      </g>\r\n     </g>\r\n     <g id=\"text_4\">\r\n      <!-- 0.03 -->\r\n      <g transform=\"translate(185.027483 239.238437)scale(0.1 -0.1)\">\r\n       <defs>\r\n        <path d=\"M 2597 2516 \r\nQ 3050 2419 3304 2112 \r\nQ 3559 1806 3559 1356 \r\nQ 3559 666 3084 287 \r\nQ 2609 -91 1734 -91 \r\nQ 1441 -91 1130 -33 \r\nQ 819 25 488 141 \r\nL 488 750 \r\nQ 750 597 1062 519 \r\nQ 1375 441 1716 441 \r\nQ 2309 441 2620 675 \r\nQ 2931 909 2931 1356 \r\nQ 2931 1769 2642 2001 \r\nQ 2353 2234 1838 2234 \r\nL 1294 2234 \r\nL 1294 2753 \r\nL 1863 2753 \r\nQ 2328 2753 2575 2939 \r\nQ 2822 3125 2822 3475 \r\nQ 2822 3834 2567 4026 \r\nQ 2313 4219 1838 4219 \r\nQ 1578 4219 1281 4162 \r\nQ 984 4106 628 3988 \r\nL 628 4550 \r\nQ 988 4650 1302 4700 \r\nQ 1616 4750 1894 4750 \r\nQ 2613 4750 3031 4423 \r\nQ 3450 4097 3450 3541 \r\nQ 3450 3153 3228 2886 \r\nQ 3006 2619 2597 2516 \r\nz\r\n\" id=\"DejaVuSans-33\" transform=\"scale(0.015625)\"/>\r\n       </defs>\r\n       <use xlink:href=\"#DejaVuSans-30\"/>\r\n       <use x=\"63.623047\" xlink:href=\"#DejaVuSans-2e\"/>\r\n       <use x=\"95.410156\" xlink:href=\"#DejaVuSans-30\"/>\r\n       <use x=\"159.033203\" xlink:href=\"#DejaVuSans-33\"/>\r\n      </g>\r\n     </g>\r\n    </g>\r\n    <g id=\"xtick_5\">\r\n     <g id=\"line2d_5\">\r\n      <g>\r\n       <use style=\"stroke:#000000;stroke-width:0.8;\" x=\"239.197581\" xlink:href=\"#ma47ad399ee\" y=\"224.64\"/>\r\n      </g>\r\n     </g>\r\n     <g id=\"text_5\">\r\n      <!-- 0.04 -->\r\n      <g transform=\"translate(228.064769 239.238437)scale(0.1 -0.1)\">\r\n       <defs>\r\n        <path d=\"M 2419 4116 \r\nL 825 1625 \r\nL 2419 1625 \r\nL 2419 4116 \r\nz\r\nM 2253 4666 \r\nL 3047 4666 \r\nL 3047 1625 \r\nL 3713 1625 \r\nL 3713 1100 \r\nL 3047 1100 \r\nL 3047 0 \r\nL 2419 0 \r\nL 2419 1100 \r\nL 313 1100 \r\nL 313 1709 \r\nL 2253 4666 \r\nz\r\n\" id=\"DejaVuSans-34\" transform=\"scale(0.015625)\"/>\r\n       </defs>\r\n       <use xlink:href=\"#DejaVuSans-30\"/>\r\n       <use x=\"63.623047\" xlink:href=\"#DejaVuSans-2e\"/>\r\n       <use x=\"95.410156\" xlink:href=\"#DejaVuSans-30\"/>\r\n       <use x=\"159.033203\" xlink:href=\"#DejaVuSans-34\"/>\r\n      </g>\r\n     </g>\r\n    </g>\r\n    <g id=\"xtick_6\">\r\n     <g id=\"line2d_6\">\r\n      <g>\r\n       <use style=\"stroke:#000000;stroke-width:0.8;\" x=\"282.234867\" xlink:href=\"#ma47ad399ee\" y=\"224.64\"/>\r\n      </g>\r\n     </g>\r\n     <g id=\"text_6\">\r\n      <!-- 0.05 -->\r\n      <g transform=\"translate(271.102055 239.238437)scale(0.1 -0.1)\">\r\n       <defs>\r\n        <path d=\"M 691 4666 \r\nL 3169 4666 \r\nL 3169 4134 \r\nL 1269 4134 \r\nL 1269 2991 \r\nQ 1406 3038 1543 3061 \r\nQ 1681 3084 1819 3084 \r\nQ 2600 3084 3056 2656 \r\nQ 3513 2228 3513 1497 \r\nQ 3513 744 3044 326 \r\nQ 2575 -91 1722 -91 \r\nQ 1428 -91 1123 -41 \r\nQ 819 9 494 109 \r\nL 494 744 \r\nQ 775 591 1075 516 \r\nQ 1375 441 1709 441 \r\nQ 2250 441 2565 725 \r\nQ 2881 1009 2881 1497 \r\nQ 2881 1984 2565 2268 \r\nQ 2250 2553 1709 2553 \r\nQ 1456 2553 1204 2497 \r\nQ 953 2441 691 2322 \r\nL 691 4666 \r\nz\r\n\" id=\"DejaVuSans-35\" transform=\"scale(0.015625)\"/>\r\n       </defs>\r\n       <use xlink:href=\"#DejaVuSans-30\"/>\r\n       <use x=\"63.623047\" xlink:href=\"#DejaVuSans-2e\"/>\r\n       <use x=\"95.410156\" xlink:href=\"#DejaVuSans-30\"/>\r\n       <use x=\"159.033203\" xlink:href=\"#DejaVuSans-35\"/>\r\n      </g>\r\n     </g>\r\n    </g>\r\n    <g id=\"xtick_7\">\r\n     <g id=\"line2d_7\">\r\n      <g>\r\n       <use style=\"stroke:#000000;stroke-width:0.8;\" x=\"325.272153\" xlink:href=\"#ma47ad399ee\" y=\"224.64\"/>\r\n      </g>\r\n     </g>\r\n     <g id=\"text_7\">\r\n      <!-- 0.06 -->\r\n      <g transform=\"translate(314.139341 239.238437)scale(0.1 -0.1)\">\r\n       <defs>\r\n        <path d=\"M 2113 2584 \r\nQ 1688 2584 1439 2293 \r\nQ 1191 2003 1191 1497 \r\nQ 1191 994 1439 701 \r\nQ 1688 409 2113 409 \r\nQ 2538 409 2786 701 \r\nQ 3034 994 3034 1497 \r\nQ 3034 2003 2786 2293 \r\nQ 2538 2584 2113 2584 \r\nz\r\nM 3366 4563 \r\nL 3366 3988 \r\nQ 3128 4100 2886 4159 \r\nQ 2644 4219 2406 4219 \r\nQ 1781 4219 1451 3797 \r\nQ 1122 3375 1075 2522 \r\nQ 1259 2794 1537 2939 \r\nQ 1816 3084 2150 3084 \r\nQ 2853 3084 3261 2657 \r\nQ 3669 2231 3669 1497 \r\nQ 3669 778 3244 343 \r\nQ 2819 -91 2113 -91 \r\nQ 1303 -91 875 529 \r\nQ 447 1150 447 2328 \r\nQ 447 3434 972 4092 \r\nQ 1497 4750 2381 4750 \r\nQ 2619 4750 2861 4703 \r\nQ 3103 4656 3366 4563 \r\nz\r\n\" id=\"DejaVuSans-36\" transform=\"scale(0.015625)\"/>\r\n       </defs>\r\n       <use xlink:href=\"#DejaVuSans-30\"/>\r\n       <use x=\"63.623047\" xlink:href=\"#DejaVuSans-2e\"/>\r\n       <use x=\"95.410156\" xlink:href=\"#DejaVuSans-30\"/>\r\n       <use x=\"159.033203\" xlink:href=\"#DejaVuSans-36\"/>\r\n      </g>\r\n     </g>\r\n    </g>\r\n    <g id=\"xtick_8\">\r\n     <g id=\"line2d_8\">\r\n      <g>\r\n       <use style=\"stroke:#000000;stroke-width:0.8;\" x=\"368.309439\" xlink:href=\"#ma47ad399ee\" y=\"224.64\"/>\r\n      </g>\r\n     </g>\r\n     <g id=\"text_8\">\r\n      <!-- 0.07 -->\r\n      <g transform=\"translate(357.176627 239.238437)scale(0.1 -0.1)\">\r\n       <defs>\r\n        <path d=\"M 525 4666 \r\nL 3525 4666 \r\nL 3525 4397 \r\nL 1831 0 \r\nL 1172 0 \r\nL 2766 4134 \r\nL 525 4134 \r\nL 525 4666 \r\nz\r\n\" id=\"DejaVuSans-37\" transform=\"scale(0.015625)\"/>\r\n       </defs>\r\n       <use xlink:href=\"#DejaVuSans-30\"/>\r\n       <use x=\"63.623047\" xlink:href=\"#DejaVuSans-2e\"/>\r\n       <use x=\"95.410156\" xlink:href=\"#DejaVuSans-30\"/>\r\n       <use x=\"159.033203\" xlink:href=\"#DejaVuSans-37\"/>\r\n      </g>\r\n     </g>\r\n    </g>\r\n   </g>\r\n   <g id=\"matplotlib.axis_2\">\r\n    <g id=\"ytick_1\">\r\n     <g id=\"line2d_9\">\r\n      <defs>\r\n       <path d=\"M 0 0 \r\nL -3.5 0 \r\n\" id=\"m6e16b70f33\" style=\"stroke:#000000;stroke-width:0.8;\"/>\r\n      </defs>\r\n      <g>\r\n       <use style=\"stroke:#000000;stroke-width:0.8;\" x=\"67.048438\" xlink:href=\"#m6e16b70f33\" y=\"217.845\"/>\r\n      </g>\r\n     </g>\r\n     <g id=\"text_9\">\r\n      <!-- B7 -->\r\n      <g transform=\"translate(46.825 221.644219)scale(0.1 -0.1)\">\r\n       <defs>\r\n        <path d=\"M 1259 2228 \r\nL 1259 519 \r\nL 2272 519 \r\nQ 2781 519 3026 730 \r\nQ 3272 941 3272 1375 \r\nQ 3272 1813 3026 2020 \r\nQ 2781 2228 2272 2228 \r\nL 1259 2228 \r\nz\r\nM 1259 4147 \r\nL 1259 2741 \r\nL 2194 2741 \r\nQ 2656 2741 2882 2914 \r\nQ 3109 3088 3109 3444 \r\nQ 3109 3797 2882 3972 \r\nQ 2656 4147 2194 4147 \r\nL 1259 4147 \r\nz\r\nM 628 4666 \r\nL 2241 4666 \r\nQ 2963 4666 3353 4366 \r\nQ 3744 4066 3744 3513 \r\nQ 3744 3084 3544 2831 \r\nQ 3344 2578 2956 2516 \r\nQ 3422 2416 3680 2098 \r\nQ 3938 1781 3938 1306 \r\nQ 3938 681 3513 340 \r\nQ 3088 0 2303 0 \r\nL 628 0 \r\nL 628 4666 \r\nz\r\n\" id=\"DejaVuSans-42\" transform=\"scale(0.015625)\"/>\r\n       </defs>\r\n       <use xlink:href=\"#DejaVuSans-42\"/>\r\n       <use x=\"68.603516\" xlink:href=\"#DejaVuSans-37\"/>\r\n      </g>\r\n     </g>\r\n    </g>\r\n    <g id=\"ytick_2\">\r\n     <g id=\"line2d_10\">\r\n      <g>\r\n       <use style=\"stroke:#000000;stroke-width:0.8;\" x=\"67.048438\" xlink:href=\"#m6e16b70f33\" y=\"204.255\"/>\r\n      </g>\r\n     </g>\r\n     <g id=\"text_10\">\r\n      <!-- NDVI -->\r\n      <g transform=\"translate(35.251563 208.054219)scale(0.1 -0.1)\">\r\n       <defs>\r\n        <path d=\"M 628 4666 \r\nL 1478 4666 \r\nL 3547 763 \r\nL 3547 4666 \r\nL 4159 4666 \r\nL 4159 0 \r\nL 3309 0 \r\nL 1241 3903 \r\nL 1241 0 \r\nL 628 0 \r\nL 628 4666 \r\nz\r\n\" id=\"DejaVuSans-4e\" transform=\"scale(0.015625)\"/>\r\n        <path d=\"M 1259 4147 \r\nL 1259 519 \r\nL 2022 519 \r\nQ 2988 519 3436 956 \r\nQ 3884 1394 3884 2338 \r\nQ 3884 3275 3436 3711 \r\nQ 2988 4147 2022 4147 \r\nL 1259 4147 \r\nz\r\nM 628 4666 \r\nL 1925 4666 \r\nQ 3281 4666 3915 4102 \r\nQ 4550 3538 4550 2338 \r\nQ 4550 1131 3912 565 \r\nQ 3275 0 1925 0 \r\nL 628 0 \r\nL 628 4666 \r\nz\r\n\" id=\"DejaVuSans-44\" transform=\"scale(0.015625)\"/>\r\n        <path d=\"M 1831 0 \r\nL 50 4666 \r\nL 709 4666 \r\nL 2188 738 \r\nL 3669 4666 \r\nL 4325 4666 \r\nL 2547 0 \r\nL 1831 0 \r\nz\r\n\" id=\"DejaVuSans-56\" transform=\"scale(0.015625)\"/>\r\n        <path d=\"M 628 4666 \r\nL 1259 4666 \r\nL 1259 0 \r\nL 628 0 \r\nL 628 4666 \r\nz\r\n\" id=\"DejaVuSans-49\" transform=\"scale(0.015625)\"/>\r\n       </defs>\r\n       <use xlink:href=\"#DejaVuSans-4e\"/>\r\n       <use x=\"74.804688\" xlink:href=\"#DejaVuSans-44\"/>\r\n       <use x=\"150.056641\" xlink:href=\"#DejaVuSans-56\"/>\r\n       <use x=\"218.464844\" xlink:href=\"#DejaVuSans-49\"/>\r\n      </g>\r\n     </g>\r\n    </g>\r\n    <g id=\"ytick_3\">\r\n     <g id=\"line2d_11\">\r\n      <g>\r\n       <use style=\"stroke:#000000;stroke-width:0.8;\" x=\"67.048438\" xlink:href=\"#m6e16b70f33\" y=\"190.665\"/>\r\n      </g>\r\n     </g>\r\n     <g id=\"text_11\">\r\n      <!-- DVI -->\r\n      <g transform=\"translate(42.732813 194.464219)scale(0.1 -0.1)\">\r\n       <use xlink:href=\"#DejaVuSans-44\"/>\r\n       <use x=\"75.251953\" xlink:href=\"#DejaVuSans-56\"/>\r\n       <use x=\"143.660156\" xlink:href=\"#DejaVuSans-49\"/>\r\n      </g>\r\n     </g>\r\n    </g>\r\n    <g id=\"ytick_4\">\r\n     <g id=\"line2d_12\">\r\n      <g>\r\n       <use style=\"stroke:#000000;stroke-width:0.8;\" x=\"67.048438\" xlink:href=\"#m6e16b70f33\" y=\"177.075\"/>\r\n      </g>\r\n     </g>\r\n     <g id=\"text_12\">\r\n      <!-- EVI -->\r\n      <g transform=\"translate(43.939063 180.874219)scale(0.1 -0.1)\">\r\n       <defs>\r\n        <path d=\"M 628 4666 \r\nL 3578 4666 \r\nL 3578 4134 \r\nL 1259 4134 \r\nL 1259 2753 \r\nL 3481 2753 \r\nL 3481 2222 \r\nL 1259 2222 \r\nL 1259 531 \r\nL 3634 531 \r\nL 3634 0 \r\nL 628 0 \r\nL 628 4666 \r\nz\r\n\" id=\"DejaVuSans-45\" transform=\"scale(0.015625)\"/>\r\n       </defs>\r\n       <use xlink:href=\"#DejaVuSans-45\"/>\r\n       <use x=\"63.183594\" xlink:href=\"#DejaVuSans-56\"/>\r\n       <use x=\"131.591797\" xlink:href=\"#DejaVuSans-49\"/>\r\n      </g>\r\n     </g>\r\n    </g>\r\n    <g id=\"ytick_5\">\r\n     <g id=\"line2d_13\">\r\n      <g>\r\n       <use style=\"stroke:#000000;stroke-width:0.8;\" x=\"67.048438\" xlink:href=\"#m6e16b70f33\" y=\"163.485\"/>\r\n      </g>\r\n     </g>\r\n     <g id=\"text_13\">\r\n      <!-- B4 -->\r\n      <g transform=\"translate(46.825 167.284219)scale(0.1 -0.1)\">\r\n       <use xlink:href=\"#DejaVuSans-42\"/>\r\n       <use x=\"68.603516\" xlink:href=\"#DejaVuSans-34\"/>\r\n      </g>\r\n     </g>\r\n    </g>\r\n    <g id=\"ytick_6\">\r\n     <g id=\"line2d_14\">\r\n      <g>\r\n       <use style=\"stroke:#000000;stroke-width:0.8;\" x=\"67.048438\" xlink:href=\"#m6e16b70f33\" y=\"149.895\"/>\r\n      </g>\r\n     </g>\r\n     <g id=\"text_14\">\r\n      <!-- B9 -->\r\n      <g transform=\"translate(46.825 153.694219)scale(0.1 -0.1)\">\r\n       <defs>\r\n        <path d=\"M 703 97 \r\nL 703 672 \r\nQ 941 559 1184 500 \r\nQ 1428 441 1663 441 \r\nQ 2288 441 2617 861 \r\nQ 2947 1281 2994 2138 \r\nQ 2813 1869 2534 1725 \r\nQ 2256 1581 1919 1581 \r\nQ 1219 1581 811 2004 \r\nQ 403 2428 403 3163 \r\nQ 403 3881 828 4315 \r\nQ 1253 4750 1959 4750 \r\nQ 2769 4750 3195 4129 \r\nQ 3622 3509 3622 2328 \r\nQ 3622 1225 3098 567 \r\nQ 2575 -91 1691 -91 \r\nQ 1453 -91 1209 -44 \r\nQ 966 3 703 97 \r\nz\r\nM 1959 2075 \r\nQ 2384 2075 2632 2365 \r\nQ 2881 2656 2881 3163 \r\nQ 2881 3666 2632 3958 \r\nQ 2384 4250 1959 4250 \r\nQ 1534 4250 1286 3958 \r\nQ 1038 3666 1038 3163 \r\nQ 1038 2656 1286 2365 \r\nQ 1534 2075 1959 2075 \r\nz\r\n\" id=\"DejaVuSans-39\" transform=\"scale(0.015625)\"/>\r\n       </defs>\r\n       <use xlink:href=\"#DejaVuSans-42\"/>\r\n       <use x=\"68.603516\" xlink:href=\"#DejaVuSans-39\"/>\r\n      </g>\r\n     </g>\r\n    </g>\r\n    <g id=\"ytick_7\">\r\n     <g id=\"line2d_15\">\r\n      <g>\r\n       <use style=\"stroke:#000000;stroke-width:0.8;\" x=\"67.048438\" xlink:href=\"#m6e16b70f33\" y=\"136.305\"/>\r\n      </g>\r\n     </g>\r\n     <g id=\"text_15\">\r\n      <!-- B5 -->\r\n      <g transform=\"translate(46.825 140.104219)scale(0.1 -0.1)\">\r\n       <use xlink:href=\"#DejaVuSans-42\"/>\r\n       <use x=\"68.603516\" xlink:href=\"#DejaVuSans-35\"/>\r\n      </g>\r\n     </g>\r\n    </g>\r\n    <g id=\"ytick_8\">\r\n     <g id=\"line2d_16\">\r\n      <g>\r\n       <use style=\"stroke:#000000;stroke-width:0.8;\" x=\"67.048438\" xlink:href=\"#m6e16b70f33\" y=\"122.715\"/>\r\n      </g>\r\n     </g>\r\n     <g id=\"text_16\">\r\n      <!-- B6 -->\r\n      <g transform=\"translate(46.825 126.514219)scale(0.1 -0.1)\">\r\n       <use xlink:href=\"#DejaVuSans-42\"/>\r\n       <use x=\"68.603516\" xlink:href=\"#DejaVuSans-36\"/>\r\n      </g>\r\n     </g>\r\n    </g>\r\n    <g id=\"ytick_9\">\r\n     <g id=\"line2d_17\">\r\n      <g>\r\n       <use style=\"stroke:#000000;stroke-width:0.8;\" x=\"67.048438\" xlink:href=\"#m6e16b70f33\" y=\"109.125\"/>\r\n      </g>\r\n     </g>\r\n     <g id=\"text_17\">\r\n      <!-- B8A -->\r\n      <g transform=\"translate(39.984375 112.924219)scale(0.1 -0.1)\">\r\n       <defs>\r\n        <path d=\"M 2034 2216 \r\nQ 1584 2216 1326 1975 \r\nQ 1069 1734 1069 1313 \r\nQ 1069 891 1326 650 \r\nQ 1584 409 2034 409 \r\nQ 2484 409 2743 651 \r\nQ 3003 894 3003 1313 \r\nQ 3003 1734 2745 1975 \r\nQ 2488 2216 2034 2216 \r\nz\r\nM 1403 2484 \r\nQ 997 2584 770 2862 \r\nQ 544 3141 544 3541 \r\nQ 544 4100 942 4425 \r\nQ 1341 4750 2034 4750 \r\nQ 2731 4750 3128 4425 \r\nQ 3525 4100 3525 3541 \r\nQ 3525 3141 3298 2862 \r\nQ 3072 2584 2669 2484 \r\nQ 3125 2378 3379 2068 \r\nQ 3634 1759 3634 1313 \r\nQ 3634 634 3220 271 \r\nQ 2806 -91 2034 -91 \r\nQ 1263 -91 848 271 \r\nQ 434 634 434 1313 \r\nQ 434 1759 690 2068 \r\nQ 947 2378 1403 2484 \r\nz\r\nM 1172 3481 \r\nQ 1172 3119 1398 2916 \r\nQ 1625 2713 2034 2713 \r\nQ 2441 2713 2670 2916 \r\nQ 2900 3119 2900 3481 \r\nQ 2900 3844 2670 4047 \r\nQ 2441 4250 2034 4250 \r\nQ 1625 4250 1398 4047 \r\nQ 1172 3844 1172 3481 \r\nz\r\n\" id=\"DejaVuSans-38\" transform=\"scale(0.015625)\"/>\r\n        <path d=\"M 2188 4044 \r\nL 1331 1722 \r\nL 3047 1722 \r\nL 2188 4044 \r\nz\r\nM 1831 4666 \r\nL 2547 4666 \r\nL 4325 0 \r\nL 3669 0 \r\nL 3244 1197 \r\nL 1141 1197 \r\nL 716 0 \r\nL 50 0 \r\nL 1831 4666 \r\nz\r\n\" id=\"DejaVuSans-41\" transform=\"scale(0.015625)\"/>\r\n       </defs>\r\n       <use xlink:href=\"#DejaVuSans-42\"/>\r\n       <use x=\"68.603516\" xlink:href=\"#DejaVuSans-38\"/>\r\n       <use x=\"132.226562\" xlink:href=\"#DejaVuSans-41\"/>\r\n      </g>\r\n     </g>\r\n    </g>\r\n    <g id=\"ytick_10\">\r\n     <g id=\"line2d_18\">\r\n      <g>\r\n       <use style=\"stroke:#000000;stroke-width:0.8;\" x=\"67.048438\" xlink:href=\"#m6e16b70f33\" y=\"95.535\"/>\r\n      </g>\r\n     </g>\r\n     <g id=\"text_18\">\r\n      <!-- B2 -->\r\n      <g transform=\"translate(46.825 99.334219)scale(0.1 -0.1)\">\r\n       <use xlink:href=\"#DejaVuSans-42\"/>\r\n       <use x=\"68.603516\" xlink:href=\"#DejaVuSans-32\"/>\r\n      </g>\r\n     </g>\r\n    </g>\r\n    <g id=\"ytick_11\">\r\n     <g id=\"line2d_19\">\r\n      <g>\r\n       <use style=\"stroke:#000000;stroke-width:0.8;\" x=\"67.048438\" xlink:href=\"#m6e16b70f33\" y=\"81.945\"/>\r\n      </g>\r\n     </g>\r\n     <g id=\"text_19\">\r\n      <!-- B12 -->\r\n      <g transform=\"translate(40.4625 85.744219)scale(0.1 -0.1)\">\r\n       <use xlink:href=\"#DejaVuSans-42\"/>\r\n       <use x=\"68.603516\" xlink:href=\"#DejaVuSans-31\"/>\r\n       <use x=\"132.226562\" xlink:href=\"#DejaVuSans-32\"/>\r\n      </g>\r\n     </g>\r\n    </g>\r\n    <g id=\"ytick_12\">\r\n     <g id=\"line2d_20\">\r\n      <g>\r\n       <use style=\"stroke:#000000;stroke-width:0.8;\" x=\"67.048438\" xlink:href=\"#m6e16b70f33\" y=\"68.355\"/>\r\n      </g>\r\n     </g>\r\n     <g id=\"text_20\">\r\n      <!-- B11 -->\r\n      <g transform=\"translate(40.4625 72.154219)scale(0.1 -0.1)\">\r\n       <use xlink:href=\"#DejaVuSans-42\"/>\r\n       <use x=\"68.603516\" xlink:href=\"#DejaVuSans-31\"/>\r\n       <use x=\"132.226562\" xlink:href=\"#DejaVuSans-31\"/>\r\n      </g>\r\n     </g>\r\n    </g>\r\n    <g id=\"ytick_13\">\r\n     <g id=\"line2d_21\">\r\n      <g>\r\n       <use style=\"stroke:#000000;stroke-width:0.8;\" x=\"67.048438\" xlink:href=\"#m6e16b70f33\" y=\"54.765\"/>\r\n      </g>\r\n     </g>\r\n     <g id=\"text_21\">\r\n      <!-- RDGCVI -->\r\n      <g transform=\"translate(20.878125 58.564219)scale(0.1 -0.1)\">\r\n       <defs>\r\n        <path d=\"M 2841 2188 \r\nQ 3044 2119 3236 1894 \r\nQ 3428 1669 3622 1275 \r\nL 4263 0 \r\nL 3584 0 \r\nL 2988 1197 \r\nQ 2756 1666 2539 1819 \r\nQ 2322 1972 1947 1972 \r\nL 1259 1972 \r\nL 1259 0 \r\nL 628 0 \r\nL 628 4666 \r\nL 2053 4666 \r\nQ 2853 4666 3247 4331 \r\nQ 3641 3997 3641 3322 \r\nQ 3641 2881 3436 2590 \r\nQ 3231 2300 2841 2188 \r\nz\r\nM 1259 4147 \r\nL 1259 2491 \r\nL 2053 2491 \r\nQ 2509 2491 2742 2702 \r\nQ 2975 2913 2975 3322 \r\nQ 2975 3731 2742 3939 \r\nQ 2509 4147 2053 4147 \r\nL 1259 4147 \r\nz\r\n\" id=\"DejaVuSans-52\" transform=\"scale(0.015625)\"/>\r\n        <path d=\"M 3809 666 \r\nL 3809 1919 \r\nL 2778 1919 \r\nL 2778 2438 \r\nL 4434 2438 \r\nL 4434 434 \r\nQ 4069 175 3628 42 \r\nQ 3188 -91 2688 -91 \r\nQ 1594 -91 976 548 \r\nQ 359 1188 359 2328 \r\nQ 359 3472 976 4111 \r\nQ 1594 4750 2688 4750 \r\nQ 3144 4750 3555 4637 \r\nQ 3966 4525 4313 4306 \r\nL 4313 3634 \r\nQ 3963 3931 3569 4081 \r\nQ 3175 4231 2741 4231 \r\nQ 1884 4231 1454 3753 \r\nQ 1025 3275 1025 2328 \r\nQ 1025 1384 1454 906 \r\nQ 1884 428 2741 428 \r\nQ 3075 428 3337 486 \r\nQ 3600 544 3809 666 \r\nz\r\n\" id=\"DejaVuSans-47\" transform=\"scale(0.015625)\"/>\r\n        <path d=\"M 4122 4306 \r\nL 4122 3641 \r\nQ 3803 3938 3442 4084 \r\nQ 3081 4231 2675 4231 \r\nQ 1875 4231 1450 3742 \r\nQ 1025 3253 1025 2328 \r\nQ 1025 1406 1450 917 \r\nQ 1875 428 2675 428 \r\nQ 3081 428 3442 575 \r\nQ 3803 722 4122 1019 \r\nL 4122 359 \r\nQ 3791 134 3420 21 \r\nQ 3050 -91 2638 -91 \r\nQ 1578 -91 968 557 \r\nQ 359 1206 359 2328 \r\nQ 359 3453 968 4101 \r\nQ 1578 4750 2638 4750 \r\nQ 3056 4750 3426 4639 \r\nQ 3797 4528 4122 4306 \r\nz\r\n\" id=\"DejaVuSans-43\" transform=\"scale(0.015625)\"/>\r\n       </defs>\r\n       <use xlink:href=\"#DejaVuSans-52\"/>\r\n       <use x=\"69.482422\" xlink:href=\"#DejaVuSans-44\"/>\r\n       <use x=\"146.484375\" xlink:href=\"#DejaVuSans-47\"/>\r\n       <use x=\"223.974609\" xlink:href=\"#DejaVuSans-43\"/>\r\n       <use x=\"293.798828\" xlink:href=\"#DejaVuSans-56\"/>\r\n       <use x=\"362.207031\" xlink:href=\"#DejaVuSans-49\"/>\r\n      </g>\r\n     </g>\r\n    </g>\r\n    <g id=\"ytick_14\">\r\n     <g id=\"line2d_22\">\r\n      <g>\r\n       <use style=\"stroke:#000000;stroke-width:0.8;\" x=\"67.048438\" xlink:href=\"#m6e16b70f33\" y=\"41.175\"/>\r\n      </g>\r\n     </g>\r\n     <g id=\"text_22\">\r\n      <!-- B8 -->\r\n      <g transform=\"translate(46.825 44.974219)scale(0.1 -0.1)\">\r\n       <use xlink:href=\"#DejaVuSans-42\"/>\r\n       <use x=\"68.603516\" xlink:href=\"#DejaVuSans-38\"/>\r\n      </g>\r\n     </g>\r\n    </g>\r\n    <g id=\"ytick_15\">\r\n     <g id=\"line2d_23\">\r\n      <g>\r\n       <use style=\"stroke:#000000;stroke-width:0.8;\" x=\"67.048438\" xlink:href=\"#m6e16b70f33\" y=\"27.585\"/>\r\n      </g>\r\n     </g>\r\n     <g id=\"text_23\">\r\n      <!-- GCVI -->\r\n      <g transform=\"translate(35.526563 31.384219)scale(0.1 -0.1)\">\r\n       <use xlink:href=\"#DejaVuSans-47\"/>\r\n       <use x=\"77.490234\" xlink:href=\"#DejaVuSans-43\"/>\r\n       <use x=\"147.314453\" xlink:href=\"#DejaVuSans-56\"/>\r\n       <use x=\"215.722656\" xlink:href=\"#DejaVuSans-49\"/>\r\n      </g>\r\n     </g>\r\n    </g>\r\n    <g id=\"ytick_16\">\r\n     <g id=\"line2d_24\">\r\n      <g>\r\n       <use style=\"stroke:#000000;stroke-width:0.8;\" x=\"67.048438\" xlink:href=\"#m6e16b70f33\" y=\"13.995\"/>\r\n      </g>\r\n     </g>\r\n     <g id=\"text_24\">\r\n      <!-- B3 -->\r\n      <g transform=\"translate(46.825 17.794219)scale(0.1 -0.1)\">\r\n       <use xlink:href=\"#DejaVuSans-42\"/>\r\n       <use x=\"68.603516\" xlink:href=\"#DejaVuSans-33\"/>\r\n      </g>\r\n     </g>\r\n    </g>\r\n    <g id=\"text_25\">\r\n     <!-- features -->\r\n     <g transform=\"translate(14.798438 136.573906)rotate(-90)scale(0.1 -0.1)\">\r\n      <defs>\r\n       <path d=\"M 2375 4863 \r\nL 2375 4384 \r\nL 1825 4384 \r\nQ 1516 4384 1395 4259 \r\nQ 1275 4134 1275 3809 \r\nL 1275 3500 \r\nL 2222 3500 \r\nL 2222 3053 \r\nL 1275 3053 \r\nL 1275 0 \r\nL 697 0 \r\nL 697 3053 \r\nL 147 3053 \r\nL 147 3500 \r\nL 697 3500 \r\nL 697 3744 \r\nQ 697 4328 969 4595 \r\nQ 1241 4863 1831 4863 \r\nL 2375 4863 \r\nz\r\n\" id=\"DejaVuSans-66\" transform=\"scale(0.015625)\"/>\r\n       <path d=\"M 3597 1894 \r\nL 3597 1613 \r\nL 953 1613 \r\nQ 991 1019 1311 708 \r\nQ 1631 397 2203 397 \r\nQ 2534 397 2845 478 \r\nQ 3156 559 3463 722 \r\nL 3463 178 \r\nQ 3153 47 2828 -22 \r\nQ 2503 -91 2169 -91 \r\nQ 1331 -91 842 396 \r\nQ 353 884 353 1716 \r\nQ 353 2575 817 3079 \r\nQ 1281 3584 2069 3584 \r\nQ 2775 3584 3186 3129 \r\nQ 3597 2675 3597 1894 \r\nz\r\nM 3022 2063 \r\nQ 3016 2534 2758 2815 \r\nQ 2500 3097 2075 3097 \r\nQ 1594 3097 1305 2825 \r\nQ 1016 2553 972 2059 \r\nL 3022 2063 \r\nz\r\n\" id=\"DejaVuSans-65\" transform=\"scale(0.015625)\"/>\r\n       <path d=\"M 2194 1759 \r\nQ 1497 1759 1228 1600 \r\nQ 959 1441 959 1056 \r\nQ 959 750 1161 570 \r\nQ 1363 391 1709 391 \r\nQ 2188 391 2477 730 \r\nQ 2766 1069 2766 1631 \r\nL 2766 1759 \r\nL 2194 1759 \r\nz\r\nM 3341 1997 \r\nL 3341 0 \r\nL 2766 0 \r\nL 2766 531 \r\nQ 2569 213 2275 61 \r\nQ 1981 -91 1556 -91 \r\nQ 1019 -91 701 211 \r\nQ 384 513 384 1019 \r\nQ 384 1609 779 1909 \r\nQ 1175 2209 1959 2209 \r\nL 2766 2209 \r\nL 2766 2266 \r\nQ 2766 2663 2505 2880 \r\nQ 2244 3097 1772 3097 \r\nQ 1472 3097 1187 3025 \r\nQ 903 2953 641 2809 \r\nL 641 3341 \r\nQ 956 3463 1253 3523 \r\nQ 1550 3584 1831 3584 \r\nQ 2591 3584 2966 3190 \r\nQ 3341 2797 3341 1997 \r\nz\r\n\" id=\"DejaVuSans-61\" transform=\"scale(0.015625)\"/>\r\n       <path d=\"M 1172 4494 \r\nL 1172 3500 \r\nL 2356 3500 \r\nL 2356 3053 \r\nL 1172 3053 \r\nL 1172 1153 \r\nQ 1172 725 1289 603 \r\nQ 1406 481 1766 481 \r\nL 2356 481 \r\nL 2356 0 \r\nL 1766 0 \r\nQ 1100 0 847 248 \r\nQ 594 497 594 1153 \r\nL 594 3053 \r\nL 172 3053 \r\nL 172 3500 \r\nL 594 3500 \r\nL 594 4494 \r\nL 1172 4494 \r\nz\r\n\" id=\"DejaVuSans-74\" transform=\"scale(0.015625)\"/>\r\n       <path d=\"M 544 1381 \r\nL 544 3500 \r\nL 1119 3500 \r\nL 1119 1403 \r\nQ 1119 906 1312 657 \r\nQ 1506 409 1894 409 \r\nQ 2359 409 2629 706 \r\nQ 2900 1003 2900 1516 \r\nL 2900 3500 \r\nL 3475 3500 \r\nL 3475 0 \r\nL 2900 0 \r\nL 2900 538 \r\nQ 2691 219 2414 64 \r\nQ 2138 -91 1772 -91 \r\nQ 1169 -91 856 284 \r\nQ 544 659 544 1381 \r\nz\r\nM 1991 3584 \r\nL 1991 3584 \r\nz\r\n\" id=\"DejaVuSans-75\" transform=\"scale(0.015625)\"/>\r\n       <path d=\"M 2631 2963 \r\nQ 2534 3019 2420 3045 \r\nQ 2306 3072 2169 3072 \r\nQ 1681 3072 1420 2755 \r\nQ 1159 2438 1159 1844 \r\nL 1159 0 \r\nL 581 0 \r\nL 581 3500 \r\nL 1159 3500 \r\nL 1159 2956 \r\nQ 1341 3275 1631 3429 \r\nQ 1922 3584 2338 3584 \r\nQ 2397 3584 2469 3576 \r\nQ 2541 3569 2628 3553 \r\nL 2631 2963 \r\nz\r\n\" id=\"DejaVuSans-72\" transform=\"scale(0.015625)\"/>\r\n       <path d=\"M 2834 3397 \r\nL 2834 2853 \r\nQ 2591 2978 2328 3040 \r\nQ 2066 3103 1784 3103 \r\nQ 1356 3103 1142 2972 \r\nQ 928 2841 928 2578 \r\nQ 928 2378 1081 2264 \r\nQ 1234 2150 1697 2047 \r\nL 1894 2003 \r\nQ 2506 1872 2764 1633 \r\nQ 3022 1394 3022 966 \r\nQ 3022 478 2636 193 \r\nQ 2250 -91 1575 -91 \r\nQ 1294 -91 989 -36 \r\nQ 684 19 347 128 \r\nL 347 722 \r\nQ 666 556 975 473 \r\nQ 1284 391 1588 391 \r\nQ 1994 391 2212 530 \r\nQ 2431 669 2431 922 \r\nQ 2431 1156 2273 1281 \r\nQ 2116 1406 1581 1522 \r\nL 1381 1569 \r\nQ 847 1681 609 1914 \r\nQ 372 2147 372 2553 \r\nQ 372 3047 722 3315 \r\nQ 1072 3584 1716 3584 \r\nQ 2034 3584 2315 3537 \r\nQ 2597 3491 2834 3397 \r\nz\r\n\" id=\"DejaVuSans-73\" transform=\"scale(0.015625)\"/>\r\n      </defs>\r\n      <use xlink:href=\"#DejaVuSans-66\"/>\r\n      <use x=\"35.205078\" xlink:href=\"#DejaVuSans-65\"/>\r\n      <use x=\"96.728516\" xlink:href=\"#DejaVuSans-61\"/>\r\n      <use x=\"158.007812\" xlink:href=\"#DejaVuSans-74\"/>\r\n      <use x=\"197.216797\" xlink:href=\"#DejaVuSans-75\"/>\r\n      <use x=\"260.595703\" xlink:href=\"#DejaVuSans-72\"/>\r\n      <use x=\"299.458984\" xlink:href=\"#DejaVuSans-65\"/>\r\n      <use x=\"360.982422\" xlink:href=\"#DejaVuSans-73\"/>\r\n     </g>\r\n    </g>\r\n   </g>\r\n   <g id=\"patch_19\">\r\n    <path d=\"M 67.048438 224.64 \r\nL 67.048438 7.2 \r\n\" style=\"fill:none;stroke:#000000;stroke-linecap:square;stroke-linejoin:miter;stroke-width:0.8;\"/>\r\n   </g>\r\n   <g id=\"patch_20\">\r\n    <path d=\"M 401.848437 224.64 \r\nL 401.848437 7.2 \r\n\" style=\"fill:none;stroke:#000000;stroke-linecap:square;stroke-linejoin:miter;stroke-width:0.8;\"/>\r\n   </g>\r\n   <g id=\"patch_21\">\r\n    <path d=\"M 67.048438 224.64 \r\nL 401.848437 224.64 \r\n\" style=\"fill:none;stroke:#000000;stroke-linecap:square;stroke-linejoin:miter;stroke-width:0.8;\"/>\r\n   </g>\r\n   <g id=\"patch_22\">\r\n    <path d=\"M 67.048438 7.2 \r\nL 401.848437 7.2 \r\n\" style=\"fill:none;stroke:#000000;stroke-linecap:square;stroke-linejoin:miter;stroke-width:0.8;\"/>\r\n   </g>\r\n   <g id=\"legend_1\">\r\n    <g id=\"patch_23\">\r\n     <path d=\"M 305.714062 219.64 \r\nL 394.848437 219.64 \r\nQ 396.848437 219.64 396.848437 217.64 \r\nL 396.848437 203.961875 \r\nQ 396.848437 201.961875 394.848437 201.961875 \r\nL 305.714062 201.961875 \r\nQ 303.714062 201.961875 303.714062 203.961875 \r\nL 303.714062 217.64 \r\nQ 303.714062 219.64 305.714062 219.64 \r\nz\r\n\" style=\"fill:#ffffff;opacity:0.8;stroke:#cccccc;stroke-linejoin:miter;\"/>\r\n    </g>\r\n    <g id=\"patch_24\">\r\n     <path d=\"M 307.714062 213.560312 \r\nL 327.714062 213.560312 \r\nL 327.714062 206.560312 \r\nL 307.714062 206.560312 \r\nz\r\n\" style=\"fill:#1f77b4;\"/>\r\n    </g>\r\n    <g id=\"text_26\">\r\n     <!-- importance -->\r\n     <g transform=\"translate(335.714062 213.560312)scale(0.1 -0.1)\">\r\n      <defs>\r\n       <path d=\"M 603 3500 \r\nL 1178 3500 \r\nL 1178 0 \r\nL 603 0 \r\nL 603 3500 \r\nz\r\nM 603 4863 \r\nL 1178 4863 \r\nL 1178 4134 \r\nL 603 4134 \r\nL 603 4863 \r\nz\r\n\" id=\"DejaVuSans-69\" transform=\"scale(0.015625)\"/>\r\n       <path d=\"M 3328 2828 \r\nQ 3544 3216 3844 3400 \r\nQ 4144 3584 4550 3584 \r\nQ 5097 3584 5394 3201 \r\nQ 5691 2819 5691 2113 \r\nL 5691 0 \r\nL 5113 0 \r\nL 5113 2094 \r\nQ 5113 2597 4934 2840 \r\nQ 4756 3084 4391 3084 \r\nQ 3944 3084 3684 2787 \r\nQ 3425 2491 3425 1978 \r\nL 3425 0 \r\nL 2847 0 \r\nL 2847 2094 \r\nQ 2847 2600 2669 2842 \r\nQ 2491 3084 2119 3084 \r\nQ 1678 3084 1418 2786 \r\nQ 1159 2488 1159 1978 \r\nL 1159 0 \r\nL 581 0 \r\nL 581 3500 \r\nL 1159 3500 \r\nL 1159 2956 \r\nQ 1356 3278 1631 3431 \r\nQ 1906 3584 2284 3584 \r\nQ 2666 3584 2933 3390 \r\nQ 3200 3197 3328 2828 \r\nz\r\n\" id=\"DejaVuSans-6d\" transform=\"scale(0.015625)\"/>\r\n       <path d=\"M 1159 525 \r\nL 1159 -1331 \r\nL 581 -1331 \r\nL 581 3500 \r\nL 1159 3500 \r\nL 1159 2969 \r\nQ 1341 3281 1617 3432 \r\nQ 1894 3584 2278 3584 \r\nQ 2916 3584 3314 3078 \r\nQ 3713 2572 3713 1747 \r\nQ 3713 922 3314 415 \r\nQ 2916 -91 2278 -91 \r\nQ 1894 -91 1617 61 \r\nQ 1341 213 1159 525 \r\nz\r\nM 3116 1747 \r\nQ 3116 2381 2855 2742 \r\nQ 2594 3103 2138 3103 \r\nQ 1681 3103 1420 2742 \r\nQ 1159 2381 1159 1747 \r\nQ 1159 1113 1420 752 \r\nQ 1681 391 2138 391 \r\nQ 2594 391 2855 752 \r\nQ 3116 1113 3116 1747 \r\nz\r\n\" id=\"DejaVuSans-70\" transform=\"scale(0.015625)\"/>\r\n       <path d=\"M 1959 3097 \r\nQ 1497 3097 1228 2736 \r\nQ 959 2375 959 1747 \r\nQ 959 1119 1226 758 \r\nQ 1494 397 1959 397 \r\nQ 2419 397 2687 759 \r\nQ 2956 1122 2956 1747 \r\nQ 2956 2369 2687 2733 \r\nQ 2419 3097 1959 3097 \r\nz\r\nM 1959 3584 \r\nQ 2709 3584 3137 3096 \r\nQ 3566 2609 3566 1747 \r\nQ 3566 888 3137 398 \r\nQ 2709 -91 1959 -91 \r\nQ 1206 -91 779 398 \r\nQ 353 888 353 1747 \r\nQ 353 2609 779 3096 \r\nQ 1206 3584 1959 3584 \r\nz\r\n\" id=\"DejaVuSans-6f\" transform=\"scale(0.015625)\"/>\r\n       <path d=\"M 3513 2113 \r\nL 3513 0 \r\nL 2938 0 \r\nL 2938 2094 \r\nQ 2938 2591 2744 2837 \r\nQ 2550 3084 2163 3084 \r\nQ 1697 3084 1428 2787 \r\nQ 1159 2491 1159 1978 \r\nL 1159 0 \r\nL 581 0 \r\nL 581 3500 \r\nL 1159 3500 \r\nL 1159 2956 \r\nQ 1366 3272 1645 3428 \r\nQ 1925 3584 2291 3584 \r\nQ 2894 3584 3203 3211 \r\nQ 3513 2838 3513 2113 \r\nz\r\n\" id=\"DejaVuSans-6e\" transform=\"scale(0.015625)\"/>\r\n       <path d=\"M 3122 3366 \r\nL 3122 2828 \r\nQ 2878 2963 2633 3030 \r\nQ 2388 3097 2138 3097 \r\nQ 1578 3097 1268 2742 \r\nQ 959 2388 959 1747 \r\nQ 959 1106 1268 751 \r\nQ 1578 397 2138 397 \r\nQ 2388 397 2633 464 \r\nQ 2878 531 3122 666 \r\nL 3122 134 \r\nQ 2881 22 2623 -34 \r\nQ 2366 -91 2075 -91 \r\nQ 1284 -91 818 406 \r\nQ 353 903 353 1747 \r\nQ 353 2603 823 3093 \r\nQ 1294 3584 2113 3584 \r\nQ 2378 3584 2631 3529 \r\nQ 2884 3475 3122 3366 \r\nz\r\n\" id=\"DejaVuSans-63\" transform=\"scale(0.015625)\"/>\r\n      </defs>\r\n      <use xlink:href=\"#DejaVuSans-69\"/>\r\n      <use x=\"27.783203\" xlink:href=\"#DejaVuSans-6d\"/>\r\n      <use x=\"125.195312\" xlink:href=\"#DejaVuSans-70\"/>\r\n      <use x=\"188.671875\" xlink:href=\"#DejaVuSans-6f\"/>\r\n      <use x=\"249.853516\" xlink:href=\"#DejaVuSans-72\"/>\r\n      <use x=\"290.966797\" xlink:href=\"#DejaVuSans-74\"/>\r\n      <use x=\"330.175781\" xlink:href=\"#DejaVuSans-61\"/>\r\n      <use x=\"391.455078\" xlink:href=\"#DejaVuSans-6e\"/>\r\n      <use x=\"454.833984\" xlink:href=\"#DejaVuSans-63\"/>\r\n      <use x=\"509.814453\" xlink:href=\"#DejaVuSans-65\"/>\r\n     </g>\r\n    </g>\r\n   </g>\r\n  </g>\r\n </g>\r\n <defs>\r\n  <clipPath id=\"pbec6f526b9\">\r\n   <rect height=\"217.44\" width=\"334.8\" x=\"67.048438\" y=\"7.2\"/>\r\n  </clipPath>\r\n </defs>\r\n</svg>\r\n",
      "image/png": "[encoded data removed]"
     },
     "metadata": {
      "needs_background": "light"
     }
    }
   ],
   "source": [
    "df.plot.barh('features', 'importance')\n",
    "plt.show()"
   ]
  },
  {
   "cell_type": "code",
   "execution_count": null,
   "metadata": {},
   "outputs": [],
   "source": [
    "# Map.addLayer(image, {'bands': ['B4', 'B3', 'B2'], 'min': 0.0, 'max': 0.3, 'gamma': 2}, 'True colour composite')\n"
   ]
  },
  {
   "source": [
    "cropmask = Imageclassified.eq(1)\n",
    "# vis = {'pallete':['#18d848']}\n",
    "Map.addLayer(cropmask,{'color':'green'}, 'Vegetation')\n",
    "\n",
    "cropmask = Imageclassified.eq(2)\n",
    "\n",
    "cropmaskdd = cropmask.updateMask(cropmask)\n",
    "\n",
    "cropmask_vec = cropmaskdd.reduceToVectors(\n",
    "    geometryType= 'polygon',\n",
    "    reducer= ee.Reducer.countEvery(),\n",
    "    scale= 10,\n",
    "    maxPixels= 1e13,\n",
    "    geometry= aoi\n",
    ")\n",
    "Map.addLayer(cropmask_vec, {'color':'green'}, 'Crop Mask')"
   ],
   "cell_type": "code",
   "metadata": {},
   "execution_count": 11,
   "outputs": []
  },
  {
   "cell_type": "code",
   "execution_count": 15,
   "metadata": {
    "tags": []
   },
   "outputs": [],
   "source": [
    "# #convert to Vector\n",
    "# cropmask = Imageclassified.eq(1)\n",
    "\n",
    "# vector_cropmask = cropmask.updateMask(cropmask).reduceToVectors(\n",
    "#     reducer=ee.Reducer.countEvery(),\n",
    "#     geometry= aoi,\n",
    "#     scale=10,\n",
    "#     maxPixels=1e13)\n",
    "# def sim(nna):\n",
    "#     return nna.simplify(maxError = 100)\n",
    "# vector_cropmask = vector_cropmask.map(sim)\n",
    "# cropmaskVec = cropmask.reduceToVectors({\n",
    "#     # 'geometryType': 'polygon',\n",
    "#   'reducer': ee.Reducer.countEvery(),\n",
    "#   'scale': 10,\n",
    "#   'geometry':aoi,\n",
    "# })\n",
    "\n",
    "# vector_img = Imageclassified.unmask(0).reduceToVectors(\n",
    "#         geometry = aoi,\n",
    "#         scale = 10,\n",
    "#         maxPixels = 1e13,\n",
    "#         bestEffort =True\n",
    "#     )\n",
    "# taskvec = ee.batch.Export.table.toAsset(collection=vector_cropmask,\n",
    "# description= 'Vegetation mask', assetId= 'users/aadebowaledaniel/vegetationmask')\n",
    "# taskvec.start()\n",
    "# #Monitor the task\n",
    "# while taskvec.status()['state'] in ['READY', 'RUNNING']:\n",
    "#   print(taskvec.status())\n",
    "#   time.sleep(5)\n",
    "# else:\n",
    "#   print(taskvec.status())"
   ]
  }
 ],
 "metadata": {
  "kernelspec": {
   "name": "python392jvsc74a57bd0d3fecb5d2ddc39decba3217e5b08eccf3c913a59c9490f56a00feb9cdb9b46e1",
   "display_name": "Python 3.9.2 64-bit ('nasahv-env': conda)"
  },
  "language_info": {
   "codemirror_mode": {
    "name": "ipython",
    "version": 3
   },
   "file_extension": ".py",
   "mimetype": "text/x-python",
   "name": "python",
   "nbconvert_exporter": "python",
   "pygments_lexer": "ipython3",
   "version": "3.9.2"
  }
 },
 "nbformat": 4,
 "nbformat_minor": 2
}