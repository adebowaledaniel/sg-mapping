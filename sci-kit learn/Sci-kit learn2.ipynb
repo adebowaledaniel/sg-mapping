{
 "cells": [
  {
   "cell_type": "code",
   "execution_count": 18,
   "id": "7253a385",
   "metadata": {},
   "outputs": [],
   "source": [
    "from os import path as op\n",
    "import pandas as pd\n",
    "import geopandas as gp\n",
    "import matplotlib.pyplot as plt\n",
    "import numpy as np\n",
    "import rasterio\n",
    "from rasterio.features import rasterize\n",
    "from rasterstats.io import bounds_window\n",
    "from rasterio.plot import reshape_as_raster, reshape_as_image\n",
    "\n",
    "from sklearn.metrics import log_loss\n",
    "from sklearn.metrics import confusion_matrix\n",
    "from sklearn.metrics import classification_report\n",
    "from sklearn.model_selection import train_test_split\n",
    "from sklearn.ensemble import RandomForestClassifier\n",
    "# from treeinterpreter import treeinterpreter as ti"
   ]
  },
  {
   "cell_type": "code",
   "execution_count": 19,
   "id": "799fefb4",
   "metadata": {},
   "outputs": [],
   "source": [
    "#read path to dataset\n",
    "#image\n",
    "img_path = '.\\data\\Opt_SAR_Stack.tif'\n",
    "#traing and test dataset\n",
    "tp_src = gp.read_file('.\\data\\sgcplot.shp')\n",
    "tp_crop = gp.read_file('.\\data\\croplabel.shp')\n",
    "tp_ncrop = gp.read_file(r'.\\data\\noncroplabel.shp')\n",
    "# img_path"
   ]
  },
  {
   "cell_type": "code",
   "execution_count": 20,
   "id": "161006bb",
   "metadata": {},
   "outputs": [
    {
     "data": {
      "text/html": [
       "<div>\n",
       "<style scoped>\n",
       "    .dataframe tbody tr th:only-of-type {\n",
       "        vertical-align: middle;\n",
       "    }\n",
       "\n",
       "    .dataframe tbody tr th {\n",
       "        vertical-align: top;\n",
       "    }\n",
       "\n",
       "    .dataframe thead th {\n",
       "        text-align: right;\n",
       "    }\n",
       "</style>\n",
       "<table border=\"1\" class=\"dataframe\">\n",
       "  <thead>\n",
       "    <tr style=\"text-align: right;\">\n",
       "      <th></th>\n",
       "      <th>label</th>\n",
       "      <th>geometry</th>\n",
       "    </tr>\n",
       "  </thead>\n",
       "  <tbody>\n",
       "    <tr>\n",
       "      <th>173</th>\n",
       "      <td>0</td>\n",
       "      <td>POLYGON Z ((648605.608 9905622.155 0.000, 6486...</td>\n",
       "    </tr>\n",
       "    <tr>\n",
       "      <th>174</th>\n",
       "      <td>0</td>\n",
       "      <td>POLYGON Z ((649982.321 9906989.082 0.000, 6500...</td>\n",
       "    </tr>\n",
       "    <tr>\n",
       "      <th>175</th>\n",
       "      <td>0</td>\n",
       "      <td>POLYGON Z ((651832.614 9919062.149 0.000, 6518...</td>\n",
       "    </tr>\n",
       "    <tr>\n",
       "      <th>176</th>\n",
       "      <td>0</td>\n",
       "      <td>POLYGON Z ((651766.644 9918838.993 0.000, 6517...</td>\n",
       "    </tr>\n",
       "    <tr>\n",
       "      <th>177</th>\n",
       "      <td>0</td>\n",
       "      <td>POLYGON Z ((649204.564 9918381.849 0.000, 6492...</td>\n",
       "    </tr>\n",
       "  </tbody>\n",
       "</table>\n",
       "</div>"
      ],
      "text/plain": [
       "     label                                           geometry\n",
       "173      0  POLYGON Z ((648605.608 9905622.155 0.000, 6486...\n",
       "174      0  POLYGON Z ((649982.321 9906989.082 0.000, 6500...\n",
       "175      0  POLYGON Z ((651832.614 9919062.149 0.000, 6518...\n",
       "176      0  POLYGON Z ((651766.644 9918838.993 0.000, 6517...\n",
       "177      0  POLYGON Z ((649204.564 9918381.849 0.000, 6492..."
      ]
     },
     "execution_count": 20,
     "metadata": {},
     "output_type": "execute_result"
    }
   ],
   "source": [
    "crop_label = tp_src.append(tp_crop).append(tp_ncrop)\n",
    "crop_label = crop_label.to_crs(32736)\n",
    "crop_label.tail()"
   ]
  },
  {
   "cell_type": "code",
   "execution_count": 21,
   "id": "eb46d688",
   "metadata": {},
   "outputs": [
    {
     "data": {
      "text/plain": [
       "array([0, 1], dtype=int64)"
      ]
     },
     "execution_count": 21,
     "metadata": {},
     "output_type": "execute_result"
    }
   ],
   "source": [
    "classes = np.unique(crop_label.label)\n",
    "classes"
   ]
  },
  {
   "cell_type": "code",
   "execution_count": 22,
   "id": "999a9ad2",
   "metadata": {},
   "outputs": [
    {
     "data": {
      "text/plain": [
       "{0: 0, 1: 1}"
      ]
     },
     "execution_count": 22,
     "metadata": {},
     "output_type": "execute_result"
    }
   ],
   "source": [
    "class_dict = dict(zip(classes, range(len(classes))))\n",
    "class_dict"
   ]
  },
  {
   "cell_type": "code",
   "execution_count": 23,
   "id": "4680e4c9",
   "metadata": {},
   "outputs": [],
   "source": [
    "#Band list\n",
    "all_band = [\"B2\", \"B3\", \"B4\", \"B8\", \"B5\", \"B6\", \"B7\", \"B8A\", \"B9\", \"B11\", \"B12\", \"NDVI\", \"EVI\", \"GCVI\", \"RDGCVI\", \"NDWI\", \"VH\", \"VV\", \"Sarrtio\", \"Sardiff\"]"
   ]
  },
  {
   "cell_type": "markdown",
   "id": "9733116f",
   "metadata": {},
   "source": [
    "## Sample Extraction"
   ]
  },
  {
   "cell_type": "code",
   "execution_count": 24,
   "id": "72a35c7e",
   "metadata": {},
   "outputs": [],
   "source": [
    "def all_value(x):\n",
    "    return x\n",
    "\n",
    "X_raw = []\n",
    "y_raw = []\n",
    "\n",
    "with rasterio.open(img_path, 'r') as src:\n",
    "    for (label, geom) in zip(crop_label.label, crop_label.geometry):\n",
    "        \n",
    "        # read the raster data matching the geometry bounds\n",
    "        window = bounds_window(geom.bounds, src.transform)\n",
    "        # store our window information\n",
    "        window_affine = src.window_transform(window)\n",
    "        fsrc = src.read(window=window)\n",
    "        # rasterize the geometry into the larger shape and affine\n",
    "        mask = rasterize(\n",
    "            [(geom, 1)],\n",
    "            out_shape=fsrc.shape[1:],\n",
    "            transform=window_affine,\n",
    "            fill=0,\n",
    "            dtype='uint8',\n",
    "            all_touched=True\n",
    "        ).astype(bool)\n",
    "        \n",
    "       # for each label pixel (places where the mask is true)\n",
    "        label_pixels = np.argwhere(mask)\n",
    "        \n",
    "        for (row, col) in label_pixels:\n",
    "            # add a pixel of data to X\n",
    "            data = fsrc[:,row,col]\n",
    "            one_x = np.nan_to_num(data, nan=1e-3)\n",
    "            X_raw.append(one_x)\n",
    "            # add the label to y\n",
    "            y_raw.append(class_dict[label])\n"
   ]
  },
  {
   "cell_type": "code",
   "execution_count": 25,
   "id": "41ea8dd0",
   "metadata": {},
   "outputs": [],
   "source": [
    "# print(y_raw)"
   ]
  },
  {
   "cell_type": "code",
   "execution_count": 26,
   "id": "09b57567",
   "metadata": {},
   "outputs": [
    {
     "data": {
      "text/plain": [
       "((11076, 20), (11076,))"
      ]
     },
     "execution_count": 26,
     "metadata": {},
     "output_type": "execute_result"
    }
   ],
   "source": [
    "# convert the training data lists into the appropriate numpy array shape and format for scikit-learn\n",
    "X = np.array(X_raw)\n",
    "y = np.array(y_raw)\n",
    "(X.shape, y.shape)"
   ]
  },
  {
   "cell_type": "markdown",
   "id": "f1cf7cd5",
   "metadata": {},
   "source": [
    "### Random Forest model"
   ]
  },
  {
   "cell_type": "code",
   "execution_count": 27,
   "id": "4cb81185",
   "metadata": {},
   "outputs": [],
   "source": [
    "# split the data into test and train sets\n",
    "X_train, X_test, y_train, y_test = train_test_split(X, y, test_size=0.3, random_state=42)"
   ]
  },
  {
   "cell_type": "code",
   "execution_count": 28,
   "id": "671a98cd",
   "metadata": {},
   "outputs": [
    {
     "data": {
      "text/plain": [
       "{0: 0.0003484320557491289, 1: 0.00020479213598197828}"
      ]
     },
     "execution_count": 28,
     "metadata": {},
     "output_type": "execute_result"
    }
   ],
   "source": [
    "# calculate class weights to allow for training on inbalanced training samples\n",
    "labels, counts = np.unique(y_train, return_counts=True)\n",
    "class_weight_dict = dict(zip(labels, 1 / counts))\n",
    "class_weight_dict"
   ]
  },
  {
   "cell_type": "code",
   "execution_count": 29,
   "id": "4afc7afd",
   "metadata": {},
   "outputs": [],
   "source": [
    "# initialize a RandomForestClassifier\n",
    "clf = RandomForestClassifier(\n",
    "    n_estimators=100,\n",
    "    class_weight=class_weight_dict,\n",
    "    max_depth=6,\n",
    "    n_jobs=-3,\n",
    "    random_state=0)"
   ]
  },
  {
   "cell_type": "code",
   "execution_count": 30,
   "id": "45074043",
   "metadata": {
    "scrolled": false
   },
   "outputs": [
    {
     "data": {
      "text/plain": [
       "RandomForestClassifier(max_depth=6, n_jobs=-3, random_state=0)"
      ]
     },
     "execution_count": 30,
     "metadata": {},
     "output_type": "execute_result"
    }
   ],
   "source": [
    "# fit the model to the data (training)\n",
    "clf.fit(X, y)"
   ]
  },
  {
   "cell_type": "markdown",
   "id": "892d830b",
   "metadata": {},
   "source": [
    "### Prediction report"
   ]
  },
  {
   "cell_type": "code",
   "execution_count": 31,
   "id": "485d4f8b",
   "metadata": {
    "scrolled": true
   },
   "outputs": [
    {
     "name": "stdout",
     "output_type": "stream",
     "text": [
      "Confusion Matrix: [[ 671  540]\n",
      " [  37 2075]]\n"
     ]
    }
   ],
   "source": [
    "# predict on X_test to evaluate the model\n",
    "preds = clf.predict(X_test)\n",
    "cm = confusion_matrix(y_test, preds, labels=labels)\n",
    "print('Confusion Matrix:',cm) #confusion matrix"
   ]
  },
  {
   "cell_type": "code",
   "execution_count": 32,
   "id": "1b319b55",
   "metadata": {},
   "outputs": [
    {
     "name": "stdout",
     "output_type": "stream",
     "text": [
      "Overall accuracy: 0.826361721336142\n"
     ]
    }
   ],
   "source": [
    "from sklearn.metrics import accuracy_score\n",
    "predaccuracy = accuracy_score(y_test, preds)\n",
    "print('Overall accuracy:', predaccuracy)"
   ]
  },
  {
   "cell_type": "code",
   "execution_count": 33,
   "id": "49c512b8",
   "metadata": {
    "scrolled": true
   },
   "outputs": [
    {
     "name": "stdout",
     "output_type": "stream",
     "text": [
      "              precision    recall  f1-score   support\n",
      "\n",
      "           0       0.95      0.55      0.70      1211\n",
      "           1       0.79      0.98      0.88      2112\n",
      "\n",
      "    accuracy                           0.83      3323\n",
      "   macro avg       0.87      0.77      0.79      3323\n",
      "weighted avg       0.85      0.83      0.81      3323\n",
      "\n"
     ]
    }
   ],
   "source": [
    "print(classification_report(y_test, preds, labels=labels))"
   ]
  },
  {
   "cell_type": "code",
   "execution_count": 34,
   "id": "87b1726c",
   "metadata": {
    "scrolled": true
   },
   "outputs": [
    {
     "data": {
      "image/png": "[encoded data removed]",
      "text/plain": [
       "<Figure size 1512x720 with 1 Axes>"
      ]
     },
     "metadata": {
      "needs_background": "light"
     },
     "output_type": "display_data"
    }
   ],
   "source": [
    "#feature importance\n",
    "importance = pd.Series(clf.feature_importances_)\n",
    "x_labels = all_band\n",
    "fig, ax = plt.subplots()\n",
    "importance.plot.bar(ax=ax)\n",
    "ax.set_title(\"Feature importances using MDI\")\n",
    "ax.set_ylabel(\"Mean decrease in impurity\")\n",
    "ax.set_xticklabels(x_labels)\n",
    "fig.set_size_inches(21, 10)\n",
    "fig.tight_layout()"
   ]
  },
  {
   "cell_type": "code",
   "execution_count": 35,
   "id": "9efbe35b",
   "metadata": {},
   "outputs": [],
   "source": [
    "#output path\n",
    "out_dir = r'C:.\\Sugarcane\\sci-kit learn\\result' "
   ]
  },
  {
   "cell_type": "markdown",
   "id": "2646549d",
   "metadata": {},
   "source": [
    "## Image Classification"
   ]
  },
  {
   "cell_type": "code",
   "execution_count": 36,
   "id": "62159bda",
   "metadata": {},
   "outputs": [],
   "source": [
    "# predict over the entire input image\n",
    "new_image = img_path\n",
    "\n",
    "# specify the output\n",
    "output_image = op.join(out_dir, \"classification.tif\")\n",
    "\n",
    "with rasterio.open(new_image, 'r') as src:\n",
    "    profile = src.profile\n",
    "    profile.update(\n",
    "        dtype=rasterio.uint8,\n",
    "        count=1,\n",
    "    )\n",
    "    with rasterio.open(output_image, 'w', **profile) as dst:\n",
    "\n",
    "        data = src.read() #this read the image array as (bands, row, columns)\n",
    "        temp = reshape_as_image(data) #--solution #:)\n",
    "#         temp = data.transpose(2,1,0)#(rows, cols, layer) --error source\n",
    "        temp_ = temp.reshape(-1, temp.shape[-1])#2d (all pixel in rows against the features)\n",
    "        to_predict = np.nan_to_num(temp_, nan=-99999.999)\n",
    "        \n",
    "        #predict\n",
    "        img_preds = clf.predict(to_predict)\n",
    "        #restore to initial dimension\n",
    "        output = img_preds.reshape(*temp.shape[:-1])\n",
    "        #write output\n",
    "        dst.write(output.astype(rasterio.uint8), 1)\n",
    "        "
   ]
  },
  {
   "cell_type": "code",
   "execution_count": 37,
   "id": "57243305",
   "metadata": {},
   "outputs": [],
   "source": [
    "output_image = r'C:.\\Sugarcane\\sci-kit learn\\result\\classification.tif' #output path"
   ]
  },
  {
   "cell_type": "code",
   "execution_count": 41,
   "id": "682c6172",
   "metadata": {},
   "outputs": [],
   "source": [
    "from rasterio.plot import show\n",
    "def linear_rescale(image, in_range=(0, 1), out_range=(1, 255)):\n",
    "    imin, imax = in_range\n",
    "    omin, omax = out_range\n",
    "    image = np.clip(image, imin, imax) - imin\n",
    "    image = image / np.float64(imax - imin)\n",
    "    return image * (omax - omin) + omin\n",
    "\n",
    "\n",
    "with rasterio.open(output_image, 'r') as class_raster:\n",
    "#  show(class_raster)\n",
    "  classes = class_raster.read()\n",
    "    \n",
    "with rasterio.open(img_path, 'r') as s2_raster:\n",
    "#  show(s2_raster)\n",
    "  s2 = s2_raster.read([1,2,3])\n",
    "  for band in range(s2.shape[0]):\n",
    "    s2[band] = linear_rescale(\n",
    "            s2[band], \n",
    "            in_range=(0, 3000), \n",
    "            out_range=[0, 255]\n",
    "        )\n",
    "    s2 = s2.astype(np.uint8)\n",
    "fig, (ax1, ax2) = plt.subplots(ncols=2, nrows=1, figsize=(10, 4), sharey=True)\n",
    "show(classes, transform=class_raster.transform, ax=ax1)\n",
    "show(s2[[2,1,0], : , :], transform=s2_raster.transform, adjust='linear', ax=ax2)    "
   ]
  },
  {
   "cell_type": "code",
   "execution_count": 39,
   "id": "84b2522f",
   "metadata": {},
   "outputs": [],
   "source": [
    "#Numpy understand --\n",
    "\n",
    "# tp = data.transpose(2,1,0)\n",
    "# temp = tp.reshape(-1, tp.shape[-1]) #2d\n",
    "# nonan = np.nan_to_num(temp, nan=0.0)\n",
    "# nonan.shape\n",
    "# imp = SimpleImputer(missing_values=np.nan, strategy='mean')\n",
    "# imp = imp.fit(temp)\n",
    "# nwtemp = imp.transform(temp)\n",
    "# temp1d = temp.reshape(-1)\n",
    "# temp1d.shape\n",
    "# tp.shape\n",
    "# temp.shape\n",
    "# m = np.ma.masked_invalid(nwtemp)\n",
    "# tott = nwtemp[~m.mask].reshape(-1, nwtemp.shape[-1])\n",
    "# tott.shape\n",
    "# newarr = np.reshape(tott,temp.shape[-1])\n",
    "# newarr.shape"
   ]
  },
  {
   "cell_type": "code",
   "execution_count": 40,
   "id": "4a98eee2",
   "metadata": {},
   "outputs": [],
   "source": [
    "# x = np.zeros((3,4,5))\n",
    "# xx = np.moveaxis(x,0,2).reshape(-1, x.shape[-1])\n",
    "# xz = xx"
   ]
  }
 ],
 "metadata": {
  "kernelspec": {
   "display_name": "Python 3",
   "language": "python",
   "name": "python3"
  },
  "language_info": {
   "codemirror_mode": {
    "name": "ipython",
    "version": 3
   },
   "file_extension": ".py",
   "mimetype": "text/x-python",
   "name": "python",
   "nbconvert_exporter": "python",
   "pygments_lexer": "ipython3",
   "version": "3.7.10"
  }
 },
 "nbformat": 4,
 "nbformat_minor": 5
}
