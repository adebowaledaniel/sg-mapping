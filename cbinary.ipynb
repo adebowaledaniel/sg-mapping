{
 "cells": [
  {
   "cell_type": "code",
   "execution_count": 1,
   "metadata": {},
   "outputs": [],
   "source": [
    "import ee\n",
    "import geemap\n",
    "import numpy as np\n",
    "import time\n",
    "# import geopandas as gpd"
   ]
  },
  {
   "cell_type": "code",
   "execution_count": 2,
   "metadata": {},
   "outputs": [],
   "source": [
    "ee.Initialize()"
   ]
  },
  {
   "cell_type": "code",
   "execution_count": 3,
   "metadata": {},
   "outputs": [],
   "source": [
    "#shp path\n",
    "tp_crop ='crop_pt.shp'\n",
    "tp_non_crop = 'non_crop_pt.shp'\n",
    "\n",
    "#ee object\n",
    "crop_ee = geemap.shp_to_ee(tp_crop)\n",
    "noncrop_ee = geemap.shp_to_ee(tp_non_crop)\n",
    "#feature collection\n",
    "fc = crop_ee.merge(noncrop_ee)\n",
    "#define bounding box\n",
    "bbox = ee.Geometry.bounds(fc)\n",
    "aoi = bbox\n",
    "#TODO #read about system.index"
   ]
  },
  {
   "cell_type": "code",
   "execution_count": 4,
   "metadata": {},
   "outputs": [],
   "source": [
    "sdate= '2020-04-01'\n",
    "edate= '2020-08-31'\n",
    "\n",
    "#cloud mask function\n",
    "def clmask(image):\n",
    "    qa = image.select('QA60')\n",
    "    return image.updateMask(qa.lt(1)).divide(10000)\n",
    "\n",
    "\n",
    "imgcollection = ee.ImageCollection(\"COPERNICUS/S2_SR\")\\\n",
    "    .filterBounds(aoi)\\\n",
    "        .filterDate(sdate, edate)\\\n",
    "            .filter(ee.Filter.lt('CLOUDY_PIXEL_PERCENTAGE', 5))\\\n",
    "                .filter(ee.Filter.lt('CLOUD_COVERAGE_ASSESSMENT',5))\\\n",
    "                    .map(clmask)\n",
    "\n",
    "image = imgcollection.median()"
   ]
  },
  {
   "cell_type": "code",
   "execution_count": 8,
   "metadata": {},
   "outputs": [],
   "source": [
    "def Veg_Index(image_name):\n",
    "    #NDVI\n",
    "    ndvi = image_name.expression(\n",
    "        '(NIR+RED)/(NIR - RED)', {\n",
    "            'NIR': image_name.select('B8'),\n",
    "            'RED': image_name.select('B4')\n",
    "        }).rename('NDVI')\n",
    "    #EVI\n",
    "    evi = image_name.expression(\n",
    "    '2.5 * ((NIR - RED) / (NIR + 6 * RED - 7.5 * BLUE + 1))',{\n",
    "        'NIR': image_name.select('B8'),\n",
    "        'RED': image_name.select('B4'),\n",
    "        'BLUE': image_name.select('B2')\n",
    "    }).rename('EVI')\n",
    "    #GCVI\n",
    "    gcvi = image_name.expression(\n",
    "    '(NIR / GREEN) - 1',{\n",
    "        'NIR':image_name.select('B8'),\n",
    "        'GREEN':image_name.select('B3')\n",
    "    }).rename('GCVI')\n",
    "\n",
    "    return image_name.addBands(ndvi).addBands(evi).addBands(gcvi)"
   ]
  },
  {
   "cell_type": "code",
   "execution_count": null,
   "metadata": {},
   "outputs": [],
   "source": []
  },
  {
   "cell_type": "code",
   "execution_count": 9,
   "metadata": {},
   "outputs": [],
   "source": [
    "bb = Veg_Index(image)"
   ]
  },
  {
   "cell_type": "code",
   "execution_count": 11,
   "metadata": {},
   "outputs": [],
   "source": [
    "#get band properties -https://gis.stackexchange.com/questions/395579/blank-image-pansharpening-sentinel-2-imagery-in-google-earth-engine\n",
    "band3 = image.select('B3')\n",
    "proj = band3.projection().getInfo()\n",
    "crs = proj['crs']\n",
    "#resample the resolution\n",
    "band20m = image.select('B8A', 'B11', 'B12')\n",
    "swir_b10m = band20m.resample('bilinear').reproject(crs=crs, scale=10.0).rename('B8Ar','B11r', 'B12r')\n",
    "image = image.addBands(swir_b10m)\n",
    "\n",
    "\n",
    "#Vegetation Index \n",
    "#other VI to consider GNDVI - https://pro.arcgis.com/en/pro-app/latest/arcpy/image-analyst/gnvdi.htm\n",
    "def Veg_Index(image_name):\n",
    "    #NDVI\n",
    "    ndvi = image_name.expression(\n",
    "        '(NIR+RED)/(NIR - RED)', {\n",
    "            'NIR': image_name.select('B8'),\n",
    "            'RED': image_name.select('B4')\n",
    "        }).rename('NDVI')\n",
    "    #EVI\n",
    "    evi = image_name.expression(\n",
    "    '2.5 * ((NIR - RED) / (NIR + 6 * RED - 7.5 * BLUE + 1))',{\n",
    "        'NIR': image_name.select('B8'),\n",
    "        'RED': image_name.select('B4'),\n",
    "        'BLUE': image_name.select('B2')\n",
    "    }).rename('EVI')\n",
    "    #GCVI\n",
    "    gcvi = image_name.expression(\n",
    "    '(NIR / GREEN) - 1',{\n",
    "        'NIR':image_name.select('B8'),\n",
    "        'GREEN':image_name.select('B3')\n",
    "    }).rename('GCVI')\n",
    "\n",
    "    return image_name.addBands(ndvi).addBands(evi).addBands(gcvi)\n",
    "with_vi = Veg_Index(image)    \n",
    "\n",
    "#select bands needed for the classification including NDVI\n",
    "band_sl = ('B2', 'B3', 'B4', 'B8', 'B8Ar', 'B11r', 'B12r', 'NDVI', 'GCVI', 'EVI' )\n",
    "#dataset for classification\n",
    "image_feature = with_vi.select(band_sl)\n",
    "\n",
    "image_feature = image_feature.clip(aoi)"
   ]
  },
  {
   "cell_type": "code",
   "execution_count": 12,
   "metadata": {
    "tags": [
     "outputPrepend"
    ]
   },
   "outputs": [
    {
     "output_type": "stream",
     "name": "stdout",
     "text": [
      "EGSYW27Y3SUI'}\n",
      "{'state': 'RUNNING', 'description': 'Compositeband', 'creation_timestamp_ms': 1620784938141, 'update_timestamp_ms': 1620785399357, 'start_timestamp_ms': 1620784958958, 'task_type': 'EXPORT_IMAGE', 'attempt': 1, 'id': 'FP4VZGG3MHGFEGSYW27Y3SUI', 'name': 'projects/earthengine-legacy/operations/FP4VZGG3MHGFEGSYW27Y3SUI'}\n",
      "{'state': 'RUNNING', 'description': 'Compositeband', 'creation_timestamp_ms': 1620784938141, 'update_timestamp_ms': 1620785459352, 'start_timestamp_ms': 1620784958958, 'task_type': 'EXPORT_IMAGE', 'attempt': 1, 'id': 'FP4VZGG3MHGFEGSYW27Y3SUI', 'name': 'projects/earthengine-legacy/operations/FP4VZGG3MHGFEGSYW27Y3SUI'}\n",
      "{'state': 'RUNNING', 'description': 'Compositeband', 'creation_timestamp_ms': 1620784938141, 'update_timestamp_ms': 1620785459352, 'start_timestamp_ms': 1620784958958, 'task_type': 'EXPORT_IMAGE', 'attempt': 1, 'id': 'FP4VZGG3MHGFEGSYW27Y3SUI', 'name': 'projects/earthengine-legacy/operations/FP4VZGG3MHGFEGSYW27Y3SUI'}\n",
      "{'state': 'RUNNING', 'description': 'Compositeband', 'creation_timestamp_ms': 1620784938141, 'update_timestamp_ms': 1620785459352, 'start_timestamp_ms': 1620784958958, 'task_type': 'EXPORT_IMAGE', 'attempt': 1, 'id': 'FP4VZGG3MHGFEGSYW27Y3SUI', 'name': 'projects/earthengine-legacy/operations/FP4VZGG3MHGFEGSYW27Y3SUI'}\n",
      "{'state': 'RUNNING', 'description': 'Compositeband', 'creation_timestamp_ms': 1620784938141, 'update_timestamp_ms': 1620785459352, 'start_timestamp_ms': 1620784958958, 'task_type': 'EXPORT_IMAGE', 'attempt': 1, 'id': 'FP4VZGG3MHGFEGSYW27Y3SUI', 'name': 'projects/earthengine-legacy/operations/FP4VZGG3MHGFEGSYW27Y3SUI'}\n",
      "{'state': 'RUNNING', 'description': 'Compositeband', 'creation_timestamp_ms': 1620784938141, 'update_timestamp_ms': 1620785459352, 'start_timestamp_ms': 1620784958958, 'task_type': 'EXPORT_IMAGE', 'attempt': 1, 'id': 'FP4VZGG3MHGFEGSYW27Y3SUI', 'name': 'projects/earthengine-legacy/operations/FP4VZGG3MHGFEGSYW27Y3SUI'}\n",
      "{'state': 'RUNNING', 'description': 'Compositeband', 'creation_timestamp_ms': 1620784938141, 'update_timestamp_ms': 1620785459352, 'start_timestamp_ms': 1620784958958, 'task_type': 'EXPORT_IMAGE', 'attempt': 1, 'id': 'FP4VZGG3MHGFEGSYW27Y3SUI', 'name': 'projects/earthengine-legacy/operations/FP4VZGG3MHGFEGSYW27Y3SUI'}\n",
      "{'state': 'RUNNING', 'description': 'Compositeband', 'creation_timestamp_ms': 1620784938141, 'update_timestamp_ms': 1620785459352, 'start_timestamp_ms': 1620784958958, 'task_type': 'EXPORT_IMAGE', 'attempt': 1, 'id': 'FP4VZGG3MHGFEGSYW27Y3SUI', 'name': 'projects/earthengine-legacy/operations/FP4VZGG3MHGFEGSYW27Y3SUI'}\n",
      "{'state': 'RUNNING', 'description': 'Compositeband', 'creation_timestamp_ms': 1620784938141, 'update_timestamp_ms': 1620785459352, 'start_timestamp_ms': 1620784958958, 'task_type': 'EXPORT_IMAGE', 'attempt': 1, 'id': 'FP4VZGG3MHGFEGSYW27Y3SUI', 'name': 'projects/earthengine-legacy/operations/FP4VZGG3MHGFEGSYW27Y3SUI'}\n",
      "{'state': 'RUNNING', 'description': 'Compositeband', 'creation_timestamp_ms': 1620784938141, 'update_timestamp_ms': 1620785459352, 'start_timestamp_ms': 1620784958958, 'task_type': 'EXPORT_IMAGE', 'attempt': 1, 'id': 'FP4VZGG3MHGFEGSYW27Y3SUI', 'name': 'projects/earthengine-legacy/operations/FP4VZGG3MHGFEGSYW27Y3SUI'}\n",
      "{'state': 'RUNNING', 'description': 'Compositeband', 'creation_timestamp_ms': 1620784938141, 'update_timestamp_ms': 1620785459352, 'start_timestamp_ms': 1620784958958, 'task_type': 'EXPORT_IMAGE', 'attempt': 1, 'id': 'FP4VZGG3MHGFEGSYW27Y3SUI', 'name': 'projects/earthengine-legacy/operations/FP4VZGG3MHGFEGSYW27Y3SUI'}\n",
      "{'state': 'RUNNING', 'description': 'Compositeband', 'creation_timestamp_ms': 1620784938141, 'update_timestamp_ms': 1620785459352, 'start_timestamp_ms': 1620784958958, 'task_type': 'EXPORT_IMAGE', 'attempt': 1, 'id': 'FP4VZGG3MHGFEGSYW27Y3SUI', 'name': 'projects/earthengine-legacy/operations/FP4VZGG3MHGFEGSYW27Y3SUI'}\n",
      "{'state': 'RUNNING', 'description': 'Compositeband', 'creation_timestamp_ms': 1620784938141, 'update_timestamp_ms': 1620785519351, 'start_timestamp_ms': 1620784958958, 'task_type': 'EXPORT_IMAGE', 'attempt': 1, 'id': 'FP4VZGG3MHGFEGSYW27Y3SUI', 'name': 'projects/earthengine-legacy/operations/FP4VZGG3MHGFEGSYW27Y3SUI'}\n",
      "{'state': 'RUNNING', 'description': 'Compositeband', 'creation_timestamp_ms': 1620784938141, 'update_timestamp_ms': 1620785519351, 'start_timestamp_ms': 1620784958958, 'task_type': 'EXPORT_IMAGE', 'attempt': 1, 'id': 'FP4VZGG3MHGFEGSYW27Y3SUI', 'name': 'projects/earthengine-legacy/operations/FP4VZGG3MHGFEGSYW27Y3SUI'}\n",
      "{'state': 'RUNNING', 'description': 'Compositeband', 'creation_timestamp_ms': 1620784938141, 'update_timestamp_ms': 1620785519351, 'start_timestamp_ms': 1620784958958, 'task_type': 'EXPORT_IMAGE', 'attempt': 1, 'id': 'FP4VZGG3MHGFEGSYW27Y3SUI', 'name': 'projects/earthengine-legacy/operations/FP4VZGG3MHGFEGSYW27Y3SUI'}\n",
      "{'state': 'RUNNING', 'description': 'Compositeband', 'creation_timestamp_ms': 1620784938141, 'update_timestamp_ms': 1620785519351, 'start_timestamp_ms': 1620784958958, 'task_type': 'EXPORT_IMAGE', 'attempt': 1, 'id': 'FP4VZGG3MHGFEGSYW27Y3SUI', 'name': 'projects/earthengine-legacy/operations/FP4VZGG3MHGFEGSYW27Y3SUI'}\n",
      "{'state': 'RUNNING', 'description': 'Compositeband', 'creation_timestamp_ms': 1620784938141, 'update_timestamp_ms': 1620785519351, 'start_timestamp_ms': 1620784958958, 'task_type': 'EXPORT_IMAGE', 'attempt': 1, 'id': 'FP4VZGG3MHGFEGSYW27Y3SUI', 'name': 'projects/earthengine-legacy/operations/FP4VZGG3MHGFEGSYW27Y3SUI'}\n",
      "{'state': 'RUNNING', 'description': 'Compositeband', 'creation_timestamp_ms': 1620784938141, 'update_timestamp_ms': 1620785519351, 'start_timestamp_ms': 1620784958958, 'task_type': 'EXPORT_IMAGE', 'attempt': 1, 'id': 'FP4VZGG3MHGFEGSYW27Y3SUI', 'name': 'projects/earthengine-legacy/operations/FP4VZGG3MHGFEGSYW27Y3SUI'}\n",
      "{'state': 'RUNNING', 'description': 'Compositeband', 'creation_timestamp_ms': 1620784938141, 'update_timestamp_ms': 1620785519351, 'start_timestamp_ms': 1620784958958, 'task_type': 'EXPORT_IMAGE', 'attempt': 1, 'id': 'FP4VZGG3MHGFEGSYW27Y3SUI', 'name': 'projects/earthengine-legacy/operations/FP4VZGG3MHGFEGSYW27Y3SUI'}\n",
      "{'state': 'RUNNING', 'description': 'Compositeband', 'creation_timestamp_ms': 1620784938141, 'update_timestamp_ms': 1620785519351, 'start_timestamp_ms': 1620784958958, 'task_type': 'EXPORT_IMAGE', 'attempt': 1, 'id': 'FP4VZGG3MHGFEGSYW27Y3SUI', 'name': 'projects/earthengine-legacy/operations/FP4VZGG3MHGFEGSYW27Y3SUI'}\n",
      "{'state': 'RUNNING', 'description': 'Compositeband', 'creation_timestamp_ms': 1620784938141, 'update_timestamp_ms': 1620785519351, 'start_timestamp_ms': 1620784958958, 'task_type': 'EXPORT_IMAGE', 'attempt': 1, 'id': 'FP4VZGG3MHGFEGSYW27Y3SUI', 'name': 'projects/earthengine-legacy/operations/FP4VZGG3MHGFEGSYW27Y3SUI'}\n",
      "{'state': 'RUNNING', 'description': 'Compositeband', 'creation_timestamp_ms': 1620784938141, 'update_timestamp_ms': 1620785519351, 'start_timestamp_ms': 1620784958958, 'task_type': 'EXPORT_IMAGE', 'attempt': 1, 'id': 'FP4VZGG3MHGFEGSYW27Y3SUI', 'name': 'projects/earthengine-legacy/operations/FP4VZGG3MHGFEGSYW27Y3SUI'}\n",
      "{'state': 'RUNNING', 'description': 'Compositeband', 'creation_timestamp_ms': 1620784938141, 'update_timestamp_ms': 1620785574745, 'start_timestamp_ms': 1620784958958, 'task_type': 'EXPORT_IMAGE', 'attempt': 1, 'id': 'FP4VZGG3MHGFEGSYW27Y3SUI', 'name': 'projects/earthengine-legacy/operations/FP4VZGG3MHGFEGSYW27Y3SUI'}\n",
      "{'state': 'RUNNING', 'description': 'Compositeband', 'creation_timestamp_ms': 1620784938141, 'update_timestamp_ms': 1620785574745, 'start_timestamp_ms': 1620784958958, 'task_type': 'EXPORT_IMAGE', 'attempt': 1, 'id': 'FP4VZGG3MHGFEGSYW27Y3SUI', 'name': 'projects/earthengine-legacy/operations/FP4VZGG3MHGFEGSYW27Y3SUI'}\n",
      "{'state': 'RUNNING', 'description': 'Compositeband', 'creation_timestamp_ms': 1620784938141, 'update_timestamp_ms': 1620785574745, 'start_timestamp_ms': 1620784958958, 'task_type': 'EXPORT_IMAGE', 'attempt': 1, 'id': 'FP4VZGG3MHGFEGSYW27Y3SUI', 'name': 'projects/earthengine-legacy/operations/FP4VZGG3MHGFEGSYW27Y3SUI'}\n",
      "{'state': 'RUNNING', 'description': 'Compositeband', 'creation_timestamp_ms': 1620784938141, 'update_timestamp_ms': 1620785574745, 'start_timestamp_ms': 1620784958958, 'task_type': 'EXPORT_IMAGE', 'attempt': 1, 'id': 'FP4VZGG3MHGFEGSYW27Y3SUI', 'name': 'projects/earthengine-legacy/operations/FP4VZGG3MHGFEGSYW27Y3SUI'}\n",
      "{'state': 'RUNNING', 'description': 'Compositeband', 'creation_timestamp_ms': 1620784938141, 'update_timestamp_ms': 1620785574745, 'start_timestamp_ms': 1620784958958, 'task_type': 'EXPORT_IMAGE', 'attempt': 1, 'id': 'FP4VZGG3MHGFEGSYW27Y3SUI', 'name': 'projects/earthengine-legacy/operations/FP4VZGG3MHGFEGSYW27Y3SUI'}\n",
      "{'state': 'RUNNING', 'description': 'Compositeband', 'creation_timestamp_ms': 1620784938141, 'update_timestamp_ms': 1620785574745, 'start_timestamp_ms': 1620784958958, 'task_type': 'EXPORT_IMAGE', 'attempt': 1, 'id': 'FP4VZGG3MHGFEGSYW27Y3SUI', 'name': 'projects/earthengine-legacy/operations/FP4VZGG3MHGFEGSYW27Y3SUI'}\n",
      "{'state': 'RUNNING', 'description': 'Compositeband', 'creation_timestamp_ms': 1620784938141, 'update_timestamp_ms': 1620785574745, 'start_timestamp_ms': 1620784958958, 'task_type': 'EXPORT_IMAGE', 'attempt': 1, 'id': 'FP4VZGG3MHGFEGSYW27Y3SUI', 'name': 'projects/earthengine-legacy/operations/FP4VZGG3MHGFEGSYW27Y3SUI'}\n",
      "{'state': 'RUNNING', 'description': 'Compositeband', 'creation_timestamp_ms': 1620784938141, 'update_timestamp_ms': 1620785574745, 'start_timestamp_ms': 1620784958958, 'task_type': 'EXPORT_IMAGE', 'attempt': 1, 'id': 'FP4VZGG3MHGFEGSYW27Y3SUI', 'name': 'projects/earthengine-legacy/operations/FP4VZGG3MHGFEGSYW27Y3SUI'}\n",
      "{'state': 'RUNNING', 'description': 'Compositeband', 'creation_timestamp_ms': 1620784938141, 'update_timestamp_ms': 1620785574745, 'start_timestamp_ms': 1620784958958, 'task_type': 'EXPORT_IMAGE', 'attempt': 1, 'id': 'FP4VZGG3MHGFEGSYW27Y3SUI', 'name': 'projects/earthengine-legacy/operations/FP4VZGG3MHGFEGSYW27Y3SUI'}\n",
      "{'state': 'RUNNING', 'description': 'Compositeband', 'creation_timestamp_ms': 1620784938141, 'update_timestamp_ms': 1620785574745, 'start_timestamp_ms': 1620784958958, 'task_type': 'EXPORT_IMAGE', 'attempt': 1, 'id': 'FP4VZGG3MHGFEGSYW27Y3SUI', 'name': 'projects/earthengine-legacy/operations/FP4VZGG3MHGFEGSYW27Y3SUI'}\n",
      "{'state': 'RUNNING', 'description': 'Compositeband', 'creation_timestamp_ms': 1620784938141, 'update_timestamp_ms': 1620785574745, 'start_timestamp_ms': 1620784958958, 'task_type': 'EXPORT_IMAGE', 'attempt': 1, 'id': 'FP4VZGG3MHGFEGSYW27Y3SUI', 'name': 'projects/earthengine-legacy/operations/FP4VZGG3MHGFEGSYW27Y3SUI'}\n",
      "{'state': 'RUNNING', 'description': 'Compositeband', 'creation_timestamp_ms': 1620784938141, 'update_timestamp_ms': 1620785574745, 'start_timestamp_ms': 1620784958958, 'task_type': 'EXPORT_IMAGE', 'attempt': 1, 'id': 'FP4VZGG3MHGFEGSYW27Y3SUI', 'name': 'projects/earthengine-legacy/operations/FP4VZGG3MHGFEGSYW27Y3SUI'}\n",
      "{'state': 'RUNNING', 'description': 'Compositeband', 'creation_timestamp_ms': 1620784938141, 'update_timestamp_ms': 1620785574745, 'start_timestamp_ms': 1620784958958, 'task_type': 'EXPORT_IMAGE', 'attempt': 1, 'id': 'FP4VZGG3MHGFEGSYW27Y3SUI', 'name': 'projects/earthengine-legacy/operations/FP4VZGG3MHGFEGSYW27Y3SUI'}\n",
      "{'state': 'RUNNING', 'description': 'Compositeband', 'creation_timestamp_ms': 1620784938141, 'update_timestamp_ms': 1620785574745, 'start_timestamp_ms': 1620784958958, 'task_type': 'EXPORT_IMAGE', 'attempt': 1, 'id': 'FP4VZGG3MHGFEGSYW27Y3SUI', 'name': 'projects/earthengine-legacy/operations/FP4VZGG3MHGFEGSYW27Y3SUI'}\n",
      "{'state': 'RUNNING', 'description': 'Compositeband', 'creation_timestamp_ms': 1620784938141, 'update_timestamp_ms': 1620785574745, 'start_timestamp_ms': 1620784958958, 'task_type': 'EXPORT_IMAGE', 'attempt': 1, 'id': 'FP4VZGG3MHGFEGSYW27Y3SUI', 'name': 'projects/earthengine-legacy/operations/FP4VZGG3MHGFEGSYW27Y3SUI'}\n",
      "{'state': 'RUNNING', 'description': 'Compositeband', 'creation_timestamp_ms': 1620784938141, 'update_timestamp_ms': 1620785574745, 'start_timestamp_ms': 1620784958958, 'task_type': 'EXPORT_IMAGE', 'attempt': 1, 'id': 'FP4VZGG3MHGFEGSYW27Y3SUI', 'name': 'projects/earthengine-legacy/operations/FP4VZGG3MHGFEGSYW27Y3SUI'}\n",
      "{'state': 'RUNNING', 'description': 'Compositeband', 'creation_timestamp_ms': 1620784938141, 'update_timestamp_ms': 1620785574745, 'start_timestamp_ms': 1620784958958, 'task_type': 'EXPORT_IMAGE', 'attempt': 1, 'id': 'FP4VZGG3MHGFEGSYW27Y3SUI', 'name': 'projects/earthengine-legacy/operations/FP4VZGG3MHGFEGSYW27Y3SUI'}\n",
      "{'state': 'RUNNING', 'description': 'Compositeband', 'creation_timestamp_ms': 1620784938141, 'update_timestamp_ms': 1620785574745, 'start_timestamp_ms': 1620784958958, 'task_type': 'EXPORT_IMAGE', 'attempt': 1, 'id': 'FP4VZGG3MHGFEGSYW27Y3SUI', 'name': 'projects/earthengine-legacy/operations/FP4VZGG3MHGFEGSYW27Y3SUI'}\n",
      "{'state': 'RUNNING', 'description': 'Compositeband', 'creation_timestamp_ms': 1620784938141, 'update_timestamp_ms': 1620785574745, 'start_timestamp_ms': 1620784958958, 'task_type': 'EXPORT_IMAGE', 'attempt': 1, 'id': 'FP4VZGG3MHGFEGSYW27Y3SUI', 'name': 'projects/earthengine-legacy/operations/FP4VZGG3MHGFEGSYW27Y3SUI'}\n",
      "{'state': 'RUNNING', 'description': 'Compositeband', 'creation_timestamp_ms': 1620784938141, 'update_timestamp_ms': 1620785574745, 'start_timestamp_ms': 1620784958958, 'task_type': 'EXPORT_IMAGE', 'attempt': 1, 'id': 'FP4VZGG3MHGFEGSYW27Y3SUI', 'name': 'projects/earthengine-legacy/operations/FP4VZGG3MHGFEGSYW27Y3SUI'}\n",
      "{'state': 'RUNNING', 'description': 'Compositeband', 'creation_timestamp_ms': 1620784938141, 'update_timestamp_ms': 1620785574745, 'start_timestamp_ms': 1620784958958, 'task_type': 'EXPORT_IMAGE', 'attempt': 1, 'id': 'FP4VZGG3MHGFEGSYW27Y3SUI', 'name': 'projects/earthengine-legacy/operations/FP4VZGG3MHGFEGSYW27Y3SUI'}\n",
      "{'state': 'RUNNING', 'description': 'Compositeband', 'creation_timestamp_ms': 1620784938141, 'update_timestamp_ms': 1620785574745, 'start_timestamp_ms': 1620784958958, 'task_type': 'EXPORT_IMAGE', 'attempt': 1, 'id': 'FP4VZGG3MHGFEGSYW27Y3SUI', 'name': 'projects/earthengine-legacy/operations/FP4VZGG3MHGFEGSYW27Y3SUI'}\n",
      "{'state': 'RUNNING', 'description': 'Compositeband', 'creation_timestamp_ms': 1620784938141, 'update_timestamp_ms': 1620785574745, 'start_timestamp_ms': 1620784958958, 'task_type': 'EXPORT_IMAGE', 'attempt': 1, 'id': 'FP4VZGG3MHGFEGSYW27Y3SUI', 'name': 'projects/earthengine-legacy/operations/FP4VZGG3MHGFEGSYW27Y3SUI'}\n",
      "{'state': 'RUNNING', 'description': 'Compositeband', 'creation_timestamp_ms': 1620784938141, 'update_timestamp_ms': 1620785574745, 'start_timestamp_ms': 1620784958958, 'task_type': 'EXPORT_IMAGE', 'attempt': 1, 'id': 'FP4VZGG3MHGFEGSYW27Y3SUI', 'name': 'projects/earthengine-legacy/operations/FP4VZGG3MHGFEGSYW27Y3SUI'}\n",
      "{'state': 'RUNNING', 'description': 'Compositeband', 'creation_timestamp_ms': 1620784938141, 'update_timestamp_ms': 1620785574745, 'start_timestamp_ms': 1620784958958, 'task_type': 'EXPORT_IMAGE', 'attempt': 1, 'id': 'FP4VZGG3MHGFEGSYW27Y3SUI', 'name': 'projects/earthengine-legacy/operations/FP4VZGG3MHGFEGSYW27Y3SUI'}\n",
      "{'state': 'RUNNING', 'description': 'Compositeband', 'creation_timestamp_ms': 1620784938141, 'update_timestamp_ms': 1620785574745, 'start_timestamp_ms': 1620784958958, 'task_type': 'EXPORT_IMAGE', 'attempt': 1, 'id': 'FP4VZGG3MHGFEGSYW27Y3SUI', 'name': 'projects/earthengine-legacy/operations/FP4VZGG3MHGFEGSYW27Y3SUI'}\n",
      "{'state': 'RUNNING', 'description': 'Compositeband', 'creation_timestamp_ms': 1620784938141, 'update_timestamp_ms': 1620785574745, 'start_timestamp_ms': 1620784958958, 'task_type': 'EXPORT_IMAGE', 'attempt': 1, 'id': 'FP4VZGG3MHGFEGSYW27Y3SUI', 'name': 'projects/earthengine-legacy/operations/FP4VZGG3MHGFEGSYW27Y3SUI'}\n",
      "{'state': 'RUNNING', 'description': 'Compositeband', 'creation_timestamp_ms': 1620784938141, 'update_timestamp_ms': 1620785724747, 'start_timestamp_ms': 1620784958958, 'task_type': 'EXPORT_IMAGE', 'attempt': 1, 'id': 'FP4VZGG3MHGFEGSYW27Y3SUI', 'name': 'projects/earthengine-legacy/operations/FP4VZGG3MHGFEGSYW27Y3SUI'}\n",
      "{'state': 'RUNNING', 'description': 'Compositeband', 'creation_timestamp_ms': 1620784938141, 'update_timestamp_ms': 1620785724747, 'start_timestamp_ms': 1620784958958, 'task_type': 'EXPORT_IMAGE', 'attempt': 1, 'id': 'FP4VZGG3MHGFEGSYW27Y3SUI', 'name': 'projects/earthengine-legacy/operations/FP4VZGG3MHGFEGSYW27Y3SUI'}\n",
      "{'state': 'RUNNING', 'description': 'Compositeband', 'creation_timestamp_ms': 1620784938141, 'update_timestamp_ms': 1620785724747, 'start_timestamp_ms': 1620784958958, 'task_type': 'EXPORT_IMAGE', 'attempt': 1, 'id': 'FP4VZGG3MHGFEGSYW27Y3SUI', 'name': 'projects/earthengine-legacy/operations/FP4VZGG3MHGFEGSYW27Y3SUI'}\n",
      "{'state': 'RUNNING', 'description': 'Compositeband', 'creation_timestamp_ms': 1620784938141, 'update_timestamp_ms': 1620785724747, 'start_timestamp_ms': 1620784958958, 'task_type': 'EXPORT_IMAGE', 'attempt': 1, 'id': 'FP4VZGG3MHGFEGSYW27Y3SUI', 'name': 'projects/earthengine-legacy/operations/FP4VZGG3MHGFEGSYW27Y3SUI'}\n",
      "{'state': 'RUNNING', 'description': 'Compositeband', 'creation_timestamp_ms': 1620784938141, 'update_timestamp_ms': 1620785724747, 'start_timestamp_ms': 1620784958958, 'task_type': 'EXPORT_IMAGE', 'attempt': 1, 'id': 'FP4VZGG3MHGFEGSYW27Y3SUI', 'name': 'projects/earthengine-legacy/operations/FP4VZGG3MHGFEGSYW27Y3SUI'}\n",
      "{'state': 'RUNNING', 'description': 'Compositeband', 'creation_timestamp_ms': 1620784938141, 'update_timestamp_ms': 1620785724747, 'start_timestamp_ms': 1620784958958, 'task_type': 'EXPORT_IMAGE', 'attempt': 1, 'id': 'FP4VZGG3MHGFEGSYW27Y3SUI', 'name': 'projects/earthengine-legacy/operations/FP4VZGG3MHGFEGSYW27Y3SUI'}\n",
      "{'state': 'RUNNING', 'description': 'Compositeband', 'creation_timestamp_ms': 1620784938141, 'update_timestamp_ms': 1620785724747, 'start_timestamp_ms': 1620784958958, 'task_type': 'EXPORT_IMAGE', 'attempt': 1, 'id': 'FP4VZGG3MHGFEGSYW27Y3SUI', 'name': 'projects/earthengine-legacy/operations/FP4VZGG3MHGFEGSYW27Y3SUI'}\n",
      "{'state': 'RUNNING', 'description': 'Compositeband', 'creation_timestamp_ms': 1620784938141, 'update_timestamp_ms': 1620785724747, 'start_timestamp_ms': 1620784958958, 'task_type': 'EXPORT_IMAGE', 'attempt': 1, 'id': 'FP4VZGG3MHGFEGSYW27Y3SUI', 'name': 'projects/earthengine-legacy/operations/FP4VZGG3MHGFEGSYW27Y3SUI'}\n",
      "{'state': 'RUNNING', 'description': 'Compositeband', 'creation_timestamp_ms': 1620784938141, 'update_timestamp_ms': 1620785724747, 'start_timestamp_ms': 1620784958958, 'task_type': 'EXPORT_IMAGE', 'attempt': 1, 'id': 'FP4VZGG3MHGFEGSYW27Y3SUI', 'name': 'projects/earthengine-legacy/operations/FP4VZGG3MHGFEGSYW27Y3SUI'}\n",
      "{'state': 'RUNNING', 'description': 'Compositeband', 'creation_timestamp_ms': 1620784938141, 'update_timestamp_ms': 1620785724747, 'start_timestamp_ms': 1620784958958, 'task_type': 'EXPORT_IMAGE', 'attempt': 1, 'id': 'FP4VZGG3MHGFEGSYW27Y3SUI', 'name': 'projects/earthengine-legacy/operations/FP4VZGG3MHGFEGSYW27Y3SUI'}\n",
      "{'state': 'RUNNING', 'description': 'Compositeband', 'creation_timestamp_ms': 1620784938141, 'update_timestamp_ms': 1620785724747, 'start_timestamp_ms': 1620784958958, 'task_type': 'EXPORT_IMAGE', 'attempt': 1, 'id': 'FP4VZGG3MHGFEGSYW27Y3SUI', 'name': 'projects/earthengine-legacy/operations/FP4VZGG3MHGFEGSYW27Y3SUI'}\n",
      "{'state': 'RUNNING', 'description': 'Compositeband', 'creation_timestamp_ms': 1620784938141, 'update_timestamp_ms': 1620785724747, 'start_timestamp_ms': 1620784958958, 'task_type': 'EXPORT_IMAGE', 'attempt': 1, 'id': 'FP4VZGG3MHGFEGSYW27Y3SUI', 'name': 'projects/earthengine-legacy/operations/FP4VZGG3MHGFEGSYW27Y3SUI'}\n",
      "{'state': 'COMPLETED', 'description': 'Compositeband', 'creation_timestamp_ms': 1620784938141, 'update_timestamp_ms': 1620785790782, 'start_timestamp_ms': 1620784958958, 'task_type': 'EXPORT_IMAGE', 'destination_uris': ['https://code.earthengine.google.com/?asset=projects/earthengine-legacy/assets/users/aadebowaledaniel/cpclasscomposite'], 'attempt': 1, 'id': 'FP4VZGG3MHGFEGSYW27Y3SUI', 'name': 'projects/earthengine-legacy/operations/FP4VZGG3MHGFEGSYW27Y3SUI'}\n"
     ]
    }
   ],
   "source": [
    "#exprot to assest - Need review\\not working\n",
    "task = ee.batch.Export.image.toAsset(**{'image':image_feature,\n",
    "'description': 'Compositeband',\n",
    "'assetId':'users/aadebowaledaniel/cpclasscomposite', \n",
    "'scale': 10, \n",
    "'region':aoi.getInfo()['coordinates'],\n",
    "'maxPixels': 1e13,\n",
    "})\n",
    "task.start()\n",
    "#Monitor the task\n",
    "while task.status()['state'] in ['READY', 'RUNNING']:\n",
    "  print(task.status())\n",
    "  time.sleep(5)\n",
    "else:\n",
    "  print(task.status())"
   ]
  },
  {
   "cell_type": "code",
   "execution_count": 17,
   "metadata": {
    "tags": []
   },
   "outputs": [
    {
     "output_type": "stream",
     "name": "stdout",
     "text": [
      "{'state': 'COMPLETED', 'description': 'Compositeband', 'creation_timestamp_ms': 1620202099413, 'update_timestamp_ms': 1620202758608, 'start_timestamp_ms': 1620202115006, 'task_type': 'EXPORT_IMAGE', 'destination_uris': ['https://code.earthengine.google.com/?asset=projects/earthengine-legacy/assets/users/aadebowaledaniel/cbinary'], 'attempt': 1, 'id': 'GOSO2UFWSS2GSUKMXFOFFSMQ', 'name': 'projects/earthengine-legacy/operations/GOSO2UFWSS2GSUKMXFOFFSMQ'}\n"
     ]
    }
   ],
   "source": [
    "#Monitor the task\n",
    "while task.status()['state'] in ['READY', 'RUNNING']:\n",
    "  print(task.status())\n",
    "  time.sleep(5)\n",
    "else:\n",
    "  print(task.status())"
   ]
  },
  {
   "cell_type": "code",
   "execution_count": 4,
   "metadata": {},
   "outputs": [],
   "source": [
    "#import composite from asset\n",
    "predimage = ee.Image('users/aadebowaledaniel/cbinary')"
   ]
  },
  {
   "cell_type": "code",
   "execution_count": 5,
   "metadata": {},
   "outputs": [],
   "source": [
    "predbands = predimage.bandNames()"
   ]
  },
  {
   "cell_type": "code",
   "execution_count": 6,
   "metadata": {
    "tags": []
   },
   "outputs": [
    {
     "output_type": "stream",
     "name": "stdout",
     "text": [
      "Resubstitution error matrix:  [[463, 8], [0, 1790]]\n",
      "Training overall accuracy:  0.9964617425917736\n",
      "confusion Matrix [[136, 60], [25, 776]]\n",
      "Valdation overall accuracy: 0.9147442326980942\n"
     ]
    }
   ],
   "source": [
    "#continue from here\n",
    "trainingSample  = predimage.sampleRegions(\n",
    "    collection = fc,\n",
    "    properties=['label'],\n",
    "    scale = 10, \n",
    "    geometries = True\n",
    ")\n",
    "# trainingSample.size().getInfo()\n",
    "\n",
    "rantraning = trainingSample.randomColumn('random')\n",
    "split = 0.7\n",
    "trainsample = rantraning.filter(ee.Filter.lt('random', split))\n",
    "testsample = rantraning.filter(ee.Filter.gte('random', split))\n",
    "\n",
    "#train random forest classifier\n",
    "classifier = ee.Classifier.smileRandomForest(100).train(trainsample, 'label', predbands)\n",
    "\n",
    "\n",
    "#confusion matrix train Accurracy\n",
    "trainAccuracy = classifier.confusionMatrix()\n",
    "print('Resubstitution error matrix: ', trainAccuracy.getInfo())\n",
    "print('Training overall accuracy: ', trainAccuracy.accuracy().getInfo())\n",
    "\n",
    "#classify features\n",
    "testclassifier = testsample.classify(classifier)\n",
    "#cconfusion matrix representing expected accuracy\n",
    "testAccuracy = testclassifier.errorMatrix('label', 'classification')\n",
    "print('confusion Matrix', testAccuracy.getInfo())\n",
    "print('Valdation overall accuracy:', testAccuracy.accuracy().getInfo())\n",
    "\n",
    "#classify image\n",
    "Imageclassified = predimage.classify(classifier)\n",
    "# altImageclassified = predimage.classify(classifier)"
   ]
  },
  {
   "cell_type": "code",
   "execution_count": 7,
   "metadata": {},
   "outputs": [
    {
     "output_type": "display_data",
     "data": {
      "text/plain": "Map(center=[0.9613, 34.6536], controls=(WidgetControl(options=['position', 'transparent_bg'], widget=HBox(chil…",
      "application/vnd.jupyter.widget-view+json": {
       "version_major": 2,
       "version_minor": 0,
       "model_id": "7dd874a749a843c3ac5e4ec93df14132"
      }
     },
     "metadata": {}
    }
   ],
   "source": [
    "Map = geemap.Map(center=(0.9613,34.6536),zoom=8)\n",
    "Map"
   ]
  },
  {
   "cell_type": "code",
   "execution_count": 8,
   "metadata": {},
   "outputs": [],
   "source": [
    "Map.addLayer(predimage, {'bands': ['B4', 'B3', 'B2'], 'min': 0.0, 'max': 0.3, 'gamma': 2}, 'True colour composite')"
   ]
  },
  {
   "source": [
    "cropmask = Imageclassified.eq(1)\n",
    "# vis = {'pallete':['#18d848']}\n",
    "Map.addLayer(cropmask,{'color':'green'}, 'Vegetation')\n",
    "\n",
    "cropmask = Imageclassified.eq(2)\n",
    "\n",
    "cropmaskdd = cropmask.updateMask(cropmask)\n",
    "\n",
    "cropmask_vec = cropmaskdd.reduceToVectors(\n",
    "    geometryType= 'polygon',\n",
    "    reducer= ee.Reducer.countEvery(),\n",
    "    scale= 10,\n",
    "    maxPixels= 1e13,\n",
    "    geometry= aoi\n",
    ")\n",
    "Map.addLayer(cropmask_vec, {'color':'green'}, 'Crop Mask')"
   ],
   "cell_type": "code",
   "metadata": {},
   "execution_count": 11,
   "outputs": []
  },
  {
   "cell_type": "code",
   "execution_count": 15,
   "metadata": {
    "tags": []
   },
   "outputs": [],
   "source": [
    "# #convert to Vector\n",
    "# cropmask = Imageclassified.eq(1)\n",
    "\n",
    "# vector_cropmask = cropmask.updateMask(cropmask).reduceToVectors(\n",
    "#     reducer=ee.Reducer.countEvery(),\n",
    "#     geometry= aoi,\n",
    "#     scale=10,\n",
    "#     maxPixels=1e13)\n",
    "# def sim(nna):\n",
    "#     return nna.simplify(maxError = 100)\n",
    "# vector_cropmask = vector_cropmask.map(sim)\n",
    "# cropmaskVec = cropmask.reduceToVectors({\n",
    "#     # 'geometryType': 'polygon',\n",
    "#   'reducer': ee.Reducer.countEvery(),\n",
    "#   'scale': 10,\n",
    "#   'geometry':aoi,\n",
    "# })\n",
    "\n",
    "# vector_img = Imageclassified.unmask(0).reduceToVectors(\n",
    "#         geometry = aoi,\n",
    "#         scale = 10,\n",
    "#         maxPixels = 1e13,\n",
    "#         bestEffort =True\n",
    "#     )\n",
    "# taskvec = ee.batch.Export.table.toAsset(collection=vector_cropmask,\n",
    "# description= 'Vegetation mask', assetId= 'users/aadebowaledaniel/vegetationmask')\n",
    "# taskvec.start()\n",
    "# #Monitor the task\n",
    "# while taskvec.status()['state'] in ['READY', 'RUNNING']:\n",
    "#   print(taskvec.status())\n",
    "#   time.sleep(5)\n",
    "# else:\n",
    "#   print(taskvec.status())"
   ]
  },
  {
   "cell_type": "code",
   "execution_count": 13,
   "metadata": {},
   "outputs": [],
   "source": [
    "# vis_params = {'pallete':['E5FFCC',\n",
    "#             'D8D8D8',\n",
    "#             ]}\n",
    "# #{'min':0,'max':1,'palette':[\"green\",\"white\"]}            \n",
    "# Map.addLayer(Imageclassified,{}, 'Classified')"
   ]
  },
  {
   "cell_type": "code",
   "execution_count": null,
   "metadata": {},
   "outputs": [],
   "source": []
  }
 ],
 "metadata": {
  "kernelspec": {
   "name": "python392jvsc74a57bd0d3fecb5d2ddc39decba3217e5b08eccf3c913a59c9490f56a00feb9cdb9b46e1",
   "display_name": "Python 3.9.2 64-bit ('nasahv-env': conda)"
  },
  "language_info": {
   "codemirror_mode": {
    "name": "ipython",
    "version": 3
   },
   "file_extension": ".py",
   "mimetype": "text/x-python",
   "name": "python",
   "nbconvert_exporter": "python",
   "pygments_lexer": "ipython3",
   "version": "3.9.2"
  }
 },
 "nbformat": 4,
 "nbformat_minor": 2
}