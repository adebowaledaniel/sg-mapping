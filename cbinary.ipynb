{
 "cells": [
  {
   "cell_type": "code",
   "execution_count": 1,
   "metadata": {},
   "outputs": [],
   "source": [
    "import ee\n",
    "import geemap\n",
    "import numpy as np\n",
    "import time\n",
    "# import geopandas as gpd"
   ]
  },
  {
   "cell_type": "code",
   "execution_count": 2,
   "metadata": {},
   "outputs": [],
   "source": [
    "ee.Initialize()"
   ]
  },
  {
   "cell_type": "code",
   "execution_count": 3,
   "metadata": {},
   "outputs": [],
   "source": [
    "#shp path\n",
    "tp_crop ='crop_pt.shp'\n",
    "tp_non_crop = 'non_crop_pt.shp'\n",
    "#TODO training data explaination \n",
    "#ee object\n",
    "crop_ee = geemap.shp_to_ee(tp_crop)\n",
    "noncrop_ee = geemap.shp_to_ee(tp_non_crop)\n",
    "#feature collection\n",
    "fc = crop_ee.merge(noncrop_ee)\n",
    "#define bounding box\n",
    "bbox = ee.Geometry.bounds(fc)\n",
    "aoi = bbox\n",
    "#TODO #read about system.index"
   ]
  },
  {
   "cell_type": "code",
   "execution_count": 4,
   "metadata": {},
   "outputs": [],
   "source": [
    "#Sentinel 2 Image collection, cloudmask and mosaic\n",
    "sdate= '2020-05-01'\n",
    "edate= '2020-08-31'\n",
    "\n",
    "def cloud_prob():\n",
    "    innerJoined = ee.Join.inner().apply(**{\n",
    "        'primary':ee.ImageCollection(\"COPERNICUS/S2_SR\")\\\n",
    "            .filterBounds(aoi)\\\n",
    "                .filter(ee.Filter.lt('CLOUDY_PIXEL_PERCENTAGE',10)),\n",
    "         'secondary': ee.ImageCollection(\"COPERNICUS/S2_CLOUD_PROBABILITY\")\\\n",
    "            .filterBounds(aoi),       \n",
    "        'condition':ee.Filter.equals(**{\n",
    "            'leftField':'system:index',\n",
    "            'rightField':'system:index',\n",
    "        })\n",
    "    })\n",
    "    def mergeBands(joinresult):\n",
    "        return ee.Image(joinresult.get('primary'))\\\n",
    "            .addBands(joinresult.get('secondary'))\n",
    "    newCollection = innerJoined.map(mergeBands)\n",
    "    return ee.ImageCollection(newCollection)\n",
    "\n",
    "collection = cloud_prob().filterDate(sdate, edate)\n",
    "\n",
    "def maskcloud(_image):\n",
    "    cloudProbabilityThreshold =10\n",
    "    cloudMask = _image.select('probability').lt(cloudProbabilityThreshold)\n",
    "    return _image.updateMask(cloudMask)\n",
    "\n",
    "image = collection.map(maskcloud).median().clip(aoi)"
   ]
  },
  {
   "cell_type": "code",
   "execution_count": 5,
   "metadata": {},
   "outputs": [],
   "source": [
    "#Resolution merge of 20m bands to 10m -TODO explain the process\n",
    "panchro = (image.select('B2').add(image.select('B3'))\\\n",
    "               .add(image.select('B4')).add(image.select('B8')))\\\n",
    "               .divide(4).rename('pan')\n",
    "image = image.addBands(panchro)\n",
    "\n",
    "bands = ['B5','B6','B7','B8A','B9','B11','B12']\n",
    "\n",
    "def sharpen(image):\n",
    "    kernel = ee.Kernel.square(**{\n",
    "        'radius': 20,\n",
    "        'units':'meters'\n",
    "    })\n",
    "    toSharpen = image.select(bands)\n",
    "    pan = image.select('pan')\n",
    "    meanPan = pan.reduceNeighborhood(**{\n",
    "        'reducer' : ee.Reducer.mean(),\n",
    "        'kernel' : kernel\n",
    "    })\n",
    "    offset = pan.subtract(meanPan)\n",
    "    return toSharpen.add(offset)\n",
    "sharpened = sharpen(image)    "
   ]
  },
  {
   "cell_type": "code",
   "execution_count": 6,
   "metadata": {},
   "outputs": [],
   "source": [
    "#image c0llection relevant bands (all in 10m), converted to float\n",
    "bands10m = image.select(['B2','B3','B4','B8'])\n",
    "image_feature = bands10m.addBands(sharpened).divide(10000)"
   ]
  },
  {
   "cell_type": "code",
   "execution_count": 7,
   "metadata": {},
   "outputs": [],
   "source": [
    "#vegetation indices - TODO comment on the use of each VI\n",
    "def Veg_Index(image_name):\n",
    "    #NDVI\n",
    "    ndvi = image_name.expression(\n",
    "        '(NIR+RED)/(NIR - RED)', {\n",
    "            'NIR': image_name.select('B8'),\n",
    "            'RED': image_name.select('B4')\n",
    "        }).rename('NDVI')\n",
    "    #EVI\n",
    "    evi = image_name.expression(\n",
    "    '2.5 * ((NIR - RED) / (NIR + 6 * RED - 7.5 * BLUE + 1))',{\n",
    "        'NIR': image_name.select('B8'),\n",
    "        'RED': image_name.select('B4'),\n",
    "        'BLUE': image_name.select('B2')\n",
    "    }).rename('EVI')\n",
    "    #GCVI Green Chlorophyll Vegetation Index - TODO read about GCVI use cases\n",
    "    gcvi = image_name.expression(\n",
    "    '(NIR / GREEN) - 1',{\n",
    "        'NIR':image_name.select('B8'),\n",
    "        'GREEN':image_name.select('B3')\n",
    "    }).rename('GCVI')\n",
    "    #RDGCVI\n",
    "    gcvi = image_name.expression(\n",
    "    '(NIR / REDE1) - 1',{\n",
    "        'NIR':image_name.select('B8'),\n",
    "        'REDE1':image_name.select('B5')\n",
    "    }).rename('RDGCVI')\n",
    "    \n",
    "    return image_name.addBands(ndvi).addBands(evi).addBands(gcvi)\n",
    "#image composite of all spectral indices and bands\n",
    "image_featureWithVI = Veg_Index(image_feature)"
   ]
  },
  {
   "cell_type": "code",
   "execution_count": 7,
   "metadata": {},
   "outputs": [],
   "source": [
    "#sentinel 1\n",
    "sdate= '2020-05-01'\n",
    "edate= '2020-08-31'\n",
    "VVcollection = ee.ImageCollection('COPERNICUS/S1_GRD')\\\n",
    "    .filter(ee.Filter.eq('instrumentMode', 'IW'))\\\n",
    "    .filter(ee.Filter.listContains('transmitterReceiverPolarisation', 'VV'))\\\n",
    "    .filter(ee.Filter.eq('orbitProperties_pass', 'DESCENDING'))\\\n",
    "    .filterBounds(aoi)\\\n",
    "    .filterDate(sdate,edate)\\\n",
    "    .select(['VV'])\n"
   ]
  },
  {
   "cell_type": "code",
   "execution_count": 8,
   "metadata": {},
   "outputs": [
    {
     "output_type": "display_data",
     "data": {
      "text/plain": "Map(center=[0.9613, 34.6536], controls=(WidgetControl(options=['position', 'transparent_bg'], widget=HBox(chil…",
      "application/vnd.jupyter.widget-view+json": {
       "version_major": 2,
       "version_minor": 0,
       "model_id": "1185555573de4849ba2a32df32035f34"
      }
     },
     "metadata": {}
    }
   ],
   "source": [
    "Map = geemap.Map(center=(0.9613,34.6536),zoom=8)\n",
    "Map"
   ]
  },
  {
   "cell_type": "code",
   "execution_count": 9,
   "metadata": {},
   "outputs": [],
   "source": [
    "Map.addLayer(image, {'bands': ['B9', 'B11', 'B12'], 'min': 0, 'max': 3000}, 'Original')\n",
    "Map.addLayer(sharpened, {'bands': ['B9', 'B11', 'B12'], 'min': 0, 'max': 3000}, 'Sharpen 1')"
   ]
  },
  {
   "cell_type": "code",
   "execution_count": 12,
   "metadata": {
    "tags": [
     "outputPrepend"
    ]
   },
   "outputs": [
    {
     "output_type": "stream",
     "name": "stdout",
     "text": [
      "EGSYW27Y3SUI'}\n",
      "{'state': 'RUNNING', 'description': 'Compositeband', 'creation_timestamp_ms': 1620784938141, 'update_timestamp_ms': 1620785399357, 'start_timestamp_ms': 1620784958958, 'task_type': 'EXPORT_IMAGE', 'attempt': 1, 'id': 'FP4VZGG3MHGFEGSYW27Y3SUI', 'name': 'projects/earthengine-legacy/operations/FP4VZGG3MHGFEGSYW27Y3SUI'}\n",
      "{'state': 'RUNNING', 'description': 'Compositeband', 'creation_timestamp_ms': 1620784938141, 'update_timestamp_ms': 1620785459352, 'start_timestamp_ms': 1620784958958, 'task_type': 'EXPORT_IMAGE', 'attempt': 1, 'id': 'FP4VZGG3MHGFEGSYW27Y3SUI', 'name': 'projects/earthengine-legacy/operations/FP4VZGG3MHGFEGSYW27Y3SUI'}\n",
      "{'state': 'RUNNING', 'description': 'Compositeband', 'creation_timestamp_ms': 1620784938141, 'update_timestamp_ms': 1620785459352, 'start_timestamp_ms': 1620784958958, 'task_type': 'EXPORT_IMAGE', 'attempt': 1, 'id': 'FP4VZGG3MHGFEGSYW27Y3SUI', 'name': 'projects/earthengine-legacy/operations/FP4VZGG3MHGFEGSYW27Y3SUI'}\n",
      "{'state': 'RUNNING', 'description': 'Compositeband', 'creation_timestamp_ms': 1620784938141, 'update_timestamp_ms': 1620785459352, 'start_timestamp_ms': 1620784958958, 'task_type': 'EXPORT_IMAGE', 'attempt': 1, 'id': 'FP4VZGG3MHGFEGSYW27Y3SUI', 'name': 'projects/earthengine-legacy/operations/FP4VZGG3MHGFEGSYW27Y3SUI'}\n",
      "{'state': 'RUNNING', 'description': 'Compositeband', 'creation_timestamp_ms': 1620784938141, 'update_timestamp_ms': 1620785459352, 'start_timestamp_ms': 1620784958958, 'task_type': 'EXPORT_IMAGE', 'attempt': 1, 'id': 'FP4VZGG3MHGFEGSYW27Y3SUI', 'name': 'projects/earthengine-legacy/operations/FP4VZGG3MHGFEGSYW27Y3SUI'}\n",
      "{'state': 'RUNNING', 'description': 'Compositeband', 'creation_timestamp_ms': 1620784938141, 'update_timestamp_ms': 1620785459352, 'start_timestamp_ms': 1620784958958, 'task_type': 'EXPORT_IMAGE', 'attempt': 1, 'id': 'FP4VZGG3MHGFEGSYW27Y3SUI', 'name': 'projects/earthengine-legacy/operations/FP4VZGG3MHGFEGSYW27Y3SUI'}\n",
      "{'state': 'RUNNING', 'description': 'Compositeband', 'creation_timestamp_ms': 1620784938141, 'update_timestamp_ms': 1620785459352, 'start_timestamp_ms': 1620784958958, 'task_type': 'EXPORT_IMAGE', 'attempt': 1, 'id': 'FP4VZGG3MHGFEGSYW27Y3SUI', 'name': 'projects/earthengine-legacy/operations/FP4VZGG3MHGFEGSYW27Y3SUI'}\n",
      "{'state': 'RUNNING', 'description': 'Compositeband', 'creation_timestamp_ms': 1620784938141, 'update_timestamp_ms': 1620785459352, 'start_timestamp_ms': 1620784958958, 'task_type': 'EXPORT_IMAGE', 'attempt': 1, 'id': 'FP4VZGG3MHGFEGSYW27Y3SUI', 'name': 'projects/earthengine-legacy/operations/FP4VZGG3MHGFEGSYW27Y3SUI'}\n",
      "{'state': 'RUNNING', 'description': 'Compositeband', 'creation_timestamp_ms': 1620784938141, 'update_timestamp_ms': 1620785459352, 'start_timestamp_ms': 1620784958958, 'task_type': 'EXPORT_IMAGE', 'attempt': 1, 'id': 'FP4VZGG3MHGFEGSYW27Y3SUI', 'name': 'projects/earthengine-legacy/operations/FP4VZGG3MHGFEGSYW27Y3SUI'}\n",
      "{'state': 'RUNNING', 'description': 'Compositeband', 'creation_timestamp_ms': 1620784938141, 'update_timestamp_ms': 1620785459352, 'start_timestamp_ms': 1620784958958, 'task_type': 'EXPORT_IMAGE', 'attempt': 1, 'id': 'FP4VZGG3MHGFEGSYW27Y3SUI', 'name': 'projects/earthengine-legacy/operations/FP4VZGG3MHGFEGSYW27Y3SUI'}\n",
      "{'state': 'RUNNING', 'description': 'Compositeband', 'creation_timestamp_ms': 1620784938141, 'update_timestamp_ms': 1620785459352, 'start_timestamp_ms': 1620784958958, 'task_type': 'EXPORT_IMAGE', 'attempt': 1, 'id': 'FP4VZGG3MHGFEGSYW27Y3SUI', 'name': 'projects/earthengine-legacy/operations/FP4VZGG3MHGFEGSYW27Y3SUI'}\n",
      "{'state': 'RUNNING', 'description': 'Compositeband', 'creation_timestamp_ms': 1620784938141, 'update_timestamp_ms': 1620785459352, 'start_timestamp_ms': 1620784958958, 'task_type': 'EXPORT_IMAGE', 'attempt': 1, 'id': 'FP4VZGG3MHGFEGSYW27Y3SUI', 'name': 'projects/earthengine-legacy/operations/FP4VZGG3MHGFEGSYW27Y3SUI'}\n",
      "{'state': 'RUNNING', 'description': 'Compositeband', 'creation_timestamp_ms': 1620784938141, 'update_timestamp_ms': 1620785519351, 'start_timestamp_ms': 1620784958958, 'task_type': 'EXPORT_IMAGE', 'attempt': 1, 'id': 'FP4VZGG3MHGFEGSYW27Y3SUI', 'name': 'projects/earthengine-legacy/operations/FP4VZGG3MHGFEGSYW27Y3SUI'}\n",
      "{'state': 'RUNNING', 'description': 'Compositeband', 'creation_timestamp_ms': 1620784938141, 'update_timestamp_ms': 1620785519351, 'start_timestamp_ms': 1620784958958, 'task_type': 'EXPORT_IMAGE', 'attempt': 1, 'id': 'FP4VZGG3MHGFEGSYW27Y3SUI', 'name': 'projects/earthengine-legacy/operations/FP4VZGG3MHGFEGSYW27Y3SUI'}\n",
      "{'state': 'RUNNING', 'description': 'Compositeband', 'creation_timestamp_ms': 1620784938141, 'update_timestamp_ms': 1620785519351, 'start_timestamp_ms': 1620784958958, 'task_type': 'EXPORT_IMAGE', 'attempt': 1, 'id': 'FP4VZGG3MHGFEGSYW27Y3SUI', 'name': 'projects/earthengine-legacy/operations/FP4VZGG3MHGFEGSYW27Y3SUI'}\n",
      "{'state': 'RUNNING', 'description': 'Compositeband', 'creation_timestamp_ms': 1620784938141, 'update_timestamp_ms': 1620785519351, 'start_timestamp_ms': 1620784958958, 'task_type': 'EXPORT_IMAGE', 'attempt': 1, 'id': 'FP4VZGG3MHGFEGSYW27Y3SUI', 'name': 'projects/earthengine-legacy/operations/FP4VZGG3MHGFEGSYW27Y3SUI'}\n",
      "{'state': 'RUNNING', 'description': 'Compositeband', 'creation_timestamp_ms': 1620784938141, 'update_timestamp_ms': 1620785519351, 'start_timestamp_ms': 1620784958958, 'task_type': 'EXPORT_IMAGE', 'attempt': 1, 'id': 'FP4VZGG3MHGFEGSYW27Y3SUI', 'name': 'projects/earthengine-legacy/operations/FP4VZGG3MHGFEGSYW27Y3SUI'}\n",
      "{'state': 'RUNNING', 'description': 'Compositeband', 'creation_timestamp_ms': 1620784938141, 'update_timestamp_ms': 1620785519351, 'start_timestamp_ms': 1620784958958, 'task_type': 'EXPORT_IMAGE', 'attempt': 1, 'id': 'FP4VZGG3MHGFEGSYW27Y3SUI', 'name': 'projects/earthengine-legacy/operations/FP4VZGG3MHGFEGSYW27Y3SUI'}\n",
      "{'state': 'RUNNING', 'description': 'Compositeband', 'creation_timestamp_ms': 1620784938141, 'update_timestamp_ms': 1620785519351, 'start_timestamp_ms': 1620784958958, 'task_type': 'EXPORT_IMAGE', 'attempt': 1, 'id': 'FP4VZGG3MHGFEGSYW27Y3SUI', 'name': 'projects/earthengine-legacy/operations/FP4VZGG3MHGFEGSYW27Y3SUI'}\n",
      "{'state': 'RUNNING', 'description': 'Compositeband', 'creation_timestamp_ms': 1620784938141, 'update_timestamp_ms': 1620785519351, 'start_timestamp_ms': 1620784958958, 'task_type': 'EXPORT_IMAGE', 'attempt': 1, 'id': 'FP4VZGG3MHGFEGSYW27Y3SUI', 'name': 'projects/earthengine-legacy/operations/FP4VZGG3MHGFEGSYW27Y3SUI'}\n",
      "{'state': 'RUNNING', 'description': 'Compositeband', 'creation_timestamp_ms': 1620784938141, 'update_timestamp_ms': 1620785519351, 'start_timestamp_ms': 1620784958958, 'task_type': 'EXPORT_IMAGE', 'attempt': 1, 'id': 'FP4VZGG3MHGFEGSYW27Y3SUI', 'name': 'projects/earthengine-legacy/operations/FP4VZGG3MHGFEGSYW27Y3SUI'}\n",
      "{'state': 'RUNNING', 'description': 'Compositeband', 'creation_timestamp_ms': 1620784938141, 'update_timestamp_ms': 1620785519351, 'start_timestamp_ms': 1620784958958, 'task_type': 'EXPORT_IMAGE', 'attempt': 1, 'id': 'FP4VZGG3MHGFEGSYW27Y3SUI', 'name': 'projects/earthengine-legacy/operations/FP4VZGG3MHGFEGSYW27Y3SUI'}\n",
      "{'state': 'RUNNING', 'description': 'Compositeband', 'creation_timestamp_ms': 1620784938141, 'update_timestamp_ms': 1620785574745, 'start_timestamp_ms': 1620784958958, 'task_type': 'EXPORT_IMAGE', 'attempt': 1, 'id': 'FP4VZGG3MHGFEGSYW27Y3SUI', 'name': 'projects/earthengine-legacy/operations/FP4VZGG3MHGFEGSYW27Y3SUI'}\n",
      "{'state': 'RUNNING', 'description': 'Compositeband', 'creation_timestamp_ms': 1620784938141, 'update_timestamp_ms': 1620785574745, 'start_timestamp_ms': 1620784958958, 'task_type': 'EXPORT_IMAGE', 'attempt': 1, 'id': 'FP4VZGG3MHGFEGSYW27Y3SUI', 'name': 'projects/earthengine-legacy/operations/FP4VZGG3MHGFEGSYW27Y3SUI'}\n",
      "{'state': 'RUNNING', 'description': 'Compositeband', 'creation_timestamp_ms': 1620784938141, 'update_timestamp_ms': 1620785574745, 'start_timestamp_ms': 1620784958958, 'task_type': 'EXPORT_IMAGE', 'attempt': 1, 'id': 'FP4VZGG3MHGFEGSYW27Y3SUI', 'name': 'projects/earthengine-legacy/operations/FP4VZGG3MHGFEGSYW27Y3SUI'}\n",
      "{'state': 'RUNNING', 'description': 'Compositeband', 'creation_timestamp_ms': 1620784938141, 'update_timestamp_ms': 1620785574745, 'start_timestamp_ms': 1620784958958, 'task_type': 'EXPORT_IMAGE', 'attempt': 1, 'id': 'FP4VZGG3MHGFEGSYW27Y3SUI', 'name': 'projects/earthengine-legacy/operations/FP4VZGG3MHGFEGSYW27Y3SUI'}\n",
      "{'state': 'RUNNING', 'description': 'Compositeband', 'creation_timestamp_ms': 1620784938141, 'update_timestamp_ms': 1620785574745, 'start_timestamp_ms': 1620784958958, 'task_type': 'EXPORT_IMAGE', 'attempt': 1, 'id': 'FP4VZGG3MHGFEGSYW27Y3SUI', 'name': 'projects/earthengine-legacy/operations/FP4VZGG3MHGFEGSYW27Y3SUI'}\n",
      "{'state': 'RUNNING', 'description': 'Compositeband', 'creation_timestamp_ms': 1620784938141, 'update_timestamp_ms': 1620785574745, 'start_timestamp_ms': 1620784958958, 'task_type': 'EXPORT_IMAGE', 'attempt': 1, 'id': 'FP4VZGG3MHGFEGSYW27Y3SUI', 'name': 'projects/earthengine-legacy/operations/FP4VZGG3MHGFEGSYW27Y3SUI'}\n",
      "{'state': 'RUNNING', 'description': 'Compositeband', 'creation_timestamp_ms': 1620784938141, 'update_timestamp_ms': 1620785574745, 'start_timestamp_ms': 1620784958958, 'task_type': 'EXPORT_IMAGE', 'attempt': 1, 'id': 'FP4VZGG3MHGFEGSYW27Y3SUI', 'name': 'projects/earthengine-legacy/operations/FP4VZGG3MHGFEGSYW27Y3SUI'}\n",
      "{'state': 'RUNNING', 'description': 'Compositeband', 'creation_timestamp_ms': 1620784938141, 'update_timestamp_ms': 1620785574745, 'start_timestamp_ms': 1620784958958, 'task_type': 'EXPORT_IMAGE', 'attempt': 1, 'id': 'FP4VZGG3MHGFEGSYW27Y3SUI', 'name': 'projects/earthengine-legacy/operations/FP4VZGG3MHGFEGSYW27Y3SUI'}\n",
      "{'state': 'RUNNING', 'description': 'Compositeband', 'creation_timestamp_ms': 1620784938141, 'update_timestamp_ms': 1620785574745, 'start_timestamp_ms': 1620784958958, 'task_type': 'EXPORT_IMAGE', 'attempt': 1, 'id': 'FP4VZGG3MHGFEGSYW27Y3SUI', 'name': 'projects/earthengine-legacy/operations/FP4VZGG3MHGFEGSYW27Y3SUI'}\n",
      "{'state': 'RUNNING', 'description': 'Compositeband', 'creation_timestamp_ms': 1620784938141, 'update_timestamp_ms': 1620785574745, 'start_timestamp_ms': 1620784958958, 'task_type': 'EXPORT_IMAGE', 'attempt': 1, 'id': 'FP4VZGG3MHGFEGSYW27Y3SUI', 'name': 'projects/earthengine-legacy/operations/FP4VZGG3MHGFEGSYW27Y3SUI'}\n",
      "{'state': 'RUNNING', 'description': 'Compositeband', 'creation_timestamp_ms': 1620784938141, 'update_timestamp_ms': 1620785574745, 'start_timestamp_ms': 1620784958958, 'task_type': 'EXPORT_IMAGE', 'attempt': 1, 'id': 'FP4VZGG3MHGFEGSYW27Y3SUI', 'name': 'projects/earthengine-legacy/operations/FP4VZGG3MHGFEGSYW27Y3SUI'}\n",
      "{'state': 'RUNNING', 'description': 'Compositeband', 'creation_timestamp_ms': 1620784938141, 'update_timestamp_ms': 1620785574745, 'start_timestamp_ms': 1620784958958, 'task_type': 'EXPORT_IMAGE', 'attempt': 1, 'id': 'FP4VZGG3MHGFEGSYW27Y3SUI', 'name': 'projects/earthengine-legacy/operations/FP4VZGG3MHGFEGSYW27Y3SUI'}\n",
      "{'state': 'RUNNING', 'description': 'Compositeband', 'creation_timestamp_ms': 1620784938141, 'update_timestamp_ms': 1620785574745, 'start_timestamp_ms': 1620784958958, 'task_type': 'EXPORT_IMAGE', 'attempt': 1, 'id': 'FP4VZGG3MHGFEGSYW27Y3SUI', 'name': 'projects/earthengine-legacy/operations/FP4VZGG3MHGFEGSYW27Y3SUI'}\n",
      "{'state': 'RUNNING', 'description': 'Compositeband', 'creation_timestamp_ms': 1620784938141, 'update_timestamp_ms': 1620785574745, 'start_timestamp_ms': 1620784958958, 'task_type': 'EXPORT_IMAGE', 'attempt': 1, 'id': 'FP4VZGG3MHGFEGSYW27Y3SUI', 'name': 'projects/earthengine-legacy/operations/FP4VZGG3MHGFEGSYW27Y3SUI'}\n",
      "{'state': 'RUNNING', 'description': 'Compositeband', 'creation_timestamp_ms': 1620784938141, 'update_timestamp_ms': 1620785574745, 'start_timestamp_ms': 1620784958958, 'task_type': 'EXPORT_IMAGE', 'attempt': 1, 'id': 'FP4VZGG3MHGFEGSYW27Y3SUI', 'name': 'projects/earthengine-legacy/operations/FP4VZGG3MHGFEGSYW27Y3SUI'}\n",
      "{'state': 'RUNNING', 'description': 'Compositeband', 'creation_timestamp_ms': 1620784938141, 'update_timestamp_ms': 1620785574745, 'start_timestamp_ms': 1620784958958, 'task_type': 'EXPORT_IMAGE', 'attempt': 1, 'id': 'FP4VZGG3MHGFEGSYW27Y3SUI', 'name': 'projects/earthengine-legacy/operations/FP4VZGG3MHGFEGSYW27Y3SUI'}\n",
      "{'state': 'RUNNING', 'description': 'Compositeband', 'creation_timestamp_ms': 1620784938141, 'update_timestamp_ms': 1620785574745, 'start_timestamp_ms': 1620784958958, 'task_type': 'EXPORT_IMAGE', 'attempt': 1, 'id': 'FP4VZGG3MHGFEGSYW27Y3SUI', 'name': 'projects/earthengine-legacy/operations/FP4VZGG3MHGFEGSYW27Y3SUI'}\n",
      "{'state': 'RUNNING', 'description': 'Compositeband', 'creation_timestamp_ms': 1620784938141, 'update_timestamp_ms': 1620785574745, 'start_timestamp_ms': 1620784958958, 'task_type': 'EXPORT_IMAGE', 'attempt': 1, 'id': 'FP4VZGG3MHGFEGSYW27Y3SUI', 'name': 'projects/earthengine-legacy/operations/FP4VZGG3MHGFEGSYW27Y3SUI'}\n",
      "{'state': 'RUNNING', 'description': 'Compositeband', 'creation_timestamp_ms': 1620784938141, 'update_timestamp_ms': 1620785574745, 'start_timestamp_ms': 1620784958958, 'task_type': 'EXPORT_IMAGE', 'attempt': 1, 'id': 'FP4VZGG3MHGFEGSYW27Y3SUI', 'name': 'projects/earthengine-legacy/operations/FP4VZGG3MHGFEGSYW27Y3SUI'}\n",
      "{'state': 'RUNNING', 'description': 'Compositeband', 'creation_timestamp_ms': 1620784938141, 'update_timestamp_ms': 1620785574745, 'start_timestamp_ms': 1620784958958, 'task_type': 'EXPORT_IMAGE', 'attempt': 1, 'id': 'FP4VZGG3MHGFEGSYW27Y3SUI', 'name': 'projects/earthengine-legacy/operations/FP4VZGG3MHGFEGSYW27Y3SUI'}\n",
      "{'state': 'RUNNING', 'description': 'Compositeband', 'creation_timestamp_ms': 1620784938141, 'update_timestamp_ms': 1620785574745, 'start_timestamp_ms': 1620784958958, 'task_type': 'EXPORT_IMAGE', 'attempt': 1, 'id': 'FP4VZGG3MHGFEGSYW27Y3SUI', 'name': 'projects/earthengine-legacy/operations/FP4VZGG3MHGFEGSYW27Y3SUI'}\n",
      "{'state': 'RUNNING', 'description': 'Compositeband', 'creation_timestamp_ms': 1620784938141, 'update_timestamp_ms': 1620785574745, 'start_timestamp_ms': 1620784958958, 'task_type': 'EXPORT_IMAGE', 'attempt': 1, 'id': 'FP4VZGG3MHGFEGSYW27Y3SUI', 'name': 'projects/earthengine-legacy/operations/FP4VZGG3MHGFEGSYW27Y3SUI'}\n",
      "{'state': 'RUNNING', 'description': 'Compositeband', 'creation_timestamp_ms': 1620784938141, 'update_timestamp_ms': 1620785574745, 'start_timestamp_ms': 1620784958958, 'task_type': 'EXPORT_IMAGE', 'attempt': 1, 'id': 'FP4VZGG3MHGFEGSYW27Y3SUI', 'name': 'projects/earthengine-legacy/operations/FP4VZGG3MHGFEGSYW27Y3SUI'}\n",
      "{'state': 'RUNNING', 'description': 'Compositeband', 'creation_timestamp_ms': 1620784938141, 'update_timestamp_ms': 1620785574745, 'start_timestamp_ms': 1620784958958, 'task_type': 'EXPORT_IMAGE', 'attempt': 1, 'id': 'FP4VZGG3MHGFEGSYW27Y3SUI', 'name': 'projects/earthengine-legacy/operations/FP4VZGG3MHGFEGSYW27Y3SUI'}\n",
      "{'state': 'RUNNING', 'description': 'Compositeband', 'creation_timestamp_ms': 1620784938141, 'update_timestamp_ms': 1620785574745, 'start_timestamp_ms': 1620784958958, 'task_type': 'EXPORT_IMAGE', 'attempt': 1, 'id': 'FP4VZGG3MHGFEGSYW27Y3SUI', 'name': 'projects/earthengine-legacy/operations/FP4VZGG3MHGFEGSYW27Y3SUI'}\n",
      "{'state': 'RUNNING', 'description': 'Compositeband', 'creation_timestamp_ms': 1620784938141, 'update_timestamp_ms': 1620785574745, 'start_timestamp_ms': 1620784958958, 'task_type': 'EXPORT_IMAGE', 'attempt': 1, 'id': 'FP4VZGG3MHGFEGSYW27Y3SUI', 'name': 'projects/earthengine-legacy/operations/FP4VZGG3MHGFEGSYW27Y3SUI'}\n",
      "{'state': 'RUNNING', 'description': 'Compositeband', 'creation_timestamp_ms': 1620784938141, 'update_timestamp_ms': 1620785574745, 'start_timestamp_ms': 1620784958958, 'task_type': 'EXPORT_IMAGE', 'attempt': 1, 'id': 'FP4VZGG3MHGFEGSYW27Y3SUI', 'name': 'projects/earthengine-legacy/operations/FP4VZGG3MHGFEGSYW27Y3SUI'}\n",
      "{'state': 'RUNNING', 'description': 'Compositeband', 'creation_timestamp_ms': 1620784938141, 'update_timestamp_ms': 1620785724747, 'start_timestamp_ms': 1620784958958, 'task_type': 'EXPORT_IMAGE', 'attempt': 1, 'id': 'FP4VZGG3MHGFEGSYW27Y3SUI', 'name': 'projects/earthengine-legacy/operations/FP4VZGG3MHGFEGSYW27Y3SUI'}\n",
      "{'state': 'RUNNING', 'description': 'Compositeband', 'creation_timestamp_ms': 1620784938141, 'update_timestamp_ms': 1620785724747, 'start_timestamp_ms': 1620784958958, 'task_type': 'EXPORT_IMAGE', 'attempt': 1, 'id': 'FP4VZGG3MHGFEGSYW27Y3SUI', 'name': 'projects/earthengine-legacy/operations/FP4VZGG3MHGFEGSYW27Y3SUI'}\n",
      "{'state': 'RUNNING', 'description': 'Compositeband', 'creation_timestamp_ms': 1620784938141, 'update_timestamp_ms': 1620785724747, 'start_timestamp_ms': 1620784958958, 'task_type': 'EXPORT_IMAGE', 'attempt': 1, 'id': 'FP4VZGG3MHGFEGSYW27Y3SUI', 'name': 'projects/earthengine-legacy/operations/FP4VZGG3MHGFEGSYW27Y3SUI'}\n",
      "{'state': 'RUNNING', 'description': 'Compositeband', 'creation_timestamp_ms': 1620784938141, 'update_timestamp_ms': 1620785724747, 'start_timestamp_ms': 1620784958958, 'task_type': 'EXPORT_IMAGE', 'attempt': 1, 'id': 'FP4VZGG3MHGFEGSYW27Y3SUI', 'name': 'projects/earthengine-legacy/operations/FP4VZGG3MHGFEGSYW27Y3SUI'}\n",
      "{'state': 'RUNNING', 'description': 'Compositeband', 'creation_timestamp_ms': 1620784938141, 'update_timestamp_ms': 1620785724747, 'start_timestamp_ms': 1620784958958, 'task_type': 'EXPORT_IMAGE', 'attempt': 1, 'id': 'FP4VZGG3MHGFEGSYW27Y3SUI', 'name': 'projects/earthengine-legacy/operations/FP4VZGG3MHGFEGSYW27Y3SUI'}\n",
      "{'state': 'RUNNING', 'description': 'Compositeband', 'creation_timestamp_ms': 1620784938141, 'update_timestamp_ms': 1620785724747, 'start_timestamp_ms': 1620784958958, 'task_type': 'EXPORT_IMAGE', 'attempt': 1, 'id': 'FP4VZGG3MHGFEGSYW27Y3SUI', 'name': 'projects/earthengine-legacy/operations/FP4VZGG3MHGFEGSYW27Y3SUI'}\n",
      "{'state': 'RUNNING', 'description': 'Compositeband', 'creation_timestamp_ms': 1620784938141, 'update_timestamp_ms': 1620785724747, 'start_timestamp_ms': 1620784958958, 'task_type': 'EXPORT_IMAGE', 'attempt': 1, 'id': 'FP4VZGG3MHGFEGSYW27Y3SUI', 'name': 'projects/earthengine-legacy/operations/FP4VZGG3MHGFEGSYW27Y3SUI'}\n",
      "{'state': 'RUNNING', 'description': 'Compositeband', 'creation_timestamp_ms': 1620784938141, 'update_timestamp_ms': 1620785724747, 'start_timestamp_ms': 1620784958958, 'task_type': 'EXPORT_IMAGE', 'attempt': 1, 'id': 'FP4VZGG3MHGFEGSYW27Y3SUI', 'name': 'projects/earthengine-legacy/operations/FP4VZGG3MHGFEGSYW27Y3SUI'}\n",
      "{'state': 'RUNNING', 'description': 'Compositeband', 'creation_timestamp_ms': 1620784938141, 'update_timestamp_ms': 1620785724747, 'start_timestamp_ms': 1620784958958, 'task_type': 'EXPORT_IMAGE', 'attempt': 1, 'id': 'FP4VZGG3MHGFEGSYW27Y3SUI', 'name': 'projects/earthengine-legacy/operations/FP4VZGG3MHGFEGSYW27Y3SUI'}\n",
      "{'state': 'RUNNING', 'description': 'Compositeband', 'creation_timestamp_ms': 1620784938141, 'update_timestamp_ms': 1620785724747, 'start_timestamp_ms': 1620784958958, 'task_type': 'EXPORT_IMAGE', 'attempt': 1, 'id': 'FP4VZGG3MHGFEGSYW27Y3SUI', 'name': 'projects/earthengine-legacy/operations/FP4VZGG3MHGFEGSYW27Y3SUI'}\n",
      "{'state': 'RUNNING', 'description': 'Compositeband', 'creation_timestamp_ms': 1620784938141, 'update_timestamp_ms': 1620785724747, 'start_timestamp_ms': 1620784958958, 'task_type': 'EXPORT_IMAGE', 'attempt': 1, 'id': 'FP4VZGG3MHGFEGSYW27Y3SUI', 'name': 'projects/earthengine-legacy/operations/FP4VZGG3MHGFEGSYW27Y3SUI'}\n",
      "{'state': 'RUNNING', 'description': 'Compositeband', 'creation_timestamp_ms': 1620784938141, 'update_timestamp_ms': 1620785724747, 'start_timestamp_ms': 1620784958958, 'task_type': 'EXPORT_IMAGE', 'attempt': 1, 'id': 'FP4VZGG3MHGFEGSYW27Y3SUI', 'name': 'projects/earthengine-legacy/operations/FP4VZGG3MHGFEGSYW27Y3SUI'}\n",
      "{'state': 'COMPLETED', 'description': 'Compositeband', 'creation_timestamp_ms': 1620784938141, 'update_timestamp_ms': 1620785790782, 'start_timestamp_ms': 1620784958958, 'task_type': 'EXPORT_IMAGE', 'destination_uris': ['https://code.earthengine.google.com/?asset=projects/earthengine-legacy/assets/users/aadebowaledaniel/cpclasscomposite'], 'attempt': 1, 'id': 'FP4VZGG3MHGFEGSYW27Y3SUI', 'name': 'projects/earthengine-legacy/operations/FP4VZGG3MHGFEGSYW27Y3SUI'}\n"
     ]
    }
   ],
   "source": [
    "#exprot to assest\n",
    "task = ee.batch.Export.image.toAsset(**{'image':image_feature,\n",
    "'description': 'Compositeband',\n",
    "'assetId':'users/aadebowaledaniel/cpclasscomposite', \n",
    "'scale': 10, \n",
    "'region':aoi.getInfo()['coordinates'],\n",
    "'maxPixels': 1e13,\n",
    "})\n",
    "task.start()\n",
    "#Monitor the task\n",
    "while task.status()['state'] in ['READY', 'RUNNING']:\n",
    "  print(task.status())\n",
    "  time.sleep(5)\n",
    "else:\n",
    "  print(task.status())"
   ]
  },
  {
   "cell_type": "code",
   "execution_count": 4,
   "metadata": {},
   "outputs": [],
   "source": [
    "#import composite from asset\n",
    "predimage = ee.Image('users/aadebowaledaniel/cbinary')"
   ]
  },
  {
   "cell_type": "code",
   "execution_count": 5,
   "metadata": {},
   "outputs": [],
   "source": [
    "predbands = predimage.bandNames()"
   ]
  },
  {
   "cell_type": "code",
   "execution_count": 6,
   "metadata": {
    "tags": []
   },
   "outputs": [
    {
     "output_type": "stream",
     "name": "stdout",
     "text": [
      "Resubstitution error matrix:  [[463, 8], [0, 1790]]\n",
      "Training overall accuracy:  0.9964617425917736\n",
      "confusion Matrix [[136, 60], [25, 776]]\n",
      "Valdation overall accuracy: 0.9147442326980942\n"
     ]
    }
   ],
   "source": [
    "#continue from here\n",
    "trainingSample  = predimage.sampleRegions(\n",
    "    collection = fc,\n",
    "    properties=['label'],\n",
    "    scale = 10, \n",
    "    geometries = True\n",
    ")\n",
    "# trainingSample.size().getInfo()\n",
    "\n",
    "rantraning = trainingSample.randomColumn('random')\n",
    "split = 0.7\n",
    "trainsample = rantraning.filter(ee.Filter.lt('random', split))\n",
    "testsample = rantraning.filter(ee.Filter.gte('random', split))\n",
    "\n",
    "#train random forest classifier\n",
    "classifier = ee.Classifier.smileRandomForest(100).train(trainsample, 'label', predbands)\n",
    "\n",
    "\n",
    "#confusion matrix train Accurracy\n",
    "trainAccuracy = classifier.confusionMatrix()\n",
    "print('Resubstitution error matrix: ', trainAccuracy.getInfo())\n",
    "print('Training overall accuracy: ', trainAccuracy.accuracy().getInfo())\n",
    "\n",
    "#classify features\n",
    "testclassifier = testsample.classify(classifier)\n",
    "#cconfusion matrix representing expected accuracy\n",
    "testAccuracy = testclassifier.errorMatrix('label', 'classification')\n",
    "print('confusion Matrix', testAccuracy.getInfo())\n",
    "print('Valdation overall accuracy:', testAccuracy.accuracy().getInfo())\n",
    "\n",
    "#classify image\n",
    "Imageclassified = predimage.classify(classifier)\n",
    "# altImageclassified = predimage.classify(classifier)"
   ]
  },
  {
   "cell_type": "code",
   "execution_count": 21,
   "metadata": {},
   "outputs": [],
   "source": [
    "# Map.addLayer(image, {'bands': ['B4', 'B3', 'B2'], 'min': 0.0, 'max': 0.3, 'gamma': 2}, 'True colour composite')\n",
    "Map.addLayer(s2_sr_cld_col_eval, {'bands': ['B4', 'B3', 'B2'], 'min': 0, 'max': 1500, 'gamma': 2}, 'no mask')\n"
   ]
  },
  {
   "source": [
    "cropmask = Imageclassified.eq(1)\n",
    "# vis = {'pallete':['#18d848']}\n",
    "Map.addLayer(cropmask,{'color':'green'}, 'Vegetation')\n",
    "\n",
    "cropmask = Imageclassified.eq(2)\n",
    "\n",
    "cropmaskdd = cropmask.updateMask(cropmask)\n",
    "\n",
    "cropmask_vec = cropmaskdd.reduceToVectors(\n",
    "    geometryType= 'polygon',\n",
    "    reducer= ee.Reducer.countEvery(),\n",
    "    scale= 10,\n",
    "    maxPixels= 1e13,\n",
    "    geometry= aoi\n",
    ")\n",
    "Map.addLayer(cropmask_vec, {'color':'green'}, 'Crop Mask')"
   ],
   "cell_type": "code",
   "metadata": {},
   "execution_count": 11,
   "outputs": []
  },
  {
   "cell_type": "code",
   "execution_count": 15,
   "metadata": {
    "tags": []
   },
   "outputs": [],
   "source": [
    "# #convert to Vector\n",
    "# cropmask = Imageclassified.eq(1)\n",
    "\n",
    "# vector_cropmask = cropmask.updateMask(cropmask).reduceToVectors(\n",
    "#     reducer=ee.Reducer.countEvery(),\n",
    "#     geometry= aoi,\n",
    "#     scale=10,\n",
    "#     maxPixels=1e13)\n",
    "# def sim(nna):\n",
    "#     return nna.simplify(maxError = 100)\n",
    "# vector_cropmask = vector_cropmask.map(sim)\n",
    "# cropmaskVec = cropmask.reduceToVectors({\n",
    "#     # 'geometryType': 'polygon',\n",
    "#   'reducer': ee.Reducer.countEvery(),\n",
    "#   'scale': 10,\n",
    "#   'geometry':aoi,\n",
    "# })\n",
    "\n",
    "# vector_img = Imageclassified.unmask(0).reduceToVectors(\n",
    "#         geometry = aoi,\n",
    "#         scale = 10,\n",
    "#         maxPixels = 1e13,\n",
    "#         bestEffort =True\n",
    "#     )\n",
    "# taskvec = ee.batch.Export.table.toAsset(collection=vector_cropmask,\n",
    "# description= 'Vegetation mask', assetId= 'users/aadebowaledaniel/vegetationmask')\n",
    "# taskvec.start()\n",
    "# #Monitor the task\n",
    "# while taskvec.status()['state'] in ['READY', 'RUNNING']:\n",
    "#   print(taskvec.status())\n",
    "#   time.sleep(5)\n",
    "# else:\n",
    "#   print(taskvec.status())"
   ]
  }
 ],
 "metadata": {
  "kernelspec": {
   "name": "python392jvsc74a57bd0d3fecb5d2ddc39decba3217e5b08eccf3c913a59c9490f56a00feb9cdb9b46e1",
   "display_name": "Python 3.9.2 64-bit ('nasahv-env': conda)"
  },
  "language_info": {
   "codemirror_mode": {
    "name": "ipython",
    "version": 3
   },
   "file_extension": ".py",
   "mimetype": "text/x-python",
   "name": "python",
   "nbconvert_exporter": "python",
   "pygments_lexer": "ipython3",
   "version": "3.9.2"
  }
 },
 "nbformat": 4,
 "nbformat_minor": 2
}