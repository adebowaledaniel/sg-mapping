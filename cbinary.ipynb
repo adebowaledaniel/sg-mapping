{
 "cells": [
  {
   "source": [
    "!earthengine authenticate"
   ],
   "cell_type": "markdown",
   "metadata": {}
  },
  {
   "cell_type": "code",
   "execution_count": 1,
   "metadata": {},
   "outputs": [],
   "source": [
    "import geopandas as gpd\n",
    "import ee\n",
    "import geemap\n",
    "import numpy as np\n",
    "import rasterio\n",
    "import time\n",
    "# from sklearn.metrics import confusion_matrix\n",
    "# from sklearn.model_selection import train_test_split\n",
    "# from sklearn.ensemble import RandomForestClassifier\n",
    "# from treeinterpreter import treeinterpreter as ti"
   ]
  },
  {
   "cell_type": "code",
   "execution_count": 2,
   "metadata": {},
   "outputs": [],
   "source": [
    "ee.Initialize()"
   ]
  },
  {
   "cell_type": "code",
   "execution_count": 3,
   "metadata": {},
   "outputs": [],
   "source": [
    "#shp path\n",
    "tp_crop ='crop_pt.shp'\n",
    "tp_non_crop = 'non_crop_pt.shp'\n",
    "\n",
    "#ee object\n",
    "crop_ee = geemap.shp_to_ee(tp_crop)\n",
    "noncrop_ee = geemap.shp_to_ee(tp_non_crop)\n",
    "#feature collection\n",
    "fc = crop_ee.merge(noncrop_ee)\n",
    "#define bounding box\n",
    "bbox = ee.Geometry.bounds(fc)\n",
    "aoi = bbox\n",
    "#TODO #read about system.index"
   ]
  },
  {
   "cell_type": "code",
   "execution_count": 10,
   "metadata": {},
   "outputs": [],
   "source": [
    "sdate= '2020-04-01'\n",
    "edate= '2020-08-31'\n",
    "clmasl= 5\n",
    "#cloud mask function\n",
    "def clmask(image):\n",
    "    qa = image.select('QA60')\n",
    "    # cloudBitMask = 1 << 10\n",
    "    # cirrusBitMask = 1 << 11\n",
    "\n",
    "    # mask = qa.bitwiseAnd(cloudBitMask).eq(0)\n",
    "    # mask = qa.bitwiseAnd(cirrusBitMask).eq(0)\n",
    "    return image.updateMask(qa.lt(1)).divide(10000)\n",
    "\n",
    "\n",
    "imgcollection = ee.ImageCollection(\"COPERNICUS/S2\")\\\n",
    "    .filterBounds(aoi)\\\n",
    "        .filterDate(sdate, edate)\\\n",
    "            .filter(ee.Filter.lt('CLOUDY_PIXEL_PERCENTAGE', clmasl))\\\n",
    "                .filter(ee.Filter.lt('CLOUD_COVERAGE_ASSESSMENT',clmasl))\\\n",
    "                    .map(clmask)\n",
    "                    \n",
    "image = imgcollection.median()"
   ]
  },
  {
   "cell_type": "code",
   "execution_count": 11,
   "metadata": {},
   "outputs": [],
   "source": [
    "#get band properties\n",
    "band3 = image.select('B3')\n",
    "proj = band3.projection().getInfo()\n",
    "crs = proj['crs']\n",
    "#resample the resolution\n",
    "band20m = image.select('B11', 'B12')\n",
    "swir_b10m = band20m.resample('bilinear').reproject(crs=crs, scale=10.0).rename('B11r', 'B12r')\n",
    "image = image.addBands(swir_b10m)\n",
    "\n",
    "\n",
    "#Vegetation Index \n",
    "#NDVI\n",
    "ndvi = image.normalizedDifference(['B8', 'B4']).rename('NDVI')\n",
    "image = image.addBands(ndvi)\n",
    "\n",
    "\n",
    "#select bands needed for the classification including NDVI\n",
    "band_sl = ('B2', 'B3', 'B4', 'B8', 'B11r', 'B12r', 'NDVI')\n",
    "\n",
    "#dataset for classification\n",
    "image_feature = image.select(band_sl)\n",
    "\n",
    "image_feature = image_feature.clip(aoi)\n",
    "# print(image_feature.select('B11r').projection().nominalScale().getInfo())"
   ]
  },
  {
   "cell_type": "code",
   "execution_count": 15,
   "metadata": {},
   "outputs": [],
   "source": [
    "#exprot to assest - Need review\\not working\n",
    "task = ee.batch.Export.image.toAsset(**{'image':image_feature,\n",
    "'description': 'Compositeband',\n",
    "'assetId':'users/aadebowaledaniel/binaryimage_ft', \n",
    "'scale': 10, \n",
    "'region':aoi.getInfo()['coordinates'],\n",
    "'maxPixels': 1e13,\n",
    "})\n",
    "task.start()\n"
   ]
  },
  {
   "cell_type": "code",
   "execution_count": 16,
   "metadata": {
    "tags": [
     "outputPrepend"
    ]
   },
   "outputs": [
    {
     "output_type": "stream",
     "name": "stdout",
     "text": [
      "4JTL7QPLQPKARM'}\n",
      "{'state': 'RUNNING', 'description': 'Compositeband', 'creation_timestamp_ms': 1620132427693, 'update_timestamp_ms': 1620133943572, 'start_timestamp_ms': 1620132438941, 'task_type': 'EXPORT_IMAGE', 'attempt': 1, 'id': '3QIRJXI5GF4JTL7QPLQPKARM', 'name': 'projects/earthengine-legacy/operations/3QIRJXI5GF4JTL7QPLQPKARM'}\n",
      "{'state': 'RUNNING', 'description': 'Compositeband', 'creation_timestamp_ms': 1620132427693, 'update_timestamp_ms': 1620133943572, 'start_timestamp_ms': 1620132438941, 'task_type': 'EXPORT_IMAGE', 'attempt': 1, 'id': '3QIRJXI5GF4JTL7QPLQPKARM', 'name': 'projects/earthengine-legacy/operations/3QIRJXI5GF4JTL7QPLQPKARM'}\n",
      "{'state': 'RUNNING', 'description': 'Compositeband', 'creation_timestamp_ms': 1620132427693, 'update_timestamp_ms': 1620133943572, 'start_timestamp_ms': 1620132438941, 'task_type': 'EXPORT_IMAGE', 'attempt': 1, 'id': '3QIRJXI5GF4JTL7QPLQPKARM', 'name': 'projects/earthengine-legacy/operations/3QIRJXI5GF4JTL7QPLQPKARM'}\n",
      "{'state': 'RUNNING', 'description': 'Compositeband', 'creation_timestamp_ms': 1620132427693, 'update_timestamp_ms': 1620133943572, 'start_timestamp_ms': 1620132438941, 'task_type': 'EXPORT_IMAGE', 'attempt': 1, 'id': '3QIRJXI5GF4JTL7QPLQPKARM', 'name': 'projects/earthengine-legacy/operations/3QIRJXI5GF4JTL7QPLQPKARM'}\n",
      "{'state': 'RUNNING', 'description': 'Compositeband', 'creation_timestamp_ms': 1620132427693, 'update_timestamp_ms': 1620133943572, 'start_timestamp_ms': 1620132438941, 'task_type': 'EXPORT_IMAGE', 'attempt': 1, 'id': '3QIRJXI5GF4JTL7QPLQPKARM', 'name': 'projects/earthengine-legacy/operations/3QIRJXI5GF4JTL7QPLQPKARM'}\n",
      "{'state': 'RUNNING', 'description': 'Compositeband', 'creation_timestamp_ms': 1620132427693, 'update_timestamp_ms': 1620134003575, 'start_timestamp_ms': 1620132438941, 'task_type': 'EXPORT_IMAGE', 'attempt': 1, 'id': '3QIRJXI5GF4JTL7QPLQPKARM', 'name': 'projects/earthengine-legacy/operations/3QIRJXI5GF4JTL7QPLQPKARM'}\n",
      "{'state': 'RUNNING', 'description': 'Compositeband', 'creation_timestamp_ms': 1620132427693, 'update_timestamp_ms': 1620134003575, 'start_timestamp_ms': 1620132438941, 'task_type': 'EXPORT_IMAGE', 'attempt': 1, 'id': '3QIRJXI5GF4JTL7QPLQPKARM', 'name': 'projects/earthengine-legacy/operations/3QIRJXI5GF4JTL7QPLQPKARM'}\n",
      "{'state': 'RUNNING', 'description': 'Compositeband', 'creation_timestamp_ms': 1620132427693, 'update_timestamp_ms': 1620134003575, 'start_timestamp_ms': 1620132438941, 'task_type': 'EXPORT_IMAGE', 'attempt': 1, 'id': '3QIRJXI5GF4JTL7QPLQPKARM', 'name': 'projects/earthengine-legacy/operations/3QIRJXI5GF4JTL7QPLQPKARM'}\n",
      "{'state': 'RUNNING', 'description': 'Compositeband', 'creation_timestamp_ms': 1620132427693, 'update_timestamp_ms': 1620134003575, 'start_timestamp_ms': 1620132438941, 'task_type': 'EXPORT_IMAGE', 'attempt': 1, 'id': '3QIRJXI5GF4JTL7QPLQPKARM', 'name': 'projects/earthengine-legacy/operations/3QIRJXI5GF4JTL7QPLQPKARM'}\n",
      "{'state': 'RUNNING', 'description': 'Compositeband', 'creation_timestamp_ms': 1620132427693, 'update_timestamp_ms': 1620134003575, 'start_timestamp_ms': 1620132438941, 'task_type': 'EXPORT_IMAGE', 'attempt': 1, 'id': '3QIRJXI5GF4JTL7QPLQPKARM', 'name': 'projects/earthengine-legacy/operations/3QIRJXI5GF4JTL7QPLQPKARM'}\n",
      "{'state': 'RUNNING', 'description': 'Compositeband', 'creation_timestamp_ms': 1620132427693, 'update_timestamp_ms': 1620134003575, 'start_timestamp_ms': 1620132438941, 'task_type': 'EXPORT_IMAGE', 'attempt': 1, 'id': '3QIRJXI5GF4JTL7QPLQPKARM', 'name': 'projects/earthengine-legacy/operations/3QIRJXI5GF4JTL7QPLQPKARM'}\n",
      "{'state': 'RUNNING', 'description': 'Compositeband', 'creation_timestamp_ms': 1620132427693, 'update_timestamp_ms': 1620134003575, 'start_timestamp_ms': 1620132438941, 'task_type': 'EXPORT_IMAGE', 'attempt': 1, 'id': '3QIRJXI5GF4JTL7QPLQPKARM', 'name': 'projects/earthengine-legacy/operations/3QIRJXI5GF4JTL7QPLQPKARM'}\n",
      "{'state': 'RUNNING', 'description': 'Compositeband', 'creation_timestamp_ms': 1620132427693, 'update_timestamp_ms': 1620134003575, 'start_timestamp_ms': 1620132438941, 'task_type': 'EXPORT_IMAGE', 'attempt': 1, 'id': '3QIRJXI5GF4JTL7QPLQPKARM', 'name': 'projects/earthengine-legacy/operations/3QIRJXI5GF4JTL7QPLQPKARM'}\n",
      "{'state': 'RUNNING', 'description': 'Compositeband', 'creation_timestamp_ms': 1620132427693, 'update_timestamp_ms': 1620134003575, 'start_timestamp_ms': 1620132438941, 'task_type': 'EXPORT_IMAGE', 'attempt': 1, 'id': '3QIRJXI5GF4JTL7QPLQPKARM', 'name': 'projects/earthengine-legacy/operations/3QIRJXI5GF4JTL7QPLQPKARM'}\n",
      "{'state': 'RUNNING', 'description': 'Compositeband', 'creation_timestamp_ms': 1620132427693, 'update_timestamp_ms': 1620134003575, 'start_timestamp_ms': 1620132438941, 'task_type': 'EXPORT_IMAGE', 'attempt': 1, 'id': '3QIRJXI5GF4JTL7QPLQPKARM', 'name': 'projects/earthengine-legacy/operations/3QIRJXI5GF4JTL7QPLQPKARM'}\n",
      "{'state': 'RUNNING', 'description': 'Compositeband', 'creation_timestamp_ms': 1620132427693, 'update_timestamp_ms': 1620134003575, 'start_timestamp_ms': 1620132438941, 'task_type': 'EXPORT_IMAGE', 'attempt': 1, 'id': '3QIRJXI5GF4JTL7QPLQPKARM', 'name': 'projects/earthengine-legacy/operations/3QIRJXI5GF4JTL7QPLQPKARM'}\n",
      "{'state': 'RUNNING', 'description': 'Compositeband', 'creation_timestamp_ms': 1620132427693, 'update_timestamp_ms': 1620134063562, 'start_timestamp_ms': 1620132438941, 'task_type': 'EXPORT_IMAGE', 'attempt': 1, 'id': '3QIRJXI5GF4JTL7QPLQPKARM', 'name': 'projects/earthengine-legacy/operations/3QIRJXI5GF4JTL7QPLQPKARM'}\n",
      "{'state': 'RUNNING', 'description': 'Compositeband', 'creation_timestamp_ms': 1620132427693, 'update_timestamp_ms': 1620134063562, 'start_timestamp_ms': 1620132438941, 'task_type': 'EXPORT_IMAGE', 'attempt': 1, 'id': '3QIRJXI5GF4JTL7QPLQPKARM', 'name': 'projects/earthengine-legacy/operations/3QIRJXI5GF4JTL7QPLQPKARM'}\n",
      "{'state': 'RUNNING', 'description': 'Compositeband', 'creation_timestamp_ms': 1620132427693, 'update_timestamp_ms': 1620134063562, 'start_timestamp_ms': 1620132438941, 'task_type': 'EXPORT_IMAGE', 'attempt': 1, 'id': '3QIRJXI5GF4JTL7QPLQPKARM', 'name': 'projects/earthengine-legacy/operations/3QIRJXI5GF4JTL7QPLQPKARM'}\n",
      "{'state': 'RUNNING', 'description': 'Compositeband', 'creation_timestamp_ms': 1620132427693, 'update_timestamp_ms': 1620134063562, 'start_timestamp_ms': 1620132438941, 'task_type': 'EXPORT_IMAGE', 'attempt': 1, 'id': '3QIRJXI5GF4JTL7QPLQPKARM', 'name': 'projects/earthengine-legacy/operations/3QIRJXI5GF4JTL7QPLQPKARM'}\n",
      "{'state': 'RUNNING', 'description': 'Compositeband', 'creation_timestamp_ms': 1620132427693, 'update_timestamp_ms': 1620134063562, 'start_timestamp_ms': 1620132438941, 'task_type': 'EXPORT_IMAGE', 'attempt': 1, 'id': '3QIRJXI5GF4JTL7QPLQPKARM', 'name': 'projects/earthengine-legacy/operations/3QIRJXI5GF4JTL7QPLQPKARM'}\n",
      "{'state': 'RUNNING', 'description': 'Compositeband', 'creation_timestamp_ms': 1620132427693, 'update_timestamp_ms': 1620134063562, 'start_timestamp_ms': 1620132438941, 'task_type': 'EXPORT_IMAGE', 'attempt': 1, 'id': '3QIRJXI5GF4JTL7QPLQPKARM', 'name': 'projects/earthengine-legacy/operations/3QIRJXI5GF4JTL7QPLQPKARM'}\n",
      "{'state': 'RUNNING', 'description': 'Compositeband', 'creation_timestamp_ms': 1620132427693, 'update_timestamp_ms': 1620134063562, 'start_timestamp_ms': 1620132438941, 'task_type': 'EXPORT_IMAGE', 'attempt': 1, 'id': '3QIRJXI5GF4JTL7QPLQPKARM', 'name': 'projects/earthengine-legacy/operations/3QIRJXI5GF4JTL7QPLQPKARM'}\n",
      "{'state': 'RUNNING', 'description': 'Compositeband', 'creation_timestamp_ms': 1620132427693, 'update_timestamp_ms': 1620134063562, 'start_timestamp_ms': 1620132438941, 'task_type': 'EXPORT_IMAGE', 'attempt': 1, 'id': '3QIRJXI5GF4JTL7QPLQPKARM', 'name': 'projects/earthengine-legacy/operations/3QIRJXI5GF4JTL7QPLQPKARM'}\n",
      "{'state': 'RUNNING', 'description': 'Compositeband', 'creation_timestamp_ms': 1620132427693, 'update_timestamp_ms': 1620134063562, 'start_timestamp_ms': 1620132438941, 'task_type': 'EXPORT_IMAGE', 'attempt': 1, 'id': '3QIRJXI5GF4JTL7QPLQPKARM', 'name': 'projects/earthengine-legacy/operations/3QIRJXI5GF4JTL7QPLQPKARM'}\n",
      "{'state': 'RUNNING', 'description': 'Compositeband', 'creation_timestamp_ms': 1620132427693, 'update_timestamp_ms': 1620134063562, 'start_timestamp_ms': 1620132438941, 'task_type': 'EXPORT_IMAGE', 'attempt': 1, 'id': '3QIRJXI5GF4JTL7QPLQPKARM', 'name': 'projects/earthengine-legacy/operations/3QIRJXI5GF4JTL7QPLQPKARM'}\n",
      "{'state': 'RUNNING', 'description': 'Compositeband', 'creation_timestamp_ms': 1620132427693, 'update_timestamp_ms': 1620134063562, 'start_timestamp_ms': 1620132438941, 'task_type': 'EXPORT_IMAGE', 'attempt': 1, 'id': '3QIRJXI5GF4JTL7QPLQPKARM', 'name': 'projects/earthengine-legacy/operations/3QIRJXI5GF4JTL7QPLQPKARM'}\n",
      "{'state': 'RUNNING', 'description': 'Compositeband', 'creation_timestamp_ms': 1620132427693, 'update_timestamp_ms': 1620134123558, 'start_timestamp_ms': 1620132438941, 'task_type': 'EXPORT_IMAGE', 'attempt': 1, 'id': '3QIRJXI5GF4JTL7QPLQPKARM', 'name': 'projects/earthengine-legacy/operations/3QIRJXI5GF4JTL7QPLQPKARM'}\n",
      "{'state': 'RUNNING', 'description': 'Compositeband', 'creation_timestamp_ms': 1620132427693, 'update_timestamp_ms': 1620134123558, 'start_timestamp_ms': 1620132438941, 'task_type': 'EXPORT_IMAGE', 'attempt': 1, 'id': '3QIRJXI5GF4JTL7QPLQPKARM', 'name': 'projects/earthengine-legacy/operations/3QIRJXI5GF4JTL7QPLQPKARM'}\n",
      "{'state': 'RUNNING', 'description': 'Compositeband', 'creation_timestamp_ms': 1620132427693, 'update_timestamp_ms': 1620134123558, 'start_timestamp_ms': 1620132438941, 'task_type': 'EXPORT_IMAGE', 'attempt': 1, 'id': '3QIRJXI5GF4JTL7QPLQPKARM', 'name': 'projects/earthengine-legacy/operations/3QIRJXI5GF4JTL7QPLQPKARM'}\n",
      "{'state': 'RUNNING', 'description': 'Compositeband', 'creation_timestamp_ms': 1620132427693, 'update_timestamp_ms': 1620134123558, 'start_timestamp_ms': 1620132438941, 'task_type': 'EXPORT_IMAGE', 'attempt': 1, 'id': '3QIRJXI5GF4JTL7QPLQPKARM', 'name': 'projects/earthengine-legacy/operations/3QIRJXI5GF4JTL7QPLQPKARM'}\n",
      "{'state': 'RUNNING', 'description': 'Compositeband', 'creation_timestamp_ms': 1620132427693, 'update_timestamp_ms': 1620134123558, 'start_timestamp_ms': 1620132438941, 'task_type': 'EXPORT_IMAGE', 'attempt': 1, 'id': '3QIRJXI5GF4JTL7QPLQPKARM', 'name': 'projects/earthengine-legacy/operations/3QIRJXI5GF4JTL7QPLQPKARM'}\n",
      "{'state': 'RUNNING', 'description': 'Compositeband', 'creation_timestamp_ms': 1620132427693, 'update_timestamp_ms': 1620134123558, 'start_timestamp_ms': 1620132438941, 'task_type': 'EXPORT_IMAGE', 'attempt': 1, 'id': '3QIRJXI5GF4JTL7QPLQPKARM', 'name': 'projects/earthengine-legacy/operations/3QIRJXI5GF4JTL7QPLQPKARM'}\n",
      "{'state': 'RUNNING', 'description': 'Compositeband', 'creation_timestamp_ms': 1620132427693, 'update_timestamp_ms': 1620134123558, 'start_timestamp_ms': 1620132438941, 'task_type': 'EXPORT_IMAGE', 'attempt': 1, 'id': '3QIRJXI5GF4JTL7QPLQPKARM', 'name': 'projects/earthengine-legacy/operations/3QIRJXI5GF4JTL7QPLQPKARM'}\n",
      "{'state': 'RUNNING', 'description': 'Compositeband', 'creation_timestamp_ms': 1620132427693, 'update_timestamp_ms': 1620134123558, 'start_timestamp_ms': 1620132438941, 'task_type': 'EXPORT_IMAGE', 'attempt': 1, 'id': '3QIRJXI5GF4JTL7QPLQPKARM', 'name': 'projects/earthengine-legacy/operations/3QIRJXI5GF4JTL7QPLQPKARM'}\n",
      "{'state': 'RUNNING', 'description': 'Compositeband', 'creation_timestamp_ms': 1620132427693, 'update_timestamp_ms': 1620134123558, 'start_timestamp_ms': 1620132438941, 'task_type': 'EXPORT_IMAGE', 'attempt': 1, 'id': '3QIRJXI5GF4JTL7QPLQPKARM', 'name': 'projects/earthengine-legacy/operations/3QIRJXI5GF4JTL7QPLQPKARM'}\n",
      "{'state': 'RUNNING', 'description': 'Compositeband', 'creation_timestamp_ms': 1620132427693, 'update_timestamp_ms': 1620134123558, 'start_timestamp_ms': 1620132438941, 'task_type': 'EXPORT_IMAGE', 'attempt': 1, 'id': '3QIRJXI5GF4JTL7QPLQPKARM', 'name': 'projects/earthengine-legacy/operations/3QIRJXI5GF4JTL7QPLQPKARM'}\n",
      "{'state': 'RUNNING', 'description': 'Compositeband', 'creation_timestamp_ms': 1620132427693, 'update_timestamp_ms': 1620134123558, 'start_timestamp_ms': 1620132438941, 'task_type': 'EXPORT_IMAGE', 'attempt': 1, 'id': '3QIRJXI5GF4JTL7QPLQPKARM', 'name': 'projects/earthengine-legacy/operations/3QIRJXI5GF4JTL7QPLQPKARM'}\n",
      "{'state': 'RUNNING', 'description': 'Compositeband', 'creation_timestamp_ms': 1620132427693, 'update_timestamp_ms': 1620134123558, 'start_timestamp_ms': 1620132438941, 'task_type': 'EXPORT_IMAGE', 'attempt': 1, 'id': '3QIRJXI5GF4JTL7QPLQPKARM', 'name': 'projects/earthengine-legacy/operations/3QIRJXI5GF4JTL7QPLQPKARM'}\n",
      "{'state': 'RUNNING', 'description': 'Compositeband', 'creation_timestamp_ms': 1620132427693, 'update_timestamp_ms': 1620134188127, 'start_timestamp_ms': 1620132438941, 'task_type': 'EXPORT_IMAGE', 'attempt': 1, 'id': '3QIRJXI5GF4JTL7QPLQPKARM', 'name': 'projects/earthengine-legacy/operations/3QIRJXI5GF4JTL7QPLQPKARM'}\n",
      "{'state': 'RUNNING', 'description': 'Compositeband', 'creation_timestamp_ms': 1620132427693, 'update_timestamp_ms': 1620134188127, 'start_timestamp_ms': 1620132438941, 'task_type': 'EXPORT_IMAGE', 'attempt': 1, 'id': '3QIRJXI5GF4JTL7QPLQPKARM', 'name': 'projects/earthengine-legacy/operations/3QIRJXI5GF4JTL7QPLQPKARM'}\n",
      "{'state': 'RUNNING', 'description': 'Compositeband', 'creation_timestamp_ms': 1620132427693, 'update_timestamp_ms': 1620134188127, 'start_timestamp_ms': 1620132438941, 'task_type': 'EXPORT_IMAGE', 'attempt': 1, 'id': '3QIRJXI5GF4JTL7QPLQPKARM', 'name': 'projects/earthengine-legacy/operations/3QIRJXI5GF4JTL7QPLQPKARM'}\n",
      "{'state': 'RUNNING', 'description': 'Compositeband', 'creation_timestamp_ms': 1620132427693, 'update_timestamp_ms': 1620134188127, 'start_timestamp_ms': 1620132438941, 'task_type': 'EXPORT_IMAGE', 'attempt': 1, 'id': '3QIRJXI5GF4JTL7QPLQPKARM', 'name': 'projects/earthengine-legacy/operations/3QIRJXI5GF4JTL7QPLQPKARM'}\n",
      "{'state': 'RUNNING', 'description': 'Compositeband', 'creation_timestamp_ms': 1620132427693, 'update_timestamp_ms': 1620134188127, 'start_timestamp_ms': 1620132438941, 'task_type': 'EXPORT_IMAGE', 'attempt': 1, 'id': '3QIRJXI5GF4JTL7QPLQPKARM', 'name': 'projects/earthengine-legacy/operations/3QIRJXI5GF4JTL7QPLQPKARM'}\n",
      "{'state': 'RUNNING', 'description': 'Compositeband', 'creation_timestamp_ms': 1620132427693, 'update_timestamp_ms': 1620134188127, 'start_timestamp_ms': 1620132438941, 'task_type': 'EXPORT_IMAGE', 'attempt': 1, 'id': '3QIRJXI5GF4JTL7QPLQPKARM', 'name': 'projects/earthengine-legacy/operations/3QIRJXI5GF4JTL7QPLQPKARM'}\n",
      "{'state': 'RUNNING', 'description': 'Compositeband', 'creation_timestamp_ms': 1620132427693, 'update_timestamp_ms': 1620134188127, 'start_timestamp_ms': 1620132438941, 'task_type': 'EXPORT_IMAGE', 'attempt': 1, 'id': '3QIRJXI5GF4JTL7QPLQPKARM', 'name': 'projects/earthengine-legacy/operations/3QIRJXI5GF4JTL7QPLQPKARM'}\n",
      "{'state': 'RUNNING', 'description': 'Compositeband', 'creation_timestamp_ms': 1620132427693, 'update_timestamp_ms': 1620134188127, 'start_timestamp_ms': 1620132438941, 'task_type': 'EXPORT_IMAGE', 'attempt': 1, 'id': '3QIRJXI5GF4JTL7QPLQPKARM', 'name': 'projects/earthengine-legacy/operations/3QIRJXI5GF4JTL7QPLQPKARM'}\n",
      "{'state': 'RUNNING', 'description': 'Compositeband', 'creation_timestamp_ms': 1620132427693, 'update_timestamp_ms': 1620134188127, 'start_timestamp_ms': 1620132438941, 'task_type': 'EXPORT_IMAGE', 'attempt': 1, 'id': '3QIRJXI5GF4JTL7QPLQPKARM', 'name': 'projects/earthengine-legacy/operations/3QIRJXI5GF4JTL7QPLQPKARM'}\n",
      "{'state': 'RUNNING', 'description': 'Compositeband', 'creation_timestamp_ms': 1620132427693, 'update_timestamp_ms': 1620134188127, 'start_timestamp_ms': 1620132438941, 'task_type': 'EXPORT_IMAGE', 'attempt': 1, 'id': '3QIRJXI5GF4JTL7QPLQPKARM', 'name': 'projects/earthengine-legacy/operations/3QIRJXI5GF4JTL7QPLQPKARM'}\n",
      "{'state': 'RUNNING', 'description': 'Compositeband', 'creation_timestamp_ms': 1620132427693, 'update_timestamp_ms': 1620134188127, 'start_timestamp_ms': 1620132438941, 'task_type': 'EXPORT_IMAGE', 'attempt': 1, 'id': '3QIRJXI5GF4JTL7QPLQPKARM', 'name': 'projects/earthengine-legacy/operations/3QIRJXI5GF4JTL7QPLQPKARM'}\n",
      "{'state': 'RUNNING', 'description': 'Compositeband', 'creation_timestamp_ms': 1620132427693, 'update_timestamp_ms': 1620134188127, 'start_timestamp_ms': 1620132438941, 'task_type': 'EXPORT_IMAGE', 'attempt': 1, 'id': '3QIRJXI5GF4JTL7QPLQPKARM', 'name': 'projects/earthengine-legacy/operations/3QIRJXI5GF4JTL7QPLQPKARM'}\n",
      "{'state': 'RUNNING', 'description': 'Compositeband', 'creation_timestamp_ms': 1620132427693, 'update_timestamp_ms': 1620134188127, 'start_timestamp_ms': 1620132438941, 'task_type': 'EXPORT_IMAGE', 'attempt': 1, 'id': '3QIRJXI5GF4JTL7QPLQPKARM', 'name': 'projects/earthengine-legacy/operations/3QIRJXI5GF4JTL7QPLQPKARM'}\n",
      "{'state': 'RUNNING', 'description': 'Compositeband', 'creation_timestamp_ms': 1620132427693, 'update_timestamp_ms': 1620134188127, 'start_timestamp_ms': 1620132438941, 'task_type': 'EXPORT_IMAGE', 'attempt': 1, 'id': '3QIRJXI5GF4JTL7QPLQPKARM', 'name': 'projects/earthengine-legacy/operations/3QIRJXI5GF4JTL7QPLQPKARM'}\n",
      "{'state': 'RUNNING', 'description': 'Compositeband', 'creation_timestamp_ms': 1620132427693, 'update_timestamp_ms': 1620134188127, 'start_timestamp_ms': 1620132438941, 'task_type': 'EXPORT_IMAGE', 'attempt': 1, 'id': '3QIRJXI5GF4JTL7QPLQPKARM', 'name': 'projects/earthengine-legacy/operations/3QIRJXI5GF4JTL7QPLQPKARM'}\n",
      "{'state': 'RUNNING', 'description': 'Compositeband', 'creation_timestamp_ms': 1620132427693, 'update_timestamp_ms': 1620134188127, 'start_timestamp_ms': 1620132438941, 'task_type': 'EXPORT_IMAGE', 'attempt': 1, 'id': '3QIRJXI5GF4JTL7QPLQPKARM', 'name': 'projects/earthengine-legacy/operations/3QIRJXI5GF4JTL7QPLQPKARM'}\n",
      "{'state': 'RUNNING', 'description': 'Compositeband', 'creation_timestamp_ms': 1620132427693, 'update_timestamp_ms': 1620134188127, 'start_timestamp_ms': 1620132438941, 'task_type': 'EXPORT_IMAGE', 'attempt': 1, 'id': '3QIRJXI5GF4JTL7QPLQPKARM', 'name': 'projects/earthengine-legacy/operations/3QIRJXI5GF4JTL7QPLQPKARM'}\n",
      "{'state': 'RUNNING', 'description': 'Compositeband', 'creation_timestamp_ms': 1620132427693, 'update_timestamp_ms': 1620134188127, 'start_timestamp_ms': 1620132438941, 'task_type': 'EXPORT_IMAGE', 'attempt': 1, 'id': '3QIRJXI5GF4JTL7QPLQPKARM', 'name': 'projects/earthengine-legacy/operations/3QIRJXI5GF4JTL7QPLQPKARM'}\n",
      "{'state': 'RUNNING', 'description': 'Compositeband', 'creation_timestamp_ms': 1620132427693, 'update_timestamp_ms': 1620134188127, 'start_timestamp_ms': 1620132438941, 'task_type': 'EXPORT_IMAGE', 'attempt': 1, 'id': '3QIRJXI5GF4JTL7QPLQPKARM', 'name': 'projects/earthengine-legacy/operations/3QIRJXI5GF4JTL7QPLQPKARM'}\n",
      "{'state': 'RUNNING', 'description': 'Compositeband', 'creation_timestamp_ms': 1620132427693, 'update_timestamp_ms': 1620134188127, 'start_timestamp_ms': 1620132438941, 'task_type': 'EXPORT_IMAGE', 'attempt': 1, 'id': '3QIRJXI5GF4JTL7QPLQPKARM', 'name': 'projects/earthengine-legacy/operations/3QIRJXI5GF4JTL7QPLQPKARM'}\n",
      "{'state': 'RUNNING', 'description': 'Compositeband', 'creation_timestamp_ms': 1620132427693, 'update_timestamp_ms': 1620134188127, 'start_timestamp_ms': 1620132438941, 'task_type': 'EXPORT_IMAGE', 'attempt': 1, 'id': '3QIRJXI5GF4JTL7QPLQPKARM', 'name': 'projects/earthengine-legacy/operations/3QIRJXI5GF4JTL7QPLQPKARM'}\n",
      "{'state': 'RUNNING', 'description': 'Compositeband', 'creation_timestamp_ms': 1620132427693, 'update_timestamp_ms': 1620134188127, 'start_timestamp_ms': 1620132438941, 'task_type': 'EXPORT_IMAGE', 'attempt': 1, 'id': '3QIRJXI5GF4JTL7QPLQPKARM', 'name': 'projects/earthengine-legacy/operations/3QIRJXI5GF4JTL7QPLQPKARM'}\n",
      "{'state': 'COMPLETED', 'description': 'Compositeband', 'creation_timestamp_ms': 1620132427693, 'update_timestamp_ms': 1620134312154, 'start_timestamp_ms': 1620132438941, 'task_type': 'EXPORT_IMAGE', 'destination_uris': ['https://code.earthengine.google.com/?asset=projects/earthengine-legacy/assets/users/aadebowaledaniel/binaryimage_ft'], 'attempt': 1, 'id': '3QIRJXI5GF4JTL7QPLQPKARM', 'name': 'projects/earthengine-legacy/operations/3QIRJXI5GF4JTL7QPLQPKARM'}\n"
     ]
    }
   ],
   "source": [
    "#Monitor the task\n",
    "while task.status()['state'] in ['READY', 'RUNNING']:\n",
    "  print(task.status())\n",
    "  time.sleep(5)\n",
    "else:\n",
    "  print(task.status())"
   ]
  },
  {
   "cell_type": "code",
   "execution_count": 10,
   "metadata": {},
   "outputs": [],
   "source": [
    "#import composite from asset\n",
    "predimage = ee.Image('users/aadebowaledaniel/binaryimage_ft')"
   ]
  },
  {
   "cell_type": "code",
   "execution_count": 12,
   "metadata": {},
   "outputs": [],
   "source": [
    "predbands = image_feature.bandNames()"
   ]
  },
  {
   "cell_type": "code",
   "execution_count": 13,
   "metadata": {
    "tags": []
   },
   "outputs": [
    {
     "output_type": "stream",
     "name": "stdout",
     "text": [
      "Resubstitution error matrix:  [[436, 10], [0, 1792]]\n",
      "Training overall accuracy:  0.9934668989547039\n",
      "confusion Matrix [[142, 59], [29, 730]]\n",
      "Valdation overall accuracy: 0.8964467005076142\n"
     ]
    }
   ],
   "source": [
    "#continue from here\n",
    "trainingSample  = image_feature.sampleRegions(\n",
    "    collection = fc,\n",
    "    properties=['label'],\n",
    "    scale = 10, \n",
    "    geometries = True\n",
    ")\n",
    "# trainingSample.size().getInfo()\n",
    "\n",
    "rantraning = trainingSample.randomColumn('random')\n",
    "split = 0.7\n",
    "trainsample = rantraning.filter(ee.Filter.lt('random', split))\n",
    "testsample = rantraning.filter(ee.Filter.gte('random', split))\n",
    "\n",
    "#train random forest classifier\n",
    "classifier = ee.Classifier.smileRandomForest(100).train(trainsample, 'label', predbands)\n",
    "\n",
    "\n",
    "#confusion matrix train Accurracy\n",
    "trainAccuracy = classifier.confusionMatrix()\n",
    "print('Resubstitution error matrix: ', trainAccuracy.getInfo())\n",
    "print('Training overall accuracy: ', trainAccuracy.accuracy().getInfo())\n",
    "\n",
    "#classify features\n",
    "testclassifier = testsample.classify(classifier)\n",
    "#cconfusion matrix representing expected accuracy\n",
    "testAccuracy = testclassifier.errorMatrix('label', 'classification')\n",
    "print('confusion Matrix', testAccuracy.getInfo())\n",
    "print('Valdation overall accuracy:', testAccuracy.accuracy().getInfo())\n",
    "\n",
    "#classify image\n",
    "Imageclassified = image_feature.classify(classifier)\n",
    "# altImageclassified = predimage.classify(classifier)"
   ]
  },
  {
   "cell_type": "code",
   "execution_count": 14,
   "metadata": {},
   "outputs": [
    {
     "output_type": "display_data",
     "data": {
      "text/plain": "Map(center=[0.9613, 34.6536], controls=(WidgetControl(options=['position', 'transparent_bg'], widget=HBox(chil…",
      "application/vnd.jupyter.widget-view+json": {
       "version_major": 2,
       "version_minor": 0,
       "model_id": "a3a7895562c94bc8aed060157a27a6f8"
      }
     },
     "metadata": {}
    }
   ],
   "source": [
    "Map = geemap.Map(center=(0.9613,34.6536),zoom=8)\n",
    "Map"
   ]
  },
  {
   "cell_type": "code",
   "execution_count": 15,
   "metadata": {},
   "outputs": [],
   "source": [
    "Map.addLayer(image_feature, {'bands': ['B4', 'B3', 'B2'], 'min': 0.0, 'max': 0.3, 'gamma': 2}, 'True colour composite')"
   ]
  },
  {
   "cell_type": "code",
   "execution_count": 16,
   "metadata": {},
   "outputs": [],
   "source": [
    "vis_params = {'min': 0, 'max':1, 'pallete':['cdb33b', #1\n",
    "            'CEBD15', #0\n",
    "            ]}\n",
    "#{'min':0,'max':1,'palette':[\"green\",\"white\"]}            \n",
    "Map.addLayer(Imageclassified,vis_params, 'Classified')"
   ]
  },
  {
   "cell_type": "code",
   "execution_count": 23,
   "metadata": {},
   "outputs": [],
   "source": [
    "#convert to Vector\n",
    "cropmask = Imageclassified.eq(1)\n",
    "cropmask = cropmask.updateMask(cropmask)\n",
    "\n",
    "cropmaskVec = cropmask.reduceToVectors({\n",
    "    'geometryType': 'polygon',\n",
    "  'reducer': ee.Reducer.countEvery(),\n",
    "  'scale': 10,\n",
    "  'geometry':aoi,\n",
    "})"
   ]
  },
  {
   "cell_type": "code",
   "execution_count": null,
   "metadata": {},
   "outputs": [],
   "source": [
    "# def clmask(image):\n",
    "#     qa = image.select('QA60')\n",
    "#     cloudBitMask = 1 << 10\n",
    "#     cirrusBitMask = 1 << 11\n",
    "\n",
    "#     mask = qa.bitwiseAnd(cloudBitMask).eq(0)\n",
    "#     mask = qa.bitwiseAnd(cirrusBitMask).eq(0)\n",
    "#     # return image.updateMask(qa.lt(1)).divide(10000)\n",
    "#     return image.updateMask(mask.lt(1)).divide(10000)"
   ]
  }
 ],
 "metadata": {
  "kernelspec": {
   "name": "python392jvsc74a57bd0d3fecb5d2ddc39decba3217e5b08eccf3c913a59c9490f56a00feb9cdb9b46e1",
   "display_name": "Python 3.9.2 64-bit ('nasahv-env': conda)"
  },
  "language_info": {
   "codemirror_mode": {
    "name": "ipython",
    "version": 3
   },
   "file_extension": ".py",
   "mimetype": "text/x-python",
   "name": "python",
   "nbconvert_exporter": "python",
   "pygments_lexer": "ipython3",
   "version": "3.9.2"
  }
 },
 "nbformat": 4,
 "nbformat_minor": 2
}