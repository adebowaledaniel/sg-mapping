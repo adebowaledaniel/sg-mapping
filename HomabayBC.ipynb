{
 "cells": [
  {
   "cell_type": "code",
   "execution_count": 1,
   "metadata": {},
   "outputs": [],
   "source": [
    "import ee\n",
    "import geemap\n",
    "import numpy as np\n",
    "import time\n",
    "import pandas as pd\n",
    "import matplotlib.pyplot as plt\n",
    "# import geopandas as gpd"
   ]
  },
  {
   "cell_type": "code",
   "execution_count": 2,
   "metadata": {},
   "outputs": [],
   "source": [
    "ee.Initialize()"
   ]
  },
  {
   "cell_type": "markdown",
   "metadata": {},
   "source": [
    "The binary classification sample datasets include the sugarcane farm plots(89) obtained from the Hello Tractor field data"
   ]
  },
  {
   "cell_type": "code",
   "execution_count": 3,
   "metadata": {},
   "outputs": [],
   "source": [
    "#shp path\n",
    "tp_src = 'sgcplot.shp'\n",
    "tp_crop = 'croplabel.shp'\n",
    "tp_ncrop = 'noncroplabel.shp'\n",
    "\n",
    "#TODO training data explaination \n",
    "\n",
    "#ee object\n",
    "sgc_ee = geemap.shp_to_ee(tp_src)\n",
    "crop_ee = geemap.shp_to_ee(tp_crop)\n",
    "nncrop_ee = geemap.shp_to_ee(tp_ncrop)\n",
    "#feature collection\n",
    "crop_fc= sgc_ee.merge(crop_ee)\n",
    "fc = crop_fc.merge(nncrop_ee)\n",
    "#define bounding box\n",
    "bbox = ee.Geometry.bounds(fc)\n",
    "aoi = bbox\n",
    "#TODO #read about system.index"
   ]
  },
  {
   "cell_type": "code",
   "execution_count": 9,
   "metadata": {},
   "outputs": [],
   "source": [
    "#Sentinel 2 Image collection, cloudmask and mosaic\n",
    "sdate= '2020-05-01'\n",
    "edate= '2020-08-31'\n",
    "\n",
    "def cloud_prob():\n",
    "    innerJoined = ee.Join.inner().apply(**{\n",
    "        'primary':ee.ImageCollection(\"COPERNICUS/S2_SR\")\\\n",
    "            .filterBounds(aoi)\\\n",
    "                .filter(ee.Filter.lt('CLOUDY_PIXEL_PERCENTAGE',10)),\n",
    "         'secondary': ee.ImageCollection(\"COPERNICUS/S2_CLOUD_PROBABILITY\")\\\n",
    "            .filterBounds(aoi),       \n",
    "        'condition':ee.Filter.equals(**{\n",
    "            'leftField':'system:index',\n",
    "            'rightField':'system:index',\n",
    "        })\n",
    "    })\n",
    "    def mergeBands(joinresult):\n",
    "        return ee.Image(joinresult.get('primary'))\\\n",
    "            .addBands(joinresult.get('secondary'))\n",
    "    newCollection = innerJoined.map(mergeBands)\n",
    "    return ee.ImageCollection(newCollection)\n",
    "\n",
    "collection = cloud_prob().filterDate(sdate, edate)\n",
    "\n",
    "def maskcloud(_image):\n",
    "    cloudProbabilityThreshold =10\n",
    "    cloudMask = _image.select('probability').lt(cloudProbabilityThreshold)\n",
    "    return _image.updateMask(cloudMask)\n",
    "\n",
    "image = collection.map(maskcloud).median()"
   ]
  },
  {
   "cell_type": "code",
   "execution_count": 10,
   "metadata": {},
   "outputs": [],
   "source": [
    "#Resolution merge of 20m bands to 10m -TODO explain the process\n",
    "panchro = (image.select('B2').add(image.select('B3'))\\\n",
    "               .add(image.select('B4')).add(image.select('B8')))\\\n",
    "               .divide(4).rename('pan')\n",
    "image = image.addBands(panchro)\n",
    "\n",
    "bands = ['B5','B6','B7','B8A','B9','B11','B12']\n",
    "\n",
    "def sharpen(image):\n",
    "    kernel = ee.Kernel.square(**{\n",
    "        'radius': 20,\n",
    "        'units':'meters'\n",
    "    })\n",
    "    toSharpen = image.select(bands)\n",
    "    pan = image.select('pan')\n",
    "    meanPan = pan.reduceNeighborhood(**{\n",
    "        'reducer' : ee.Reducer.mean(),\n",
    "        'kernel' : kernel\n",
    "    })\n",
    "    offset = pan.subtract(meanPan)\n",
    "    return toSharpen.add(offset)\n",
    "sharpened = sharpen(image)    "
   ]
  },
  {
   "cell_type": "code",
   "execution_count": 11,
   "metadata": {},
   "outputs": [],
   "source": [
    "#image c0llection relevant bands (all in 10m), converted to float\n",
    "bands10m = image.select(['B2','B3','B4','B8'])\n",
    "imagef = bands10m.addBands(sharpened).divide(10000)\n",
    "image_feature = imagef.clip(aoi)"
   ]
  },
  {
   "cell_type": "code",
   "execution_count": 12,
   "metadata": {},
   "outputs": [],
   "source": [
    "#vegetation indices - TODO comment on the use of each VI\n",
    "def Veg_Index(image_name):\n",
    "    #NDVI\n",
    "    ndvi = image_name.expression(\n",
    "        '(NIR - RED)/(NIR + RED)', {\n",
    "            'NIR': image_name.select('B8'),\n",
    "            'RED': image_name.select('B4')\n",
    "        }).rename('NDVI')\n",
    "    #EVI\n",
    "    evi = image_name.expression(\n",
    "    '2.5 * ((NIR - RED) / (NIR + 6 * RED - 7.5 * BLUE + 1))',{\n",
    "        'NIR': image_name.select('B8'),\n",
    "        'RED': image_name.select('B4'),\n",
    "        'BLUE': image_name.select('B2')\n",
    "    }).rename('EVI')\n",
    "    #GCVI Green Chlorophyll Vegetation Index - TODO read about GCVI use cases\n",
    "    gcvi = image_name.expression(\n",
    "    '(NIR / GREEN) - 1',{\n",
    "        'NIR':image_name.select('B8'),\n",
    "        'GREEN':image_name.select('B3')\n",
    "    }).rename('GCVI')\n",
    "    #RDGCVI\n",
    "    rgcvi = image_name.expression(\n",
    "    '(NIR / REDE1) - 1',{\n",
    "        'NIR':image_name.select('B8'),\n",
    "        'REDE1':image_name.select('B5')\n",
    "    }).rename('RDGCVI')\n",
    "    #NDWI = (SWIR–NIR)/(SWIR + NIR)\n",
    "    ndwi = image_name.expression(\n",
    "        'SWIR/NIR',{\n",
    "            'SWIR':image_name.select('B12'),\n",
    "            'NIR':image_name.select('B8')\n",
    "        }).rename('NDWI')\n",
    "    return image_name.addBands(ndvi).addBands(evi).addBands(gcvi).addBands(rgcvi).addBands(ndwi)\n",
    "#image composite of all spectral indices and bands\n",
    "image_featureWithVI = Veg_Index(image_feature)"
   ]
  },
  {
   "cell_type": "code",
   "execution_count": 4,
   "metadata": {},
   "outputs": [],
   "source": [
    "#sentinel 1\n",
    "sdate= '2020-05-01'\n",
    "edate= '2020-08-31'\n",
    "VVcollection = ee.ImageCollection('COPERNICUS/S1_GRD')\\\n",
    "    .filter(ee.Filter.eq('instrumentMode', 'IW'))\\\n",
    "    .filter(ee.Filter.listContains('transmitterReceiverPolarisation', 'VV'))\\\n",
    "    .filter(ee.Filter.eq('orbitProperties_pass', 'DESCENDING'))\\\n",
    "    .filterMetadata('resolution_meters', 'equals', 10)\\\n",
    "    .filterBounds(aoi)\\\n",
    "    .select(['VV'])\n",
    "\n",
    "VHcollection = ee.ImageCollection('COPERNICUS/S1_GRD')\\\n",
    "    .filter(ee.Filter.eq('instrumentMode', 'IW'))\\\n",
    "    .filter(ee.Filter.listContains('transmitterReceiverPolarisation', 'VH'))\\\n",
    "    .filter(ee.Filter.eq('orbitProperties_pass', 'DESCENDING'))\\\n",
    "    .filterMetadata('resolution_meters', 'equals', 10)\\\n",
    "    .filterBounds(aoi)\\\n",
    "    .select(['VH'])\n",
    "\n",
    "Sarvv_f = VVcollection.filterDate(sdate,edate).mosaic()\n",
    "Sarvh_f = VHcollection.filterDate(sdate,edate).mosaic()\n",
    "smooth_radius = 30\n",
    "Sarvv = Sarvv_f.focal_mean(smooth_radius, 'circle', 'meters')\n",
    "Sarvh = Sarvh_f.focal_mean(smooth_radius, 'circle', 'meters')\n",
    "\n",
    "Sarstack = ee.Image.cat(Sarvh,Sarvv)\n",
    "Sarratio = Sarvv.divide(Sarvh).rename('Sarratio')\n",
    "# Sarratio = Sarstack.expression(\n",
    "#                 'VH/VV',{\n",
    "#                     'VV':Sarstack.select(Sarvv),\n",
    "#                     'VH':Sarstack.select(Sarvh)\n",
    "#                 }).rename('Sarratio')\n",
    "Sardiff = Sarvv.subtract(Sarvh).rename('Sardiff')\n",
    "# Sardiff = Sarstack.expression(\n",
    "#                 'VV-VH',{\n",
    "#                     'VV':Sarstack.select(Sarvv),\n",
    "#                     'VH':Sarstack.select(Sarvh)\n",
    "#                 }).rename('Sardiff')\n",
    "Sarcomposite = ee.Image.cat(Sarstack, Sarratio,Sardiff)"
   ]
  },
  {
   "cell_type": "code",
   "execution_count": 17,
   "metadata": {},
   "outputs": [],
   "source": [
    "Opt_SAR_Composite = ee.Image.cat(image_featureWithVI,Sarcomposite)"
   ]
  },
  {
   "cell_type": "code",
   "execution_count": 9,
   "metadata": {},
   "outputs": [],
   "source": [
    "visparam = {'min': 0.0, 'max': 0.9, 'pallete':['FFFFFF', 'CE7E45', 'DF923D', 'F1B555', 'FCD163', '99B718', '74A901',\n",
    "    '66A000', '529400', '3E8601', '207401', '056201', '004C00', '023B01',\n",
    "    '012E01', '011D01', '011301']}\n",
    "Map.addLayer(aoi, {}, 'aoi' )\n",
    "# Map.addLayer(image_featureWithVI, {'bands': ['B9', 'B11', 'B12'], 'min': 0.0, 'max': 0.3}, 'Original')\n",
    "# Map.addLayer(image_featureWithVI, {'bands': ['B9', 'B11', 'B12'], 'min': 0.0, 'max': 0.3}, 'Sharpen 1')\n",
    "# Map.addLayer(image_featureWithVI, {'bands': ['B8', 'B4', 'B3'], 'min': 0.0, 'max': 0.3}, 'False Colour COmposite')\n",
    "# Map.addLayer(image_featureWithVI, {'bands': ['B4', 'B3', 'B2'], 'min': 0.0, 'max': 0.3}, 'True Colour COmposite')\n",
    "Map.addLayer(image_featureWithVI, visparam, 'NDVI')\n",
    "Map.addLayer(image_featureWithVI, visparam, 'GCVI')"
   ]
  },
  {
   "cell_type": "code",
   "execution_count": 18,
   "metadata": {
    "tags": []
   },
   "outputs": [
    {
     "name": "stdout",
     "output_type": "stream",
     "text": [
      "{'state': 'READY', 'description': 'Optical_SAR_Compositeband', 'creation_timestamp_ms': 1624573463385, 'update_timestamp_ms': 1624573463385, 'start_timestamp_ms': 0, 'task_type': 'EXPORT_IMAGE', 'id': 'VT2YGL5A6MIIRNCZXJO4TETQ', 'name': 'projects/earthengine-legacy/operations/VT2YGL5A6MIIRNCZXJO4TETQ'}\n",
      "{'state': 'READY', 'description': 'Optical_SAR_Compositeband', 'creation_timestamp_ms': 1624573463385, 'update_timestamp_ms': 1624573463385, 'start_timestamp_ms': 0, 'task_type': 'EXPORT_IMAGE', 'id': 'VT2YGL5A6MIIRNCZXJO4TETQ', 'name': 'projects/earthengine-legacy/operations/VT2YGL5A6MIIRNCZXJO4TETQ'}\n",
      "{'state': 'READY', 'description': 'Optical_SAR_Compositeband', 'creation_timestamp_ms': 1624573463385, 'update_timestamp_ms': 1624573463385, 'start_timestamp_ms': 0, 'task_type': 'EXPORT_IMAGE', 'id': 'VT2YGL5A6MIIRNCZXJO4TETQ', 'name': 'projects/earthengine-legacy/operations/VT2YGL5A6MIIRNCZXJO4TETQ'}\n",
      "{'state': 'READY', 'description': 'Optical_SAR_Compositeband', 'creation_timestamp_ms': 1624573463385, 'update_timestamp_ms': 1624573463385, 'start_timestamp_ms': 0, 'task_type': 'EXPORT_IMAGE', 'id': 'VT2YGL5A6MIIRNCZXJO4TETQ', 'name': 'projects/earthengine-legacy/operations/VT2YGL5A6MIIRNCZXJO4TETQ'}\n",
      "{'state': 'RUNNING', 'description': 'Optical_SAR_Compositeband', 'creation_timestamp_ms': 1624573463385, 'update_timestamp_ms': 1624573485593, 'start_timestamp_ms': 1624573485463, 'task_type': 'EXPORT_IMAGE', 'attempt': 1, 'id': 'VT2YGL5A6MIIRNCZXJO4TETQ', 'name': 'projects/earthengine-legacy/operations/VT2YGL5A6MIIRNCZXJO4TETQ'}\n",
      "{'state': 'RUNNING', 'description': 'Optical_SAR_Compositeband', 'creation_timestamp_ms': 1624573463385, 'update_timestamp_ms': 1624573489619, 'start_timestamp_ms': 1624573485463, 'task_type': 'EXPORT_IMAGE', 'attempt': 1, 'id': 'VT2YGL5A6MIIRNCZXJO4TETQ', 'name': 'projects/earthengine-legacy/operations/VT2YGL5A6MIIRNCZXJO4TETQ'}\n",
      "{'state': 'RUNNING', 'description': 'Optical_SAR_Compositeband', 'creation_timestamp_ms': 1624573463385, 'update_timestamp_ms': 1624573489619, 'start_timestamp_ms': 1624573485463, 'task_type': 'EXPORT_IMAGE', 'attempt': 1, 'id': 'VT2YGL5A6MIIRNCZXJO4TETQ', 'name': 'projects/earthengine-legacy/operations/VT2YGL5A6MIIRNCZXJO4TETQ'}\n",
      "{'state': 'RUNNING', 'description': 'Optical_SAR_Compositeband', 'creation_timestamp_ms': 1624573463385, 'update_timestamp_ms': 1624573489619, 'start_timestamp_ms': 1624573485463, 'task_type': 'EXPORT_IMAGE', 'attempt': 1, 'id': 'VT2YGL5A6MIIRNCZXJO4TETQ', 'name': 'projects/earthengine-legacy/operations/VT2YGL5A6MIIRNCZXJO4TETQ'}\n",
      "{'state': 'RUNNING', 'description': 'Optical_SAR_Compositeband', 'creation_timestamp_ms': 1624573463385, 'update_timestamp_ms': 1624573489619, 'start_timestamp_ms': 1624573485463, 'task_type': 'EXPORT_IMAGE', 'attempt': 1, 'id': 'VT2YGL5A6MIIRNCZXJO4TETQ', 'name': 'projects/earthengine-legacy/operations/VT2YGL5A6MIIRNCZXJO4TETQ'}\n",
      "{'state': 'RUNNING', 'description': 'Optical_SAR_Compositeband', 'creation_timestamp_ms': 1624573463385, 'update_timestamp_ms': 1624573489619, 'start_timestamp_ms': 1624573485463, 'task_type': 'EXPORT_IMAGE', 'attempt': 1, 'id': 'VT2YGL5A6MIIRNCZXJO4TETQ', 'name': 'projects/earthengine-legacy/operations/VT2YGL5A6MIIRNCZXJO4TETQ'}\n",
      "{'state': 'RUNNING', 'description': 'Optical_SAR_Compositeband', 'creation_timestamp_ms': 1624573463385, 'update_timestamp_ms': 1624573489619, 'start_timestamp_ms': 1624573485463, 'task_type': 'EXPORT_IMAGE', 'attempt': 1, 'id': 'VT2YGL5A6MIIRNCZXJO4TETQ', 'name': 'projects/earthengine-legacy/operations/VT2YGL5A6MIIRNCZXJO4TETQ'}\n",
      "{'state': 'RUNNING', 'description': 'Optical_SAR_Compositeband', 'creation_timestamp_ms': 1624573463385, 'update_timestamp_ms': 1624573489619, 'start_timestamp_ms': 1624573485463, 'task_type': 'EXPORT_IMAGE', 'attempt': 1, 'id': 'VT2YGL5A6MIIRNCZXJO4TETQ', 'name': 'projects/earthengine-legacy/operations/VT2YGL5A6MIIRNCZXJO4TETQ'}\n",
      "{'state': 'RUNNING', 'description': 'Optical_SAR_Compositeband', 'creation_timestamp_ms': 1624573463385, 'update_timestamp_ms': 1624573489619, 'start_timestamp_ms': 1624573485463, 'task_type': 'EXPORT_IMAGE', 'attempt': 1, 'id': 'VT2YGL5A6MIIRNCZXJO4TETQ', 'name': 'projects/earthengine-legacy/operations/VT2YGL5A6MIIRNCZXJO4TETQ'}\n",
      "{'state': 'RUNNING', 'description': 'Optical_SAR_Compositeband', 'creation_timestamp_ms': 1624573463385, 'update_timestamp_ms': 1624573489619, 'start_timestamp_ms': 1624573485463, 'task_type': 'EXPORT_IMAGE', 'attempt': 1, 'id': 'VT2YGL5A6MIIRNCZXJO4TETQ', 'name': 'projects/earthengine-legacy/operations/VT2YGL5A6MIIRNCZXJO4TETQ'}\n",
      "{'state': 'RUNNING', 'description': 'Optical_SAR_Compositeband', 'creation_timestamp_ms': 1624573463385, 'update_timestamp_ms': 1624573489619, 'start_timestamp_ms': 1624573485463, 'task_type': 'EXPORT_IMAGE', 'attempt': 1, 'id': 'VT2YGL5A6MIIRNCZXJO4TETQ', 'name': 'projects/earthengine-legacy/operations/VT2YGL5A6MIIRNCZXJO4TETQ'}\n",
      "{'state': 'RUNNING', 'description': 'Optical_SAR_Compositeband', 'creation_timestamp_ms': 1624573463385, 'update_timestamp_ms': 1624573547436, 'start_timestamp_ms': 1624573485463, 'task_type': 'EXPORT_IMAGE', 'attempt': 1, 'id': 'VT2YGL5A6MIIRNCZXJO4TETQ', 'name': 'projects/earthengine-legacy/operations/VT2YGL5A6MIIRNCZXJO4TETQ'}\n",
      "{'state': 'RUNNING', 'description': 'Optical_SAR_Compositeband', 'creation_timestamp_ms': 1624573463385, 'update_timestamp_ms': 1624573547436, 'start_timestamp_ms': 1624573485463, 'task_type': 'EXPORT_IMAGE', 'attempt': 1, 'id': 'VT2YGL5A6MIIRNCZXJO4TETQ', 'name': 'projects/earthengine-legacy/operations/VT2YGL5A6MIIRNCZXJO4TETQ'}\n",
      "{'state': 'RUNNING', 'description': 'Optical_SAR_Compositeband', 'creation_timestamp_ms': 1624573463385, 'update_timestamp_ms': 1624573547436, 'start_timestamp_ms': 1624573485463, 'task_type': 'EXPORT_IMAGE', 'attempt': 1, 'id': 'VT2YGL5A6MIIRNCZXJO4TETQ', 'name': 'projects/earthengine-legacy/operations/VT2YGL5A6MIIRNCZXJO4TETQ'}\n",
      "{'state': 'RUNNING', 'description': 'Optical_SAR_Compositeband', 'creation_timestamp_ms': 1624573463385, 'update_timestamp_ms': 1624573547436, 'start_timestamp_ms': 1624573485463, 'task_type': 'EXPORT_IMAGE', 'attempt': 1, 'id': 'VT2YGL5A6MIIRNCZXJO4TETQ', 'name': 'projects/earthengine-legacy/operations/VT2YGL5A6MIIRNCZXJO4TETQ'}\n",
      "{'state': 'RUNNING', 'description': 'Optical_SAR_Compositeband', 'creation_timestamp_ms': 1624573463385, 'update_timestamp_ms': 1624573547436, 'start_timestamp_ms': 1624573485463, 'task_type': 'EXPORT_IMAGE', 'attempt': 1, 'id': 'VT2YGL5A6MIIRNCZXJO4TETQ', 'name': 'projects/earthengine-legacy/operations/VT2YGL5A6MIIRNCZXJO4TETQ'}\n",
      "{'state': 'RUNNING', 'description': 'Optical_SAR_Compositeband', 'creation_timestamp_ms': 1624573463385, 'update_timestamp_ms': 1624573547436, 'start_timestamp_ms': 1624573485463, 'task_type': 'EXPORT_IMAGE', 'attempt': 1, 'id': 'VT2YGL5A6MIIRNCZXJO4TETQ', 'name': 'projects/earthengine-legacy/operations/VT2YGL5A6MIIRNCZXJO4TETQ'}\n",
      "{'state': 'RUNNING', 'description': 'Optical_SAR_Compositeband', 'creation_timestamp_ms': 1624573463385, 'update_timestamp_ms': 1624573547436, 'start_timestamp_ms': 1624573485463, 'task_type': 'EXPORT_IMAGE', 'attempt': 1, 'id': 'VT2YGL5A6MIIRNCZXJO4TETQ', 'name': 'projects/earthengine-legacy/operations/VT2YGL5A6MIIRNCZXJO4TETQ'}\n",
      "{'state': 'RUNNING', 'description': 'Optical_SAR_Compositeband', 'creation_timestamp_ms': 1624573463385, 'update_timestamp_ms': 1624573547436, 'start_timestamp_ms': 1624573485463, 'task_type': 'EXPORT_IMAGE', 'attempt': 1, 'id': 'VT2YGL5A6MIIRNCZXJO4TETQ', 'name': 'projects/earthengine-legacy/operations/VT2YGL5A6MIIRNCZXJO4TETQ'}\n",
      "{'state': 'RUNNING', 'description': 'Optical_SAR_Compositeband', 'creation_timestamp_ms': 1624573463385, 'update_timestamp_ms': 1624573547436, 'start_timestamp_ms': 1624573485463, 'task_type': 'EXPORT_IMAGE', 'attempt': 1, 'id': 'VT2YGL5A6MIIRNCZXJO4TETQ', 'name': 'projects/earthengine-legacy/operations/VT2YGL5A6MIIRNCZXJO4TETQ'}\n",
      "{'state': 'RUNNING', 'description': 'Optical_SAR_Compositeband', 'creation_timestamp_ms': 1624573463385, 'update_timestamp_ms': 1624573547436, 'start_timestamp_ms': 1624573485463, 'task_type': 'EXPORT_IMAGE', 'attempt': 1, 'id': 'VT2YGL5A6MIIRNCZXJO4TETQ', 'name': 'projects/earthengine-legacy/operations/VT2YGL5A6MIIRNCZXJO4TETQ'}\n",
      "{'state': 'RUNNING', 'description': 'Optical_SAR_Compositeband', 'creation_timestamp_ms': 1624573463385, 'update_timestamp_ms': 1624573547436, 'start_timestamp_ms': 1624573485463, 'task_type': 'EXPORT_IMAGE', 'attempt': 1, 'id': 'VT2YGL5A6MIIRNCZXJO4TETQ', 'name': 'projects/earthengine-legacy/operations/VT2YGL5A6MIIRNCZXJO4TETQ'}\n"
     ]
    },
    {
     "name": "stdout",
     "output_type": "stream",
     "text": [
      "{'state': 'RUNNING', 'description': 'Optical_SAR_Compositeband', 'creation_timestamp_ms': 1624573463385, 'update_timestamp_ms': 1624573607414, 'start_timestamp_ms': 1624573485463, 'task_type': 'EXPORT_IMAGE', 'attempt': 1, 'id': 'VT2YGL5A6MIIRNCZXJO4TETQ', 'name': 'projects/earthengine-legacy/operations/VT2YGL5A6MIIRNCZXJO4TETQ'}\n",
      "{'state': 'RUNNING', 'description': 'Optical_SAR_Compositeband', 'creation_timestamp_ms': 1624573463385, 'update_timestamp_ms': 1624573607414, 'start_timestamp_ms': 1624573485463, 'task_type': 'EXPORT_IMAGE', 'attempt': 1, 'id': 'VT2YGL5A6MIIRNCZXJO4TETQ', 'name': 'projects/earthengine-legacy/operations/VT2YGL5A6MIIRNCZXJO4TETQ'}\n",
      "{'state': 'RUNNING', 'description': 'Optical_SAR_Compositeband', 'creation_timestamp_ms': 1624573463385, 'update_timestamp_ms': 1624573607414, 'start_timestamp_ms': 1624573485463, 'task_type': 'EXPORT_IMAGE', 'attempt': 1, 'id': 'VT2YGL5A6MIIRNCZXJO4TETQ', 'name': 'projects/earthengine-legacy/operations/VT2YGL5A6MIIRNCZXJO4TETQ'}\n",
      "{'state': 'RUNNING', 'description': 'Optical_SAR_Compositeband', 'creation_timestamp_ms': 1624573463385, 'update_timestamp_ms': 1624573607414, 'start_timestamp_ms': 1624573485463, 'task_type': 'EXPORT_IMAGE', 'attempt': 1, 'id': 'VT2YGL5A6MIIRNCZXJO4TETQ', 'name': 'projects/earthengine-legacy/operations/VT2YGL5A6MIIRNCZXJO4TETQ'}\n",
      "{'state': 'RUNNING', 'description': 'Optical_SAR_Compositeband', 'creation_timestamp_ms': 1624573463385, 'update_timestamp_ms': 1624573607414, 'start_timestamp_ms': 1624573485463, 'task_type': 'EXPORT_IMAGE', 'attempt': 1, 'id': 'VT2YGL5A6MIIRNCZXJO4TETQ', 'name': 'projects/earthengine-legacy/operations/VT2YGL5A6MIIRNCZXJO4TETQ'}\n",
      "{'state': 'RUNNING', 'description': 'Optical_SAR_Compositeband', 'creation_timestamp_ms': 1624573463385, 'update_timestamp_ms': 1624573607414, 'start_timestamp_ms': 1624573485463, 'task_type': 'EXPORT_IMAGE', 'attempt': 1, 'id': 'VT2YGL5A6MIIRNCZXJO4TETQ', 'name': 'projects/earthengine-legacy/operations/VT2YGL5A6MIIRNCZXJO4TETQ'}\n",
      "{'state': 'RUNNING', 'description': 'Optical_SAR_Compositeband', 'creation_timestamp_ms': 1624573463385, 'update_timestamp_ms': 1624573607414, 'start_timestamp_ms': 1624573485463, 'task_type': 'EXPORT_IMAGE', 'attempt': 1, 'id': 'VT2YGL5A6MIIRNCZXJO4TETQ', 'name': 'projects/earthengine-legacy/operations/VT2YGL5A6MIIRNCZXJO4TETQ'}\n",
      "{'state': 'RUNNING', 'description': 'Optical_SAR_Compositeband', 'creation_timestamp_ms': 1624573463385, 'update_timestamp_ms': 1624573607414, 'start_timestamp_ms': 1624573485463, 'task_type': 'EXPORT_IMAGE', 'attempt': 1, 'id': 'VT2YGL5A6MIIRNCZXJO4TETQ', 'name': 'projects/earthengine-legacy/operations/VT2YGL5A6MIIRNCZXJO4TETQ'}\n",
      "{'state': 'RUNNING', 'description': 'Optical_SAR_Compositeband', 'creation_timestamp_ms': 1624573463385, 'update_timestamp_ms': 1624573607414, 'start_timestamp_ms': 1624573485463, 'task_type': 'EXPORT_IMAGE', 'attempt': 1, 'id': 'VT2YGL5A6MIIRNCZXJO4TETQ', 'name': 'projects/earthengine-legacy/operations/VT2YGL5A6MIIRNCZXJO4TETQ'}\n",
      "{'state': 'RUNNING', 'description': 'Optical_SAR_Compositeband', 'creation_timestamp_ms': 1624573463385, 'update_timestamp_ms': 1624573607414, 'start_timestamp_ms': 1624573485463, 'task_type': 'EXPORT_IMAGE', 'attempt': 1, 'id': 'VT2YGL5A6MIIRNCZXJO4TETQ', 'name': 'projects/earthengine-legacy/operations/VT2YGL5A6MIIRNCZXJO4TETQ'}\n",
      "{'state': 'RUNNING', 'description': 'Optical_SAR_Compositeband', 'creation_timestamp_ms': 1624573463385, 'update_timestamp_ms': 1624573667438, 'start_timestamp_ms': 1624573485463, 'task_type': 'EXPORT_IMAGE', 'attempt': 1, 'id': 'VT2YGL5A6MIIRNCZXJO4TETQ', 'name': 'projects/earthengine-legacy/operations/VT2YGL5A6MIIRNCZXJO4TETQ'}\n",
      "{'state': 'RUNNING', 'description': 'Optical_SAR_Compositeband', 'creation_timestamp_ms': 1624573463385, 'update_timestamp_ms': 1624573667438, 'start_timestamp_ms': 1624573485463, 'task_type': 'EXPORT_IMAGE', 'attempt': 1, 'id': 'VT2YGL5A6MIIRNCZXJO4TETQ', 'name': 'projects/earthengine-legacy/operations/VT2YGL5A6MIIRNCZXJO4TETQ'}\n",
      "{'state': 'RUNNING', 'description': 'Optical_SAR_Compositeband', 'creation_timestamp_ms': 1624573463385, 'update_timestamp_ms': 1624573667438, 'start_timestamp_ms': 1624573485463, 'task_type': 'EXPORT_IMAGE', 'attempt': 1, 'id': 'VT2YGL5A6MIIRNCZXJO4TETQ', 'name': 'projects/earthengine-legacy/operations/VT2YGL5A6MIIRNCZXJO4TETQ'}\n",
      "{'state': 'RUNNING', 'description': 'Optical_SAR_Compositeband', 'creation_timestamp_ms': 1624573463385, 'update_timestamp_ms': 1624573682754, 'start_timestamp_ms': 1624573485463, 'task_type': 'EXPORT_IMAGE', 'attempt': 1, 'id': 'VT2YGL5A6MIIRNCZXJO4TETQ', 'name': 'projects/earthengine-legacy/operations/VT2YGL5A6MIIRNCZXJO4TETQ'}\n",
      "{'state': 'RUNNING', 'description': 'Optical_SAR_Compositeband', 'creation_timestamp_ms': 1624573463385, 'update_timestamp_ms': 1624573682754, 'start_timestamp_ms': 1624573485463, 'task_type': 'EXPORT_IMAGE', 'attempt': 1, 'id': 'VT2YGL5A6MIIRNCZXJO4TETQ', 'name': 'projects/earthengine-legacy/operations/VT2YGL5A6MIIRNCZXJO4TETQ'}\n",
      "{'state': 'RUNNING', 'description': 'Optical_SAR_Compositeband', 'creation_timestamp_ms': 1624573463385, 'update_timestamp_ms': 1624573682754, 'start_timestamp_ms': 1624573485463, 'task_type': 'EXPORT_IMAGE', 'attempt': 1, 'id': 'VT2YGL5A6MIIRNCZXJO4TETQ', 'name': 'projects/earthengine-legacy/operations/VT2YGL5A6MIIRNCZXJO4TETQ'}\n",
      "{'state': 'RUNNING', 'description': 'Optical_SAR_Compositeband', 'creation_timestamp_ms': 1624573463385, 'update_timestamp_ms': 1624573682754, 'start_timestamp_ms': 1624573485463, 'task_type': 'EXPORT_IMAGE', 'attempt': 1, 'id': 'VT2YGL5A6MIIRNCZXJO4TETQ', 'name': 'projects/earthengine-legacy/operations/VT2YGL5A6MIIRNCZXJO4TETQ'}\n",
      "{'state': 'RUNNING', 'description': 'Optical_SAR_Compositeband', 'creation_timestamp_ms': 1624573463385, 'update_timestamp_ms': 1624573682754, 'start_timestamp_ms': 1624573485463, 'task_type': 'EXPORT_IMAGE', 'attempt': 1, 'id': 'VT2YGL5A6MIIRNCZXJO4TETQ', 'name': 'projects/earthengine-legacy/operations/VT2YGL5A6MIIRNCZXJO4TETQ'}\n",
      "{'state': 'RUNNING', 'description': 'Optical_SAR_Compositeband', 'creation_timestamp_ms': 1624573463385, 'update_timestamp_ms': 1624573682754, 'start_timestamp_ms': 1624573485463, 'task_type': 'EXPORT_IMAGE', 'attempt': 1, 'id': 'VT2YGL5A6MIIRNCZXJO4TETQ', 'name': 'projects/earthengine-legacy/operations/VT2YGL5A6MIIRNCZXJO4TETQ'}\n",
      "{'state': 'RUNNING', 'description': 'Optical_SAR_Compositeband', 'creation_timestamp_ms': 1624573463385, 'update_timestamp_ms': 1624573682754, 'start_timestamp_ms': 1624573485463, 'task_type': 'EXPORT_IMAGE', 'attempt': 1, 'id': 'VT2YGL5A6MIIRNCZXJO4TETQ', 'name': 'projects/earthengine-legacy/operations/VT2YGL5A6MIIRNCZXJO4TETQ'}\n",
      "{'state': 'RUNNING', 'description': 'Optical_SAR_Compositeband', 'creation_timestamp_ms': 1624573463385, 'update_timestamp_ms': 1624573682754, 'start_timestamp_ms': 1624573485463, 'task_type': 'EXPORT_IMAGE', 'attempt': 1, 'id': 'VT2YGL5A6MIIRNCZXJO4TETQ', 'name': 'projects/earthengine-legacy/operations/VT2YGL5A6MIIRNCZXJO4TETQ'}\n",
      "{'state': 'RUNNING', 'description': 'Optical_SAR_Compositeband', 'creation_timestamp_ms': 1624573463385, 'update_timestamp_ms': 1624573682754, 'start_timestamp_ms': 1624573485463, 'task_type': 'EXPORT_IMAGE', 'attempt': 1, 'id': 'VT2YGL5A6MIIRNCZXJO4TETQ', 'name': 'projects/earthengine-legacy/operations/VT2YGL5A6MIIRNCZXJO4TETQ'}\n",
      "{'state': 'RUNNING', 'description': 'Optical_SAR_Compositeband', 'creation_timestamp_ms': 1624573463385, 'update_timestamp_ms': 1624573682754, 'start_timestamp_ms': 1624573485463, 'task_type': 'EXPORT_IMAGE', 'attempt': 1, 'id': 'VT2YGL5A6MIIRNCZXJO4TETQ', 'name': 'projects/earthengine-legacy/operations/VT2YGL5A6MIIRNCZXJO4TETQ'}\n",
      "{'state': 'RUNNING', 'description': 'Optical_SAR_Compositeband', 'creation_timestamp_ms': 1624573463385, 'update_timestamp_ms': 1624573682754, 'start_timestamp_ms': 1624573485463, 'task_type': 'EXPORT_IMAGE', 'attempt': 1, 'id': 'VT2YGL5A6MIIRNCZXJO4TETQ', 'name': 'projects/earthengine-legacy/operations/VT2YGL5A6MIIRNCZXJO4TETQ'}\n",
      "{'state': 'RUNNING', 'description': 'Optical_SAR_Compositeband', 'creation_timestamp_ms': 1624573463385, 'update_timestamp_ms': 1624573682754, 'start_timestamp_ms': 1624573485463, 'task_type': 'EXPORT_IMAGE', 'attempt': 1, 'id': 'VT2YGL5A6MIIRNCZXJO4TETQ', 'name': 'projects/earthengine-legacy/operations/VT2YGL5A6MIIRNCZXJO4TETQ'}\n"
     ]
    },
    {
     "name": "stdout",
     "output_type": "stream",
     "text": [
      "{'state': 'RUNNING', 'description': 'Optical_SAR_Compositeband', 'creation_timestamp_ms': 1624573463385, 'update_timestamp_ms': 1624573682754, 'start_timestamp_ms': 1624573485463, 'task_type': 'EXPORT_IMAGE', 'attempt': 1, 'id': 'VT2YGL5A6MIIRNCZXJO4TETQ', 'name': 'projects/earthengine-legacy/operations/VT2YGL5A6MIIRNCZXJO4TETQ'}\n",
      "{'state': 'RUNNING', 'description': 'Optical_SAR_Compositeband', 'creation_timestamp_ms': 1624573463385, 'update_timestamp_ms': 1624573682754, 'start_timestamp_ms': 1624573485463, 'task_type': 'EXPORT_IMAGE', 'attempt': 1, 'id': 'VT2YGL5A6MIIRNCZXJO4TETQ', 'name': 'projects/earthengine-legacy/operations/VT2YGL5A6MIIRNCZXJO4TETQ'}\n",
      "{'state': 'RUNNING', 'description': 'Optical_SAR_Compositeband', 'creation_timestamp_ms': 1624573463385, 'update_timestamp_ms': 1624573682754, 'start_timestamp_ms': 1624573485463, 'task_type': 'EXPORT_IMAGE', 'attempt': 1, 'id': 'VT2YGL5A6MIIRNCZXJO4TETQ', 'name': 'projects/earthengine-legacy/operations/VT2YGL5A6MIIRNCZXJO4TETQ'}\n",
      "{'state': 'RUNNING', 'description': 'Optical_SAR_Compositeband', 'creation_timestamp_ms': 1624573463385, 'update_timestamp_ms': 1624573682754, 'start_timestamp_ms': 1624573485463, 'task_type': 'EXPORT_IMAGE', 'attempt': 1, 'id': 'VT2YGL5A6MIIRNCZXJO4TETQ', 'name': 'projects/earthengine-legacy/operations/VT2YGL5A6MIIRNCZXJO4TETQ'}\n",
      "{'state': 'RUNNING', 'description': 'Optical_SAR_Compositeband', 'creation_timestamp_ms': 1624573463385, 'update_timestamp_ms': 1624573682754, 'start_timestamp_ms': 1624573485463, 'task_type': 'EXPORT_IMAGE', 'attempt': 1, 'id': 'VT2YGL5A6MIIRNCZXJO4TETQ', 'name': 'projects/earthengine-legacy/operations/VT2YGL5A6MIIRNCZXJO4TETQ'}\n",
      "{'state': 'RUNNING', 'description': 'Optical_SAR_Compositeband', 'creation_timestamp_ms': 1624573463385, 'update_timestamp_ms': 1624573682754, 'start_timestamp_ms': 1624573485463, 'task_type': 'EXPORT_IMAGE', 'attempt': 1, 'id': 'VT2YGL5A6MIIRNCZXJO4TETQ', 'name': 'projects/earthengine-legacy/operations/VT2YGL5A6MIIRNCZXJO4TETQ'}\n",
      "{'state': 'RUNNING', 'description': 'Optical_SAR_Compositeband', 'creation_timestamp_ms': 1624573463385, 'update_timestamp_ms': 1624573682754, 'start_timestamp_ms': 1624573485463, 'task_type': 'EXPORT_IMAGE', 'attempt': 1, 'id': 'VT2YGL5A6MIIRNCZXJO4TETQ', 'name': 'projects/earthengine-legacy/operations/VT2YGL5A6MIIRNCZXJO4TETQ'}\n",
      "{'state': 'RUNNING', 'description': 'Optical_SAR_Compositeband', 'creation_timestamp_ms': 1624573463385, 'update_timestamp_ms': 1624573682754, 'start_timestamp_ms': 1624573485463, 'task_type': 'EXPORT_IMAGE', 'attempt': 1, 'id': 'VT2YGL5A6MIIRNCZXJO4TETQ', 'name': 'projects/earthengine-legacy/operations/VT2YGL5A6MIIRNCZXJO4TETQ'}\n",
      "{'state': 'RUNNING', 'description': 'Optical_SAR_Compositeband', 'creation_timestamp_ms': 1624573463385, 'update_timestamp_ms': 1624573682754, 'start_timestamp_ms': 1624573485463, 'task_type': 'EXPORT_IMAGE', 'attempt': 1, 'id': 'VT2YGL5A6MIIRNCZXJO4TETQ', 'name': 'projects/earthengine-legacy/operations/VT2YGL5A6MIIRNCZXJO4TETQ'}\n",
      "{'state': 'RUNNING', 'description': 'Optical_SAR_Compositeband', 'creation_timestamp_ms': 1624573463385, 'update_timestamp_ms': 1624573805511, 'start_timestamp_ms': 1624573485463, 'task_type': 'EXPORT_IMAGE', 'attempt': 1, 'id': 'VT2YGL5A6MIIRNCZXJO4TETQ', 'name': 'projects/earthengine-legacy/operations/VT2YGL5A6MIIRNCZXJO4TETQ'}\n",
      "{'state': 'COMPLETED', 'description': 'Optical_SAR_Compositeband', 'creation_timestamp_ms': 1624573463385, 'update_timestamp_ms': 1624573805897, 'start_timestamp_ms': 1624573485463, 'task_type': 'EXPORT_IMAGE', 'destination_uris': ['https://code.earthengine.google.com/?asset=projects/earthengine-legacy/assets/users/aadebowaledaniel/OptSARComposite'], 'attempt': 1, 'id': 'VT2YGL5A6MIIRNCZXJO4TETQ', 'name': 'projects/earthengine-legacy/operations/VT2YGL5A6MIIRNCZXJO4TETQ'}\n"
     ]
    }
   ],
   "source": [
    "#exprot to assest\n",
    "task = ee.batch.Export.image.toAsset(**{'image':Opt_SAR_Composite,\n",
    "'description': 'Optical_SAR_Compositeband',\n",
    "'assetId':'users/aadebowaledaniel/OptSARComposite', \n",
    "'scale': 10, \n",
    "'crs':'EPSG:32736',                                        \n",
    "'region':aoi.getInfo()['coordinates'],\n",
    "'maxPixels': 1e13,\n",
    "})\n",
    "task.start()\n",
    "#Monitor the task\n",
    "while task.status()['state'] in ['READY', 'RUNNING']:\n",
    "  print(task.status())\n",
    "  time.sleep(5)\n",
    "else:\n",
    "  print(task.status())"
   ]
  },
  {
   "cell_type": "code",
   "execution_count": 5,
   "metadata": {},
   "outputs": [
    {
     "data": {
      "application/vnd.jupyter.widget-view+json": {
       "model_id": "91a1cc55de994824938284660f079927",
       "version_major": 2,
       "version_minor": 0
      },
      "text/plain": [
       "Map(center=[0.9613, 34.6536], controls=(WidgetControl(options=['position', 'transparent_bg'], widget=HBox(chil…"
      ]
     },
     "metadata": {},
     "output_type": "display_data"
    }
   ],
   "source": [
    "Map = geemap.Map(center=(0.9613,34.6536),zoom=8)\n",
    "Map"
   ]
  },
  {
   "cell_type": "code",
   "execution_count": 10,
   "metadata": {},
   "outputs": [],
   "source": [
    "Map.addLayer(Imageclassified,{'min':0, 'max':1, 'pallete': ['662A00', 'D8D8D8']}, 'Classification')\n"
   ]
  },
  {
   "cell_type": "code",
   "execution_count": 33,
   "metadata": {},
   "outputs": [],
   "source": [
    "#import composite from asset\n",
    "predimage = ee.Image('users/aadebowaledaniel/OptSARComposite')"
   ]
  },
  {
   "cell_type": "code",
   "execution_count": 34,
   "metadata": {},
   "outputs": [],
   "source": [
    "# train_bands = predimage.bandNames()#All bands\n",
    "train_bands = ('NDVI', 'EVI', 'NDWI', 'GCVI', 'RDGCVI', 'VH', 'VV', 'Sarratio', 'Sardiff' )"
   ]
  },
  {
   "cell_type": "code",
   "execution_count": 35,
   "metadata": {
    "scrolled": true,
    "tags": []
   },
   "outputs": [
    {
     "name": "stdout",
     "output_type": "stream",
     "text": [
      "Resubstitution error matrix:  [[1381, 13], [1, 2786]]\n",
      "Training overall accuracy:  0.9966515187754126\n",
      "confusion Matrix [[432, 172], [71, 1168]]\n",
      "Valdation overall accuracy: 0.8681497558328811\n"
     ]
    }
   ],
   "source": [
    "#continue from here\n",
    "trainingSample  = predimage.sampleRegions(\n",
    "    collection = fc,\n",
    "    properties=['label'],\n",
    "    scale = 10 \n",
    "#     geometries = True\n",
    ")\n",
    "# trainingSample.size().getInfo()\n",
    "\n",
    "randtraning = trainingSample.randomColumn('random')\n",
    "split = 0.7\n",
    "trainsample = randtraning.filter(ee.Filter.lt('random', split))\n",
    "testsample = randtraning.filter(ee.Filter.gte('random', split))\n",
    "\n",
    "#train random forest classifier\n",
    "classifier = ee.Classifier.smileRandomForest(100).train(trainsample, 'label', train_bands)\n",
    "\n",
    "\n",
    "#confusion matrix train Accurracy\n",
    "trainAccuracy = classifier.confusionMatrix()\n",
    "print('Resubstitution error matrix: ', trainAccuracy.getInfo())\n",
    "print('Training overall accuracy: ', trainAccuracy.accuracy().getInfo())\n",
    "\n",
    "#classify features\n",
    "testclassifier = testsample.classify(classifier)\n",
    "#cconfusion matrix representing expected accuracy\n",
    "testAccuracy = testclassifier.errorMatrix('label', 'classification')\n",
    "print('confusion Matrix', testAccuracy.getInfo())\n",
    "print('Valdation overall accuracy:', testAccuracy.accuracy().getInfo())\n",
    "\n",
    "#classify image\n",
    "Imageclassified = predimage.select(train_bands).classify(classifier)\n",
    "# altImageclassified = predimage.classify(classifier)"
   ]
  },
  {
   "cell_type": "code",
   "execution_count": 41,
   "metadata": {},
   "outputs": [
    {
     "name": "stdout",
     "output_type": "stream",
     "text": [
      "{'state': 'READY', 'description': 'Classification of Opt_SAR', 'creation_timestamp_ms': 1624580243184, 'update_timestamp_ms': 1624580243184, 'start_timestamp_ms': 0, 'task_type': 'EXPORT_IMAGE', 'id': 'LMMHA53OU3FEQG4HICIUAREB', 'name': 'projects/earthengine-legacy/operations/LMMHA53OU3FEQG4HICIUAREB'}\n",
      "{'state': 'READY', 'description': 'Classification of Opt_SAR', 'creation_timestamp_ms': 1624580243184, 'update_timestamp_ms': 1624580243184, 'start_timestamp_ms': 0, 'task_type': 'EXPORT_IMAGE', 'id': 'LMMHA53OU3FEQG4HICIUAREB', 'name': 'projects/earthengine-legacy/operations/LMMHA53OU3FEQG4HICIUAREB'}\n",
      "{'state': 'READY', 'description': 'Classification of Opt_SAR', 'creation_timestamp_ms': 1624580243184, 'update_timestamp_ms': 1624580243184, 'start_timestamp_ms': 0, 'task_type': 'EXPORT_IMAGE', 'id': 'LMMHA53OU3FEQG4HICIUAREB', 'name': 'projects/earthengine-legacy/operations/LMMHA53OU3FEQG4HICIUAREB'}\n",
      "{'state': 'READY', 'description': 'Classification of Opt_SAR', 'creation_timestamp_ms': 1624580243184, 'update_timestamp_ms': 1624580243184, 'start_timestamp_ms': 0, 'task_type': 'EXPORT_IMAGE', 'id': 'LMMHA53OU3FEQG4HICIUAREB', 'name': 'projects/earthengine-legacy/operations/LMMHA53OU3FEQG4HICIUAREB'}\n",
      "{'state': 'READY', 'description': 'Classification of Opt_SAR', 'creation_timestamp_ms': 1624580243184, 'update_timestamp_ms': 1624580243184, 'start_timestamp_ms': 0, 'task_type': 'EXPORT_IMAGE', 'id': 'LMMHA53OU3FEQG4HICIUAREB', 'name': 'projects/earthengine-legacy/operations/LMMHA53OU3FEQG4HICIUAREB'}\n",
      "{'state': 'READY', 'description': 'Classification of Opt_SAR', 'creation_timestamp_ms': 1624580243184, 'update_timestamp_ms': 1624580243184, 'start_timestamp_ms': 0, 'task_type': 'EXPORT_IMAGE', 'id': 'LMMHA53OU3FEQG4HICIUAREB', 'name': 'projects/earthengine-legacy/operations/LMMHA53OU3FEQG4HICIUAREB'}\n",
      "{'state': 'READY', 'description': 'Classification of Opt_SAR', 'creation_timestamp_ms': 1624580243184, 'update_timestamp_ms': 1624580243184, 'start_timestamp_ms': 0, 'task_type': 'EXPORT_IMAGE', 'id': 'LMMHA53OU3FEQG4HICIUAREB', 'name': 'projects/earthengine-legacy/operations/LMMHA53OU3FEQG4HICIUAREB'}\n",
      "{'state': 'READY', 'description': 'Classification of Opt_SAR', 'creation_timestamp_ms': 1624580243184, 'update_timestamp_ms': 1624580243184, 'start_timestamp_ms': 0, 'task_type': 'EXPORT_IMAGE', 'id': 'LMMHA53OU3FEQG4HICIUAREB', 'name': 'projects/earthengine-legacy/operations/LMMHA53OU3FEQG4HICIUAREB'}\n",
      "{'state': 'RUNNING', 'description': 'Classification of Opt_SAR', 'creation_timestamp_ms': 1624580243184, 'update_timestamp_ms': 1624580285811, 'start_timestamp_ms': 1624580285680, 'task_type': 'EXPORT_IMAGE', 'attempt': 1, 'id': 'LMMHA53OU3FEQG4HICIUAREB', 'name': 'projects/earthengine-legacy/operations/LMMHA53OU3FEQG4HICIUAREB'}\n",
      "{'state': 'RUNNING', 'description': 'Classification of Opt_SAR', 'creation_timestamp_ms': 1624580243184, 'update_timestamp_ms': 1624580292514, 'start_timestamp_ms': 1624580285680, 'task_type': 'EXPORT_IMAGE', 'attempt': 1, 'id': 'LMMHA53OU3FEQG4HICIUAREB', 'name': 'projects/earthengine-legacy/operations/LMMHA53OU3FEQG4HICIUAREB'}\n",
      "{'state': 'RUNNING', 'description': 'Classification of Opt_SAR', 'creation_timestamp_ms': 1624580243184, 'update_timestamp_ms': 1624580292514, 'start_timestamp_ms': 1624580285680, 'task_type': 'EXPORT_IMAGE', 'attempt': 1, 'id': 'LMMHA53OU3FEQG4HICIUAREB', 'name': 'projects/earthengine-legacy/operations/LMMHA53OU3FEQG4HICIUAREB'}\n",
      "{'state': 'RUNNING', 'description': 'Classification of Opt_SAR', 'creation_timestamp_ms': 1624580243184, 'update_timestamp_ms': 1624580292514, 'start_timestamp_ms': 1624580285680, 'task_type': 'EXPORT_IMAGE', 'attempt': 1, 'id': 'LMMHA53OU3FEQG4HICIUAREB', 'name': 'projects/earthengine-legacy/operations/LMMHA53OU3FEQG4HICIUAREB'}\n",
      "{'state': 'RUNNING', 'description': 'Classification of Opt_SAR', 'creation_timestamp_ms': 1624580243184, 'update_timestamp_ms': 1624580292514, 'start_timestamp_ms': 1624580285680, 'task_type': 'EXPORT_IMAGE', 'attempt': 1, 'id': 'LMMHA53OU3FEQG4HICIUAREB', 'name': 'projects/earthengine-legacy/operations/LMMHA53OU3FEQG4HICIUAREB'}\n",
      "{'state': 'RUNNING', 'description': 'Classification of Opt_SAR', 'creation_timestamp_ms': 1624580243184, 'update_timestamp_ms': 1624580292514, 'start_timestamp_ms': 1624580285680, 'task_type': 'EXPORT_IMAGE', 'attempt': 1, 'id': 'LMMHA53OU3FEQG4HICIUAREB', 'name': 'projects/earthengine-legacy/operations/LMMHA53OU3FEQG4HICIUAREB'}\n",
      "{'state': 'RUNNING', 'description': 'Classification of Opt_SAR', 'creation_timestamp_ms': 1624580243184, 'update_timestamp_ms': 1624580292514, 'start_timestamp_ms': 1624580285680, 'task_type': 'EXPORT_IMAGE', 'attempt': 1, 'id': 'LMMHA53OU3FEQG4HICIUAREB', 'name': 'projects/earthengine-legacy/operations/LMMHA53OU3FEQG4HICIUAREB'}\n",
      "{'state': 'RUNNING', 'description': 'Classification of Opt_SAR', 'creation_timestamp_ms': 1624580243184, 'update_timestamp_ms': 1624580292514, 'start_timestamp_ms': 1624580285680, 'task_type': 'EXPORT_IMAGE', 'attempt': 1, 'id': 'LMMHA53OU3FEQG4HICIUAREB', 'name': 'projects/earthengine-legacy/operations/LMMHA53OU3FEQG4HICIUAREB'}\n",
      "{'state': 'RUNNING', 'description': 'Classification of Opt_SAR', 'creation_timestamp_ms': 1624580243184, 'update_timestamp_ms': 1624580292514, 'start_timestamp_ms': 1624580285680, 'task_type': 'EXPORT_IMAGE', 'attempt': 1, 'id': 'LMMHA53OU3FEQG4HICIUAREB', 'name': 'projects/earthengine-legacy/operations/LMMHA53OU3FEQG4HICIUAREB'}\n",
      "{'state': 'RUNNING', 'description': 'Classification of Opt_SAR', 'creation_timestamp_ms': 1624580243184, 'update_timestamp_ms': 1624580292514, 'start_timestamp_ms': 1624580285680, 'task_type': 'EXPORT_IMAGE', 'attempt': 1, 'id': 'LMMHA53OU3FEQG4HICIUAREB', 'name': 'projects/earthengine-legacy/operations/LMMHA53OU3FEQG4HICIUAREB'}\n",
      "{'state': 'RUNNING', 'description': 'Classification of Opt_SAR', 'creation_timestamp_ms': 1624580243184, 'update_timestamp_ms': 1624580292514, 'start_timestamp_ms': 1624580285680, 'task_type': 'EXPORT_IMAGE', 'attempt': 1, 'id': 'LMMHA53OU3FEQG4HICIUAREB', 'name': 'projects/earthengine-legacy/operations/LMMHA53OU3FEQG4HICIUAREB'}\n",
      "{'state': 'RUNNING', 'description': 'Classification of Opt_SAR', 'creation_timestamp_ms': 1624580243184, 'update_timestamp_ms': 1624580350631, 'start_timestamp_ms': 1624580285680, 'task_type': 'EXPORT_IMAGE', 'attempt': 1, 'id': 'LMMHA53OU3FEQG4HICIUAREB', 'name': 'projects/earthengine-legacy/operations/LMMHA53OU3FEQG4HICIUAREB'}\n",
      "{'state': 'RUNNING', 'description': 'Classification of Opt_SAR', 'creation_timestamp_ms': 1624580243184, 'update_timestamp_ms': 1624580350631, 'start_timestamp_ms': 1624580285680, 'task_type': 'EXPORT_IMAGE', 'attempt': 1, 'id': 'LMMHA53OU3FEQG4HICIUAREB', 'name': 'projects/earthengine-legacy/operations/LMMHA53OU3FEQG4HICIUAREB'}\n",
      "{'state': 'RUNNING', 'description': 'Classification of Opt_SAR', 'creation_timestamp_ms': 1624580243184, 'update_timestamp_ms': 1624580350631, 'start_timestamp_ms': 1624580285680, 'task_type': 'EXPORT_IMAGE', 'attempt': 1, 'id': 'LMMHA53OU3FEQG4HICIUAREB', 'name': 'projects/earthengine-legacy/operations/LMMHA53OU3FEQG4HICIUAREB'}\n",
      "{'state': 'RUNNING', 'description': 'Classification of Opt_SAR', 'creation_timestamp_ms': 1624580243184, 'update_timestamp_ms': 1624580350631, 'start_timestamp_ms': 1624580285680, 'task_type': 'EXPORT_IMAGE', 'attempt': 1, 'id': 'LMMHA53OU3FEQG4HICIUAREB', 'name': 'projects/earthengine-legacy/operations/LMMHA53OU3FEQG4HICIUAREB'}\n",
      "{'state': 'RUNNING', 'description': 'Classification of Opt_SAR', 'creation_timestamp_ms': 1624580243184, 'update_timestamp_ms': 1624580350631, 'start_timestamp_ms': 1624580285680, 'task_type': 'EXPORT_IMAGE', 'attempt': 1, 'id': 'LMMHA53OU3FEQG4HICIUAREB', 'name': 'projects/earthengine-legacy/operations/LMMHA53OU3FEQG4HICIUAREB'}\n",
      "{'state': 'RUNNING', 'description': 'Classification of Opt_SAR', 'creation_timestamp_ms': 1624580243184, 'update_timestamp_ms': 1624580350631, 'start_timestamp_ms': 1624580285680, 'task_type': 'EXPORT_IMAGE', 'attempt': 1, 'id': 'LMMHA53OU3FEQG4HICIUAREB', 'name': 'projects/earthengine-legacy/operations/LMMHA53OU3FEQG4HICIUAREB'}\n",
      "{'state': 'RUNNING', 'description': 'Classification of Opt_SAR', 'creation_timestamp_ms': 1624580243184, 'update_timestamp_ms': 1624580350631, 'start_timestamp_ms': 1624580285680, 'task_type': 'EXPORT_IMAGE', 'attempt': 1, 'id': 'LMMHA53OU3FEQG4HICIUAREB', 'name': 'projects/earthengine-legacy/operations/LMMHA53OU3FEQG4HICIUAREB'}\n"
     ]
    },
    {
     "name": "stdout",
     "output_type": "stream",
     "text": [
      "{'state': 'RUNNING', 'description': 'Classification of Opt_SAR', 'creation_timestamp_ms': 1624580243184, 'update_timestamp_ms': 1624580350631, 'start_timestamp_ms': 1624580285680, 'task_type': 'EXPORT_IMAGE', 'attempt': 1, 'id': 'LMMHA53OU3FEQG4HICIUAREB', 'name': 'projects/earthengine-legacy/operations/LMMHA53OU3FEQG4HICIUAREB'}\n",
      "{'state': 'RUNNING', 'description': 'Classification of Opt_SAR', 'creation_timestamp_ms': 1624580243184, 'update_timestamp_ms': 1624580350631, 'start_timestamp_ms': 1624580285680, 'task_type': 'EXPORT_IMAGE', 'attempt': 1, 'id': 'LMMHA53OU3FEQG4HICIUAREB', 'name': 'projects/earthengine-legacy/operations/LMMHA53OU3FEQG4HICIUAREB'}\n",
      "{'state': 'RUNNING', 'description': 'Classification of Opt_SAR', 'creation_timestamp_ms': 1624580243184, 'update_timestamp_ms': 1624580350631, 'start_timestamp_ms': 1624580285680, 'task_type': 'EXPORT_IMAGE', 'attempt': 1, 'id': 'LMMHA53OU3FEQG4HICIUAREB', 'name': 'projects/earthengine-legacy/operations/LMMHA53OU3FEQG4HICIUAREB'}\n",
      "{'state': 'RUNNING', 'description': 'Classification of Opt_SAR', 'creation_timestamp_ms': 1624580243184, 'update_timestamp_ms': 1624580350631, 'start_timestamp_ms': 1624580285680, 'task_type': 'EXPORT_IMAGE', 'attempt': 1, 'id': 'LMMHA53OU3FEQG4HICIUAREB', 'name': 'projects/earthengine-legacy/operations/LMMHA53OU3FEQG4HICIUAREB'}\n",
      "{'state': 'RUNNING', 'description': 'Classification of Opt_SAR', 'creation_timestamp_ms': 1624580243184, 'update_timestamp_ms': 1624580410630, 'start_timestamp_ms': 1624580285680, 'task_type': 'EXPORT_IMAGE', 'attempt': 1, 'id': 'LMMHA53OU3FEQG4HICIUAREB', 'name': 'projects/earthengine-legacy/operations/LMMHA53OU3FEQG4HICIUAREB'}\n",
      "{'state': 'RUNNING', 'description': 'Classification of Opt_SAR', 'creation_timestamp_ms': 1624580243184, 'update_timestamp_ms': 1624580410630, 'start_timestamp_ms': 1624580285680, 'task_type': 'EXPORT_IMAGE', 'attempt': 1, 'id': 'LMMHA53OU3FEQG4HICIUAREB', 'name': 'projects/earthengine-legacy/operations/LMMHA53OU3FEQG4HICIUAREB'}\n",
      "{'state': 'RUNNING', 'description': 'Classification of Opt_SAR', 'creation_timestamp_ms': 1624580243184, 'update_timestamp_ms': 1624580410630, 'start_timestamp_ms': 1624580285680, 'task_type': 'EXPORT_IMAGE', 'attempt': 1, 'id': 'LMMHA53OU3FEQG4HICIUAREB', 'name': 'projects/earthengine-legacy/operations/LMMHA53OU3FEQG4HICIUAREB'}\n",
      "{'state': 'RUNNING', 'description': 'Classification of Opt_SAR', 'creation_timestamp_ms': 1624580243184, 'update_timestamp_ms': 1624580410630, 'start_timestamp_ms': 1624580285680, 'task_type': 'EXPORT_IMAGE', 'attempt': 1, 'id': 'LMMHA53OU3FEQG4HICIUAREB', 'name': 'projects/earthengine-legacy/operations/LMMHA53OU3FEQG4HICIUAREB'}\n",
      "{'state': 'RUNNING', 'description': 'Classification of Opt_SAR', 'creation_timestamp_ms': 1624580243184, 'update_timestamp_ms': 1624580410630, 'start_timestamp_ms': 1624580285680, 'task_type': 'EXPORT_IMAGE', 'attempt': 1, 'id': 'LMMHA53OU3FEQG4HICIUAREB', 'name': 'projects/earthengine-legacy/operations/LMMHA53OU3FEQG4HICIUAREB'}\n",
      "{'state': 'RUNNING', 'description': 'Classification of Opt_SAR', 'creation_timestamp_ms': 1624580243184, 'update_timestamp_ms': 1624580410630, 'start_timestamp_ms': 1624580285680, 'task_type': 'EXPORT_IMAGE', 'attempt': 1, 'id': 'LMMHA53OU3FEQG4HICIUAREB', 'name': 'projects/earthengine-legacy/operations/LMMHA53OU3FEQG4HICIUAREB'}\n",
      "{'state': 'RUNNING', 'description': 'Classification of Opt_SAR', 'creation_timestamp_ms': 1624580243184, 'update_timestamp_ms': 1624580410630, 'start_timestamp_ms': 1624580285680, 'task_type': 'EXPORT_IMAGE', 'attempt': 1, 'id': 'LMMHA53OU3FEQG4HICIUAREB', 'name': 'projects/earthengine-legacy/operations/LMMHA53OU3FEQG4HICIUAREB'}\n",
      "{'state': 'RUNNING', 'description': 'Classification of Opt_SAR', 'creation_timestamp_ms': 1624580243184, 'update_timestamp_ms': 1624580410630, 'start_timestamp_ms': 1624580285680, 'task_type': 'EXPORT_IMAGE', 'attempt': 1, 'id': 'LMMHA53OU3FEQG4HICIUAREB', 'name': 'projects/earthengine-legacy/operations/LMMHA53OU3FEQG4HICIUAREB'}\n",
      "{'state': 'RUNNING', 'description': 'Classification of Opt_SAR', 'creation_timestamp_ms': 1624580243184, 'update_timestamp_ms': 1624580410630, 'start_timestamp_ms': 1624580285680, 'task_type': 'EXPORT_IMAGE', 'attempt': 1, 'id': 'LMMHA53OU3FEQG4HICIUAREB', 'name': 'projects/earthengine-legacy/operations/LMMHA53OU3FEQG4HICIUAREB'}\n",
      "{'state': 'RUNNING', 'description': 'Classification of Opt_SAR', 'creation_timestamp_ms': 1624580243184, 'update_timestamp_ms': 1624580410630, 'start_timestamp_ms': 1624580285680, 'task_type': 'EXPORT_IMAGE', 'attempt': 1, 'id': 'LMMHA53OU3FEQG4HICIUAREB', 'name': 'projects/earthengine-legacy/operations/LMMHA53OU3FEQG4HICIUAREB'}\n",
      "{'state': 'RUNNING', 'description': 'Classification of Opt_SAR', 'creation_timestamp_ms': 1624580243184, 'update_timestamp_ms': 1624580470632, 'start_timestamp_ms': 1624580285680, 'task_type': 'EXPORT_IMAGE', 'attempt': 1, 'id': 'LMMHA53OU3FEQG4HICIUAREB', 'name': 'projects/earthengine-legacy/operations/LMMHA53OU3FEQG4HICIUAREB'}\n",
      "{'state': 'RUNNING', 'description': 'Classification of Opt_SAR', 'creation_timestamp_ms': 1624580243184, 'update_timestamp_ms': 1624580470632, 'start_timestamp_ms': 1624580285680, 'task_type': 'EXPORT_IMAGE', 'attempt': 1, 'id': 'LMMHA53OU3FEQG4HICIUAREB', 'name': 'projects/earthengine-legacy/operations/LMMHA53OU3FEQG4HICIUAREB'}\n",
      "{'state': 'RUNNING', 'description': 'Classification of Opt_SAR', 'creation_timestamp_ms': 1624580243184, 'update_timestamp_ms': 1624580470632, 'start_timestamp_ms': 1624580285680, 'task_type': 'EXPORT_IMAGE', 'attempt': 1, 'id': 'LMMHA53OU3FEQG4HICIUAREB', 'name': 'projects/earthengine-legacy/operations/LMMHA53OU3FEQG4HICIUAREB'}\n",
      "{'state': 'RUNNING', 'description': 'Classification of Opt_SAR', 'creation_timestamp_ms': 1624580243184, 'update_timestamp_ms': 1624580470632, 'start_timestamp_ms': 1624580285680, 'task_type': 'EXPORT_IMAGE', 'attempt': 1, 'id': 'LMMHA53OU3FEQG4HICIUAREB', 'name': 'projects/earthengine-legacy/operations/LMMHA53OU3FEQG4HICIUAREB'}\n",
      "{'state': 'RUNNING', 'description': 'Classification of Opt_SAR', 'creation_timestamp_ms': 1624580243184, 'update_timestamp_ms': 1624580470632, 'start_timestamp_ms': 1624580285680, 'task_type': 'EXPORT_IMAGE', 'attempt': 1, 'id': 'LMMHA53OU3FEQG4HICIUAREB', 'name': 'projects/earthengine-legacy/operations/LMMHA53OU3FEQG4HICIUAREB'}\n",
      "{'state': 'RUNNING', 'description': 'Classification of Opt_SAR', 'creation_timestamp_ms': 1624580243184, 'update_timestamp_ms': 1624580470632, 'start_timestamp_ms': 1624580285680, 'task_type': 'EXPORT_IMAGE', 'attempt': 1, 'id': 'LMMHA53OU3FEQG4HICIUAREB', 'name': 'projects/earthengine-legacy/operations/LMMHA53OU3FEQG4HICIUAREB'}\n",
      "{'state': 'RUNNING', 'description': 'Classification of Opt_SAR', 'creation_timestamp_ms': 1624580243184, 'update_timestamp_ms': 1624580470632, 'start_timestamp_ms': 1624580285680, 'task_type': 'EXPORT_IMAGE', 'attempt': 1, 'id': 'LMMHA53OU3FEQG4HICIUAREB', 'name': 'projects/earthengine-legacy/operations/LMMHA53OU3FEQG4HICIUAREB'}\n",
      "{'state': 'RUNNING', 'description': 'Classification of Opt_SAR', 'creation_timestamp_ms': 1624580243184, 'update_timestamp_ms': 1624580470632, 'start_timestamp_ms': 1624580285680, 'task_type': 'EXPORT_IMAGE', 'attempt': 1, 'id': 'LMMHA53OU3FEQG4HICIUAREB', 'name': 'projects/earthengine-legacy/operations/LMMHA53OU3FEQG4HICIUAREB'}\n",
      "{'state': 'RUNNING', 'description': 'Classification of Opt_SAR', 'creation_timestamp_ms': 1624580243184, 'update_timestamp_ms': 1624580470632, 'start_timestamp_ms': 1624580285680, 'task_type': 'EXPORT_IMAGE', 'attempt': 1, 'id': 'LMMHA53OU3FEQG4HICIUAREB', 'name': 'projects/earthengine-legacy/operations/LMMHA53OU3FEQG4HICIUAREB'}\n",
      "{'state': 'RUNNING', 'description': 'Classification of Opt_SAR', 'creation_timestamp_ms': 1624580243184, 'update_timestamp_ms': 1624580470632, 'start_timestamp_ms': 1624580285680, 'task_type': 'EXPORT_IMAGE', 'attempt': 1, 'id': 'LMMHA53OU3FEQG4HICIUAREB', 'name': 'projects/earthengine-legacy/operations/LMMHA53OU3FEQG4HICIUAREB'}\n",
      "{'state': 'RUNNING', 'description': 'Classification of Opt_SAR', 'creation_timestamp_ms': 1624580243184, 'update_timestamp_ms': 1624580470632, 'start_timestamp_ms': 1624580285680, 'task_type': 'EXPORT_IMAGE', 'attempt': 1, 'id': 'LMMHA53OU3FEQG4HICIUAREB', 'name': 'projects/earthengine-legacy/operations/LMMHA53OU3FEQG4HICIUAREB'}\n"
     ]
    },
    {
     "name": "stdout",
     "output_type": "stream",
     "text": [
      "{'state': 'RUNNING', 'description': 'Classification of Opt_SAR', 'creation_timestamp_ms': 1624580243184, 'update_timestamp_ms': 1624580534015, 'start_timestamp_ms': 1624580285680, 'task_type': 'EXPORT_IMAGE', 'attempt': 1, 'id': 'LMMHA53OU3FEQG4HICIUAREB', 'name': 'projects/earthengine-legacy/operations/LMMHA53OU3FEQG4HICIUAREB'}\n",
      "{'state': 'COMPLETED', 'description': 'Classification of Opt_SAR', 'creation_timestamp_ms': 1624580243184, 'update_timestamp_ms': 1624580537517, 'start_timestamp_ms': 1624580285680, 'task_type': 'EXPORT_IMAGE', 'destination_uris': ['https://drive.google.com/'], 'attempt': 1, 'id': 'LMMHA53OU3FEQG4HICIUAREB', 'name': 'projects/earthengine-legacy/operations/LMMHA53OU3FEQG4HICIUAREB'}\n"
     ]
    }
   ],
   "source": [
    "#exprot classified image to drive\n",
    "task = ee.batch.Export.image.toDrive(image=Imageclassified,\n",
    "                                     description='Classification of Opt_SAR',\n",
    "                                     scale=10,\n",
    "                                     region = aoi.getInfo()['coordinates'],\n",
    "                                     fileNamePrefix='SAR_VIs',\n",
    "                                     crs='EPSG:32736',\n",
    "                                     fileFormat='GeoTIFF')\n",
    "task.start()\n",
    "#Monitor the task\n",
    "while task.status()['state'] in ['READY', 'RUNNING']:\n",
    "  print(task.status())\n",
    "  time.sleep(5)\n",
    "else:\n",
    "  print(task.status())"
   ]
  },
  {
   "cell_type": "code",
   "execution_count": 36,
   "metadata": {},
   "outputs": [],
   "source": [
    "vrimp = classifier.explain().getInfo().get('importance') #TODO chart in python"
   ]
  },
  {
   "cell_type": "code",
   "execution_count": 37,
   "metadata": {},
   "outputs": [],
   "source": [
    "bands = []\n",
    "vim = []\n",
    "for x, y in vrimp.items():\n",
    "    bands.append(x)\n",
    "    vim.append(y)\n",
    "\n",
    "cmcm = list(zip(bands,vim))\n",
    "df = pd.DataFrame(cmcm, columns = ['features', 'mda'])"
   ]
  },
  {
   "cell_type": "code",
   "execution_count": 38,
   "metadata": {},
   "outputs": [],
   "source": [
    "df['importance'] = (df['mda']/df['mda'].sum())\n",
    "df = df.sort_values('importance', ascending=True)"
   ]
  },
  {
   "cell_type": "code",
   "execution_count": 39,
   "metadata": {},
   "outputs": [
    {
     "data": {
      "image/png": "[encoded data removed]",
      "text/plain": [
       "<Figure size 432x288 with 1 Axes>"
      ]
     },
     "metadata": {
      "needs_background": "light"
     },
     "output_type": "display_data"
    }
   ],
   "source": [
    "df.plot.bar('features', 'importance', ylabel='Mean Decrease Impurity')\n",
    "plt.show()"
   ]
  },
  {
   "cell_type": "code",
   "execution_count": null,
   "metadata": {},
   "outputs": [],
   "source": [
    "# Map.addLayer(image, {'bands': ['B4', 'B3', 'B2'], 'min': 0.0, 'max': 0.3, 'gamma': 2}, 'True colour composite')\n"
   ]
  },
  {
   "cell_type": "code",
   "execution_count": 9,
   "metadata": {},
   "outputs": [],
   "source": [
    "# cropmask = Imageclassified.eq(1)\n",
    "# # vis = {'pallete':['#18d848']}\n",
    "# Map.addLayer(cropmask,{'color':'green'}, 'Crop')\n",
    "\n",
    "cropmask = Imageclassified.eq(1)\n",
    "\n",
    "cropmaskdd = cropmask.updateMask(cropmask)\n",
    "\n",
    "cropmask_vec = cropmaskdd.reduceToVectors(\n",
    "    geometryType= 'polygon',\n",
    "    reducer= ee.Reducer.countEvery(),\n",
    "    scale= 10,\n",
    "    maxPixels= 1e13,\n",
    "    geometry= aoi\n",
    ")\n",
    "Map.addLayer(cropmask_vec, {'color':'green'}, 'Crop Mask')"
   ]
  },
  {
   "cell_type": "code",
   "execution_count": 11,
   "metadata": {},
   "outputs": [],
   "source": [
    "cropmask = Imageclassified.eq(1)\n",
    "# vis = {'pallete':['#18d848']}\n",
    "Map.addLayer(cropmask,{'color':'green'}, 'Vegetation')\n",
    "\n",
    "cropmask = Imageclassified.eq(2)\n",
    "\n",
    "cropmaskdd = cropmask.updateMask(cropmask)\n",
    "\n",
    "cropmask_vec = cropmaskdd.reduceToVectors(\n",
    "    geometryType= 'polygon',\n",
    "    reducer= ee.Reducer.countEvery(),\n",
    "    scale= 10,\n",
    "    maxPixels= 1e13,\n",
    "    geometry= aoi\n",
    ")\n",
    "Map.addLayer(cropmask_vec, {'color':'green'}, 'Crop Mask')"
   ]
  },
  {
   "cell_type": "code",
   "execution_count": 15,
   "metadata": {
    "tags": []
   },
   "outputs": [],
   "source": [
    "# #convert to Vector\n",
    "# cropmask = Imageclassified.eq(1)\n",
    "\n",
    "# vector_cropmask = cropmask.updateMask(cropmask).reduceToVectors(\n",
    "#     reducer=ee.Reducer.countEvery(),\n",
    "#     geometry= aoi,\n",
    "#     scale=10,\n",
    "#     maxPixels=1e13)\n",
    "# def sim(nna):\n",
    "#     return nna.simplify(maxError = 100)\n",
    "# vector_cropmask = vector_cropmask.map(sim)\n",
    "# cropmaskVec = cropmask.reduceToVectors({\n",
    "#     # 'geometryType': 'polygon',\n",
    "#   'reducer': ee.Reducer.countEvery(),\n",
    "#   'scale': 10,\n",
    "#   'geometry':aoi,\n",
    "# })\n",
    "\n",
    "# vector_img = Imageclassified.unmask(0).reduceToVectors(\n",
    "#         geometry = aoi,\n",
    "#         scale = 10,\n",
    "#         maxPixels = 1e13,\n",
    "#         bestEffort =True\n",
    "#     )\n",
    "# taskvec = ee.batch.Export.table.toAsset(collection=vector_cropmask,\n",
    "# description= 'Vegetation mask', assetId= 'users/aadebowaledaniel/vegetationmask')\n",
    "# taskvec.start()\n",
    "# #Monitor the task\n",
    "# while taskvec.status()['state'] in ['READY', 'RUNNING']:\n",
    "#   print(taskvec.status())\n",
    "#   time.sleep(5)\n",
    "# else:\n",
    "#   print(taskvec.status())"
   ]
  }
 ],
 "metadata": {
  "kernelspec": {
   "display_name": "Python 3",
   "language": "python",
   "name": "python3"
  },
  "language_info": {
   "codemirror_mode": {
    "name": "ipython",
    "version": 3
   },
   "file_extension": ".py",
   "mimetype": "text/x-python",
   "name": "python",
   "nbconvert_exporter": "python",
   "pygments_lexer": "ipython3",
   "version": "3.9.2"
  }
 },
 "nbformat": 4,
 "nbformat_minor": 2
}
